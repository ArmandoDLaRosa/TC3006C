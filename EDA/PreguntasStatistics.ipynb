{
 "cells": [
  {
   "cell_type": "markdown",
   "source": "# VISUALIZACIONES ESTADÍSTICAS \n## Titanic- Machine Learning from disaster\n\n1. Las varibles sibsp y parch son un factor irrelevante al momento de la supervivencia\n2. El número de camarote pudo ser relevante para sobrevivir según su ubicación en el barco y cercanía a salidas y/o salvavidas listo\n3. El puerto de embarcación tiene relevancia para poder sobrevivir listo\n4. Distribución de supervivencia según clase social listo\n5. Distribución de supervivencia según sexo listo\n6. Distribución de clases según el puerto listo\n7. Supervivencia según edad listo listo\n8. Supervivencia según edad + sexo listo\n9. Distribución de edad y clases \n",
   "metadata": {
    "cell_id": "f9eb99aca8344cd2ad6e34d4d1f0d1c1",
    "tags": [],
    "deepnote_cell_type": "markdown",
    "deepnote_cell_height": 415.984375
   }
  },
  {
   "cell_type": "markdown",
   "source": "## Visualizaciones generales\n",
   "metadata": {
    "cell_id": "8466cc7670e64d498fea81717a9b51a5",
    "tags": [],
    "deepnote_cell_type": "markdown",
    "deepnote_cell_height": 69.953125
   }
  },
  {
   "cell_type": "code",
   "metadata": {
    "cell_id": "7fdc3d63af2843818c5d59455d84cd0b",
    "tags": [],
    "deepnote_to_be_reexecuted": false,
    "source_hash": "ad77deb6",
    "execution_start": 1661690274079,
    "execution_millis": 2742,
    "deepnote_cell_type": "code",
    "deepnote_cell_height": 588.421875
   },
   "source": "import numpy as np\nimport pandas as pd\nimport matplotlib.pyplot as plt\nimport seaborn as sns\ndf = pd.read_csv('/work/train.csv')\n\ndf= df.drop([ 'PassengerId', 'Ticket'], axis=1)\n\ndf.head()\n\n",
   "execution_count": null,
   "outputs": [
    {
     "output_type": "execute_result",
     "execution_count": 1,
     "data": {
      "application/vnd.deepnote.dataframe.v3+json": {
       "column_count": 10,
       "row_count": 5,
       "columns": [
        {
         "name": "Survived",
         "dtype": "int64",
         "stats": {
          "unique_count": 2,
          "nan_count": 0,
          "min": "0",
          "max": "1",
          "histogram": [
           {
            "bin_start": 0,
            "bin_end": 0.1,
            "count": 2
           },
           {
            "bin_start": 0.1,
            "bin_end": 0.2,
            "count": 0
           },
           {
            "bin_start": 0.2,
            "bin_end": 0.30000000000000004,
            "count": 0
           },
           {
            "bin_start": 0.30000000000000004,
            "bin_end": 0.4,
            "count": 0
           },
           {
            "bin_start": 0.4,
            "bin_end": 0.5,
            "count": 0
           },
           {
            "bin_start": 0.5,
            "bin_end": 0.6000000000000001,
            "count": 0
           },
           {
            "bin_start": 0.6000000000000001,
            "bin_end": 0.7000000000000001,
            "count": 0
           },
           {
            "bin_start": 0.7000000000000001,
            "bin_end": 0.8,
            "count": 0
           },
           {
            "bin_start": 0.8,
            "bin_end": 0.9,
            "count": 0
           },
           {
            "bin_start": 0.9,
            "bin_end": 1,
            "count": 3
           }
          ]
         }
        },
        {
         "name": "Pclass",
         "dtype": "int64",
         "stats": {
          "unique_count": 2,
          "nan_count": 0,
          "min": "1",
          "max": "3",
          "histogram": [
           {
            "bin_start": 1,
            "bin_end": 1.2,
            "count": 2
           },
           {
            "bin_start": 1.2,
            "bin_end": 1.4,
            "count": 0
           },
           {
            "bin_start": 1.4,
            "bin_end": 1.6,
            "count": 0
           },
           {
            "bin_start": 1.6,
            "bin_end": 1.8,
            "count": 0
           },
           {
            "bin_start": 1.8,
            "bin_end": 2,
            "count": 0
           },
           {
            "bin_start": 2,
            "bin_end": 2.2,
            "count": 0
           },
           {
            "bin_start": 2.2,
            "bin_end": 2.4000000000000004,
            "count": 0
           },
           {
            "bin_start": 2.4000000000000004,
            "bin_end": 2.6,
            "count": 0
           },
           {
            "bin_start": 2.6,
            "bin_end": 2.8,
            "count": 0
           },
           {
            "bin_start": 2.8,
            "bin_end": 3,
            "count": 3
           }
          ]
         }
        },
        {
         "name": "Name",
         "dtype": "object",
         "stats": {
          "unique_count": 5,
          "nan_count": 0,
          "categories": [
           {
            "name": "Braund, Mr. Owen Harris",
            "count": 1
           },
           {
            "name": "Cumings, Mrs. John Bradley (Florence Briggs Thayer)",
            "count": 1
           },
           {
            "name": "3 others",
            "count": 3
           }
          ]
         }
        },
        {
         "name": "Sex",
         "dtype": "object",
         "stats": {
          "unique_count": 2,
          "nan_count": 0,
          "categories": [
           {
            "name": "female",
            "count": 3
           },
           {
            "name": "male",
            "count": 2
           }
          ]
         }
        },
        {
         "name": "Age",
         "dtype": "float64",
         "stats": {
          "unique_count": 4,
          "nan_count": 0,
          "min": "22.0",
          "max": "38.0",
          "histogram": [
           {
            "bin_start": 22,
            "bin_end": 23.6,
            "count": 1
           },
           {
            "bin_start": 23.6,
            "bin_end": 25.2,
            "count": 0
           },
           {
            "bin_start": 25.2,
            "bin_end": 26.8,
            "count": 1
           },
           {
            "bin_start": 26.8,
            "bin_end": 28.4,
            "count": 0
           },
           {
            "bin_start": 28.4,
            "bin_end": 30,
            "count": 0
           },
           {
            "bin_start": 30,
            "bin_end": 31.6,
            "count": 0
           },
           {
            "bin_start": 31.6,
            "bin_end": 33.2,
            "count": 0
           },
           {
            "bin_start": 33.2,
            "bin_end": 34.8,
            "count": 0
           },
           {
            "bin_start": 34.8,
            "bin_end": 36.4,
            "count": 2
           },
           {
            "bin_start": 36.4,
            "bin_end": 38,
            "count": 1
           }
          ]
         }
        },
        {
         "name": "SibSp",
         "dtype": "int64",
         "stats": {
          "unique_count": 2,
          "nan_count": 0,
          "min": "0",
          "max": "1",
          "histogram": [
           {
            "bin_start": 0,
            "bin_end": 0.1,
            "count": 2
           },
           {
            "bin_start": 0.1,
            "bin_end": 0.2,
            "count": 0
           },
           {
            "bin_start": 0.2,
            "bin_end": 0.30000000000000004,
            "count": 0
           },
           {
            "bin_start": 0.30000000000000004,
            "bin_end": 0.4,
            "count": 0
           },
           {
            "bin_start": 0.4,
            "bin_end": 0.5,
            "count": 0
           },
           {
            "bin_start": 0.5,
            "bin_end": 0.6000000000000001,
            "count": 0
           },
           {
            "bin_start": 0.6000000000000001,
            "bin_end": 0.7000000000000001,
            "count": 0
           },
           {
            "bin_start": 0.7000000000000001,
            "bin_end": 0.8,
            "count": 0
           },
           {
            "bin_start": 0.8,
            "bin_end": 0.9,
            "count": 0
           },
           {
            "bin_start": 0.9,
            "bin_end": 1,
            "count": 3
           }
          ]
         }
        },
        {
         "name": "Parch",
         "dtype": "int64",
         "stats": {
          "unique_count": 1,
          "nan_count": 0,
          "min": "0",
          "max": "0",
          "histogram": [
           {
            "bin_start": -0.5,
            "bin_end": -0.4,
            "count": 0
           },
           {
            "bin_start": -0.4,
            "bin_end": -0.3,
            "count": 0
           },
           {
            "bin_start": -0.3,
            "bin_end": -0.19999999999999996,
            "count": 0
           },
           {
            "bin_start": -0.19999999999999996,
            "bin_end": -0.09999999999999998,
            "count": 0
           },
           {
            "bin_start": -0.09999999999999998,
            "bin_end": 0,
            "count": 0
           },
           {
            "bin_start": 0,
            "bin_end": 0.10000000000000009,
            "count": 5
           },
           {
            "bin_start": 0.10000000000000009,
            "bin_end": 0.20000000000000007,
            "count": 0
           },
           {
            "bin_start": 0.20000000000000007,
            "bin_end": 0.30000000000000004,
            "count": 0
           },
           {
            "bin_start": 0.30000000000000004,
            "bin_end": 0.4,
            "count": 0
           },
           {
            "bin_start": 0.4,
            "bin_end": 0.5,
            "count": 0
           }
          ]
         }
        },
        {
         "name": "Fare",
         "dtype": "float64",
         "stats": {
          "unique_count": 5,
          "nan_count": 0,
          "min": "7.25",
          "max": "71.2833",
          "histogram": [
           {
            "bin_start": 7.25,
            "bin_end": 13.65333,
            "count": 3
           },
           {
            "bin_start": 13.65333,
            "bin_end": 20.05666,
            "count": 0
           },
           {
            "bin_start": 20.05666,
            "bin_end": 26.459989999999998,
            "count": 0
           },
           {
            "bin_start": 26.459989999999998,
            "bin_end": 32.86332,
            "count": 0
           },
           {
            "bin_start": 32.86332,
            "bin_end": 39.26665,
            "count": 0
           },
           {
            "bin_start": 39.26665,
            "bin_end": 45.669979999999995,
            "count": 0
           },
           {
            "bin_start": 45.669979999999995,
            "bin_end": 52.07331,
            "count": 0
           },
           {
            "bin_start": 52.07331,
            "bin_end": 58.476639999999996,
            "count": 1
           },
           {
            "bin_start": 58.476639999999996,
            "bin_end": 64.87996999999999,
            "count": 0
           },
           {
            "bin_start": 64.87996999999999,
            "bin_end": 71.2833,
            "count": 1
           }
          ]
         }
        },
        {
         "name": "Cabin",
         "dtype": "object",
         "stats": {
          "unique_count": 2,
          "nan_count": 3,
          "categories": [
           {
            "name": "C85",
            "count": 1
           },
           {
            "name": "C123",
            "count": 1
           },
           {
            "name": "Missing",
            "count": 3
           }
          ]
         }
        },
        {
         "name": "Embarked",
         "dtype": "object",
         "stats": {
          "unique_count": 2,
          "nan_count": 0,
          "categories": [
           {
            "name": "S",
            "count": 4
           },
           {
            "name": "C",
            "count": 1
           }
          ]
         }
        },
        {
         "name": "_deepnote_index_column",
         "dtype": "int64"
        }
       ],
       "rows": [
        {
         "Survived": 0,
         "Pclass": 3,
         "Name": "Braund, Mr. Owen Harris",
         "Sex": "male",
         "Age": 22,
         "SibSp": 1,
         "Parch": 0,
         "Fare": 7.25,
         "Cabin": "nan",
         "Embarked": "S",
         "_deepnote_index_column": 0
        },
        {
         "Survived": 1,
         "Pclass": 1,
         "Name": "Cumings, Mrs. John Bradley (Florence Briggs Thayer)",
         "Sex": "female",
         "Age": 38,
         "SibSp": 1,
         "Parch": 0,
         "Fare": 71.2833,
         "Cabin": "C85",
         "Embarked": "C",
         "_deepnote_index_column": 1
        },
        {
         "Survived": 1,
         "Pclass": 3,
         "Name": "Heikkinen, Miss. Laina",
         "Sex": "female",
         "Age": 26,
         "SibSp": 0,
         "Parch": 0,
         "Fare": 7.925,
         "Cabin": "nan",
         "Embarked": "S",
         "_deepnote_index_column": 2
        },
        {
         "Survived": 1,
         "Pclass": 1,
         "Name": "Futrelle, Mrs. Jacques Heath (Lily May Peel)",
         "Sex": "female",
         "Age": 35,
         "SibSp": 1,
         "Parch": 0,
         "Fare": 53.1,
         "Cabin": "C123",
         "Embarked": "S",
         "_deepnote_index_column": 3
        },
        {
         "Survived": 0,
         "Pclass": 3,
         "Name": "Allen, Mr. William Henry",
         "Sex": "male",
         "Age": 35,
         "SibSp": 0,
         "Parch": 0,
         "Fare": 8.05,
         "Cabin": "nan",
         "Embarked": "S",
         "_deepnote_index_column": 4
        }
       ]
      },
      "text/plain": "   Survived  Pclass                                               Name  \\\n0         0       3                            Braund, Mr. Owen Harris   \n1         1       1  Cumings, Mrs. John Bradley (Florence Briggs Th...   \n2         1       3                             Heikkinen, Miss. Laina   \n3         1       1       Futrelle, Mrs. Jacques Heath (Lily May Peel)   \n4         0       3                           Allen, Mr. William Henry   \n\n      Sex   Age  SibSp  Parch     Fare Cabin Embarked  \n0    male  22.0      1      0   7.2500   NaN        S  \n1  female  38.0      1      0  71.2833   C85        C  \n2  female  26.0      0      0   7.9250   NaN        S  \n3  female  35.0      1      0  53.1000  C123        S  \n4    male  35.0      0      0   8.0500   NaN        S  ",
      "text/html": "<div>\n<style scoped>\n    .dataframe tbody tr th:only-of-type {\n        vertical-align: middle;\n    }\n\n    .dataframe tbody tr th {\n        vertical-align: top;\n    }\n\n    .dataframe thead th {\n        text-align: right;\n    }\n</style>\n<table border=\"1\" class=\"dataframe\">\n  <thead>\n    <tr style=\"text-align: right;\">\n      <th></th>\n      <th>Survived</th>\n      <th>Pclass</th>\n      <th>Name</th>\n      <th>Sex</th>\n      <th>Age</th>\n      <th>SibSp</th>\n      <th>Parch</th>\n      <th>Fare</th>\n      <th>Cabin</th>\n      <th>Embarked</th>\n    </tr>\n  </thead>\n  <tbody>\n    <tr>\n      <th>0</th>\n      <td>0</td>\n      <td>3</td>\n      <td>Braund, Mr. Owen Harris</td>\n      <td>male</td>\n      <td>22.0</td>\n      <td>1</td>\n      <td>0</td>\n      <td>7.2500</td>\n      <td>NaN</td>\n      <td>S</td>\n    </tr>\n    <tr>\n      <th>1</th>\n      <td>1</td>\n      <td>1</td>\n      <td>Cumings, Mrs. John Bradley (Florence Briggs Th...</td>\n      <td>female</td>\n      <td>38.0</td>\n      <td>1</td>\n      <td>0</td>\n      <td>71.2833</td>\n      <td>C85</td>\n      <td>C</td>\n    </tr>\n    <tr>\n      <th>2</th>\n      <td>1</td>\n      <td>3</td>\n      <td>Heikkinen, Miss. Laina</td>\n      <td>female</td>\n      <td>26.0</td>\n      <td>0</td>\n      <td>0</td>\n      <td>7.9250</td>\n      <td>NaN</td>\n      <td>S</td>\n    </tr>\n    <tr>\n      <th>3</th>\n      <td>1</td>\n      <td>1</td>\n      <td>Futrelle, Mrs. Jacques Heath (Lily May Peel)</td>\n      <td>female</td>\n      <td>35.0</td>\n      <td>1</td>\n      <td>0</td>\n      <td>53.1000</td>\n      <td>C123</td>\n      <td>S</td>\n    </tr>\n    <tr>\n      <th>4</th>\n      <td>0</td>\n      <td>3</td>\n      <td>Allen, Mr. William Henry</td>\n      <td>male</td>\n      <td>35.0</td>\n      <td>0</td>\n      <td>0</td>\n      <td>8.0500</td>\n      <td>NaN</td>\n      <td>S</td>\n    </tr>\n  </tbody>\n</table>\n</div>"
     },
     "metadata": {}
    }
   ]
  },
  {
   "cell_type": "code",
   "metadata": {
    "cell_id": "6e70a5bb789e42418369fe631c8329c0",
    "tags": [],
    "deepnote_to_be_reexecuted": false,
    "source_hash": "4bf8cb2e",
    "execution_start": 1661369935763,
    "execution_millis": 6062,
    "deepnote_cell_type": "code",
    "deepnote_cell_height": 748.203125,
    "deepnote_output_heights": [
     null,
     531.984375
    ]
   },
   "source": "sns.set()\n\n\nsns.pairplot(df, hue='Survived', size=1.5);",
   "execution_count": null,
   "outputs": [
    {
     "name": "stderr",
     "text": "/shared-libs/python3.9/py/lib/python3.9/site-packages/seaborn/axisgrid.py:2076: UserWarning: The `size` parameter has been renamed to `height`; please update your code.\n  warnings.warn(msg, UserWarning)\n",
     "output_type": "stream"
    },
    {
     "data": {
      "text/plain": "<Figure size 601.55x540 with 30 Axes>",
      "image/png": "[encoded data removed]"
     },
     "metadata": {
      "needs_background": "light",
      "image/png": {
       "width": 598,
       "height": 531
      }
     },
     "output_type": "display_data"
    }
   ]
  },
  {
   "cell_type": "code",
   "metadata": {
    "cell_id": "8133d5f018484dea9875925dd34b0a64",
    "tags": [],
    "deepnote_to_be_reexecuted": false,
    "source_hash": "9c3c23c8",
    "execution_start": 1661654605698,
    "execution_millis": 464,
    "deepnote_cell_type": "code",
    "deepnote_cell_height": 620.0625,
    "deepnote_output_heights": [
     20.1875,
     404.984375
    ]
   },
   "source": "plt.figure(figsize=(7,7))\nsns.heatmap(df.corr(), cmap=\"RdYlBu\", \n    annot=True, square=True,\n    vmin=-1, vmax=1, fmt=\"+.3f\")\nplt.title(\"Correlation for the titanic dataset\")",
   "execution_count": null,
   "outputs": [
    {
     "output_type": "execute_result",
     "execution_count": 66,
     "data": {
      "text/plain": "Text(0.5, 1.0, 'Correlation for the titanic dataset')"
     },
     "metadata": {}
    },
    {
     "data": {
      "text/plain": "<Figure size 504x504 with 2 Axes>",
      "image/png": "[encoded data removed]"
     },
     "metadata": {
      "needs_background": "light",
      "image/png": {
       "width": 420,
       "height": 404
      }
     },
     "output_type": "display_data"
    }
   ]
  },
  {
   "cell_type": "markdown",
   "source": "Al observar el comportamiento de la sobrevivencia de un individuo con respecto a los factores que contiene la muestra de los datos podemos pre determinar diversos aspectos:\n\n* La mayor cantidad de descesos se dieron en las personas de tercera clase.\n* Primera clase tiene a la mayor parte de su población, independientemente de la edad, como sobrevivientes; donde son casos de edad media aquellos decesos.\n* En segunda clase la relación de muertes y sobrevivientes se encuentra balanceada, donde el rango de edad con mayor sobrevivencia es en niños y jóvenes.\n* En tercera clase, se tiene una mayor probabilidad de defunción, independientemente de la edad.\n* De aquellas personas que registraron tener/ir con hermanos/esposas, las que pertenecían a primera clase sobrevivieron, mientras que en segunda clase se da un balance; mientras que en tercera clase todas fallecieron.\n* Con respecto a las personas que registraron tener hermanos/esposas con ellos, gran parte de ellos eran jóvenes y la mayoría falleció.\n* Con relación a las personas que registraron tener cierto número de padres/hijos, se tiene una distribución en cuestión de edades, y la mayoría de los fallecidos se concentra alrededor de los 40 y 50 años.\n",
   "metadata": {
    "cell_id": "dce1198650ad40a0bd177e2ec74e19c1",
    "tags": [],
    "deepnote_cell_type": "markdown",
    "deepnote_cell_height": 389.640625
   }
  },
  {
   "cell_type": "markdown",
   "source": "## 1.1 Influecia de la variable \"SibSp\" en la supervivencia de una persona",
   "metadata": {
    "cell_id": "a1c8e2a3c8254c768353eaa16a8a97b7",
    "tags": [],
    "deepnote_cell_type": "markdown",
    "deepnote_cell_height": 109.953125
   }
  },
  {
   "cell_type": "code",
   "metadata": {
    "cell_id": "3eefd2d5296848069daae00523904134",
    "tags": [],
    "deepnote_to_be_reexecuted": false,
    "source_hash": "940486d7",
    "execution_start": 1661652815878,
    "execution_millis": 227,
    "deepnote_cell_type": "code",
    "deepnote_cell_height": 503.078125,
    "deepnote_output_heights": [
     20.1875,
     251.984375
    ]
   },
   "source": "x =  df[\"SibSp\"]. to_numpy()\ny =  df[\"Survived\"]\n\n#Comportamiento general de variable SibSp\n\nsns.kdeplot(x, shade=True)\n",
   "execution_count": null,
   "outputs": [
    {
     "output_type": "execute_result",
     "execution_count": 25,
     "data": {
      "text/plain": "<AxesSubplot:ylabel='Density'>"
     },
     "metadata": {}
    },
    {
     "data": {
      "text/plain": "<Figure size 432x288 with 1 Axes>",
      "image/png": "[encoded data removed]"
     },
     "metadata": {
      "needs_background": "light",
      "image/png": {
       "width": 386,
       "height": 251
      }
     },
     "output_type": "display_data"
    }
   ]
  },
  {
   "cell_type": "code",
   "metadata": {
    "cell_id": "d519a4030867492d9469917fb3f48c95",
    "tags": [],
    "deepnote_to_be_reexecuted": false,
    "source_hash": "8e66d977",
    "execution_start": 1661651791924,
    "execution_millis": 230,
    "deepnote_cell_type": "code",
    "deepnote_cell_height": 462.375,
    "deepnote_output_heights": [
     null,
     20.1875,
     248.984375
    ]
   },
   "source": "sns.countplot(df[\"SibSp\"]. to_numpy())",
   "execution_count": null,
   "outputs": [
    {
     "name": "stderr",
     "text": "/shared-libs/python3.9/py/lib/python3.9/site-packages/seaborn/_decorators.py:36: FutureWarning: Pass the following variable as a keyword arg: x. From version 0.12, the only valid positional argument will be `data`, and passing other arguments without an explicit keyword will result in an error or misinterpretation.\n  warnings.warn(\n",
     "output_type": "stream"
    },
    {
     "output_type": "execute_result",
     "execution_count": 5,
     "data": {
      "text/plain": "<AxesSubplot:ylabel='count'>"
     },
     "metadata": {}
    },
    {
     "data": {
      "text/plain": "<Figure size 432x288 with 1 Axes>",
      "image/png": "[encoded data removed]"
     },
     "metadata": {
      "needs_background": "light",
      "image/png": {
       "width": 389,
       "height": 248
      }
     },
     "output_type": "display_data"
    }
   ]
  },
  {
   "cell_type": "code",
   "metadata": {
    "cell_id": "2e6735a91fea4de78ba8d01fb844a78c",
    "tags": [],
    "deepnote_to_be_reexecuted": false,
    "source_hash": "fce8ce4c",
    "execution_start": 1661651795621,
    "execution_millis": 852,
    "deepnote_cell_type": "code",
    "deepnote_cell_height": 496.0625,
    "deepnote_output_heights": [
     20.1875,
     352.984375
    ]
   },
   "source": "sns.relplot(x=\"SibSp\", y=\"Survived\", ci= None, kind=\"line\", data=df)",
   "execution_count": null,
   "outputs": [
    {
     "output_type": "execute_result",
     "execution_count": 6,
     "data": {
      "text/plain": "<seaborn.axisgrid.FacetGrid at 0x7fade26556d0>"
     },
     "metadata": {}
    },
    {
     "data": {
      "text/plain": "<Figure size 360x360 with 1 Axes>",
      "image/png": "[encoded data removed]"
     },
     "metadata": {
      "needs_background": "light",
      "image/png": {
       "width": 352,
       "height": 352
      }
     },
     "output_type": "display_data"
    }
   ]
  },
  {
   "cell_type": "code",
   "metadata": {
    "cell_id": "f36a2be34eea47709e63eb6ca9a60de1",
    "tags": [],
    "deepnote_to_be_reexecuted": false,
    "source_hash": "7ecce024",
    "execution_start": 1661651798940,
    "execution_millis": 564,
    "deepnote_cell_type": "code",
    "deepnote_cell_height": 446.0625,
    "deepnote_output_heights": [
     20.1875,
     248.984375
    ]
   },
   "source": "#Comportamiento de la relación entre el número de hermanos/esposas con respecto\n#a la supervivencia\nplt.scatter(x,y)\n",
   "execution_count": null,
   "outputs": [
    {
     "output_type": "execute_result",
     "execution_count": 7,
     "data": {
      "text/plain": "<matplotlib.collections.PathCollection at 0x7faddfa2e0a0>"
     },
     "metadata": {}
    },
    {
     "data": {
      "text/plain": "<Figure size 432x288 with 1 Axes>",
      "image/png": "[encoded data removed]"
     },
     "metadata": {
      "needs_background": "light",
      "image/png": {
       "width": 372,
       "height": 248
      }
     },
     "output_type": "display_data"
    }
   ]
  },
  {
   "cell_type": "code",
   "metadata": {
    "cell_id": "a25cc08bf5714da7a57f83a6038d935c",
    "tags": [],
    "deepnote_to_be_reexecuted": false,
    "source_hash": "7328fdac",
    "execution_start": 1661651802465,
    "execution_millis": 29,
    "deepnote_cell_type": "code",
    "deepnote_cell_height": 408.421875
   },
   "source": "df.loc[df['SibSp'] == 5]",
   "execution_count": null,
   "outputs": [
    {
     "output_type": "execute_result",
     "execution_count": 8,
     "data": {
      "application/vnd.deepnote.dataframe.v3+json": {
       "column_count": 10,
       "row_count": 5,
       "columns": [
        {
         "name": "Survived",
         "dtype": "int64",
         "stats": {
          "unique_count": 1,
          "nan_count": 0,
          "min": "0",
          "max": "0",
          "histogram": [
           {
            "bin_start": -0.5,
            "bin_end": -0.4,
            "count": 0
           },
           {
            "bin_start": -0.4,
            "bin_end": -0.3,
            "count": 0
           },
           {
            "bin_start": -0.3,
            "bin_end": -0.19999999999999996,
            "count": 0
           },
           {
            "bin_start": -0.19999999999999996,
            "bin_end": -0.09999999999999998,
            "count": 0
           },
           {
            "bin_start": -0.09999999999999998,
            "bin_end": 0,
            "count": 0
           },
           {
            "bin_start": 0,
            "bin_end": 0.10000000000000009,
            "count": 5
           },
           {
            "bin_start": 0.10000000000000009,
            "bin_end": 0.20000000000000007,
            "count": 0
           },
           {
            "bin_start": 0.20000000000000007,
            "bin_end": 0.30000000000000004,
            "count": 0
           },
           {
            "bin_start": 0.30000000000000004,
            "bin_end": 0.4,
            "count": 0
           },
           {
            "bin_start": 0.4,
            "bin_end": 0.5,
            "count": 0
           }
          ]
         }
        },
        {
         "name": "Pclass",
         "dtype": "int64",
         "stats": {
          "unique_count": 1,
          "nan_count": 0,
          "min": "3",
          "max": "3",
          "histogram": [
           {
            "bin_start": 2.5,
            "bin_end": 2.6,
            "count": 0
           },
           {
            "bin_start": 2.6,
            "bin_end": 2.7,
            "count": 0
           },
           {
            "bin_start": 2.7,
            "bin_end": 2.8,
            "count": 0
           },
           {
            "bin_start": 2.8,
            "bin_end": 2.9,
            "count": 0
           },
           {
            "bin_start": 2.9,
            "bin_end": 3,
            "count": 0
           },
           {
            "bin_start": 3,
            "bin_end": 3.1,
            "count": 5
           },
           {
            "bin_start": 3.1,
            "bin_end": 3.2,
            "count": 0
           },
           {
            "bin_start": 3.2,
            "bin_end": 3.3,
            "count": 0
           },
           {
            "bin_start": 3.3,
            "bin_end": 3.4,
            "count": 0
           },
           {
            "bin_start": 3.4,
            "bin_end": 3.5,
            "count": 0
           }
          ]
         }
        },
        {
         "name": "Name",
         "dtype": "object",
         "stats": {
          "unique_count": 5,
          "nan_count": 0,
          "categories": [
           {
            "name": "Goodwin, Master. William Frederick",
            "count": 1
           },
           {
            "name": "Goodwin, Miss. Lillian Amy",
            "count": 1
           },
           {
            "name": "3 others",
            "count": 3
           }
          ]
         }
        },
        {
         "name": "Sex",
         "dtype": "object",
         "stats": {
          "unique_count": 2,
          "nan_count": 0,
          "categories": [
           {
            "name": "male",
            "count": 4
           },
           {
            "name": "female",
            "count": 1
           }
          ]
         }
        },
        {
         "name": "Age",
         "dtype": "float64",
         "stats": {
          "unique_count": 5,
          "nan_count": 0,
          "min": "1.0",
          "max": "16.0",
          "histogram": [
           {
            "bin_start": 1,
            "bin_end": 2.5,
            "count": 1
           },
           {
            "bin_start": 2.5,
            "bin_end": 4,
            "count": 0
           },
           {
            "bin_start": 4,
            "bin_end": 5.5,
            "count": 0
           },
           {
            "bin_start": 5.5,
            "bin_end": 7,
            "count": 0
           },
           {
            "bin_start": 7,
            "bin_end": 8.5,
            "count": 0
           },
           {
            "bin_start": 8.5,
            "bin_end": 10,
            "count": 1
           },
           {
            "bin_start": 10,
            "bin_end": 11.5,
            "count": 1
           },
           {
            "bin_start": 11.5,
            "bin_end": 13,
            "count": 0
           },
           {
            "bin_start": 13,
            "bin_end": 14.5,
            "count": 1
           },
           {
            "bin_start": 14.5,
            "bin_end": 16,
            "count": 1
           }
          ]
         }
        },
        {
         "name": "SibSp",
         "dtype": "int64",
         "stats": {
          "unique_count": 1,
          "nan_count": 0,
          "min": "5",
          "max": "5",
          "histogram": [
           {
            "bin_start": 4.5,
            "bin_end": 4.6,
            "count": 0
           },
           {
            "bin_start": 4.6,
            "bin_end": 4.7,
            "count": 0
           },
           {
            "bin_start": 4.7,
            "bin_end": 4.8,
            "count": 0
           },
           {
            "bin_start": 4.8,
            "bin_end": 4.9,
            "count": 0
           },
           {
            "bin_start": 4.9,
            "bin_end": 5,
            "count": 0
           },
           {
            "bin_start": 5,
            "bin_end": 5.1,
            "count": 5
           },
           {
            "bin_start": 5.1,
            "bin_end": 5.2,
            "count": 0
           },
           {
            "bin_start": 5.2,
            "bin_end": 5.3,
            "count": 0
           },
           {
            "bin_start": 5.3,
            "bin_end": 5.4,
            "count": 0
           },
           {
            "bin_start": 5.4,
            "bin_end": 5.5,
            "count": 0
           }
          ]
         }
        },
        {
         "name": "Parch",
         "dtype": "int64",
         "stats": {
          "unique_count": 1,
          "nan_count": 0,
          "min": "2",
          "max": "2",
          "histogram": [
           {
            "bin_start": 1.5,
            "bin_end": 1.6,
            "count": 0
           },
           {
            "bin_start": 1.6,
            "bin_end": 1.7,
            "count": 0
           },
           {
            "bin_start": 1.7,
            "bin_end": 1.8,
            "count": 0
           },
           {
            "bin_start": 1.8,
            "bin_end": 1.9,
            "count": 0
           },
           {
            "bin_start": 1.9,
            "bin_end": 2,
            "count": 0
           },
           {
            "bin_start": 2,
            "bin_end": 2.1,
            "count": 5
           },
           {
            "bin_start": 2.1,
            "bin_end": 2.2,
            "count": 0
           },
           {
            "bin_start": 2.2,
            "bin_end": 2.3,
            "count": 0
           },
           {
            "bin_start": 2.3,
            "bin_end": 2.4,
            "count": 0
           },
           {
            "bin_start": 2.4,
            "bin_end": 2.5,
            "count": 0
           }
          ]
         }
        },
        {
         "name": "Fare",
         "dtype": "float64",
         "stats": {
          "unique_count": 1,
          "nan_count": 0,
          "min": "46.9",
          "max": "46.9",
          "histogram": [
           {
            "bin_start": 46.4,
            "bin_end": 46.5,
            "count": 0
           },
           {
            "bin_start": 46.5,
            "bin_end": 46.6,
            "count": 0
           },
           {
            "bin_start": 46.6,
            "bin_end": 46.699999999999996,
            "count": 0
           },
           {
            "bin_start": 46.699999999999996,
            "bin_end": 46.8,
            "count": 0
           },
           {
            "bin_start": 46.8,
            "bin_end": 46.9,
            "count": 0
           },
           {
            "bin_start": 46.9,
            "bin_end": 47,
            "count": 5
           },
           {
            "bin_start": 47,
            "bin_end": 47.1,
            "count": 0
           },
           {
            "bin_start": 47.1,
            "bin_end": 47.199999999999996,
            "count": 0
           },
           {
            "bin_start": 47.199999999999996,
            "bin_end": 47.3,
            "count": 0
           },
           {
            "bin_start": 47.3,
            "bin_end": 47.4,
            "count": 0
           }
          ]
         }
        },
        {
         "name": "Cabin",
         "dtype": "object",
         "stats": {
          "unique_count": 0,
          "nan_count": 5,
          "categories": [
           {
            "name": "Missing",
            "count": 5
           }
          ]
         }
        },
        {
         "name": "Embarked",
         "dtype": "object",
         "stats": {
          "unique_count": 1,
          "nan_count": 0,
          "categories": [
           {
            "name": "S",
            "count": 5
           }
          ]
         }
        },
        {
         "name": "_deepnote_index_column",
         "dtype": "int64"
        }
       ],
       "rows": [
        {
         "Survived": 0,
         "Pclass": 3,
         "Name": "Goodwin, Master. William Frederick",
         "Sex": "male",
         "Age": 11,
         "SibSp": 5,
         "Parch": 2,
         "Fare": 46.9,
         "Cabin": "nan",
         "Embarked": "S",
         "_deepnote_index_column": 59
        },
        {
         "Survived": 0,
         "Pclass": 3,
         "Name": "Goodwin, Miss. Lillian Amy",
         "Sex": "female",
         "Age": 16,
         "SibSp": 5,
         "Parch": 2,
         "Fare": 46.9,
         "Cabin": "nan",
         "Embarked": "S",
         "_deepnote_index_column": 71
        },
        {
         "Survived": 0,
         "Pclass": 3,
         "Name": "Goodwin, Master. Sidney Leonard",
         "Sex": "male",
         "Age": 1,
         "SibSp": 5,
         "Parch": 2,
         "Fare": 46.9,
         "Cabin": "nan",
         "Embarked": "S",
         "_deepnote_index_column": 386
        },
        {
         "Survived": 0,
         "Pclass": 3,
         "Name": "Goodwin, Master. Harold Victor",
         "Sex": "male",
         "Age": 9,
         "SibSp": 5,
         "Parch": 2,
         "Fare": 46.9,
         "Cabin": "nan",
         "Embarked": "S",
         "_deepnote_index_column": 480
        },
        {
         "Survived": 0,
         "Pclass": 3,
         "Name": "Goodwin, Mr. Charles Edward",
         "Sex": "male",
         "Age": 14,
         "SibSp": 5,
         "Parch": 2,
         "Fare": 46.9,
         "Cabin": "nan",
         "Embarked": "S",
         "_deepnote_index_column": 683
        }
       ]
      },
      "text/plain": "     Survived  Pclass                                Name     Sex   Age  \\\n59          0       3  Goodwin, Master. William Frederick    male  11.0   \n71          0       3          Goodwin, Miss. Lillian Amy  female  16.0   \n386         0       3     Goodwin, Master. Sidney Leonard    male   1.0   \n480         0       3      Goodwin, Master. Harold Victor    male   9.0   \n683         0       3         Goodwin, Mr. Charles Edward    male  14.0   \n\n     SibSp  Parch  Fare Cabin Embarked  \n59       5      2  46.9   NaN        S  \n71       5      2  46.9   NaN        S  \n386      5      2  46.9   NaN        S  \n480      5      2  46.9   NaN        S  \n683      5      2  46.9   NaN        S  ",
      "text/html": "<div>\n<style scoped>\n    .dataframe tbody tr th:only-of-type {\n        vertical-align: middle;\n    }\n\n    .dataframe tbody tr th {\n        vertical-align: top;\n    }\n\n    .dataframe thead th {\n        text-align: right;\n    }\n</style>\n<table border=\"1\" class=\"dataframe\">\n  <thead>\n    <tr style=\"text-align: right;\">\n      <th></th>\n      <th>Survived</th>\n      <th>Pclass</th>\n      <th>Name</th>\n      <th>Sex</th>\n      <th>Age</th>\n      <th>SibSp</th>\n      <th>Parch</th>\n      <th>Fare</th>\n      <th>Cabin</th>\n      <th>Embarked</th>\n    </tr>\n  </thead>\n  <tbody>\n    <tr>\n      <th>59</th>\n      <td>0</td>\n      <td>3</td>\n      <td>Goodwin, Master. William Frederick</td>\n      <td>male</td>\n      <td>11.0</td>\n      <td>5</td>\n      <td>2</td>\n      <td>46.9</td>\n      <td>NaN</td>\n      <td>S</td>\n    </tr>\n    <tr>\n      <th>71</th>\n      <td>0</td>\n      <td>3</td>\n      <td>Goodwin, Miss. Lillian Amy</td>\n      <td>female</td>\n      <td>16.0</td>\n      <td>5</td>\n      <td>2</td>\n      <td>46.9</td>\n      <td>NaN</td>\n      <td>S</td>\n    </tr>\n    <tr>\n      <th>386</th>\n      <td>0</td>\n      <td>3</td>\n      <td>Goodwin, Master. Sidney Leonard</td>\n      <td>male</td>\n      <td>1.0</td>\n      <td>5</td>\n      <td>2</td>\n      <td>46.9</td>\n      <td>NaN</td>\n      <td>S</td>\n    </tr>\n    <tr>\n      <th>480</th>\n      <td>0</td>\n      <td>3</td>\n      <td>Goodwin, Master. Harold Victor</td>\n      <td>male</td>\n      <td>9.0</td>\n      <td>5</td>\n      <td>2</td>\n      <td>46.9</td>\n      <td>NaN</td>\n      <td>S</td>\n    </tr>\n    <tr>\n      <th>683</th>\n      <td>0</td>\n      <td>3</td>\n      <td>Goodwin, Mr. Charles Edward</td>\n      <td>male</td>\n      <td>14.0</td>\n      <td>5</td>\n      <td>2</td>\n      <td>46.9</td>\n      <td>NaN</td>\n      <td>S</td>\n    </tr>\n  </tbody>\n</table>\n</div>"
     },
     "metadata": {}
    }
   ]
  },
  {
   "cell_type": "code",
   "metadata": {
    "cell_id": "a0f163e8756d4e92abe590ec37e75736",
    "tags": [],
    "deepnote_to_be_reexecuted": false,
    "source_hash": "239d0370",
    "execution_start": 1661651805007,
    "execution_millis": 630,
    "deepnote_cell_type": "code",
    "deepnote_cell_height": 490.40625
   },
   "source": "df.loc[df['SibSp'] == 8]",
   "execution_count": null,
   "outputs": [
    {
     "output_type": "execute_result",
     "execution_count": 9,
     "data": {
      "application/vnd.deepnote.dataframe.v3+json": {
       "column_count": 10,
       "row_count": 7,
       "columns": [
        {
         "name": "Survived",
         "dtype": "int64",
         "stats": {
          "unique_count": 1,
          "nan_count": 0,
          "min": "0",
          "max": "0",
          "histogram": [
           {
            "bin_start": -0.5,
            "bin_end": -0.4,
            "count": 0
           },
           {
            "bin_start": -0.4,
            "bin_end": -0.3,
            "count": 0
           },
           {
            "bin_start": -0.3,
            "bin_end": -0.19999999999999996,
            "count": 0
           },
           {
            "bin_start": -0.19999999999999996,
            "bin_end": -0.09999999999999998,
            "count": 0
           },
           {
            "bin_start": -0.09999999999999998,
            "bin_end": 0,
            "count": 0
           },
           {
            "bin_start": 0,
            "bin_end": 0.10000000000000009,
            "count": 7
           },
           {
            "bin_start": 0.10000000000000009,
            "bin_end": 0.20000000000000007,
            "count": 0
           },
           {
            "bin_start": 0.20000000000000007,
            "bin_end": 0.30000000000000004,
            "count": 0
           },
           {
            "bin_start": 0.30000000000000004,
            "bin_end": 0.4,
            "count": 0
           },
           {
            "bin_start": 0.4,
            "bin_end": 0.5,
            "count": 0
           }
          ]
         }
        },
        {
         "name": "Pclass",
         "dtype": "int64",
         "stats": {
          "unique_count": 1,
          "nan_count": 0,
          "min": "3",
          "max": "3",
          "histogram": [
           {
            "bin_start": 2.5,
            "bin_end": 2.6,
            "count": 0
           },
           {
            "bin_start": 2.6,
            "bin_end": 2.7,
            "count": 0
           },
           {
            "bin_start": 2.7,
            "bin_end": 2.8,
            "count": 0
           },
           {
            "bin_start": 2.8,
            "bin_end": 2.9,
            "count": 0
           },
           {
            "bin_start": 2.9,
            "bin_end": 3,
            "count": 0
           },
           {
            "bin_start": 3,
            "bin_end": 3.1,
            "count": 7
           },
           {
            "bin_start": 3.1,
            "bin_end": 3.2,
            "count": 0
           },
           {
            "bin_start": 3.2,
            "bin_end": 3.3,
            "count": 0
           },
           {
            "bin_start": 3.3,
            "bin_end": 3.4,
            "count": 0
           },
           {
            "bin_start": 3.4,
            "bin_end": 3.5,
            "count": 0
           }
          ]
         }
        },
        {
         "name": "Name",
         "dtype": "object",
         "stats": {
          "unique_count": 7,
          "nan_count": 0,
          "categories": [
           {
            "name": "Sage, Master. Thomas Henry",
            "count": 1
           },
           {
            "name": "Sage, Miss. Constance Gladys",
            "count": 1
           },
           {
            "name": "5 others",
            "count": 5
           }
          ]
         }
        },
        {
         "name": "Sex",
         "dtype": "object",
         "stats": {
          "unique_count": 2,
          "nan_count": 0,
          "categories": [
           {
            "name": "male",
            "count": 4
           },
           {
            "name": "female",
            "count": 3
           }
          ]
         }
        },
        {
         "name": "Age",
         "dtype": "float64",
         "stats": {
          "unique_count": 0,
          "nan_count": 7,
          "min": null,
          "max": null,
          "histogram": [
           {
            "bin_start": 0,
            "bin_end": 0.1,
            "count": 0
           },
           {
            "bin_start": 0.1,
            "bin_end": 0.2,
            "count": 0
           },
           {
            "bin_start": 0.2,
            "bin_end": 0.30000000000000004,
            "count": 0
           },
           {
            "bin_start": 0.30000000000000004,
            "bin_end": 0.4,
            "count": 0
           },
           {
            "bin_start": 0.4,
            "bin_end": 0.5,
            "count": 0
           },
           {
            "bin_start": 0.5,
            "bin_end": 0.6000000000000001,
            "count": 0
           },
           {
            "bin_start": 0.6000000000000001,
            "bin_end": 0.7000000000000001,
            "count": 0
           },
           {
            "bin_start": 0.7000000000000001,
            "bin_end": 0.8,
            "count": 0
           },
           {
            "bin_start": 0.8,
            "bin_end": 0.9,
            "count": 0
           },
           {
            "bin_start": 0.9,
            "bin_end": 1,
            "count": 0
           }
          ]
         }
        },
        {
         "name": "SibSp",
         "dtype": "int64",
         "stats": {
          "unique_count": 1,
          "nan_count": 0,
          "min": "8",
          "max": "8",
          "histogram": [
           {
            "bin_start": 7.5,
            "bin_end": 7.6,
            "count": 0
           },
           {
            "bin_start": 7.6,
            "bin_end": 7.7,
            "count": 0
           },
           {
            "bin_start": 7.7,
            "bin_end": 7.8,
            "count": 0
           },
           {
            "bin_start": 7.8,
            "bin_end": 7.9,
            "count": 0
           },
           {
            "bin_start": 7.9,
            "bin_end": 8,
            "count": 0
           },
           {
            "bin_start": 8,
            "bin_end": 8.1,
            "count": 7
           },
           {
            "bin_start": 8.1,
            "bin_end": 8.2,
            "count": 0
           },
           {
            "bin_start": 8.2,
            "bin_end": 8.3,
            "count": 0
           },
           {
            "bin_start": 8.3,
            "bin_end": 8.4,
            "count": 0
           },
           {
            "bin_start": 8.4,
            "bin_end": 8.5,
            "count": 0
           }
          ]
         }
        },
        {
         "name": "Parch",
         "dtype": "int64",
         "stats": {
          "unique_count": 1,
          "nan_count": 0,
          "min": "2",
          "max": "2",
          "histogram": [
           {
            "bin_start": 1.5,
            "bin_end": 1.6,
            "count": 0
           },
           {
            "bin_start": 1.6,
            "bin_end": 1.7,
            "count": 0
           },
           {
            "bin_start": 1.7,
            "bin_end": 1.8,
            "count": 0
           },
           {
            "bin_start": 1.8,
            "bin_end": 1.9,
            "count": 0
           },
           {
            "bin_start": 1.9,
            "bin_end": 2,
            "count": 0
           },
           {
            "bin_start": 2,
            "bin_end": 2.1,
            "count": 7
           },
           {
            "bin_start": 2.1,
            "bin_end": 2.2,
            "count": 0
           },
           {
            "bin_start": 2.2,
            "bin_end": 2.3,
            "count": 0
           },
           {
            "bin_start": 2.3,
            "bin_end": 2.4,
            "count": 0
           },
           {
            "bin_start": 2.4,
            "bin_end": 2.5,
            "count": 0
           }
          ]
         }
        },
        {
         "name": "Fare",
         "dtype": "float64",
         "stats": {
          "unique_count": 1,
          "nan_count": 0,
          "min": "69.55",
          "max": "69.55",
          "histogram": [
           {
            "bin_start": 69.05,
            "bin_end": 69.14999999999999,
            "count": 0
           },
           {
            "bin_start": 69.14999999999999,
            "bin_end": 69.25,
            "count": 0
           },
           {
            "bin_start": 69.25,
            "bin_end": 69.35,
            "count": 0
           },
           {
            "bin_start": 69.35,
            "bin_end": 69.45,
            "count": 0
           },
           {
            "bin_start": 69.45,
            "bin_end": 69.55,
            "count": 0
           },
           {
            "bin_start": 69.55,
            "bin_end": 69.64999999999999,
            "count": 7
           },
           {
            "bin_start": 69.64999999999999,
            "bin_end": 69.75,
            "count": 0
           },
           {
            "bin_start": 69.75,
            "bin_end": 69.85,
            "count": 0
           },
           {
            "bin_start": 69.85,
            "bin_end": 69.95,
            "count": 0
           },
           {
            "bin_start": 69.95,
            "bin_end": 70.05,
            "count": 0
           }
          ]
         }
        },
        {
         "name": "Cabin",
         "dtype": "object",
         "stats": {
          "unique_count": 0,
          "nan_count": 7,
          "categories": [
           {
            "name": "Missing",
            "count": 7
           }
          ]
         }
        },
        {
         "name": "Embarked",
         "dtype": "object",
         "stats": {
          "unique_count": 1,
          "nan_count": 0,
          "categories": [
           {
            "name": "S",
            "count": 7
           }
          ]
         }
        },
        {
         "name": "_deepnote_index_column",
         "dtype": "int64"
        }
       ],
       "rows": [
        {
         "Survived": 0,
         "Pclass": 3,
         "Name": "Sage, Master. Thomas Henry",
         "Sex": "male",
         "Age": "nan",
         "SibSp": 8,
         "Parch": 2,
         "Fare": 69.55,
         "Cabin": "nan",
         "Embarked": "S",
         "_deepnote_index_column": 159
        },
        {
         "Survived": 0,
         "Pclass": 3,
         "Name": "Sage, Miss. Constance Gladys",
         "Sex": "female",
         "Age": "nan",
         "SibSp": 8,
         "Parch": 2,
         "Fare": 69.55,
         "Cabin": "nan",
         "Embarked": "S",
         "_deepnote_index_column": 180
        },
        {
         "Survived": 0,
         "Pclass": 3,
         "Name": "Sage, Mr. Frederick",
         "Sex": "male",
         "Age": "nan",
         "SibSp": 8,
         "Parch": 2,
         "Fare": 69.55,
         "Cabin": "nan",
         "Embarked": "S",
         "_deepnote_index_column": 201
        },
        {
         "Survived": 0,
         "Pclass": 3,
         "Name": "Sage, Mr. George John Jr",
         "Sex": "male",
         "Age": "nan",
         "SibSp": 8,
         "Parch": 2,
         "Fare": 69.55,
         "Cabin": "nan",
         "Embarked": "S",
         "_deepnote_index_column": 324
        },
        {
         "Survived": 0,
         "Pclass": 3,
         "Name": "Sage, Miss. Stella Anna",
         "Sex": "female",
         "Age": "nan",
         "SibSp": 8,
         "Parch": 2,
         "Fare": 69.55,
         "Cabin": "nan",
         "Embarked": "S",
         "_deepnote_index_column": 792
        },
        {
         "Survived": 0,
         "Pclass": 3,
         "Name": "Sage, Mr. Douglas Bullen",
         "Sex": "male",
         "Age": "nan",
         "SibSp": 8,
         "Parch": 2,
         "Fare": 69.55,
         "Cabin": "nan",
         "Embarked": "S",
         "_deepnote_index_column": 846
        },
        {
         "Survived": 0,
         "Pclass": 3,
         "Name": "Sage, Miss. Dorothy Edith \"Dolly\"",
         "Sex": "female",
         "Age": "nan",
         "SibSp": 8,
         "Parch": 2,
         "Fare": 69.55,
         "Cabin": "nan",
         "Embarked": "S",
         "_deepnote_index_column": 863
        }
       ]
      },
      "text/plain": "     Survived  Pclass                               Name     Sex  Age  SibSp  \\\n159         0       3         Sage, Master. Thomas Henry    male  NaN      8   \n180         0       3       Sage, Miss. Constance Gladys  female  NaN      8   \n201         0       3                Sage, Mr. Frederick    male  NaN      8   \n324         0       3           Sage, Mr. George John Jr    male  NaN      8   \n792         0       3            Sage, Miss. Stella Anna  female  NaN      8   \n846         0       3           Sage, Mr. Douglas Bullen    male  NaN      8   \n863         0       3  Sage, Miss. Dorothy Edith \"Dolly\"  female  NaN      8   \n\n     Parch   Fare Cabin Embarked  \n159      2  69.55   NaN        S  \n180      2  69.55   NaN        S  \n201      2  69.55   NaN        S  \n324      2  69.55   NaN        S  \n792      2  69.55   NaN        S  \n846      2  69.55   NaN        S  \n863      2  69.55   NaN        S  ",
      "text/html": "<div>\n<style scoped>\n    .dataframe tbody tr th:only-of-type {\n        vertical-align: middle;\n    }\n\n    .dataframe tbody tr th {\n        vertical-align: top;\n    }\n\n    .dataframe thead th {\n        text-align: right;\n    }\n</style>\n<table border=\"1\" class=\"dataframe\">\n  <thead>\n    <tr style=\"text-align: right;\">\n      <th></th>\n      <th>Survived</th>\n      <th>Pclass</th>\n      <th>Name</th>\n      <th>Sex</th>\n      <th>Age</th>\n      <th>SibSp</th>\n      <th>Parch</th>\n      <th>Fare</th>\n      <th>Cabin</th>\n      <th>Embarked</th>\n    </tr>\n  </thead>\n  <tbody>\n    <tr>\n      <th>159</th>\n      <td>0</td>\n      <td>3</td>\n      <td>Sage, Master. Thomas Henry</td>\n      <td>male</td>\n      <td>NaN</td>\n      <td>8</td>\n      <td>2</td>\n      <td>69.55</td>\n      <td>NaN</td>\n      <td>S</td>\n    </tr>\n    <tr>\n      <th>180</th>\n      <td>0</td>\n      <td>3</td>\n      <td>Sage, Miss. Constance Gladys</td>\n      <td>female</td>\n      <td>NaN</td>\n      <td>8</td>\n      <td>2</td>\n      <td>69.55</td>\n      <td>NaN</td>\n      <td>S</td>\n    </tr>\n    <tr>\n      <th>201</th>\n      <td>0</td>\n      <td>3</td>\n      <td>Sage, Mr. Frederick</td>\n      <td>male</td>\n      <td>NaN</td>\n      <td>8</td>\n      <td>2</td>\n      <td>69.55</td>\n      <td>NaN</td>\n      <td>S</td>\n    </tr>\n    <tr>\n      <th>324</th>\n      <td>0</td>\n      <td>3</td>\n      <td>Sage, Mr. George John Jr</td>\n      <td>male</td>\n      <td>NaN</td>\n      <td>8</td>\n      <td>2</td>\n      <td>69.55</td>\n      <td>NaN</td>\n      <td>S</td>\n    </tr>\n    <tr>\n      <th>792</th>\n      <td>0</td>\n      <td>3</td>\n      <td>Sage, Miss. Stella Anna</td>\n      <td>female</td>\n      <td>NaN</td>\n      <td>8</td>\n      <td>2</td>\n      <td>69.55</td>\n      <td>NaN</td>\n      <td>S</td>\n    </tr>\n    <tr>\n      <th>846</th>\n      <td>0</td>\n      <td>3</td>\n      <td>Sage, Mr. Douglas Bullen</td>\n      <td>male</td>\n      <td>NaN</td>\n      <td>8</td>\n      <td>2</td>\n      <td>69.55</td>\n      <td>NaN</td>\n      <td>S</td>\n    </tr>\n    <tr>\n      <th>863</th>\n      <td>0</td>\n      <td>3</td>\n      <td>Sage, Miss. Dorothy Edith \"Dolly\"</td>\n      <td>female</td>\n      <td>NaN</td>\n      <td>8</td>\n      <td>2</td>\n      <td>69.55</td>\n      <td>NaN</td>\n      <td>S</td>\n    </tr>\n  </tbody>\n</table>\n</div>"
     },
     "metadata": {}
    }
   ]
  },
  {
   "cell_type": "markdown",
   "source": "Medidas de tendencia central y dispersión",
   "metadata": {
    "cell_id": "409020b5e7f54253b060dab677661a96",
    "tags": [],
    "deepnote_cell_type": "markdown",
    "deepnote_cell_height": 52.375
   }
  },
  {
   "cell_type": "code",
   "metadata": {
    "cell_id": "7f03615cf1254165b373eebea8778340",
    "tags": [],
    "deepnote_to_be_reexecuted": false,
    "source_hash": "510671e7",
    "execution_start": 1661653127270,
    "execution_millis": 2,
    "deepnote_cell_type": "code",
    "deepnote_cell_height": 352.53125
   },
   "source": "print(\"Medidas de tendencia central para la variable SibSp\")\nprint(\"Media: \", np.mean(x))\nprint(\"Mediana: \", np.median(x))\nprint(\"----------------------------------------------------\")\nprint(\"Medidas de dispersión para la variable SibSp\")\nprint(\"Varianza: \", np.var(x))\nprint(\"Desviación estándar: \", np.std(x))\n",
   "execution_count": null,
   "outputs": [
    {
     "name": "stdout",
     "text": "Medidas de tendencia central para la variable SibSp\nMedia:  0.5230078563411896\nMediana:  0.0\n----------------------------------------------------\nMedidas de dispersión para la variable SibSp\nVarianza:  1.2146782704208816\nDesviación estándar:  1.1021244350892878\n",
     "output_type": "stream"
    }
   ]
  },
  {
   "cell_type": "markdown",
   "source": "##### Análisis de resultados\n\nAl analizar el comportamiento de la variable con respecto a la supervivencia se puede determinar que no es un factor determinante, debido a que aún teniendo el mismo número de familiares de esta categoría se podía haber fallecido.\n\nSin embargo, de la misma forma parecería que aquellas personas que tienen más de 5 esposas/hermanos no sobreviven; por lo tanto se analizaron aquellos casos que tuvieran estas condiciones, pero los resultados nos indicaron que eran casos aislados correspondientes a dos familias en específico con tal número de integrantes.\n\nPor lo anterior, se considera que esta variable en realidad no sería de utilidad para la predicción de la probabilidad de supervivencia de una persona en el desastre, pero sí nos da una guía de análisis relaciona a la clase y cabina en la que se encontraban estos casos, ya que ambos eran tercera clase.\n\nFinalmente, se tomó esto para no realizar un análisis más profundo en este factor y eliminarlo de nuestro modelo en la limpieza de los datos.",
   "metadata": {
    "cell_id": "f19e31e534b348aa998bfef8bf224d53",
    "tags": [],
    "deepnote_cell_type": "markdown",
    "deepnote_cell_height": 354.40625
   }
  },
  {
   "cell_type": "markdown",
   "source": "## 1.2 Influecia de la variable \"Parch\" en la supervivencia de una persona",
   "metadata": {
    "cell_id": "0f01032e675a4440bcacfb3a9d00292f",
    "tags": [],
    "deepnote_cell_type": "markdown",
    "deepnote_cell_height": 109.953125
   }
  },
  {
   "cell_type": "code",
   "metadata": {
    "cell_id": "a77003e57680419a896c00f52f5603a9",
    "tags": [],
    "deepnote_to_be_reexecuted": false,
    "source_hash": "4166281b",
    "execution_start": 1661653248482,
    "execution_millis": 187,
    "deepnote_cell_type": "code",
    "deepnote_cell_height": 428.078125,
    "deepnote_output_heights": [
     20.1875,
     248.984375
    ]
   },
   "source": "x =  df[\"Parch\"].to_numpy()\n\nsns.kdeplot(x, shade=True)",
   "execution_count": null,
   "outputs": [
    {
     "output_type": "execute_result",
     "execution_count": 34,
     "data": {
      "text/plain": "<AxesSubplot:ylabel='Density'>"
     },
     "metadata": {}
    },
    {
     "data": {
      "text/plain": "<Figure size 432x288 with 1 Axes>",
      "image/png": "[encoded data removed]"
     },
     "metadata": {
      "needs_background": "light",
      "image/png": {
       "width": 386,
       "height": 248
      }
     },
     "output_type": "display_data"
    }
   ]
  },
  {
   "cell_type": "code",
   "metadata": {
    "cell_id": "5faf5d784ce54cbe9eb806c7834288cd",
    "tags": [],
    "deepnote_to_be_reexecuted": false,
    "source_hash": "b337654",
    "execution_start": 1661653193769,
    "execution_millis": 196,
    "deepnote_cell_type": "code",
    "deepnote_cell_height": 463.375,
    "deepnote_output_heights": [
     null,
     20.1875,
     249.984375
    ]
   },
   "source": "sns.countplot(df[\"Parch\"]. to_numpy())",
   "execution_count": null,
   "outputs": [
    {
     "name": "stderr",
     "text": "/shared-libs/python3.9/py/lib/python3.9/site-packages/seaborn/_decorators.py:36: FutureWarning: Pass the following variable as a keyword arg: x. From version 0.12, the only valid positional argument will be `data`, and passing other arguments without an explicit keyword will result in an error or misinterpretation.\n  warnings.warn(\n",
     "output_type": "stream"
    },
    {
     "output_type": "execute_result",
     "execution_count": 33,
     "data": {
      "text/plain": "<AxesSubplot:ylabel='count'>"
     },
     "metadata": {}
    },
    {
     "data": {
      "text/plain": "<Figure size 432x288 with 1 Axes>",
      "image/png": "[encoded data removed]"
     },
     "metadata": {
      "needs_background": "light",
      "image/png": {
       "width": 389,
       "height": 249
      }
     },
     "output_type": "display_data"
    }
   ]
  },
  {
   "cell_type": "code",
   "metadata": {
    "cell_id": "0fb42ed7185a4fd480b334488873624c",
    "tags": [],
    "deepnote_to_be_reexecuted": false,
    "source_hash": "fce8ce4c",
    "execution_start": 1661654642503,
    "execution_millis": 401,
    "deepnote_cell_type": "code",
    "deepnote_cell_height": 496.0625,
    "deepnote_output_heights": [
     20.1875,
     352.984375
    ]
   },
   "source": "sns.relplot(x=\"SibSp\", y=\"Survived\", ci= None, kind=\"line\", data=df)",
   "execution_count": null,
   "outputs": [
    {
     "output_type": "execute_result",
     "execution_count": 67,
     "data": {
      "text/plain": "<seaborn.axisgrid.FacetGrid at 0x7fadd6b3ed90>"
     },
     "metadata": {}
    },
    {
     "data": {
      "text/plain": "<Figure size 360x360 with 1 Axes>",
      "image/png": "[encoded data removed]"
     },
     "metadata": {
      "needs_background": "light",
      "image/png": {
       "width": 352,
       "height": 352
      }
     },
     "output_type": "display_data"
    }
   ]
  },
  {
   "cell_type": "code",
   "metadata": {
    "cell_id": "d34858b11291469a96a9a06dd9db463a",
    "tags": [],
    "deepnote_to_be_reexecuted": false,
    "source_hash": "399ff05d",
    "execution_start": 1661652564544,
    "execution_millis": 215,
    "deepnote_cell_type": "code",
    "deepnote_cell_height": 392.078125,
    "deepnote_output_heights": [
     20.1875,
     248.984375
    ]
   },
   "source": "plt.scatter(x,y)",
   "execution_count": null,
   "outputs": [
    {
     "output_type": "execute_result",
     "execution_count": 18,
     "data": {
      "text/plain": "<matplotlib.collections.PathCollection at 0x7faddf516490>"
     },
     "metadata": {}
    },
    {
     "data": {
      "text/plain": "<Figure size 432x288 with 1 Axes>",
      "image/png": "[encoded data removed]"
     },
     "metadata": {
      "needs_background": "light",
      "image/png": {
       "width": 372,
       "height": 248
      }
     },
     "output_type": "display_data"
    }
   ]
  },
  {
   "cell_type": "code",
   "metadata": {
    "cell_id": "170ee6db5a7e4331a43613b24de9d01c",
    "tags": [],
    "deepnote_to_be_reexecuted": false,
    "source_hash": "a4ebb634",
    "execution_start": 1661652566867,
    "execution_millis": 25,
    "deepnote_cell_type": "code",
    "deepnote_cell_height": 367.421875
   },
   "source": "df.loc[df['Parch'] == 4]",
   "execution_count": null,
   "outputs": [
    {
     "output_type": "execute_result",
     "execution_count": 19,
     "data": {
      "application/vnd.deepnote.dataframe.v3+json": {
       "column_count": 10,
       "row_count": 4,
       "columns": [
        {
         "name": "Survived",
         "dtype": "int64",
         "stats": {
          "unique_count": 1,
          "nan_count": 0,
          "min": "0",
          "max": "0",
          "histogram": [
           {
            "bin_start": -0.5,
            "bin_end": -0.4,
            "count": 0
           },
           {
            "bin_start": -0.4,
            "bin_end": -0.3,
            "count": 0
           },
           {
            "bin_start": -0.3,
            "bin_end": -0.19999999999999996,
            "count": 0
           },
           {
            "bin_start": -0.19999999999999996,
            "bin_end": -0.09999999999999998,
            "count": 0
           },
           {
            "bin_start": -0.09999999999999998,
            "bin_end": 0,
            "count": 0
           },
           {
            "bin_start": 0,
            "bin_end": 0.10000000000000009,
            "count": 4
           },
           {
            "bin_start": 0.10000000000000009,
            "bin_end": 0.20000000000000007,
            "count": 0
           },
           {
            "bin_start": 0.20000000000000007,
            "bin_end": 0.30000000000000004,
            "count": 0
           },
           {
            "bin_start": 0.30000000000000004,
            "bin_end": 0.4,
            "count": 0
           },
           {
            "bin_start": 0.4,
            "bin_end": 0.5,
            "count": 0
           }
          ]
         }
        },
        {
         "name": "Pclass",
         "dtype": "int64",
         "stats": {
          "unique_count": 2,
          "nan_count": 0,
          "min": "1",
          "max": "3",
          "histogram": [
           {
            "bin_start": 1,
            "bin_end": 1.2,
            "count": 1
           },
           {
            "bin_start": 1.2,
            "bin_end": 1.4,
            "count": 0
           },
           {
            "bin_start": 1.4,
            "bin_end": 1.6,
            "count": 0
           },
           {
            "bin_start": 1.6,
            "bin_end": 1.8,
            "count": 0
           },
           {
            "bin_start": 1.8,
            "bin_end": 2,
            "count": 0
           },
           {
            "bin_start": 2,
            "bin_end": 2.2,
            "count": 0
           },
           {
            "bin_start": 2.2,
            "bin_end": 2.4000000000000004,
            "count": 0
           },
           {
            "bin_start": 2.4000000000000004,
            "bin_end": 2.6,
            "count": 0
           },
           {
            "bin_start": 2.6,
            "bin_end": 2.8,
            "count": 0
           },
           {
            "bin_start": 2.8,
            "bin_end": 3,
            "count": 3
           }
          ]
         }
        },
        {
         "name": "Name",
         "dtype": "object",
         "stats": {
          "unique_count": 4,
          "nan_count": 0,
          "categories": [
           {
            "name": "Skoog, Mrs. William (Anna Bernhardina Karlsson)",
            "count": 1
           },
           {
            "name": "Skoog, Mr. Wilhelm",
            "count": 1
           },
           {
            "name": "2 others",
            "count": 2
           }
          ]
         }
        },
        {
         "name": "Sex",
         "dtype": "object",
         "stats": {
          "unique_count": 2,
          "nan_count": 0,
          "categories": [
           {
            "name": "female",
            "count": 2
           },
           {
            "name": "male",
            "count": 2
           }
          ]
         }
        },
        {
         "name": "Age",
         "dtype": "float64",
         "stats": {
          "unique_count": 4,
          "nan_count": 0,
          "min": "29.0",
          "max": "64.0",
          "histogram": [
           {
            "bin_start": 29,
            "bin_end": 32.5,
            "count": 1
           },
           {
            "bin_start": 32.5,
            "bin_end": 36,
            "count": 0
           },
           {
            "bin_start": 36,
            "bin_end": 39.5,
            "count": 0
           },
           {
            "bin_start": 39.5,
            "bin_end": 43,
            "count": 1
           },
           {
            "bin_start": 43,
            "bin_end": 46.5,
            "count": 1
           },
           {
            "bin_start": 46.5,
            "bin_end": 50,
            "count": 0
           },
           {
            "bin_start": 50,
            "bin_end": 53.5,
            "count": 0
           },
           {
            "bin_start": 53.5,
            "bin_end": 57,
            "count": 0
           },
           {
            "bin_start": 57,
            "bin_end": 60.5,
            "count": 0
           },
           {
            "bin_start": 60.5,
            "bin_end": 64,
            "count": 1
           }
          ]
         }
        },
        {
         "name": "SibSp",
         "dtype": "int64",
         "stats": {
          "unique_count": 2,
          "nan_count": 0,
          "min": "0",
          "max": "1",
          "histogram": [
           {
            "bin_start": 0,
            "bin_end": 0.1,
            "count": 1
           },
           {
            "bin_start": 0.1,
            "bin_end": 0.2,
            "count": 0
           },
           {
            "bin_start": 0.2,
            "bin_end": 0.30000000000000004,
            "count": 0
           },
           {
            "bin_start": 0.30000000000000004,
            "bin_end": 0.4,
            "count": 0
           },
           {
            "bin_start": 0.4,
            "bin_end": 0.5,
            "count": 0
           },
           {
            "bin_start": 0.5,
            "bin_end": 0.6000000000000001,
            "count": 0
           },
           {
            "bin_start": 0.6000000000000001,
            "bin_end": 0.7000000000000001,
            "count": 0
           },
           {
            "bin_start": 0.7000000000000001,
            "bin_end": 0.8,
            "count": 0
           },
           {
            "bin_start": 0.8,
            "bin_end": 0.9,
            "count": 0
           },
           {
            "bin_start": 0.9,
            "bin_end": 1,
            "count": 3
           }
          ]
         }
        },
        {
         "name": "Parch",
         "dtype": "int64",
         "stats": {
          "unique_count": 1,
          "nan_count": 0,
          "min": "4",
          "max": "4",
          "histogram": [
           {
            "bin_start": 3.5,
            "bin_end": 3.6,
            "count": 0
           },
           {
            "bin_start": 3.6,
            "bin_end": 3.7,
            "count": 0
           },
           {
            "bin_start": 3.7,
            "bin_end": 3.8,
            "count": 0
           },
           {
            "bin_start": 3.8,
            "bin_end": 3.9,
            "count": 0
           },
           {
            "bin_start": 3.9,
            "bin_end": 4,
            "count": 0
           },
           {
            "bin_start": 4,
            "bin_end": 4.1,
            "count": 4
           },
           {
            "bin_start": 4.1,
            "bin_end": 4.2,
            "count": 0
           },
           {
            "bin_start": 4.2,
            "bin_end": 4.3,
            "count": 0
           },
           {
            "bin_start": 4.3,
            "bin_end": 4.4,
            "count": 0
           },
           {
            "bin_start": 4.4,
            "bin_end": 4.5,
            "count": 0
           }
          ]
         }
        },
        {
         "name": "Fare",
         "dtype": "float64",
         "stats": {
          "unique_count": 3,
          "nan_count": 0,
          "min": "21.075",
          "max": "263.0",
          "histogram": [
           {
            "bin_start": 21.075,
            "bin_end": 45.2675,
            "count": 3
           },
           {
            "bin_start": 45.2675,
            "bin_end": 69.46000000000001,
            "count": 0
           },
           {
            "bin_start": 69.46000000000001,
            "bin_end": 93.65250000000002,
            "count": 0
           },
           {
            "bin_start": 93.65250000000002,
            "bin_end": 117.84500000000001,
            "count": 0
           },
           {
            "bin_start": 117.84500000000001,
            "bin_end": 142.0375,
            "count": 0
           },
           {
            "bin_start": 142.0375,
            "bin_end": 166.23000000000002,
            "count": 0
           },
           {
            "bin_start": 166.23000000000002,
            "bin_end": 190.4225,
            "count": 0
           },
           {
            "bin_start": 190.4225,
            "bin_end": 214.615,
            "count": 0
           },
           {
            "bin_start": 214.615,
            "bin_end": 238.8075,
            "count": 0
           },
           {
            "bin_start": 238.8075,
            "bin_end": 263,
            "count": 1
           }
          ]
         }
        },
        {
         "name": "Cabin",
         "dtype": "object",
         "stats": {
          "unique_count": 1,
          "nan_count": 3,
          "categories": [
           {
            "name": "C23 C25 C27",
            "count": 1
           },
           {
            "name": "Missing",
            "count": 3
           }
          ]
         }
        },
        {
         "name": "Embarked",
         "dtype": "object",
         "stats": {
          "unique_count": 1,
          "nan_count": 0,
          "categories": [
           {
            "name": "S",
            "count": 4
           }
          ]
         }
        },
        {
         "name": "_deepnote_index_column",
         "dtype": "int64"
        }
       ],
       "rows": [
        {
         "Survived": 0,
         "Pclass": 3,
         "Name": "Skoog, Mrs. William (Anna Bernhardina Karlsson)",
         "Sex": "female",
         "Age": 45,
         "SibSp": 1,
         "Parch": 4,
         "Fare": 27.9,
         "Cabin": "nan",
         "Embarked": "S",
         "_deepnote_index_column": 167
        },
        {
         "Survived": 0,
         "Pclass": 3,
         "Name": "Skoog, Mr. Wilhelm",
         "Sex": "male",
         "Age": 40,
         "SibSp": 1,
         "Parch": 4,
         "Fare": 27.9,
         "Cabin": "nan",
         "Embarked": "S",
         "_deepnote_index_column": 360
        },
        {
         "Survived": 0,
         "Pclass": 1,
         "Name": "Fortune, Mr. Mark",
         "Sex": "male",
         "Age": 64,
         "SibSp": 1,
         "Parch": 4,
         "Fare": 263,
         "Cabin": "C23 C25 C27",
         "Embarked": "S",
         "_deepnote_index_column": 438
        },
        {
         "Survived": 0,
         "Pclass": 3,
         "Name": "Palsson, Mrs. Nils (Alma Cornelia Berglund)",
         "Sex": "female",
         "Age": 29,
         "SibSp": 0,
         "Parch": 4,
         "Fare": 21.075,
         "Cabin": "nan",
         "Embarked": "S",
         "_deepnote_index_column": 567
        }
       ]
      },
      "text/plain": "     Survived  Pclass                                             Name  \\\n167         0       3  Skoog, Mrs. William (Anna Bernhardina Karlsson)   \n360         0       3                               Skoog, Mr. Wilhelm   \n438         0       1                                Fortune, Mr. Mark   \n567         0       3      Palsson, Mrs. Nils (Alma Cornelia Berglund)   \n\n        Sex   Age  SibSp  Parch     Fare        Cabin Embarked  \n167  female  45.0      1      4   27.900          NaN        S  \n360    male  40.0      1      4   27.900          NaN        S  \n438    male  64.0      1      4  263.000  C23 C25 C27        S  \n567  female  29.0      0      4   21.075          NaN        S  ",
      "text/html": "<div>\n<style scoped>\n    .dataframe tbody tr th:only-of-type {\n        vertical-align: middle;\n    }\n\n    .dataframe tbody tr th {\n        vertical-align: top;\n    }\n\n    .dataframe thead th {\n        text-align: right;\n    }\n</style>\n<table border=\"1\" class=\"dataframe\">\n  <thead>\n    <tr style=\"text-align: right;\">\n      <th></th>\n      <th>Survived</th>\n      <th>Pclass</th>\n      <th>Name</th>\n      <th>Sex</th>\n      <th>Age</th>\n      <th>SibSp</th>\n      <th>Parch</th>\n      <th>Fare</th>\n      <th>Cabin</th>\n      <th>Embarked</th>\n    </tr>\n  </thead>\n  <tbody>\n    <tr>\n      <th>167</th>\n      <td>0</td>\n      <td>3</td>\n      <td>Skoog, Mrs. William (Anna Bernhardina Karlsson)</td>\n      <td>female</td>\n      <td>45.0</td>\n      <td>1</td>\n      <td>4</td>\n      <td>27.900</td>\n      <td>NaN</td>\n      <td>S</td>\n    </tr>\n    <tr>\n      <th>360</th>\n      <td>0</td>\n      <td>3</td>\n      <td>Skoog, Mr. Wilhelm</td>\n      <td>male</td>\n      <td>40.0</td>\n      <td>1</td>\n      <td>4</td>\n      <td>27.900</td>\n      <td>NaN</td>\n      <td>S</td>\n    </tr>\n    <tr>\n      <th>438</th>\n      <td>0</td>\n      <td>1</td>\n      <td>Fortune, Mr. Mark</td>\n      <td>male</td>\n      <td>64.0</td>\n      <td>1</td>\n      <td>4</td>\n      <td>263.000</td>\n      <td>C23 C25 C27</td>\n      <td>S</td>\n    </tr>\n    <tr>\n      <th>567</th>\n      <td>0</td>\n      <td>3</td>\n      <td>Palsson, Mrs. Nils (Alma Cornelia Berglund)</td>\n      <td>female</td>\n      <td>29.0</td>\n      <td>0</td>\n      <td>4</td>\n      <td>21.075</td>\n      <td>NaN</td>\n      <td>S</td>\n    </tr>\n  </tbody>\n</table>\n</div>"
     },
     "metadata": {}
    }
   ]
  },
  {
   "cell_type": "code",
   "metadata": {
    "cell_id": "4e384fce6c2344039a4ddde2d7b4d4ea",
    "tags": [],
    "deepnote_to_be_reexecuted": false,
    "source_hash": "14dfef73",
    "execution_start": 1661652569727,
    "execution_millis": 6,
    "deepnote_cell_type": "code",
    "deepnote_cell_height": 244.4375
   },
   "source": "df.loc[df['Parch'] == 6]",
   "execution_count": null,
   "outputs": [
    {
     "output_type": "execute_result",
     "execution_count": 20,
     "data": {
      "application/vnd.deepnote.dataframe.v3+json": {
       "column_count": 10,
       "row_count": 1,
       "columns": [
        {
         "name": "Survived",
         "dtype": "int64",
         "stats": {
          "unique_count": 1,
          "nan_count": 0,
          "min": "0",
          "max": "0",
          "histogram": [
           {
            "bin_start": -0.5,
            "bin_end": -0.4,
            "count": 0
           },
           {
            "bin_start": -0.4,
            "bin_end": -0.3,
            "count": 0
           },
           {
            "bin_start": -0.3,
            "bin_end": -0.19999999999999996,
            "count": 0
           },
           {
            "bin_start": -0.19999999999999996,
            "bin_end": -0.09999999999999998,
            "count": 0
           },
           {
            "bin_start": -0.09999999999999998,
            "bin_end": 0,
            "count": 0
           },
           {
            "bin_start": 0,
            "bin_end": 0.10000000000000009,
            "count": 1
           },
           {
            "bin_start": 0.10000000000000009,
            "bin_end": 0.20000000000000007,
            "count": 0
           },
           {
            "bin_start": 0.20000000000000007,
            "bin_end": 0.30000000000000004,
            "count": 0
           },
           {
            "bin_start": 0.30000000000000004,
            "bin_end": 0.4,
            "count": 0
           },
           {
            "bin_start": 0.4,
            "bin_end": 0.5,
            "count": 0
           }
          ]
         }
        },
        {
         "name": "Pclass",
         "dtype": "int64",
         "stats": {
          "unique_count": 1,
          "nan_count": 0,
          "min": "3",
          "max": "3",
          "histogram": [
           {
            "bin_start": 2.5,
            "bin_end": 2.6,
            "count": 0
           },
           {
            "bin_start": 2.6,
            "bin_end": 2.7,
            "count": 0
           },
           {
            "bin_start": 2.7,
            "bin_end": 2.8,
            "count": 0
           },
           {
            "bin_start": 2.8,
            "bin_end": 2.9,
            "count": 0
           },
           {
            "bin_start": 2.9,
            "bin_end": 3,
            "count": 0
           },
           {
            "bin_start": 3,
            "bin_end": 3.1,
            "count": 1
           },
           {
            "bin_start": 3.1,
            "bin_end": 3.2,
            "count": 0
           },
           {
            "bin_start": 3.2,
            "bin_end": 3.3,
            "count": 0
           },
           {
            "bin_start": 3.3,
            "bin_end": 3.4,
            "count": 0
           },
           {
            "bin_start": 3.4,
            "bin_end": 3.5,
            "count": 0
           }
          ]
         }
        },
        {
         "name": "Name",
         "dtype": "object",
         "stats": {
          "unique_count": 1,
          "nan_count": 0,
          "categories": [
           {
            "name": "Goodwin, Mrs. Frederick (Augusta Tyler)",
            "count": 1
           }
          ]
         }
        },
        {
         "name": "Sex",
         "dtype": "object",
         "stats": {
          "unique_count": 1,
          "nan_count": 0,
          "categories": [
           {
            "name": "female",
            "count": 1
           }
          ]
         }
        },
        {
         "name": "Age",
         "dtype": "float64",
         "stats": {
          "unique_count": 1,
          "nan_count": 0,
          "min": "43.0",
          "max": "43.0",
          "histogram": [
           {
            "bin_start": 42.5,
            "bin_end": 42.6,
            "count": 0
           },
           {
            "bin_start": 42.6,
            "bin_end": 42.7,
            "count": 0
           },
           {
            "bin_start": 42.7,
            "bin_end": 42.8,
            "count": 0
           },
           {
            "bin_start": 42.8,
            "bin_end": 42.9,
            "count": 0
           },
           {
            "bin_start": 42.9,
            "bin_end": 43,
            "count": 0
           },
           {
            "bin_start": 43,
            "bin_end": 43.1,
            "count": 1
           },
           {
            "bin_start": 43.1,
            "bin_end": 43.2,
            "count": 0
           },
           {
            "bin_start": 43.2,
            "bin_end": 43.3,
            "count": 0
           },
           {
            "bin_start": 43.3,
            "bin_end": 43.4,
            "count": 0
           },
           {
            "bin_start": 43.4,
            "bin_end": 43.5,
            "count": 0
           }
          ]
         }
        },
        {
         "name": "SibSp",
         "dtype": "int64",
         "stats": {
          "unique_count": 1,
          "nan_count": 0,
          "min": "1",
          "max": "1",
          "histogram": [
           {
            "bin_start": 0.5,
            "bin_end": 0.6,
            "count": 0
           },
           {
            "bin_start": 0.6,
            "bin_end": 0.7,
            "count": 0
           },
           {
            "bin_start": 0.7,
            "bin_end": 0.8,
            "count": 0
           },
           {
            "bin_start": 0.8,
            "bin_end": 0.9,
            "count": 0
           },
           {
            "bin_start": 0.9,
            "bin_end": 1,
            "count": 0
           },
           {
            "bin_start": 1,
            "bin_end": 1.1,
            "count": 1
           },
           {
            "bin_start": 1.1,
            "bin_end": 1.2000000000000002,
            "count": 0
           },
           {
            "bin_start": 1.2000000000000002,
            "bin_end": 1.3,
            "count": 0
           },
           {
            "bin_start": 1.3,
            "bin_end": 1.4,
            "count": 0
           },
           {
            "bin_start": 1.4,
            "bin_end": 1.5,
            "count": 0
           }
          ]
         }
        },
        {
         "name": "Parch",
         "dtype": "int64",
         "stats": {
          "unique_count": 1,
          "nan_count": 0,
          "min": "6",
          "max": "6",
          "histogram": [
           {
            "bin_start": 5.5,
            "bin_end": 5.6,
            "count": 0
           },
           {
            "bin_start": 5.6,
            "bin_end": 5.7,
            "count": 0
           },
           {
            "bin_start": 5.7,
            "bin_end": 5.8,
            "count": 0
           },
           {
            "bin_start": 5.8,
            "bin_end": 5.9,
            "count": 0
           },
           {
            "bin_start": 5.9,
            "bin_end": 6,
            "count": 0
           },
           {
            "bin_start": 6,
            "bin_end": 6.1,
            "count": 1
           },
           {
            "bin_start": 6.1,
            "bin_end": 6.2,
            "count": 0
           },
           {
            "bin_start": 6.2,
            "bin_end": 6.3,
            "count": 0
           },
           {
            "bin_start": 6.3,
            "bin_end": 6.4,
            "count": 0
           },
           {
            "bin_start": 6.4,
            "bin_end": 6.5,
            "count": 0
           }
          ]
         }
        },
        {
         "name": "Fare",
         "dtype": "float64",
         "stats": {
          "unique_count": 1,
          "nan_count": 0,
          "min": "46.9",
          "max": "46.9",
          "histogram": [
           {
            "bin_start": 46.4,
            "bin_end": 46.5,
            "count": 0
           },
           {
            "bin_start": 46.5,
            "bin_end": 46.6,
            "count": 0
           },
           {
            "bin_start": 46.6,
            "bin_end": 46.699999999999996,
            "count": 0
           },
           {
            "bin_start": 46.699999999999996,
            "bin_end": 46.8,
            "count": 0
           },
           {
            "bin_start": 46.8,
            "bin_end": 46.9,
            "count": 0
           },
           {
            "bin_start": 46.9,
            "bin_end": 47,
            "count": 1
           },
           {
            "bin_start": 47,
            "bin_end": 47.1,
            "count": 0
           },
           {
            "bin_start": 47.1,
            "bin_end": 47.199999999999996,
            "count": 0
           },
           {
            "bin_start": 47.199999999999996,
            "bin_end": 47.3,
            "count": 0
           },
           {
            "bin_start": 47.3,
            "bin_end": 47.4,
            "count": 0
           }
          ]
         }
        },
        {
         "name": "Cabin",
         "dtype": "object",
         "stats": {
          "unique_count": 0,
          "nan_count": 1,
          "categories": [
           {
            "name": "Missing",
            "count": 1
           }
          ]
         }
        },
        {
         "name": "Embarked",
         "dtype": "object",
         "stats": {
          "unique_count": 1,
          "nan_count": 0,
          "categories": [
           {
            "name": "S",
            "count": 1
           }
          ]
         }
        },
        {
         "name": "_deepnote_index_column",
         "dtype": "int64"
        }
       ],
       "rows": [
        {
         "Survived": 0,
         "Pclass": 3,
         "Name": "Goodwin, Mrs. Frederick (Augusta Tyler)",
         "Sex": "female",
         "Age": 43,
         "SibSp": 1,
         "Parch": 6,
         "Fare": 46.9,
         "Cabin": "nan",
         "Embarked": "S",
         "_deepnote_index_column": 678
        }
       ]
      },
      "text/plain": "     Survived  Pclass                                     Name     Sex   Age  \\\n678         0       3  Goodwin, Mrs. Frederick (Augusta Tyler)  female  43.0   \n\n     SibSp  Parch  Fare Cabin Embarked  \n678      1      6  46.9   NaN        S  ",
      "text/html": "<div>\n<style scoped>\n    .dataframe tbody tr th:only-of-type {\n        vertical-align: middle;\n    }\n\n    .dataframe tbody tr th {\n        vertical-align: top;\n    }\n\n    .dataframe thead th {\n        text-align: right;\n    }\n</style>\n<table border=\"1\" class=\"dataframe\">\n  <thead>\n    <tr style=\"text-align: right;\">\n      <th></th>\n      <th>Survived</th>\n      <th>Pclass</th>\n      <th>Name</th>\n      <th>Sex</th>\n      <th>Age</th>\n      <th>SibSp</th>\n      <th>Parch</th>\n      <th>Fare</th>\n      <th>Cabin</th>\n      <th>Embarked</th>\n    </tr>\n  </thead>\n  <tbody>\n    <tr>\n      <th>678</th>\n      <td>0</td>\n      <td>3</td>\n      <td>Goodwin, Mrs. Frederick (Augusta Tyler)</td>\n      <td>female</td>\n      <td>43.0</td>\n      <td>1</td>\n      <td>6</td>\n      <td>46.9</td>\n      <td>NaN</td>\n      <td>S</td>\n    </tr>\n  </tbody>\n</table>\n</div>"
     },
     "metadata": {}
    }
   ]
  },
  {
   "cell_type": "markdown",
   "source": "Medidas de tendencia central y dispersión",
   "metadata": {
    "cell_id": "e4fc81f994c64df18cfc993eb5e4fc6f",
    "tags": [],
    "deepnote_cell_type": "markdown",
    "deepnote_cell_height": 52.375
   }
  },
  {
   "cell_type": "code",
   "metadata": {
    "cell_id": "79682fe8cac84360b973450c1968b34f",
    "tags": [],
    "deepnote_to_be_reexecuted": false,
    "source_hash": "74e838ed",
    "execution_start": 1661653254272,
    "execution_millis": 4,
    "deepnote_cell_type": "code",
    "deepnote_cell_height": 334.53125
   },
   "source": "print(\"Medidas de tendencia central para la variable Parch\")\nprint(\"Media: \", np.mean(x))\nprint(\"Mediana: \", np.median(x))\nprint(\"----------------------------------------------------\")\nprint(\"Medidas de dispersión para la variable Parch\")\nprint(\"Varianza: \", np.var(x))\nprint(\"Desviación estándar: \", np.std(x))",
   "execution_count": null,
   "outputs": [
    {
     "name": "stdout",
     "text": "Medidas de tendencia central para la variable Parch\nMedia:  0.38159371492704824\nMediana:  0.0\n----------------------------------------------------\nMedidas de dispersión para la variable Parch\nVarianza:  0.6489990313409693\nDesviación estándar:  0.8056047612452208\n",
     "output_type": "stream"
    }
   ]
  },
  {
   "cell_type": "markdown",
   "source": "##### Análisis de resultados\nAl igual que en la variable \"SibSp\", en \"Parch\" se puede observar que no existe una relación entre el número de padres/hijos y la probabilidad de sobrevivir de una persona. \n\nIgualmente se tiene un comportamiento donde las personas con 4 o 6 familiares de esta categoría no sobreviven; por lo tanto, se realizó un análisis similar y en este caso no se encontró que fueran casos específicos de familias concretas, pero tampoco nos arroja algún tipo de relación.\n\nPor lo tanto, al momento de realizar la limpieza de datos, la variable \"Parch\" no formará parte del modelo.",
   "metadata": {
    "cell_id": "9360999a476343f18923a3afc5530c09",
    "tags": [],
    "deepnote_cell_type": "markdown",
    "deepnote_cell_height": 228.390625
   }
  },
  {
   "cell_type": "markdown",
   "source": "## 2 Número de camarote y su relevancia en la supervivencia de los pasajeros\n\nPara poder realizar el análisis de la cabina se convertirán los id de las mismas para convertirlos en número de piso de acuerdo con la distribución para identificar el mismo se usará el primer caracter de las mismas.\n\nSe considera que el nivel 1 es aquel más alejado a la quilla del barco y el nivel 7 el más próximo, de forma que la relación queda como:\n\n* A = 1\n* B = 2\n* C = 3\n* D = 4\n* E = 5\n* F = 6\n* G = 7",
   "metadata": {
    "cell_id": "ca66a50f3e924c3388af7381d39f3e05",
    "tags": [],
    "deepnote_cell_type": "markdown",
    "deepnote_cell_height": 432.390625
   }
  },
  {
   "cell_type": "code",
   "metadata": {
    "cell_id": "acee878e01924b67b0f041773c506481",
    "tags": [],
    "deepnote_to_be_reexecuted": false,
    "source_hash": "ae30cbd2",
    "execution_start": 1661654149574,
    "execution_millis": 583,
    "deepnote_cell_type": "code",
    "deepnote_cell_height": 1008.296875,
    "deepnote_output_heights": [
     null,
     20.1875,
     252.984375
    ]
   },
   "source": "x = df[\"Cabin\"].to_numpy()\nxlen = len(x)\ni = 0\n\n\n\n#Conversión de la cabina a número de piso\n\nfor i in range (xlen):\n    x[i] = str(x[i])\n    currentx = x[i]\n    newx = currentx[0]\n        \n    if newx == \"A\": x[i] = \"1\"\n    elif newx == \"B\": x[i] = \"2\"\n    elif newx == \"C\": x[i] = \"3\"\n    elif newx == \"D\": x[i] = \"4\"\n    elif newx == \"E\": x[i] = \"5\"\n    elif newx == \"F\": x[i] = \"6\"\n    elif newx == \"G\": x[i] = \"7\"\n    else:\n        x[i] = 0\n\n    i += 1\n\n\n\nx = x.astype(np.float)\n\nsns.kdeplot(x, shade=True)",
   "execution_count": null,
   "outputs": [
    {
     "name": "stderr",
     "text": "/tmp/ipykernel_74/667987582.py:28: DeprecationWarning: `np.float` is a deprecated alias for the builtin `float`. To silence this warning, use `float` by itself. Doing this will not modify any behavior and is safe. If you specifically wanted the numpy scalar type, use `np.float64` here.\nDeprecated in NumPy 1.20; for more details and guidance: https://numpy.org/devdocs/release/1.20.0-notes.html#deprecations\n  x = x.astype(np.float)\n",
     "output_type": "stream"
    },
    {
     "output_type": "execute_result",
     "execution_count": 62,
     "data": {
      "text/plain": "<AxesSubplot:ylabel='Density'>"
     },
     "metadata": {}
    },
    {
     "data": {
      "text/plain": "<Figure size 432x288 with 1 Axes>",
      "image/png": "[encoded data removed]"
     },
     "metadata": {
      "needs_background": "light",
      "image/png": {
       "width": 386,
       "height": 252
      }
     },
     "output_type": "display_data"
    }
   ]
  },
  {
   "cell_type": "code",
   "metadata": {
    "cell_id": "2a58b47750414114be8149a768cde59a",
    "tags": [],
    "deepnote_to_be_reexecuted": false,
    "source_hash": "2afcce6a",
    "execution_start": 1661654299737,
    "execution_millis": 227,
    "deepnote_cell_type": "code",
    "deepnote_cell_height": 462.375,
    "deepnote_output_heights": [
     null,
     20.1875,
     248.984375
    ]
   },
   "source": "sns.countplot(x)",
   "execution_count": null,
   "outputs": [
    {
     "name": "stderr",
     "text": "/shared-libs/python3.9/py/lib/python3.9/site-packages/seaborn/_decorators.py:36: FutureWarning: Pass the following variable as a keyword arg: x. From version 0.12, the only valid positional argument will be `data`, and passing other arguments without an explicit keyword will result in an error or misinterpretation.\n  warnings.warn(\n",
     "output_type": "stream"
    },
    {
     "output_type": "execute_result",
     "execution_count": 63,
     "data": {
      "text/plain": "<AxesSubplot:ylabel='count'>"
     },
     "metadata": {}
    },
    {
     "data": {
      "text/plain": "<Figure size 432x288 with 1 Axes>",
      "image/png": "[encoded data removed]"
     },
     "metadata": {
      "needs_background": "light",
      "image/png": {
       "width": 389,
       "height": 248
      }
     },
     "output_type": "display_data"
    }
   ]
  },
  {
   "cell_type": "markdown",
   "source": "",
   "metadata": {
    "cell_id": "8893cc70fe654f219f10caa6d6c0cbfa",
    "tags": [],
    "deepnote_cell_type": "markdown",
    "deepnote_cell_height": 45.96875
   }
  },
  {
   "cell_type": "code",
   "metadata": {
    "cell_id": "58f25659ca8347129583709560d709f3",
    "tags": [],
    "deepnote_to_be_reexecuted": false,
    "source_hash": "74e838ed",
    "execution_start": 1661654402138,
    "execution_millis": 2,
    "deepnote_cell_type": "code",
    "deepnote_cell_height": 334.53125
   },
   "source": "print(\"Medidas de tendencia central para la variable Parch\")\nprint(\"Media: \", np.mean(x))\nprint(\"Mediana: \", np.median(x))\nprint(\"----------------------------------------------------\")\nprint(\"Medidas de dispersión para la variable Parch\")\nprint(\"Varianza: \", np.var(x))\nprint(\"Desviación estándar: \", np.std(x))",
   "execution_count": null,
   "outputs": [
    {
     "name": "stdout",
     "text": "Medidas de tendencia central para la variable Parch\nMedia:  0.7676767676767676\nMediana:  0.0\n----------------------------------------------------\nMedidas de dispersión para la variable Parch\nVarianza:  2.470156106519743\nDesviación estándar:  1.5716730278654474\n",
     "output_type": "stream"
    }
   ]
  },
  {
   "cell_type": "code",
   "metadata": {
    "cell_id": "b78b41c963d849e8875951fe4dc64342",
    "tags": [],
    "deepnote_to_be_reexecuted": false,
    "source_hash": "c308c0d9",
    "execution_start": 1661655186058,
    "execution_millis": 277,
    "deepnote_cell_type": "code",
    "deepnote_cell_height": 456.25,
    "deepnote_output_heights": [
     39.390625,
     275.96875
    ]
   },
   "source": "df.hist('Survived', 'Sex')\n",
   "execution_count": null,
   "outputs": [
    {
     "output_type": "execute_result",
     "execution_count": 68,
     "data": {
      "text/plain": "array([<AxesSubplot:title={'center':'female'}>,\n       <AxesSubplot:title={'center':'male'}>], dtype=object)"
     },
     "metadata": {}
    },
    {
     "data": {
      "text/plain": "<Figure size 432x288 with 2 Axes>",
      "image/png": "[encoded data removed]"
     },
     "metadata": {
      "needs_background": "light",
      "image/png": {
       "width": 385,
       "height": 275
      }
     },
     "output_type": "display_data"
    }
   ]
  },
  {
   "cell_type": "code",
   "metadata": {
    "cell_id": "fc803d4ae96b4a51ae022a1464223f69",
    "tags": [],
    "deepnote_to_be_reexecuted": false,
    "source_hash": "480c2f58",
    "execution_start": 1661655198702,
    "execution_millis": 604,
    "deepnote_cell_type": "code",
    "deepnote_cell_height": 583.46875,
    "deepnote_output_heights": [
     154.59375,
     287.984375
    ]
   },
   "source": "df.hist('Sex', 'Cabin')\n",
   "execution_count": null,
   "outputs": [
    {
     "output_type": "execute_result",
     "execution_count": 69,
     "data": {
      "text/plain": "array([[<AxesSubplot:title={'center':'0'}>,\n        <AxesSubplot:title={'center':'1'}>,\n        <AxesSubplot:title={'center':'2'}>],\n       [<AxesSubplot:title={'center':'3'}>,\n        <AxesSubplot:title={'center':'4'}>,\n        <AxesSubplot:title={'center':'5'}>],\n       [<AxesSubplot:title={'center':'6'}>,\n        <AxesSubplot:title={'center':'7'}>, <AxesSubplot:>]], dtype=object)"
     },
     "metadata": {}
    },
    {
     "data": {
      "text/plain": "<Figure size 432x288 with 9 Axes>",
      "image/png": "[encoded data removed]"
     },
     "metadata": {
      "needs_background": "light",
      "image/png": {
       "width": 386,
       "height": 287
      }
     },
     "output_type": "display_data"
    }
   ]
  },
  {
   "cell_type": "code",
   "metadata": {
    "cell_id": "1fa5c8ecb88744ca88d69692625e17f0",
    "tags": [],
    "deepnote_to_be_reexecuted": false,
    "source_hash": "66fcf540",
    "execution_start": 1661655218264,
    "execution_millis": 770,
    "deepnote_cell_type": "code",
    "deepnote_cell_height": 547.46875,
    "deepnote_output_heights": [
     154.59375,
     269.984375
    ]
   },
   "source": "df.hist('Survived', 'Cabin')",
   "execution_count": null,
   "outputs": [
    {
     "output_type": "execute_result",
     "execution_count": 70,
     "data": {
      "text/plain": "array([[<AxesSubplot:title={'center':'0'}>,\n        <AxesSubplot:title={'center':'1'}>,\n        <AxesSubplot:title={'center':'2'}>],\n       [<AxesSubplot:title={'center':'3'}>,\n        <AxesSubplot:title={'center':'4'}>,\n        <AxesSubplot:title={'center':'5'}>],\n       [<AxesSubplot:title={'center':'6'}>,\n        <AxesSubplot:title={'center':'7'}>, <AxesSubplot:>]], dtype=object)"
     },
     "metadata": {}
    },
    {
     "data": {
      "text/plain": "<Figure size 432x288 with 9 Axes>",
      "image/png": "[encoded data removed]"
     },
     "metadata": {
      "needs_background": "light",
      "image/png": {
       "width": 386,
       "height": 269
      }
     },
     "output_type": "display_data"
    }
   ]
  },
  {
   "cell_type": "code",
   "metadata": {
    "cell_id": "eb58b081635c46c49f94297eff540e77",
    "tags": [],
    "deepnote_to_be_reexecuted": false,
    "source_hash": "c492ede5",
    "execution_start": 1661656822866,
    "execution_millis": 866,
    "deepnote_cell_type": "code",
    "deepnote_cell_height": 496.0625,
    "deepnote_output_heights": [
     20.1875,
     352.984375
    ]
   },
   "source": "sns.relplot(x=\"Cabin\", y=\"Survived\", ci= None, kind=\"line\", data=df)",
   "execution_count": null,
   "outputs": [
    {
     "output_type": "execute_result",
     "execution_count": 71,
     "data": {
      "text/plain": "<seaborn.axisgrid.FacetGrid at 0x7fadd6d229d0>"
     },
     "metadata": {}
    },
    {
     "data": {
      "text/plain": "<Figure size 360x360 with 1 Axes>",
      "image/png": "[encoded data removed]"
     },
     "metadata": {
      "needs_background": "light",
      "image/png": {
       "width": 352,
       "height": 352
      }
     },
     "output_type": "display_data"
    }
   ]
  },
  {
   "cell_type": "markdown",
   "source": "##### Análisis de resultados\n\nEn esta variable podemos observar cómo se tiene una gran cantidad de datos 'nan' que fueron sustituidos por el número 0 al momento de convertir la varaiable categórica únicamente para este primer análisis.\n\nPor otro lado, podemos observar como la cantidad de decesos se incrementa en los niveles bajos del barco, lo cual también se relaciona con la clase del pasajero debido a que los niveles más altos pertenecían a primera clase.\n\nPara poder considerar esta variable para el análisis debemos de tratar los datos 'nan' y asignarles un valor adecuado para poder tener un análisis mejor acerca de la distribución y relación del nivel en el que se ubicaba la cabina de los pasajeros.\n",
   "metadata": {
    "cell_id": "54dffb200b7a4ee79c429d8049d58665",
    "tags": [],
    "deepnote_cell_type": "markdown",
    "deepnote_cell_height": 250.796875
   }
  },
  {
   "cell_type": "markdown",
   "source": "## 3 Puerto de embarcación para delimitar la concentración de población que sobrevivió con base en  el mismo\n\nPara el análisis de la supervivencia con respecto al puerto en el que embarcarón tenemos las siguientes significancias de la información como la abreviatura del puerto tal que:\n\n* C= Cherbourg\n* Q = Queenstown\n* S = Southampton\n",
   "metadata": {
    "cell_id": "f8c3f556a09b4333a57c5a6da01d1522",
    "tags": [],
    "deepnote_cell_type": "markdown",
    "deepnote_cell_height": 311.953125
   }
  },
  {
   "cell_type": "code",
   "metadata": {
    "cell_id": "3096e9875138401daaa76a897d070641",
    "tags": [],
    "deepnote_to_be_reexecuted": false,
    "source_hash": "59da02bb",
    "execution_start": 1661661416713,
    "execution_millis": 244,
    "deepnote_cell_type": "code",
    "deepnote_cell_height": 498.375,
    "deepnote_output_heights": [
     null,
     20.1875,
     248.984375
    ]
   },
   "source": "port = df[\"Embarked\"].to_numpy()\n\nsns.countplot(port)",
   "execution_count": null,
   "outputs": [
    {
     "name": "stderr",
     "text": "/shared-libs/python3.9/py/lib/python3.9/site-packages/seaborn/_decorators.py:36: FutureWarning: Pass the following variable as a keyword arg: x. From version 0.12, the only valid positional argument will be `data`, and passing other arguments without an explicit keyword will result in an error or misinterpretation.\n  warnings.warn(\n",
     "output_type": "stream"
    },
    {
     "output_type": "execute_result",
     "execution_count": 77,
     "data": {
      "text/plain": "<AxesSubplot:ylabel='count'>"
     },
     "metadata": {}
    },
    {
     "data": {
      "text/plain": "<Figure size 432x288 with 1 Axes>",
      "image/png": "[encoded data removed]"
     },
     "metadata": {
      "needs_background": "light",
      "image/png": {
       "width": 389,
       "height": 248
      }
     },
     "output_type": "display_data"
    }
   ]
  },
  {
   "cell_type": "code",
   "metadata": {
    "cell_id": "53f0edbae4c04fae85f3a65e33952ee6",
    "tags": [],
    "deepnote_to_be_reexecuted": false,
    "source_hash": "3d98a341",
    "execution_start": 1661374618958,
    "execution_millis": 1702,
    "deepnote_cell_type": "code",
    "deepnote_cell_height": 501.0625,
    "deepnote_output_heights": [
     20.1875,
     352.984375
    ]
   },
   "source": "sns.catplot(x=\"Embarked\", y=\"Survived\",hue=\"Sex\", kind=\"violin\", inner= \"stick\", split=True,palette=\"pastel\",data=df)",
   "execution_count": null,
   "outputs": [
    {
     "output_type": "execute_result",
     "execution_count": 34,
     "data": {
      "text/plain": "<seaborn.axisgrid.FacetGrid at 0x7fd112fc3130>"
     },
     "metadata": {}
    },
    {
     "data": {
      "text/plain": "<Figure size 430.5x360 with 1 Axes>",
      "image/png": "[encoded data removed]"
     },
     "metadata": {
      "needs_background": "light",
      "image/png": {
       "width": 416,
       "height": 352
      }
     },
     "output_type": "display_data"
    }
   ]
  },
  {
   "cell_type": "code",
   "metadata": {
    "cell_id": "5127908a85554f4caca79761e24c0a2a",
    "tags": [],
    "deepnote_to_be_reexecuted": false,
    "source_hash": "d2370d93",
    "execution_start": 1661660175003,
    "execution_millis": 417,
    "deepnote_cell_type": "code",
    "deepnote_cell_height": 457.453125,
    "deepnote_output_heights": [
     58.59375,
     275.96875
    ]
   },
   "source": "df.hist(\"Survived\",\"Embarked\")",
   "execution_count": null,
   "outputs": [
    {
     "output_type": "execute_result",
     "execution_count": 72,
     "data": {
      "text/plain": "array([[<AxesSubplot:title={'center':'C'}>,\n        <AxesSubplot:title={'center':'Q'}>],\n       [<AxesSubplot:title={'center':'S'}>, <AxesSubplot:>]], dtype=object)"
     },
     "metadata": {}
    },
    {
     "data": {
      "text/plain": "<Figure size 432x288 with 4 Axes>",
      "image/png": "[encoded data removed]"
     },
     "metadata": {
      "needs_background": "light",
      "image/png": {
       "width": 385,
       "height": 275
      }
     },
     "output_type": "display_data"
    }
   ]
  },
  {
   "cell_type": "code",
   "metadata": {
    "cell_id": "36d47fb749e342108a26c7c2948d4d66",
    "tags": [],
    "deepnote_to_be_reexecuted": false,
    "source_hash": "77a2fea",
    "execution_start": 1661660468932,
    "execution_millis": 1461,
    "deepnote_cell_type": "code",
    "deepnote_cell_height": 501.0625,
    "deepnote_output_heights": [
     20.1875,
     352.984375
    ]
   },
   "source": "sns.catplot(x=\"Embarked\", y=\"Pclass\",hue=\"Survived\", kind=\"violin\", inner= \"stick\", split=True,palette=\"pastel\",data=df)",
   "execution_count": null,
   "outputs": [
    {
     "output_type": "execute_result",
     "execution_count": 74,
     "data": {
      "text/plain": "<seaborn.axisgrid.FacetGrid at 0x7fadd627d8e0>"
     },
     "metadata": {}
    },
    {
     "data": {
      "text/plain": "<Figure size 411.875x360 with 1 Axes>",
      "image/png": "[encoded data removed]"
     },
     "metadata": {
      "needs_background": "light",
      "image/png": {
       "width": 403,
       "height": 352
      }
     },
     "output_type": "display_data"
    }
   ]
  },
  {
   "cell_type": "markdown",
   "source": "Medidas de tendencia central y dispersión",
   "metadata": {
    "cell_id": "7ed73fa727f046c7b0ba56fd88e87320",
    "tags": [],
    "deepnote_cell_type": "markdown",
    "deepnote_cell_height": 52.375
   }
  },
  {
   "cell_type": "markdown",
   "source": "##### Análisis de resultados\n\nAnalizando las gráficas podemos ver que la cantidad de personas que embarcaba iba decreciendo conforme a la ruta que llevaba el titanic de Southampton-> Cherburgo-> Queenstown; donde la mayor cantidad embarcaron el primer puerto.\n\nPara las personas provenientes de los distintos puertos, la mayor cantidad de población fallecida fueron hombres. Southampton y Queenstown tienen una mayor cantidad de muertes que de supervivencia; por otro lado, Cherburgo tiene una mayor cantidad de supervivencia en relación con los fallecimientos.\n\nAsí mismo, podemos observar que en Southampton la mayor de cantidad de personas fallecidas fueron hombres de tercera clase, las personas que menos murieron fueron hombres de primera clase, mientras que los fallecimientos de la población femenina están relativamente balanceados en todas las clases.\n\nMientras que en Cherburgo la mayor cantidad de personas sobrevivientes fueron hombres de tercera clase, y mujeres de primera clase.\n\nPor último, en Queenstown, la mayor cantidad de personas fallecidas fueron hombres de tercera clase, y el grupo de personas con mayor tasa de supervivencia son mujeres de tercera clase.",
   "metadata": {
    "cell_id": "ff92e10b16c64fe5969a7b325bc0c433",
    "tags": [],
    "deepnote_cell_type": "markdown",
    "deepnote_cell_height": 413.21875
   }
  },
  {
   "cell_type": "markdown",
   "source": "## 4 Distribución de supervivencia según sexo y edad",
   "metadata": {
    "cell_id": "64fd1e3d182c414da16ccaa9969f4823",
    "tags": [],
    "deepnote_cell_type": "markdown",
    "deepnote_cell_height": 69.953125
   }
  },
  {
   "cell_type": "code",
   "metadata": {
    "cell_id": "6566656e99fc4bf8886c2b0cdc518528",
    "tags": [],
    "deepnote_to_be_reexecuted": false,
    "source_hash": "381eb501",
    "execution_start": 1661616351110,
    "execution_millis": 2499,
    "deepnote_cell_type": "code",
    "deepnote_cell_height": 1276.96875,
    "deepnote_output_heights": [
     20.1875,
     266.984375,
     266.984375,
     352.984375
    ]
   },
   "source": "x = df[\"Age\"]\ny = df[\"Survived\"]\nz = df[\"Sex\"]\n\nzlen = len(z)\n#Comportamiento general de variable SibSp\n\ndf.hist('Age', 'Sex')\ndf.hist('Age', 'Survived')\n\nsns.catplot(x=\"Sex\", y=\"Age\",hue=\"Survived\", kind=\"violin\", inner= \"stick\", split=True, palette=\"pastel\",data=df)",
   "execution_count": null,
   "outputs": [
    {
     "output_type": "execute_result",
     "execution_count": 10,
     "data": {
      "text/plain": "<seaborn.axisgrid.FacetGrid at 0x7f95dee39160>"
     },
     "metadata": {}
    },
    {
     "data": {
      "text/plain": "<Figure size 432x288 with 2 Axes>",
      "image/png": "[encoded data removed]"
     },
     "metadata": {
      "needs_background": "light",
      "image/png": {
       "width": 379,
       "height": 266
      }
     },
     "output_type": "display_data"
    },
    {
     "data": {
      "text/plain": "<Figure size 432x288 with 2 Axes>",
      "image/png": "[encoded data removed]"
     },
     "metadata": {
      "needs_background": "light",
      "image/png": {
       "width": 385,
       "height": 266
      }
     },
     "output_type": "display_data"
    },
    {
     "data": {
      "text/plain": "<Figure size 411.875x360 with 1 Axes>",
      "image/png": "[encoded data removed]"
     },
     "metadata": {
      "needs_background": "light",
      "image/png": {
       "width": 404,
       "height": 352
      }
     },
     "output_type": "display_data"
    }
   ]
  },
  {
   "cell_type": "markdown",
   "source": "##### Análisis de resultados\n\nLas gráficas anteriores nos muestran que en general la mayor cantidad de personas , independientemente de su sexo, fallecieron. \nPor otro lado, los sobrevivimientes de ambos sexos se encuentran en un rango de edad de los 20 a los 40 años aproximadamente.\nCon esto podemos concluir que tanto el sexo, como el rango de mediana edad.",
   "metadata": {
    "cell_id": "689309a560bf41b4bf9566f54417b5f0",
    "tags": [],
    "deepnote_cell_type": "markdown",
    "deepnote_cell_height": 177.984375
   }
  },
  {
   "cell_type": "markdown",
   "source": "## 5 Distribución de edad y clase con respecto a la supervivencia",
   "metadata": {
    "cell_id": "1165ab7531e24b44863652b3d93abea8",
    "tags": [],
    "deepnote_cell_type": "markdown",
    "deepnote_cell_height": 109.953125
   }
  },
  {
   "cell_type": "code",
   "metadata": {
    "cell_id": "0dd962d7733e4891aee4827e4c164815",
    "tags": [],
    "deepnote_to_be_reexecuted": false,
    "source_hash": "673a7a98",
    "execution_start": 1661810170311,
    "execution_millis": 6,
    "deepnote_cell_type": "code",
    "deepnote_cell_height": 216.109375
   },
   "source": "x = df[\"Pclass\"]\nplt.hist(x)\ndf.hist('Survived', 'Pclass')\ndf.hist(\"Pclass\", \"Survived\")\nsns.catplot(x=\"Pclass\", y=\"Age\",hue=\"Survived\", kind=\"violin\", inner= \"stick\", split=True,palette=\"pastel\",data=df)",
   "execution_count": null,
   "outputs": [
    {
     "output_type": "error",
     "ename": "NameError",
     "evalue": "name 'df' is not defined",
     "traceback": [
      "\u001b[0;31m---------------------------------------------------------------------------\u001b[0m",
      "\u001b[0;31mNameError\u001b[0m                                 Traceback (most recent call last)",
      "Input \u001b[0;32mIn [2]\u001b[0m, in \u001b[0;36m<cell line: 1>\u001b[0;34m()\u001b[0m\n\u001b[0;32m----> 1\u001b[0m x \u001b[38;5;241m=\u001b[39m \u001b[43mdf\u001b[49m[\u001b[38;5;124m\"\u001b[39m\u001b[38;5;124mPclass\u001b[39m\u001b[38;5;124m\"\u001b[39m]\n\u001b[1;32m      2\u001b[0m plt\u001b[38;5;241m.\u001b[39mhist(x)\n\u001b[1;32m      3\u001b[0m df\u001b[38;5;241m.\u001b[39mhist(\u001b[38;5;124m'\u001b[39m\u001b[38;5;124mSurvived\u001b[39m\u001b[38;5;124m'\u001b[39m, \u001b[38;5;124m'\u001b[39m\u001b[38;5;124mPclass\u001b[39m\u001b[38;5;124m'\u001b[39m)\n",
      "\u001b[0;31mNameError\u001b[0m: name 'df' is not defined"
     ]
    }
   ]
  },
  {
   "cell_type": "markdown",
   "source": "##### Análisis de resultados\n\nSe puede corroborar quer la clase con la mayor decesos generales es la tercera; primera clase tiene una mayor cantidad de supervivencia con respecto a las muertes, caso contrario a las otras dos clases.\nDe igual manera podemos observar los rangos de edad en los que se encuentran la mayor cantidad de decesos.",
   "metadata": {
    "cell_id": "2982cb49a26c40ba97270174559f3ce6",
    "tags": [],
    "deepnote_cell_type": "markdown",
    "deepnote_cell_height": 133.171875
   }
  },
  {
   "cell_type": "markdown",
   "source": "## 6 Distribución de clases según puerto de embarcación",
   "metadata": {
    "cell_id": "ea46384de6484719a901b9ecd0b4c9a9",
    "tags": [],
    "deepnote_cell_type": "markdown",
    "deepnote_cell_height": 109.953125
   }
  },
  {
   "cell_type": "code",
   "metadata": {
    "cell_id": "3284d0d3720d4148bb254e3898d0938b",
    "tags": [],
    "deepnote_to_be_reexecuted": false,
    "source_hash": "5d4fd1a",
    "execution_start": 1661621681760,
    "execution_millis": 1101,
    "deepnote_cell_type": "code",
    "deepnote_cell_height": 1198.65625,
    "deepnote_output_heights": [
     null,
     58.59375,
     248.984375,
     269.984375,
     275.96875
    ]
   },
   "source": "port = df[\"Embarked\"].to_numpy()\nPclass = df[\"Pclass\"].to_numpy()\n\nsns.countplot(port)\ndf.hist(\"Pclass\", \"Embarked\")\ndf.hist(\"Survived\",\"Embarked\")",
   "execution_count": null,
   "outputs": [
    {
     "name": "stderr",
     "text": "/shared-libs/python3.9/py/lib/python3.9/site-packages/seaborn/_decorators.py:36: FutureWarning: Pass the following variable as a keyword arg: x. From version 0.12, the only valid positional argument will be `data`, and passing other arguments without an explicit keyword will result in an error or misinterpretation.\n  warnings.warn(\n",
     "output_type": "stream"
    },
    {
     "output_type": "execute_result",
     "execution_count": 23,
     "data": {
      "text/plain": "array([[<AxesSubplot:title={'center':'C'}>,\n        <AxesSubplot:title={'center':'Q'}>],\n       [<AxesSubplot:title={'center':'S'}>, <AxesSubplot:>]], dtype=object)"
     },
     "metadata": {}
    },
    {
     "data": {
      "text/plain": "<Figure size 432x288 with 1 Axes>",
      "image/png": "[encoded data removed]"
     },
     "metadata": {
      "needs_background": "light",
      "image/png": {
       "width": 389,
       "height": 248
      }
     },
     "output_type": "display_data"
    },
    {
     "data": {
      "text/plain": "<Figure size 432x288 with 4 Axes>",
      "image/png": "[encoded data removed]"
     },
     "metadata": {
      "needs_background": "light",
      "image/png": {
       "width": 385,
       "height": 269
      }
     },
     "output_type": "display_data"
    },
    {
     "data": {
      "text/plain": "<Figure size 432x288 with 4 Axes>",
      "image/png": "[encoded data removed]"
     },
     "metadata": {
      "needs_background": "light",
      "image/png": {
       "width": 385,
       "height": 275
      }
     },
     "output_type": "display_data"
    }
   ]
  },
  {
   "cell_type": "markdown",
   "source": "## Conclusiones generales",
   "metadata": {
    "cell_id": "19a3960af7f54723aada893f9d541bb9",
    "tags": [],
    "deepnote_cell_type": "markdown",
    "deepnote_cell_height": 69.953125
   }
  },
  {
   "cell_type": "markdown",
   "source": "Aquellas variables consideradas importantes para determinar el nivel de supervivencia, de acuerdo con el anterior análisis preliminar son:\n\n* Pclass\n* Age\n* Sex\n* Cabin\n* Embarked\n\nY aquellas que no son de relevancia y se eliminarán durante la limpieza de datos son:\n\n* Sibsp\n* Parch\n* Ticket\n* Fare",
   "metadata": {
    "cell_id": "4a59cd2b12254534adc94ef90724e4d9",
    "tags": [],
    "deepnote_cell_type": "markdown",
    "deepnote_cell_height": 375.8125
   }
  },
  {
   "cell_type": "markdown",
   "source": "<a style='text-decoration:none;line-height:16px;display:flex;color:#5B5B62;padding:10px;justify-content:end;' href='https://deepnote.com?utm_source=created-in-deepnote-cell&projectId=34b6ad67-9899-4609-8c36-e96f39426d07' target=\"_blank\">\n<img alt='Created in deepnote.com' style='display:inline;max-height:16px;margin:0px;margin-right:7.5px;' src='data:image/svg+xml;base64,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' > </img>\nCreated in <span style='font-weight:600;margin-left:4px;'>Deepnote</span></a>",
   "metadata": {
    "tags": [],
    "created_in_deepnote_cell": true,
    "deepnote_cell_type": "markdown"
   }
  }
 ],
 "nbformat": 4,
 "nbformat_minor": 2,
 "metadata": {
  "orig_nbformat": 2,
  "deepnote": {},
  "deepnote_notebook_id": "37a22cba-2019-4843-809f-f5633fa00649",
  "deepnote_execution_queue": [],
  "deepnote_persisted_session": {
   "filename": "session_dump_37a22cba-2019-4843-809f-f5633fa00649.pkl",
   "createdAt": "2022-08-28T13:01:17.471Z"
  }
 }
}