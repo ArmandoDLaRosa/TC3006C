{
 "cells": [
  {
   "cell_type": "markdown",
   "source": "# To Do  - Clasificador de Supervivencia (Binario) del Titanic\n[Data Source Link](https://www.kaggle.com/competitions/titanic/data?select=gender_submission.csv)\n## EDA\n### Tasks\n  - Limpieza = Outliers, Datos Incorrectos o Faltantes\n  - Visualizaciones (Insights)\n  - Visualizaciones (Statistics)\n    i.e Normalización\n### Output\n    - Armando - Cleaning.py \n    - 10 Visualizaciones Insights\n        5 Chava\n        5 Carlos\n    - 10 Visualizaciones Statistics\n        5 Grecia\n        5 Omar\n    - Variables Def, Interesantes, No Usables\n\n## Feature Selection -> Predictores\n  - Prueba Hipotesis \n  - Boruta (Decision Trees)\n\n## Feature Engineering\n  - Current Features Wrangling to New Features\n  - Dataset Complementario\n\n## Models Tranining -> Lista de Modelos\n  - Model Base (male -> dies female-> survives)\n  - Linear Regression\n  - Xgboost\n  - Adaboost\n  - Lgbm\n  - Neurona\n\n## Best Model Optimization\n  - Hyperparameters\n  - Grid Search\n  - Open CV",
   "metadata": {
    "cell_id": "efe1c388299a40a58702a4dffc581054",
    "tags": [],
    "deepnote_cell_type": "markdown",
    "deepnote_cell_height": 1300.59375
   }
  },
  {
   "cell_type": "markdown",
   "source": "## Preguntas Insights\n1. ¿Influye en la sobrevivencia del pasajero la clase en la que viaja?\n2. ¿Qué rango de edad aumenta la probabilidad de sobrevivir?\n3. ¿Influye el 'title' del pasajero en su sobrevivencia?\n4. ¿Influye el sexo del pasajero en su sobrevivencia?\n5. ¿Existen cabinas con mayor cercania a chalecos salvavidas o lanchas?\n6. ¿Los sobrevivientes viajaban con familia?\n7. ¿Los sobrevivientes pagaron una mayor tarifa?\n8. ¿El puerto de embarcación  influye en la supervivencia del pasajero?\n9. ¿El número de ticket tiene relación con la supervivencia?\n10. ¿Tener un hijo influye en las posibilidades del pasajero de sobrevivir?\n",
   "metadata": {
    "cell_id": "f19cad95efb44a238aac0f4919cb1501",
    "tags": [],
    "deepnote_cell_type": "markdown",
    "deepnote_cell_height": 351
   }
  },
  {
   "cell_type": "markdown",
   "source": "",
   "metadata": {
    "formattedRanges": [],
    "is_collapsed": false,
    "cell_id": "6ecf9da21fc5465ba46ba0ae529a7cc0",
    "tags": [],
    "deepnote_cell_type": "text-cell-p"
   }
  },
  {
   "cell_type": "markdown",
   "source": "# Preguntas Statistics\n1. Las varibles sibsp y parch son un factor irrelevante al momento de la supervivencia  \n2. El número de camarote pudo ser relevante para sobrevivir según su ubicación en el barco y cercanía a salidas y/o salvavidas\n3. El puerto de embarcación tiene relevancia para poder sobrevivir\n4. Distribución de supervivencia según clase social\n5. Distribución de supervivencia según sexo \n6. Distribución de clases según el puerto\n7. Supervivencia según edad\n8. Supervivencia según edad + sexo\n9. Distribución de edad y clases\n10. * Va a salir en cuanto se analicen los datos",
   "metadata": {
    "cell_id": "56ebda29d93646b4a075183719bf3e15",
    "tags": [],
    "deepnote_cell_type": "markdown",
    "deepnote_cell_height": 363
   }
  },
  {
   "cell_type": "markdown",
   "source": "# LIBRARIES",
   "metadata": {
    "cell_id": "c053252b09084d5f98a522a845f31828",
    "tags": [],
    "deepnote_cell_type": "markdown",
    "deepnote_cell_height": 82
   }
  },
  {
   "cell_type": "code",
   "metadata": {
    "cell_id": "5e218dd72418434cbef835694ad7870f",
    "tags": [],
    "deepnote_to_be_reexecuted": false,
    "source_hash": "e8021e0d",
    "execution_start": 1661208105487,
    "execution_millis": 6,
    "deepnote_cell_type": "code",
    "deepnote_cell_height": 130
   },
   "source": "import pandas as pd\nfrom scipy.stats import describe\nfrom typing import Tuple\nimport random ",
   "execution_count": null,
   "outputs": []
  },
  {
   "cell_type": "markdown",
   "source": "# UTILS",
   "metadata": {
    "cell_id": "01a672b1c49146869afcbf021968e7f7",
    "tags": [],
    "deepnote_cell_type": "markdown",
    "deepnote_cell_height": 82
   }
  },
  {
   "cell_type": "code",
   "metadata": {
    "cell_id": "ca4a11192a0142e0957c1e6c055e330c",
    "tags": [],
    "deepnote_to_be_reexecuted": false,
    "source_hash": "5aaec409",
    "execution_start": 1661208109323,
    "execution_millis": 3,
    "deepnote_cell_type": "code",
    "deepnote_cell_height": 310
   },
   "source": "def explore(df: pd.DataFrame) -> pd.DataFrame:\n    ex1, ex2, ex3 = random.sample(range(len(df)), 3)\n\n    print(\"Dataframe total rows: \", len(df))\n    df_info = pd.DataFrame(data = df.dtypes)\n    not_missing_values_total = df.notnull().sum()\n    not_missing_values_percent = round(not_missing_values_total/len(df)*100,2).astype(str)+\" %\"\n\n    return pd.concat([df_info[0].rename(\"Data Type\"),\\\n            df.T[ex1].rename(\"Example 1\"),\\\n            df.T[ex2].rename(\"Example 2\"),\\\n            df.T[ex3].rename(\"Example 3\"),\\\n            not_missing_values_total.rename(\"Total Not Missing\"), \\\n            not_missing_values_percent.rename(\"% of not missing values\")], axis=1)",
   "execution_count": null,
   "outputs": []
  },
  {
   "cell_type": "markdown",
   "source": "# DATA",
   "metadata": {
    "cell_id": "3b964d19d752452cb6fb97aa6b7924aa",
    "tags": [],
    "deepnote_cell_type": "markdown",
    "deepnote_cell_height": 82
   }
  },
  {
   "cell_type": "code",
   "metadata": {
    "cell_id": "363c08d6ad314690852ebdc8c1869eac",
    "tags": [],
    "deepnote_to_be_reexecuted": false,
    "source_hash": "b61e19e7",
    "execution_start": 1661376003138,
    "execution_millis": 55,
    "deepnote_table_state": {
     "pageSize": 25,
     "pageIndex": 0,
     "filters": [],
     "sortBy": []
    },
    "deepnote_table_loading": false,
    "deepnote_cell_type": "code",
    "deepnote_cell_height": 1262.796875
   },
   "source": "import pandas as pd\ndf_og = pd.read_csv(\"/work/train.csv\")\ndf_og",
   "execution_count": null,
   "outputs": [
    {
     "output_type": "execute_result",
     "execution_count": 40,
     "data": {
      "application/vnd.deepnote.dataframe.v3+json": {
       "column_count": 12,
       "row_count": 891,
       "columns": [
        {
         "name": "PassengerId",
         "dtype": "int64",
         "stats": {
          "unique_count": 891,
          "nan_count": 0,
          "min": "1",
          "max": "891",
          "histogram": [
           {
            "bin_start": 1,
            "bin_end": 90,
            "count": 89
           },
           {
            "bin_start": 90,
            "bin_end": 179,
            "count": 89
           },
           {
            "bin_start": 179,
            "bin_end": 268,
            "count": 89
           },
           {
            "bin_start": 268,
            "bin_end": 357,
            "count": 89
           },
           {
            "bin_start": 357,
            "bin_end": 446,
            "count": 89
           },
           {
            "bin_start": 446,
            "bin_end": 535,
            "count": 89
           },
           {
            "bin_start": 535,
            "bin_end": 624,
            "count": 89
           },
           {
            "bin_start": 624,
            "bin_end": 713,
            "count": 89
           },
           {
            "bin_start": 713,
            "bin_end": 802,
            "count": 89
           },
           {
            "bin_start": 802,
            "bin_end": 891,
            "count": 90
           }
          ]
         }
        },
        {
         "name": "Survived",
         "dtype": "int64",
         "stats": {
          "unique_count": 2,
          "nan_count": 0,
          "min": "0",
          "max": "1",
          "histogram": [
           {
            "bin_start": 0,
            "bin_end": 0.1,
            "count": 549
           },
           {
            "bin_start": 0.1,
            "bin_end": 0.2,
            "count": 0
           },
           {
            "bin_start": 0.2,
            "bin_end": 0.30000000000000004,
            "count": 0
           },
           {
            "bin_start": 0.30000000000000004,
            "bin_end": 0.4,
            "count": 0
           },
           {
            "bin_start": 0.4,
            "bin_end": 0.5,
            "count": 0
           },
           {
            "bin_start": 0.5,
            "bin_end": 0.6000000000000001,
            "count": 0
           },
           {
            "bin_start": 0.6000000000000001,
            "bin_end": 0.7000000000000001,
            "count": 0
           },
           {
            "bin_start": 0.7000000000000001,
            "bin_end": 0.8,
            "count": 0
           },
           {
            "bin_start": 0.8,
            "bin_end": 0.9,
            "count": 0
           },
           {
            "bin_start": 0.9,
            "bin_end": 1,
            "count": 342
           }
          ]
         }
        },
        {
         "name": "Pclass",
         "dtype": "int64",
         "stats": {
          "unique_count": 3,
          "nan_count": 0,
          "min": "1",
          "max": "3",
          "histogram": [
           {
            "bin_start": 1,
            "bin_end": 1.2,
            "count": 216
           },
           {
            "bin_start": 1.2,
            "bin_end": 1.4,
            "count": 0
           },
           {
            "bin_start": 1.4,
            "bin_end": 1.6,
            "count": 0
           },
           {
            "bin_start": 1.6,
            "bin_end": 1.8,
            "count": 0
           },
           {
            "bin_start": 1.8,
            "bin_end": 2,
            "count": 0
           },
           {
            "bin_start": 2,
            "bin_end": 2.2,
            "count": 184
           },
           {
            "bin_start": 2.2,
            "bin_end": 2.4000000000000004,
            "count": 0
           },
           {
            "bin_start": 2.4000000000000004,
            "bin_end": 2.6,
            "count": 0
           },
           {
            "bin_start": 2.6,
            "bin_end": 2.8,
            "count": 0
           },
           {
            "bin_start": 2.8,
            "bin_end": 3,
            "count": 491
           }
          ]
         }
        },
        {
         "name": "Name",
         "dtype": "object",
         "stats": {
          "unique_count": 891,
          "nan_count": 0,
          "categories": [
           {
            "name": "Braund, Mr. Owen Harris",
            "count": 1
           },
           {
            "name": "Cumings, Mrs. John Bradley (Florence Briggs Thayer)",
            "count": 1
           },
           {
            "name": "889 others",
            "count": 889
           }
          ]
         }
        },
        {
         "name": "Sex",
         "dtype": "object",
         "stats": {
          "unique_count": 2,
          "nan_count": 0,
          "categories": [
           {
            "name": "male",
            "count": 577
           },
           {
            "name": "female",
            "count": 314
           }
          ]
         }
        },
        {
         "name": "Age",
         "dtype": "float64",
         "stats": {
          "unique_count": 88,
          "nan_count": 177,
          "min": "0.42",
          "max": "80.0",
          "histogram": [
           {
            "bin_start": 0.42,
            "bin_end": 8.378,
            "count": 54
           },
           {
            "bin_start": 8.378,
            "bin_end": 16.336000000000002,
            "count": 46
           },
           {
            "bin_start": 16.336000000000002,
            "bin_end": 24.294000000000004,
            "count": 177
           },
           {
            "bin_start": 24.294000000000004,
            "bin_end": 32.252,
            "count": 169
           },
           {
            "bin_start": 32.252,
            "bin_end": 40.21,
            "count": 118
           },
           {
            "bin_start": 40.21,
            "bin_end": 48.168000000000006,
            "count": 70
           },
           {
            "bin_start": 48.168000000000006,
            "bin_end": 56.126000000000005,
            "count": 45
           },
           {
            "bin_start": 56.126000000000005,
            "bin_end": 64.084,
            "count": 24
           },
           {
            "bin_start": 64.084,
            "bin_end": 72.042,
            "count": 9
           },
           {
            "bin_start": 72.042,
            "bin_end": 80,
            "count": 2
           }
          ]
         }
        },
        {
         "name": "SibSp",
         "dtype": "int64",
         "stats": {
          "unique_count": 7,
          "nan_count": 0,
          "min": "0",
          "max": "8",
          "histogram": [
           {
            "bin_start": 0,
            "bin_end": 0.8,
            "count": 608
           },
           {
            "bin_start": 0.8,
            "bin_end": 1.6,
            "count": 209
           },
           {
            "bin_start": 1.6,
            "bin_end": 2.4000000000000004,
            "count": 28
           },
           {
            "bin_start": 2.4000000000000004,
            "bin_end": 3.2,
            "count": 16
           },
           {
            "bin_start": 3.2,
            "bin_end": 4,
            "count": 0
           },
           {
            "bin_start": 4,
            "bin_end": 4.800000000000001,
            "count": 18
           },
           {
            "bin_start": 4.800000000000001,
            "bin_end": 5.6000000000000005,
            "count": 5
           },
           {
            "bin_start": 5.6000000000000005,
            "bin_end": 6.4,
            "count": 0
           },
           {
            "bin_start": 6.4,
            "bin_end": 7.2,
            "count": 0
           },
           {
            "bin_start": 7.2,
            "bin_end": 8,
            "count": 7
           }
          ]
         }
        },
        {
         "name": "Parch",
         "dtype": "int64",
         "stats": {
          "unique_count": 7,
          "nan_count": 0,
          "min": "0",
          "max": "6",
          "histogram": [
           {
            "bin_start": 0,
            "bin_end": 0.6,
            "count": 678
           },
           {
            "bin_start": 0.6,
            "bin_end": 1.2,
            "count": 118
           },
           {
            "bin_start": 1.2,
            "bin_end": 1.7999999999999998,
            "count": 0
           },
           {
            "bin_start": 1.7999999999999998,
            "bin_end": 2.4,
            "count": 80
           },
           {
            "bin_start": 2.4,
            "bin_end": 3,
            "count": 0
           },
           {
            "bin_start": 3,
            "bin_end": 3.5999999999999996,
            "count": 5
           },
           {
            "bin_start": 3.5999999999999996,
            "bin_end": 4.2,
            "count": 4
           },
           {
            "bin_start": 4.2,
            "bin_end": 4.8,
            "count": 0
           },
           {
            "bin_start": 4.8,
            "bin_end": 5.3999999999999995,
            "count": 5
           },
           {
            "bin_start": 5.3999999999999995,
            "bin_end": 6,
            "count": 1
           }
          ]
         }
        },
        {
         "name": "Ticket",
         "dtype": "object",
         "stats": {
          "unique_count": 681,
          "nan_count": 0,
          "categories": [
           {
            "name": "347082",
            "count": 7
           },
           {
            "name": "1601",
            "count": 7
           },
           {
            "name": "679 others",
            "count": 877
           }
          ]
         }
        },
        {
         "name": "Fare",
         "dtype": "float64",
         "stats": {
          "unique_count": 248,
          "nan_count": 0,
          "min": "0.0",
          "max": "512.3292",
          "histogram": [
           {
            "bin_start": 0,
            "bin_end": 51.23292,
            "count": 732
           },
           {
            "bin_start": 51.23292,
            "bin_end": 102.46584,
            "count": 106
           },
           {
            "bin_start": 102.46584,
            "bin_end": 153.69876,
            "count": 31
           },
           {
            "bin_start": 153.69876,
            "bin_end": 204.93168,
            "count": 2
           },
           {
            "bin_start": 204.93168,
            "bin_end": 256.1646,
            "count": 11
           },
           {
            "bin_start": 256.1646,
            "bin_end": 307.39752,
            "count": 6
           },
           {
            "bin_start": 307.39752,
            "bin_end": 358.63044,
            "count": 0
           },
           {
            "bin_start": 358.63044,
            "bin_end": 409.86336,
            "count": 0
           },
           {
            "bin_start": 409.86336,
            "bin_end": 461.09628,
            "count": 0
           },
           {
            "bin_start": 461.09628,
            "bin_end": 512.3292,
            "count": 3
           }
          ]
         }
        },
        {
         "name": "Cabin",
         "dtype": "object",
         "stats": {
          "unique_count": 147,
          "nan_count": 687,
          "categories": [
           {
            "name": "G6",
            "count": 4
           },
           {
            "name": "146 others",
            "count": 200
           },
           {
            "name": "Missing",
            "count": 687
           }
          ]
         }
        },
        {
         "name": "Embarked",
         "dtype": "object",
         "stats": {
          "unique_count": 3,
          "nan_count": 2,
          "categories": [
           {
            "name": "S",
            "count": 644
           },
           {
            "name": "2 others",
            "count": 245
           },
           {
            "name": "Missing",
            "count": 2
           }
          ]
         }
        },
        {
         "name": "_deepnote_index_column",
         "dtype": "int64"
        }
       ],
       "rows": [
        {
         "PassengerId": 1,
         "Survived": 0,
         "Pclass": 3,
         "Name": "Braund, Mr. Owen Harris",
         "Sex": "male",
         "Age": 22,
         "SibSp": 1,
         "Parch": 0,
         "Ticket": "A/5 21171",
         "Fare": 7.25,
         "Cabin": "nan",
         "Embarked": "S",
         "_deepnote_index_column": 0
        },
        {
         "PassengerId": 2,
         "Survived": 1,
         "Pclass": 1,
         "Name": "Cumings, Mrs. John Bradley (Florence Briggs Thayer)",
         "Sex": "female",
         "Age": 38,
         "SibSp": 1,
         "Parch": 0,
         "Ticket": "PC 17599",
         "Fare": 71.2833,
         "Cabin": "C85",
         "Embarked": "C",
         "_deepnote_index_column": 1
        },
        {
         "PassengerId": 3,
         "Survived": 1,
         "Pclass": 3,
         "Name": "Heikkinen, Miss. Laina",
         "Sex": "female",
         "Age": 26,
         "SibSp": 0,
         "Parch": 0,
         "Ticket": "STON/O2. 3101282",
         "Fare": 7.925,
         "Cabin": "nan",
         "Embarked": "S",
         "_deepnote_index_column": 2
        },
        {
         "PassengerId": 4,
         "Survived": 1,
         "Pclass": 1,
         "Name": "Futrelle, Mrs. Jacques Heath (Lily May Peel)",
         "Sex": "female",
         "Age": 35,
         "SibSp": 1,
         "Parch": 0,
         "Ticket": "113803",
         "Fare": 53.1,
         "Cabin": "C123",
         "Embarked": "S",
         "_deepnote_index_column": 3
        },
        {
         "PassengerId": 5,
         "Survived": 0,
         "Pclass": 3,
         "Name": "Allen, Mr. William Henry",
         "Sex": "male",
         "Age": 35,
         "SibSp": 0,
         "Parch": 0,
         "Ticket": "373450",
         "Fare": 8.05,
         "Cabin": "nan",
         "Embarked": "S",
         "_deepnote_index_column": 4
        },
        {
         "PassengerId": 6,
         "Survived": 0,
         "Pclass": 3,
         "Name": "Moran, Mr. James",
         "Sex": "male",
         "Age": "nan",
         "SibSp": 0,
         "Parch": 0,
         "Ticket": "330877",
         "Fare": 8.4583,
         "Cabin": "nan",
         "Embarked": "Q",
         "_deepnote_index_column": 5
        },
        {
         "PassengerId": 7,
         "Survived": 0,
         "Pclass": 1,
         "Name": "McCarthy, Mr. Timothy J",
         "Sex": "male",
         "Age": 54,
         "SibSp": 0,
         "Parch": 0,
         "Ticket": "17463",
         "Fare": 51.8625,
         "Cabin": "E46",
         "Embarked": "S",
         "_deepnote_index_column": 6
        },
        {
         "PassengerId": 8,
         "Survived": 0,
         "Pclass": 3,
         "Name": "Palsson, Master. Gosta Leonard",
         "Sex": "male",
         "Age": 2,
         "SibSp": 3,
         "Parch": 1,
         "Ticket": "349909",
         "Fare": 21.075,
         "Cabin": "nan",
         "Embarked": "S",
         "_deepnote_index_column": 7
        },
        {
         "PassengerId": 9,
         "Survived": 1,
         "Pclass": 3,
         "Name": "Johnson, Mrs. Oscar W (Elisabeth Vilhelmina Berg)",
         "Sex": "female",
         "Age": 27,
         "SibSp": 0,
         "Parch": 2,
         "Ticket": "347742",
         "Fare": 11.1333,
         "Cabin": "nan",
         "Embarked": "S",
         "_deepnote_index_column": 8
        },
        {
         "PassengerId": 10,
         "Survived": 1,
         "Pclass": 2,
         "Name": "Nasser, Mrs. Nicholas (Adele Achem)",
         "Sex": "female",
         "Age": 14,
         "SibSp": 1,
         "Parch": 0,
         "Ticket": "237736",
         "Fare": 30.0708,
         "Cabin": "nan",
         "Embarked": "C",
         "_deepnote_index_column": 9
        },
        {
         "PassengerId": 11,
         "Survived": 1,
         "Pclass": 3,
         "Name": "Sandstrom, Miss. Marguerite Rut",
         "Sex": "female",
         "Age": 4,
         "SibSp": 1,
         "Parch": 1,
         "Ticket": "PP 9549",
         "Fare": 16.7,
         "Cabin": "G6",
         "Embarked": "S",
         "_deepnote_index_column": 10
        },
        {
         "PassengerId": 12,
         "Survived": 1,
         "Pclass": 1,
         "Name": "Bonnell, Miss. Elizabeth",
         "Sex": "female",
         "Age": 58,
         "SibSp": 0,
         "Parch": 0,
         "Ticket": "113783",
         "Fare": 26.55,
         "Cabin": "C103",
         "Embarked": "S",
         "_deepnote_index_column": 11
        },
        {
         "PassengerId": 13,
         "Survived": 0,
         "Pclass": 3,
         "Name": "Saundercock, Mr. William Henry",
         "Sex": "male",
         "Age": 20,
         "SibSp": 0,
         "Parch": 0,
         "Ticket": "A/5. 2151",
         "Fare": 8.05,
         "Cabin": "nan",
         "Embarked": "S",
         "_deepnote_index_column": 12
        },
        {
         "PassengerId": 14,
         "Survived": 0,
         "Pclass": 3,
         "Name": "Andersson, Mr. Anders Johan",
         "Sex": "male",
         "Age": 39,
         "SibSp": 1,
         "Parch": 5,
         "Ticket": "347082",
         "Fare": 31.275,
         "Cabin": "nan",
         "Embarked": "S",
         "_deepnote_index_column": 13
        },
        {
         "PassengerId": 15,
         "Survived": 0,
         "Pclass": 3,
         "Name": "Vestrom, Miss. Hulda Amanda Adolfina",
         "Sex": "female",
         "Age": 14,
         "SibSp": 0,
         "Parch": 0,
         "Ticket": "350406",
         "Fare": 7.8542,
         "Cabin": "nan",
         "Embarked": "S",
         "_deepnote_index_column": 14
        },
        {
         "PassengerId": 16,
         "Survived": 1,
         "Pclass": 2,
         "Name": "Hewlett, Mrs. (Mary D Kingcome) ",
         "Sex": "female",
         "Age": 55,
         "SibSp": 0,
         "Parch": 0,
         "Ticket": "248706",
         "Fare": 16,
         "Cabin": "nan",
         "Embarked": "S",
         "_deepnote_index_column": 15
        },
        {
         "PassengerId": 17,
         "Survived": 0,
         "Pclass": 3,
         "Name": "Rice, Master. Eugene",
         "Sex": "male",
         "Age": 2,
         "SibSp": 4,
         "Parch": 1,
         "Ticket": "382652",
         "Fare": 29.125,
         "Cabin": "nan",
         "Embarked": "Q",
         "_deepnote_index_column": 16
        },
        {
         "PassengerId": 18,
         "Survived": 1,
         "Pclass": 2,
         "Name": "Williams, Mr. Charles Eugene",
         "Sex": "male",
         "Age": "nan",
         "SibSp": 0,
         "Parch": 0,
         "Ticket": "244373",
         "Fare": 13,
         "Cabin": "nan",
         "Embarked": "S",
         "_deepnote_index_column": 17
        },
        {
         "PassengerId": 19,
         "Survived": 0,
         "Pclass": 3,
         "Name": "Vander Planke, Mrs. Julius (Emelia Maria Vandemoortele)",
         "Sex": "female",
         "Age": 31,
         "SibSp": 1,
         "Parch": 0,
         "Ticket": "345763",
         "Fare": 18,
         "Cabin": "nan",
         "Embarked": "S",
         "_deepnote_index_column": 18
        },
        {
         "PassengerId": 20,
         "Survived": 1,
         "Pclass": 3,
         "Name": "Masselmani, Mrs. Fatima",
         "Sex": "female",
         "Age": "nan",
         "SibSp": 0,
         "Parch": 0,
         "Ticket": "2649",
         "Fare": 7.225,
         "Cabin": "nan",
         "Embarked": "C",
         "_deepnote_index_column": 19
        },
        {
         "PassengerId": 21,
         "Survived": 0,
         "Pclass": 2,
         "Name": "Fynney, Mr. Joseph J",
         "Sex": "male",
         "Age": 35,
         "SibSp": 0,
         "Parch": 0,
         "Ticket": "239865",
         "Fare": 26,
         "Cabin": "nan",
         "Embarked": "S",
         "_deepnote_index_column": 20
        },
        {
         "PassengerId": 22,
         "Survived": 1,
         "Pclass": 2,
         "Name": "Beesley, Mr. Lawrence",
         "Sex": "male",
         "Age": 34,
         "SibSp": 0,
         "Parch": 0,
         "Ticket": "248698",
         "Fare": 13,
         "Cabin": "D56",
         "Embarked": "S",
         "_deepnote_index_column": 21
        },
        {
         "PassengerId": 23,
         "Survived": 1,
         "Pclass": 3,
         "Name": "McGowan, Miss. Anna \"Annie\"",
         "Sex": "female",
         "Age": 15,
         "SibSp": 0,
         "Parch": 0,
         "Ticket": "330923",
         "Fare": 8.0292,
         "Cabin": "nan",
         "Embarked": "Q",
         "_deepnote_index_column": 22
        },
        {
         "PassengerId": 24,
         "Survived": 1,
         "Pclass": 1,
         "Name": "Sloper, Mr. William Thompson",
         "Sex": "male",
         "Age": 28,
         "SibSp": 0,
         "Parch": 0,
         "Ticket": "113788",
         "Fare": 35.5,
         "Cabin": "A6",
         "Embarked": "S",
         "_deepnote_index_column": 23
        },
        {
         "PassengerId": 25,
         "Survived": 0,
         "Pclass": 3,
         "Name": "Palsson, Miss. Torborg Danira",
         "Sex": "female",
         "Age": 8,
         "SibSp": 3,
         "Parch": 1,
         "Ticket": "349909",
         "Fare": 21.075,
         "Cabin": "nan",
         "Embarked": "S",
         "_deepnote_index_column": 24
        }
       ]
      },
      "text/plain": "     PassengerId  Survived  Pclass  \\\n0              1         0       3   \n1              2         1       1   \n2              3         1       3   \n3              4         1       1   \n4              5         0       3   \n..           ...       ...     ...   \n886          887         0       2   \n887          888         1       1   \n888          889         0       3   \n889          890         1       1   \n890          891         0       3   \n\n                                                  Name     Sex   Age  SibSp  \\\n0                              Braund, Mr. Owen Harris    male  22.0      1   \n1    Cumings, Mrs. John Bradley (Florence Briggs Th...  female  38.0      1   \n2                               Heikkinen, Miss. Laina  female  26.0      0   \n3         Futrelle, Mrs. Jacques Heath (Lily May Peel)  female  35.0      1   \n4                             Allen, Mr. William Henry    male  35.0      0   \n..                                                 ...     ...   ...    ...   \n886                              Montvila, Rev. Juozas    male  27.0      0   \n887                       Graham, Miss. Margaret Edith  female  19.0      0   \n888           Johnston, Miss. Catherine Helen \"Carrie\"  female   NaN      1   \n889                              Behr, Mr. Karl Howell    male  26.0      0   \n890                                Dooley, Mr. Patrick    male  32.0      0   \n\n     Parch            Ticket     Fare Cabin Embarked  \n0        0         A/5 21171   7.2500   NaN        S  \n1        0          PC 17599  71.2833   C85        C  \n2        0  STON/O2. 3101282   7.9250   NaN        S  \n3        0            113803  53.1000  C123        S  \n4        0            373450   8.0500   NaN        S  \n..     ...               ...      ...   ...      ...  \n886      0            211536  13.0000   NaN        S  \n887      0            112053  30.0000   B42        S  \n888      2        W./C. 6607  23.4500   NaN        S  \n889      0            111369  30.0000  C148        C  \n890      0            370376   7.7500   NaN        Q  \n\n[891 rows x 12 columns]",
      "text/html": "<div>\n<style scoped>\n    .dataframe tbody tr th:only-of-type {\n        vertical-align: middle;\n    }\n\n    .dataframe tbody tr th {\n        vertical-align: top;\n    }\n\n    .dataframe thead th {\n        text-align: right;\n    }\n</style>\n<table border=\"1\" class=\"dataframe\">\n  <thead>\n    <tr style=\"text-align: right;\">\n      <th></th>\n      <th>PassengerId</th>\n      <th>Survived</th>\n      <th>Pclass</th>\n      <th>Name</th>\n      <th>Sex</th>\n      <th>Age</th>\n      <th>SibSp</th>\n      <th>Parch</th>\n      <th>Ticket</th>\n      <th>Fare</th>\n      <th>Cabin</th>\n      <th>Embarked</th>\n    </tr>\n  </thead>\n  <tbody>\n    <tr>\n      <th>0</th>\n      <td>1</td>\n      <td>0</td>\n      <td>3</td>\n      <td>Braund, Mr. Owen Harris</td>\n      <td>male</td>\n      <td>22.0</td>\n      <td>1</td>\n      <td>0</td>\n      <td>A/5 21171</td>\n      <td>7.2500</td>\n      <td>NaN</td>\n      <td>S</td>\n    </tr>\n    <tr>\n      <th>1</th>\n      <td>2</td>\n      <td>1</td>\n      <td>1</td>\n      <td>Cumings, Mrs. John Bradley (Florence Briggs Th...</td>\n      <td>female</td>\n      <td>38.0</td>\n      <td>1</td>\n      <td>0</td>\n      <td>PC 17599</td>\n      <td>71.2833</td>\n      <td>C85</td>\n      <td>C</td>\n    </tr>\n    <tr>\n      <th>2</th>\n      <td>3</td>\n      <td>1</td>\n      <td>3</td>\n      <td>Heikkinen, Miss. Laina</td>\n      <td>female</td>\n      <td>26.0</td>\n      <td>0</td>\n      <td>0</td>\n      <td>STON/O2. 3101282</td>\n      <td>7.9250</td>\n      <td>NaN</td>\n      <td>S</td>\n    </tr>\n    <tr>\n      <th>3</th>\n      <td>4</td>\n      <td>1</td>\n      <td>1</td>\n      <td>Futrelle, Mrs. Jacques Heath (Lily May Peel)</td>\n      <td>female</td>\n      <td>35.0</td>\n      <td>1</td>\n      <td>0</td>\n      <td>113803</td>\n      <td>53.1000</td>\n      <td>C123</td>\n      <td>S</td>\n    </tr>\n    <tr>\n      <th>4</th>\n      <td>5</td>\n      <td>0</td>\n      <td>3</td>\n      <td>Allen, Mr. William Henry</td>\n      <td>male</td>\n      <td>35.0</td>\n      <td>0</td>\n      <td>0</td>\n      <td>373450</td>\n      <td>8.0500</td>\n      <td>NaN</td>\n      <td>S</td>\n    </tr>\n    <tr>\n      <th>...</th>\n      <td>...</td>\n      <td>...</td>\n      <td>...</td>\n      <td>...</td>\n      <td>...</td>\n      <td>...</td>\n      <td>...</td>\n      <td>...</td>\n      <td>...</td>\n      <td>...</td>\n      <td>...</td>\n      <td>...</td>\n    </tr>\n    <tr>\n      <th>886</th>\n      <td>887</td>\n      <td>0</td>\n      <td>2</td>\n      <td>Montvila, Rev. Juozas</td>\n      <td>male</td>\n      <td>27.0</td>\n      <td>0</td>\n      <td>0</td>\n      <td>211536</td>\n      <td>13.0000</td>\n      <td>NaN</td>\n      <td>S</td>\n    </tr>\n    <tr>\n      <th>887</th>\n      <td>888</td>\n      <td>1</td>\n      <td>1</td>\n      <td>Graham, Miss. Margaret Edith</td>\n      <td>female</td>\n      <td>19.0</td>\n      <td>0</td>\n      <td>0</td>\n      <td>112053</td>\n      <td>30.0000</td>\n      <td>B42</td>\n      <td>S</td>\n    </tr>\n    <tr>\n      <th>888</th>\n      <td>889</td>\n      <td>0</td>\n      <td>3</td>\n      <td>Johnston, Miss. Catherine Helen \"Carrie\"</td>\n      <td>female</td>\n      <td>NaN</td>\n      <td>1</td>\n      <td>2</td>\n      <td>W./C. 6607</td>\n      <td>23.4500</td>\n      <td>NaN</td>\n      <td>S</td>\n    </tr>\n    <tr>\n      <th>889</th>\n      <td>890</td>\n      <td>1</td>\n      <td>1</td>\n      <td>Behr, Mr. Karl Howell</td>\n      <td>male</td>\n      <td>26.0</td>\n      <td>0</td>\n      <td>0</td>\n      <td>111369</td>\n      <td>30.0000</td>\n      <td>C148</td>\n      <td>C</td>\n    </tr>\n    <tr>\n      <th>890</th>\n      <td>891</td>\n      <td>0</td>\n      <td>3</td>\n      <td>Dooley, Mr. Patrick</td>\n      <td>male</td>\n      <td>32.0</td>\n      <td>0</td>\n      <td>0</td>\n      <td>370376</td>\n      <td>7.7500</td>\n      <td>NaN</td>\n      <td>Q</td>\n    </tr>\n  </tbody>\n</table>\n<p>891 rows × 12 columns</p>\n</div>"
     },
     "metadata": {}
    }
   ]
  },
  {
   "cell_type": "markdown",
   "source": "# DATA CLEANING",
   "metadata": {
    "cell_id": "6a1db9fbc33449d3a61929273ef93d1d",
    "tags": [],
    "deepnote_cell_type": "markdown",
    "deepnote_cell_height": 82
   }
  },
  {
   "cell_type": "code",
   "metadata": {
    "cell_id": "0bbdde222397451a993d9b81a1068c3b",
    "tags": [],
    "deepnote_to_be_reexecuted": false,
    "source_hash": "ef74bc1c",
    "execution_start": 1661375053561,
    "execution_millis": 3,
    "deepnote_cell_type": "code",
    "deepnote_cell_height": 94
   },
   "source": "# Variables to consider\ndf_clean = df_og.drop(['Name', 'PassengerId', 'Ticket', 'SibSp', 'Parch', 'Fare'], axis=1)",
   "execution_count": null,
   "outputs": []
  },
  {
   "cell_type": "markdown",
   "source": "## INSPECTION",
   "metadata": {
    "cell_id": "59101dca83f346b5bfb609ec02102c57",
    "tags": [],
    "deepnote_cell_type": "markdown",
    "deepnote_cell_height": 70
   }
  },
  {
   "cell_type": "code",
   "metadata": {
    "cell_id": "19af49b018ce4a0ea2d533e83c260fba",
    "tags": [],
    "deepnote_to_be_reexecuted": false,
    "source_hash": "24f24e53",
    "execution_start": 1661375056399,
    "execution_millis": 48,
    "deepnote_cell_type": "code",
    "deepnote_cell_height": 615,
    "deepnote_output_heights": [
     176
    ]
   },
   "source": "display(df_clean.head())\ndisplay(df_clean.tail())",
   "execution_count": null,
   "outputs": [
    {
     "data": {
      "text/plain": "   Survived  Pclass     Sex   Age Cabin Embarked\n0         0       3    male  22.0   NaN        S\n1         1       1  female  38.0   C85        C\n2         1       3  female  26.0   NaN        S\n3         1       1  female  35.0  C123        S\n4         0       3    male  35.0   NaN        S",
      "text/html": "<div>\n<style scoped>\n    .dataframe tbody tr th:only-of-type {\n        vertical-align: middle;\n    }\n\n    .dataframe tbody tr th {\n        vertical-align: top;\n    }\n\n    .dataframe thead th {\n        text-align: right;\n    }\n</style>\n<table border=\"1\" class=\"dataframe\">\n  <thead>\n    <tr style=\"text-align: right;\">\n      <th></th>\n      <th>Survived</th>\n      <th>Pclass</th>\n      <th>Sex</th>\n      <th>Age</th>\n      <th>Cabin</th>\n      <th>Embarked</th>\n    </tr>\n  </thead>\n  <tbody>\n    <tr>\n      <th>0</th>\n      <td>0</td>\n      <td>3</td>\n      <td>male</td>\n      <td>22.0</td>\n      <td>NaN</td>\n      <td>S</td>\n    </tr>\n    <tr>\n      <th>1</th>\n      <td>1</td>\n      <td>1</td>\n      <td>female</td>\n      <td>38.0</td>\n      <td>C85</td>\n      <td>C</td>\n    </tr>\n    <tr>\n      <th>2</th>\n      <td>1</td>\n      <td>3</td>\n      <td>female</td>\n      <td>26.0</td>\n      <td>NaN</td>\n      <td>S</td>\n    </tr>\n    <tr>\n      <th>3</th>\n      <td>1</td>\n      <td>1</td>\n      <td>female</td>\n      <td>35.0</td>\n      <td>C123</td>\n      <td>S</td>\n    </tr>\n    <tr>\n      <th>4</th>\n      <td>0</td>\n      <td>3</td>\n      <td>male</td>\n      <td>35.0</td>\n      <td>NaN</td>\n      <td>S</td>\n    </tr>\n  </tbody>\n</table>\n</div>"
     },
     "metadata": {},
     "output_type": "display_data"
    },
    {
     "data": {
      "application/vnd.deepnote.dataframe.v3+json": {
       "column_count": 6,
       "row_count": 5,
       "columns": [
        {
         "name": "Survived",
         "dtype": "int64",
         "stats": {
          "unique_count": 2,
          "nan_count": 0,
          "min": "0",
          "max": "1",
          "histogram": [
           {
            "bin_start": 0,
            "bin_end": 0.1,
            "count": 3
           },
           {
            "bin_start": 0.1,
            "bin_end": 0.2,
            "count": 0
           },
           {
            "bin_start": 0.2,
            "bin_end": 0.30000000000000004,
            "count": 0
           },
           {
            "bin_start": 0.30000000000000004,
            "bin_end": 0.4,
            "count": 0
           },
           {
            "bin_start": 0.4,
            "bin_end": 0.5,
            "count": 0
           },
           {
            "bin_start": 0.5,
            "bin_end": 0.6000000000000001,
            "count": 0
           },
           {
            "bin_start": 0.6000000000000001,
            "bin_end": 0.7000000000000001,
            "count": 0
           },
           {
            "bin_start": 0.7000000000000001,
            "bin_end": 0.8,
            "count": 0
           },
           {
            "bin_start": 0.8,
            "bin_end": 0.9,
            "count": 0
           },
           {
            "bin_start": 0.9,
            "bin_end": 1,
            "count": 2
           }
          ]
         }
        },
        {
         "name": "Pclass",
         "dtype": "int64",
         "stats": {
          "unique_count": 3,
          "nan_count": 0,
          "min": "1",
          "max": "3",
          "histogram": [
           {
            "bin_start": 1,
            "bin_end": 1.2,
            "count": 2
           },
           {
            "bin_start": 1.2,
            "bin_end": 1.4,
            "count": 0
           },
           {
            "bin_start": 1.4,
            "bin_end": 1.6,
            "count": 0
           },
           {
            "bin_start": 1.6,
            "bin_end": 1.8,
            "count": 0
           },
           {
            "bin_start": 1.8,
            "bin_end": 2,
            "count": 0
           },
           {
            "bin_start": 2,
            "bin_end": 2.2,
            "count": 1
           },
           {
            "bin_start": 2.2,
            "bin_end": 2.4000000000000004,
            "count": 0
           },
           {
            "bin_start": 2.4000000000000004,
            "bin_end": 2.6,
            "count": 0
           },
           {
            "bin_start": 2.6,
            "bin_end": 2.8,
            "count": 0
           },
           {
            "bin_start": 2.8,
            "bin_end": 3,
            "count": 2
           }
          ]
         }
        },
        {
         "name": "Sex",
         "dtype": "object",
         "stats": {
          "unique_count": 2,
          "nan_count": 0,
          "categories": [
           {
            "name": "male",
            "count": 3
           },
           {
            "name": "female",
            "count": 2
           }
          ]
         }
        },
        {
         "name": "Age",
         "dtype": "float64",
         "stats": {
          "unique_count": 4,
          "nan_count": 1,
          "min": "19.0",
          "max": "32.0",
          "histogram": [
           {
            "bin_start": 19,
            "bin_end": 20.3,
            "count": 1
           },
           {
            "bin_start": 20.3,
            "bin_end": 21.6,
            "count": 0
           },
           {
            "bin_start": 21.6,
            "bin_end": 22.9,
            "count": 0
           },
           {
            "bin_start": 22.9,
            "bin_end": 24.2,
            "count": 0
           },
           {
            "bin_start": 24.2,
            "bin_end": 25.5,
            "count": 0
           },
           {
            "bin_start": 25.5,
            "bin_end": 26.8,
            "count": 1
           },
           {
            "bin_start": 26.8,
            "bin_end": 28.1,
            "count": 1
           },
           {
            "bin_start": 28.1,
            "bin_end": 29.4,
            "count": 0
           },
           {
            "bin_start": 29.4,
            "bin_end": 30.700000000000003,
            "count": 0
           },
           {
            "bin_start": 30.700000000000003,
            "bin_end": 32,
            "count": 1
           }
          ]
         }
        },
        {
         "name": "Cabin",
         "dtype": "object",
         "stats": {
          "unique_count": 2,
          "nan_count": 3,
          "categories": [
           {
            "name": "B42",
            "count": 1
           },
           {
            "name": "C148",
            "count": 1
           },
           {
            "name": "Missing",
            "count": 3
           }
          ]
         }
        },
        {
         "name": "Embarked",
         "dtype": "object",
         "stats": {
          "unique_count": 3,
          "nan_count": 0,
          "categories": [
           {
            "name": "S",
            "count": 3
           },
           {
            "name": "C",
            "count": 1
           },
           {
            "name": "Q",
            "count": 1
           }
          ]
         }
        },
        {
         "name": "_deepnote_index_column",
         "dtype": "int64"
        }
       ],
       "rows": [
        {
         "Survived": 0,
         "Pclass": 2,
         "Sex": "male",
         "Age": 27,
         "Cabin": "nan",
         "Embarked": "S",
         "_deepnote_index_column": 886
        },
        {
         "Survived": 1,
         "Pclass": 1,
         "Sex": "female",
         "Age": 19,
         "Cabin": "B42",
         "Embarked": "S",
         "_deepnote_index_column": 887
        },
        {
         "Survived": 0,
         "Pclass": 3,
         "Sex": "female",
         "Age": "nan",
         "Cabin": "nan",
         "Embarked": "S",
         "_deepnote_index_column": 888
        },
        {
         "Survived": 1,
         "Pclass": 1,
         "Sex": "male",
         "Age": 26,
         "Cabin": "C148",
         "Embarked": "C",
         "_deepnote_index_column": 889
        },
        {
         "Survived": 0,
         "Pclass": 3,
         "Sex": "male",
         "Age": 32,
         "Cabin": "nan",
         "Embarked": "Q",
         "_deepnote_index_column": 890
        }
       ]
      },
      "text/plain": "     Survived  Pclass     Sex   Age Cabin Embarked\n886         0       2    male  27.0   NaN        S\n887         1       1  female  19.0   B42        S\n888         0       3  female   NaN   NaN        S\n889         1       1    male  26.0  C148        C\n890         0       3    male  32.0   NaN        Q",
      "text/html": "<div>\n<style scoped>\n    .dataframe tbody tr th:only-of-type {\n        vertical-align: middle;\n    }\n\n    .dataframe tbody tr th {\n        vertical-align: top;\n    }\n\n    .dataframe thead th {\n        text-align: right;\n    }\n</style>\n<table border=\"1\" class=\"dataframe\">\n  <thead>\n    <tr style=\"text-align: right;\">\n      <th></th>\n      <th>Survived</th>\n      <th>Pclass</th>\n      <th>Sex</th>\n      <th>Age</th>\n      <th>Cabin</th>\n      <th>Embarked</th>\n    </tr>\n  </thead>\n  <tbody>\n    <tr>\n      <th>886</th>\n      <td>0</td>\n      <td>2</td>\n      <td>male</td>\n      <td>27.0</td>\n      <td>NaN</td>\n      <td>S</td>\n    </tr>\n    <tr>\n      <th>887</th>\n      <td>1</td>\n      <td>1</td>\n      <td>female</td>\n      <td>19.0</td>\n      <td>B42</td>\n      <td>S</td>\n    </tr>\n    <tr>\n      <th>888</th>\n      <td>0</td>\n      <td>3</td>\n      <td>female</td>\n      <td>NaN</td>\n      <td>NaN</td>\n      <td>S</td>\n    </tr>\n    <tr>\n      <th>889</th>\n      <td>1</td>\n      <td>1</td>\n      <td>male</td>\n      <td>26.0</td>\n      <td>C148</td>\n      <td>C</td>\n    </tr>\n    <tr>\n      <th>890</th>\n      <td>0</td>\n      <td>3</td>\n      <td>male</td>\n      <td>32.0</td>\n      <td>NaN</td>\n      <td>Q</td>\n    </tr>\n  </tbody>\n</table>\n</div>"
     },
     "metadata": {},
     "output_type": "display_data"
    }
   ]
  },
  {
   "cell_type": "code",
   "metadata": {
    "cell_id": "eab1c41286d24c66b828579400d8e68c",
    "tags": [],
    "deepnote_to_be_reexecuted": false,
    "source_hash": "55d330eb",
    "execution_start": 1661831942159,
    "execution_millis": 1361,
    "deepnote_cell_type": "code",
    "deepnote_cell_height": 157.1875,
    "deepnote_output_heights": [
     null,
     20.1875
    ]
   },
   "source": "display(df_clean.info())\ndisplay(explore(df_clean))",
   "execution_count": 1,
   "outputs": [
    {
     "output_type": "error",
     "ename": "NameError",
     "evalue": "name 'df_clean' is not defined",
     "traceback": [
      "\u001b[0;31m---------------------------------------------------------------------------\u001b[0m",
      "\u001b[0;31mNameError\u001b[0m                                 Traceback (most recent call last)",
      "Input \u001b[0;32mIn [1]\u001b[0m, in \u001b[0;36m<cell line: 1>\u001b[0;34m()\u001b[0m\n\u001b[0;32m----> 1\u001b[0m display(\u001b[43mdf_clean\u001b[49m\u001b[38;5;241m.\u001b[39minfo())\n\u001b[1;32m      2\u001b[0m display(explore(df_clean))\n",
      "\u001b[0;31mNameError\u001b[0m: name 'df_clean' is not defined"
     ]
    }
   ]
  },
  {
   "cell_type": "markdown",
   "source": "### NUMERIC\n",
   "metadata": {
    "cell_id": "0690064e9cdb48439935db676b190d67",
    "tags": [],
    "deepnote_cell_type": "markdown",
    "deepnote_cell_height": 62
   }
  },
  {
   "cell_type": "code",
   "metadata": {
    "cell_id": "65d208e6c39d4e18b7df4b017100da36",
    "tags": [],
    "deepnote_to_be_reexecuted": false,
    "source_hash": "cc7dbaf0",
    "execution_start": 1661375067469,
    "execution_millis": 3,
    "deepnote_cell_type": "code",
    "deepnote_cell_height": 193.1875
   },
   "source": "display(describe(df_clean.select_dtypes(include ='number'), axis=0))\nprint(\"\\n\")\ndisplay(df_clean.describe())\nprint(\"\\n\")",
   "execution_count": null,
   "outputs": [
    {
     "output_type": "error",
     "ename": "NameError",
     "evalue": "name 'describe' is not defined",
     "traceback": [
      "\u001b[0;31m---------------------------------------------------------------------------\u001b[0m",
      "\u001b[0;31mNameError\u001b[0m                                 Traceback (most recent call last)",
      "Input \u001b[0;32mIn [13]\u001b[0m, in \u001b[0;36m<cell line: 1>\u001b[0;34m()\u001b[0m\n\u001b[0;32m----> 1\u001b[0m display(\u001b[43mdescribe\u001b[49m(df_clean\u001b[38;5;241m.\u001b[39mselect_dtypes(include \u001b[38;5;241m=\u001b[39m\u001b[38;5;124m'\u001b[39m\u001b[38;5;124mnumber\u001b[39m\u001b[38;5;124m'\u001b[39m), axis\u001b[38;5;241m=\u001b[39m\u001b[38;5;241m0\u001b[39m))\n\u001b[1;32m      2\u001b[0m \u001b[38;5;28mprint\u001b[39m(\u001b[38;5;124m\"\u001b[39m\u001b[38;5;130;01m\\n\u001b[39;00m\u001b[38;5;124m\"\u001b[39m)\n\u001b[1;32m      3\u001b[0m display(df_clean\u001b[38;5;241m.\u001b[39mdescribe())\n",
      "\u001b[0;31mNameError\u001b[0m: name 'describe' is not defined"
     ]
    }
   ]
  },
  {
   "cell_type": "markdown",
   "source": "### NON NUMERIC\n",
   "metadata": {
    "cell_id": "275d84e6242a4c1db0ab7226c5da7a1b",
    "tags": [],
    "deepnote_cell_type": "markdown",
    "deepnote_cell_height": 62
   }
  },
  {
   "cell_type": "code",
   "metadata": {
    "cell_id": "96010a6e025a46dbbecdaac587b53c8e",
    "tags": [],
    "deepnote_to_be_reexecuted": false,
    "source_hash": "ec470266",
    "execution_start": 1661209128915,
    "execution_millis": 590,
    "deepnote_cell_type": "code",
    "deepnote_cell_height": 308
   },
   "source": "display(df_clean.select_dtypes(include ='object').describe(include = 'O').T)",
   "execution_count": null,
   "outputs": [
    {
     "data": {
      "application/vnd.deepnote.dataframe.v3+json": {
       "column_count": 4,
       "row_count": 3,
       "columns": [
        {
         "name": "count",
         "dtype": "object",
         "stats": {
          "unique_count": 3,
          "nan_count": 0,
          "categories": [
           {
            "name": "891",
            "count": 1
           },
           {
            "name": "204",
            "count": 1
           },
           {
            "name": "889",
            "count": 1
           }
          ]
         }
        },
        {
         "name": "unique",
         "dtype": "object",
         "stats": {
          "unique_count": 3,
          "nan_count": 0,
          "categories": [
           {
            "name": "2",
            "count": 1
           },
           {
            "name": "147",
            "count": 1
           },
           {
            "name": "3",
            "count": 1
           }
          ]
         }
        },
        {
         "name": "top",
         "dtype": "object",
         "stats": {
          "unique_count": 3,
          "nan_count": 0,
          "categories": [
           {
            "name": "male",
            "count": 1
           },
           {
            "name": "B96 B98",
            "count": 1
           },
           {
            "name": "S",
            "count": 1
           }
          ]
         }
        },
        {
         "name": "freq",
         "dtype": "object",
         "stats": {
          "unique_count": 3,
          "nan_count": 0,
          "categories": [
           {
            "name": "577",
            "count": 1
           },
           {
            "name": "4",
            "count": 1
           },
           {
            "name": "644",
            "count": 1
           }
          ]
         }
        },
        {
         "name": "_deepnote_index_column",
         "dtype": "object"
        }
       ],
       "rows": [
        {
         "count": "891",
         "unique": "2",
         "top": "male",
         "freq": "577",
         "_deepnote_index_column": "Sex"
        },
        {
         "count": "204",
         "unique": "147",
         "top": "B96 B98",
         "freq": "4",
         "_deepnote_index_column": "Cabin"
        },
        {
         "count": "889",
         "unique": "3",
         "top": "S",
         "freq": "644",
         "_deepnote_index_column": "Embarked"
        }
       ]
      },
      "text/plain": "         count unique      top freq\nSex        891      2     male  577\nCabin      204    147  B96 B98    4\nEmbarked   889      3        S  644",
      "text/html": "<div>\n<style scoped>\n    .dataframe tbody tr th:only-of-type {\n        vertical-align: middle;\n    }\n\n    .dataframe tbody tr th {\n        vertical-align: top;\n    }\n\n    .dataframe thead th {\n        text-align: right;\n    }\n</style>\n<table border=\"1\" class=\"dataframe\">\n  <thead>\n    <tr style=\"text-align: right;\">\n      <th></th>\n      <th>count</th>\n      <th>unique</th>\n      <th>top</th>\n      <th>freq</th>\n    </tr>\n  </thead>\n  <tbody>\n    <tr>\n      <th>Sex</th>\n      <td>891</td>\n      <td>2</td>\n      <td>male</td>\n      <td>577</td>\n    </tr>\n    <tr>\n      <th>Cabin</th>\n      <td>204</td>\n      <td>147</td>\n      <td>B96 B98</td>\n      <td>4</td>\n    </tr>\n    <tr>\n      <th>Embarked</th>\n      <td>889</td>\n      <td>3</td>\n      <td>S</td>\n      <td>644</td>\n    </tr>\n  </tbody>\n</table>\n</div>"
     },
     "metadata": {},
     "output_type": "display_data"
    }
   ]
  },
  {
   "cell_type": "markdown",
   "source": "# FIXING\n",
   "metadata": {
    "cell_id": "e38f441563aa4d95a323fb7afb10b3a6",
    "tags": [],
    "deepnote_cell_type": "markdown",
    "deepnote_cell_height": 82
   }
  },
  {
   "cell_type": "code",
   "metadata": {
    "cell_id": "8324fedea9ec4f48b53034498a329240",
    "tags": [],
    "deepnote_to_be_reexecuted": false,
    "source_hash": "c85ea861",
    "execution_start": 1661375761207,
    "execution_millis": 2,
    "deepnote_cell_type": "code",
    "deepnote_cell_height": 238
   },
   "source": "from sklearn.preprocessing import OneHotEncoder\n\n# NAN, NULLS - Age, Cabin, Embarked\ndf_clean['Age'].fillna(value=df_clean['Age'].mean(), inplace=True)\ndf_clean.Cabin.fillna('', inplace = True)\ndf_clean.Embarked.fillna('', inplace = True)\n\n# ENCODING - Sex, Embarked\ndf_clean[\"Sex\"] = (df_clean['Sex'] != \"male\").astype(float)\ndf_clean[\"encode\"] = OneHotEncoder().fit_transform(df_clean[['Embarked']])",
   "execution_count": null,
   "outputs": []
  },
  {
   "cell_type": "code",
   "metadata": {
    "cell_id": "7f51d5926c3c421c96cd2e37c1cb5cf0",
    "tags": [],
    "deepnote_to_be_reexecuted": false,
    "source_hash": "b8c7d35",
    "execution_start": 1661212225460,
    "execution_millis": 35,
    "deepnote_cell_type": "code",
    "deepnote_cell_height": 406.796875
   },
   "source": "df_clean.head()",
   "execution_count": null,
   "outputs": [
    {
     "output_type": "execute_result",
     "execution_count": 114,
     "data": {
      "application/vnd.deepnote.dataframe.v3+json": {
       "column_count": 8,
       "row_count": 5,
       "columns": [
        {
         "name": "Survived",
         "dtype": "int64",
         "stats": {
          "unique_count": 2,
          "nan_count": 0,
          "min": "0",
          "max": "1",
          "histogram": [
           {
            "bin_start": 0,
            "bin_end": 0.1,
            "count": 2
           },
           {
            "bin_start": 0.1,
            "bin_end": 0.2,
            "count": 0
           },
           {
            "bin_start": 0.2,
            "bin_end": 0.30000000000000004,
            "count": 0
           },
           {
            "bin_start": 0.30000000000000004,
            "bin_end": 0.4,
            "count": 0
           },
           {
            "bin_start": 0.4,
            "bin_end": 0.5,
            "count": 0
           },
           {
            "bin_start": 0.5,
            "bin_end": 0.6000000000000001,
            "count": 0
           },
           {
            "bin_start": 0.6000000000000001,
            "bin_end": 0.7000000000000001,
            "count": 0
           },
           {
            "bin_start": 0.7000000000000001,
            "bin_end": 0.8,
            "count": 0
           },
           {
            "bin_start": 0.8,
            "bin_end": 0.9,
            "count": 0
           },
           {
            "bin_start": 0.9,
            "bin_end": 1,
            "count": 3
           }
          ]
         }
        },
        {
         "name": "Pclass",
         "dtype": "int64",
         "stats": {
          "unique_count": 2,
          "nan_count": 0,
          "min": "1",
          "max": "3",
          "histogram": [
           {
            "bin_start": 1,
            "bin_end": 1.2,
            "count": 2
           },
           {
            "bin_start": 1.2,
            "bin_end": 1.4,
            "count": 0
           },
           {
            "bin_start": 1.4,
            "bin_end": 1.6,
            "count": 0
           },
           {
            "bin_start": 1.6,
            "bin_end": 1.8,
            "count": 0
           },
           {
            "bin_start": 1.8,
            "bin_end": 2,
            "count": 0
           },
           {
            "bin_start": 2,
            "bin_end": 2.2,
            "count": 0
           },
           {
            "bin_start": 2.2,
            "bin_end": 2.4000000000000004,
            "count": 0
           },
           {
            "bin_start": 2.4000000000000004,
            "bin_end": 2.6,
            "count": 0
           },
           {
            "bin_start": 2.6,
            "bin_end": 2.8,
            "count": 0
           },
           {
            "bin_start": 2.8,
            "bin_end": 3,
            "count": 3
           }
          ]
         }
        },
        {
         "name": "Sex",
         "dtype": "float64",
         "stats": {
          "unique_count": 1,
          "nan_count": 0,
          "min": "1.0",
          "max": "1.0",
          "histogram": [
           {
            "bin_start": 0.5,
            "bin_end": 0.6,
            "count": 0
           },
           {
            "bin_start": 0.6,
            "bin_end": 0.7,
            "count": 0
           },
           {
            "bin_start": 0.7,
            "bin_end": 0.8,
            "count": 0
           },
           {
            "bin_start": 0.8,
            "bin_end": 0.9,
            "count": 0
           },
           {
            "bin_start": 0.9,
            "bin_end": 1,
            "count": 0
           },
           {
            "bin_start": 1,
            "bin_end": 1.1,
            "count": 5
           },
           {
            "bin_start": 1.1,
            "bin_end": 1.2000000000000002,
            "count": 0
           },
           {
            "bin_start": 1.2000000000000002,
            "bin_end": 1.3,
            "count": 0
           },
           {
            "bin_start": 1.3,
            "bin_end": 1.4,
            "count": 0
           },
           {
            "bin_start": 1.4,
            "bin_end": 1.5,
            "count": 0
           }
          ]
         }
        },
        {
         "name": "Age",
         "dtype": "float64",
         "stats": {
          "unique_count": 4,
          "nan_count": 0,
          "min": "22.0",
          "max": "38.0",
          "histogram": [
           {
            "bin_start": 22,
            "bin_end": 23.6,
            "count": 1
           },
           {
            "bin_start": 23.6,
            "bin_end": 25.2,
            "count": 0
           },
           {
            "bin_start": 25.2,
            "bin_end": 26.8,
            "count": 1
           },
           {
            "bin_start": 26.8,
            "bin_end": 28.4,
            "count": 0
           },
           {
            "bin_start": 28.4,
            "bin_end": 30,
            "count": 0
           },
           {
            "bin_start": 30,
            "bin_end": 31.6,
            "count": 0
           },
           {
            "bin_start": 31.6,
            "bin_end": 33.2,
            "count": 0
           },
           {
            "bin_start": 33.2,
            "bin_end": 34.8,
            "count": 0
           },
           {
            "bin_start": 34.8,
            "bin_end": 36.4,
            "count": 2
           },
           {
            "bin_start": 36.4,
            "bin_end": 38,
            "count": 1
           }
          ]
         }
        },
        {
         "name": "Cabin",
         "dtype": "object",
         "stats": {
          "unique_count": 3,
          "nan_count": 0,
          "categories": [
           {
            "name": "",
            "count": 3
           },
           {
            "name": "C85",
            "count": 1
           },
           {
            "name": "C123",
            "count": 1
           }
          ]
         }
        },
        {
         "name": "Embarked",
         "dtype": "object",
         "stats": {
          "unique_count": 2,
          "nan_count": 0,
          "categories": [
           {
            "name": "S",
            "count": 4
           },
           {
            "name": "C",
            "count": 1
           }
          ]
         }
        },
        {
         "name": "Output",
         "dtype": "float64",
         "stats": {
          "unique_count": 2,
          "nan_count": 0,
          "min": "0.0",
          "max": "1.0",
          "histogram": [
           {
            "bin_start": 0,
            "bin_end": 0.1,
            "count": 2
           },
           {
            "bin_start": 0.1,
            "bin_end": 0.2,
            "count": 0
           },
           {
            "bin_start": 0.2,
            "bin_end": 0.30000000000000004,
            "count": 0
           },
           {
            "bin_start": 0.30000000000000004,
            "bin_end": 0.4,
            "count": 0
           },
           {
            "bin_start": 0.4,
            "bin_end": 0.5,
            "count": 0
           },
           {
            "bin_start": 0.5,
            "bin_end": 0.6000000000000001,
            "count": 0
           },
           {
            "bin_start": 0.6000000000000001,
            "bin_end": 0.7000000000000001,
            "count": 0
           },
           {
            "bin_start": 0.7000000000000001,
            "bin_end": 0.8,
            "count": 0
           },
           {
            "bin_start": 0.8,
            "bin_end": 0.9,
            "count": 0
           },
           {
            "bin_start": 0.9,
            "bin_end": 1,
            "count": 3
           }
          ]
         }
        },
        {
         "name": "encode",
         "dtype": "float64",
         "stats": {
          "unique_count": 1,
          "nan_count": 0,
          "min": "0.0",
          "max": "0.0",
          "histogram": [
           {
            "bin_start": -0.5,
            "bin_end": -0.4,
            "count": 0
           },
           {
            "bin_start": -0.4,
            "bin_end": -0.3,
            "count": 0
           },
           {
            "bin_start": -0.3,
            "bin_end": -0.19999999999999996,
            "count": 0
           },
           {
            "bin_start": -0.19999999999999996,
            "bin_end": -0.09999999999999998,
            "count": 0
           },
           {
            "bin_start": -0.09999999999999998,
            "bin_end": 0,
            "count": 0
           },
           {
            "bin_start": 0,
            "bin_end": 0.10000000000000009,
            "count": 5
           },
           {
            "bin_start": 0.10000000000000009,
            "bin_end": 0.20000000000000007,
            "count": 0
           },
           {
            "bin_start": 0.20000000000000007,
            "bin_end": 0.30000000000000004,
            "count": 0
           },
           {
            "bin_start": 0.30000000000000004,
            "bin_end": 0.4,
            "count": 0
           },
           {
            "bin_start": 0.4,
            "bin_end": 0.5,
            "count": 0
           }
          ]
         }
        },
        {
         "name": "_deepnote_index_column",
         "dtype": "int64"
        }
       ],
       "rows": [
        {
         "Survived": 0,
         "Pclass": 3,
         "Sex": 1,
         "Age": 22,
         "Cabin": "",
         "Embarked": "S",
         "Output": 0,
         "encode": 0,
         "_deepnote_index_column": 0
        },
        {
         "Survived": 1,
         "Pclass": 1,
         "Sex": 1,
         "Age": 38,
         "Cabin": "C85",
         "Embarked": "C",
         "Output": 1,
         "encode": 0,
         "_deepnote_index_column": 1
        },
        {
         "Survived": 1,
         "Pclass": 3,
         "Sex": 1,
         "Age": 26,
         "Cabin": "",
         "Embarked": "S",
         "Output": 1,
         "encode": 0,
         "_deepnote_index_column": 2
        },
        {
         "Survived": 1,
         "Pclass": 1,
         "Sex": 1,
         "Age": 35,
         "Cabin": "C123",
         "Embarked": "S",
         "Output": 1,
         "encode": 0,
         "_deepnote_index_column": 3
        },
        {
         "Survived": 0,
         "Pclass": 3,
         "Sex": 1,
         "Age": 35,
         "Cabin": "",
         "Embarked": "S",
         "Output": 0,
         "encode": 0,
         "_deepnote_index_column": 4
        }
       ]
      },
      "text/plain": "   Survived  Pclass  Sex   Age Cabin Embarked  Output  encode\n0         0       3  1.0  22.0              S     0.0     0.0\n1         1       1  1.0  38.0   C85        C     1.0     0.0\n2         1       3  1.0  26.0              S     1.0     0.0\n3         1       1  1.0  35.0  C123        S     1.0     0.0\n4         0       3  1.0  35.0              S     0.0     0.0",
      "text/html": "<div>\n<style scoped>\n    .dataframe tbody tr th:only-of-type {\n        vertical-align: middle;\n    }\n\n    .dataframe tbody tr th {\n        vertical-align: top;\n    }\n\n    .dataframe thead th {\n        text-align: right;\n    }\n</style>\n<table border=\"1\" class=\"dataframe\">\n  <thead>\n    <tr style=\"text-align: right;\">\n      <th></th>\n      <th>Survived</th>\n      <th>Pclass</th>\n      <th>Sex</th>\n      <th>Age</th>\n      <th>Cabin</th>\n      <th>Embarked</th>\n      <th>Output</th>\n      <th>encode</th>\n    </tr>\n  </thead>\n  <tbody>\n    <tr>\n      <th>0</th>\n      <td>0</td>\n      <td>3</td>\n      <td>1.0</td>\n      <td>22.0</td>\n      <td></td>\n      <td>S</td>\n      <td>0.0</td>\n      <td>0.0</td>\n    </tr>\n    <tr>\n      <th>1</th>\n      <td>1</td>\n      <td>1</td>\n      <td>1.0</td>\n      <td>38.0</td>\n      <td>C85</td>\n      <td>C</td>\n      <td>1.0</td>\n      <td>0.0</td>\n    </tr>\n    <tr>\n      <th>2</th>\n      <td>1</td>\n      <td>3</td>\n      <td>1.0</td>\n      <td>26.0</td>\n      <td></td>\n      <td>S</td>\n      <td>1.0</td>\n      <td>0.0</td>\n    </tr>\n    <tr>\n      <th>3</th>\n      <td>1</td>\n      <td>1</td>\n      <td>1.0</td>\n      <td>35.0</td>\n      <td>C123</td>\n      <td>S</td>\n      <td>1.0</td>\n      <td>0.0</td>\n    </tr>\n    <tr>\n      <th>4</th>\n      <td>0</td>\n      <td>3</td>\n      <td>1.0</td>\n      <td>35.0</td>\n      <td></td>\n      <td>S</td>\n      <td>0.0</td>\n      <td>0.0</td>\n    </tr>\n  </tbody>\n</table>\n</div>"
     },
     "metadata": {}
    }
   ]
  },
  {
   "cell_type": "markdown",
   "source": "# BASELINE MODEL",
   "metadata": {
    "cell_id": "f82998d3fc254869b58a607b97a2b482",
    "tags": [],
    "deepnote_cell_type": "markdown",
    "deepnote_cell_height": 82
   }
  },
  {
   "cell_type": "code",
   "metadata": {
    "cell_id": "2395042de64f497bb1cae1009eb8d214",
    "tags": [],
    "deepnote_to_be_reexecuted": false,
    "source_hash": "1182091f",
    "execution_start": 1661375771424,
    "execution_millis": 878,
    "deepnote_table_state": {
     "pageSize": 10,
     "pageIndex": 1,
     "filters": [],
     "sortBy": []
    },
    "deepnote_table_loading": false,
    "deepnote_cell_type": "code",
    "deepnote_cell_height": 647.796875
   },
   "source": "# IF female -> survived ELSE died\ndf_clean[\"Output\"] =  (df_clean['Sex'] != \"male\").astype(float)\ndf_clean",
   "execution_count": null,
   "outputs": [
    {
     "output_type": "execute_result",
     "execution_count": 36,
     "data": {
      "application/vnd.deepnote.dataframe.v3+json": {
       "column_count": 8,
       "row_count": 891,
       "columns": [
        {
         "name": "Survived",
         "dtype": "int64",
         "stats": {
          "unique_count": 2,
          "nan_count": 0,
          "min": "0",
          "max": "1",
          "histogram": [
           {
            "bin_start": 0,
            "bin_end": 0.1,
            "count": 549
           },
           {
            "bin_start": 0.1,
            "bin_end": 0.2,
            "count": 0
           },
           {
            "bin_start": 0.2,
            "bin_end": 0.30000000000000004,
            "count": 0
           },
           {
            "bin_start": 0.30000000000000004,
            "bin_end": 0.4,
            "count": 0
           },
           {
            "bin_start": 0.4,
            "bin_end": 0.5,
            "count": 0
           },
           {
            "bin_start": 0.5,
            "bin_end": 0.6000000000000001,
            "count": 0
           },
           {
            "bin_start": 0.6000000000000001,
            "bin_end": 0.7000000000000001,
            "count": 0
           },
           {
            "bin_start": 0.7000000000000001,
            "bin_end": 0.8,
            "count": 0
           },
           {
            "bin_start": 0.8,
            "bin_end": 0.9,
            "count": 0
           },
           {
            "bin_start": 0.9,
            "bin_end": 1,
            "count": 342
           }
          ]
         }
        },
        {
         "name": "Pclass",
         "dtype": "int64",
         "stats": {
          "unique_count": 3,
          "nan_count": 0,
          "min": "1",
          "max": "3",
          "histogram": [
           {
            "bin_start": 1,
            "bin_end": 1.2,
            "count": 216
           },
           {
            "bin_start": 1.2,
            "bin_end": 1.4,
            "count": 0
           },
           {
            "bin_start": 1.4,
            "bin_end": 1.6,
            "count": 0
           },
           {
            "bin_start": 1.6,
            "bin_end": 1.8,
            "count": 0
           },
           {
            "bin_start": 1.8,
            "bin_end": 2,
            "count": 0
           },
           {
            "bin_start": 2,
            "bin_end": 2.2,
            "count": 184
           },
           {
            "bin_start": 2.2,
            "bin_end": 2.4000000000000004,
            "count": 0
           },
           {
            "bin_start": 2.4000000000000004,
            "bin_end": 2.6,
            "count": 0
           },
           {
            "bin_start": 2.6,
            "bin_end": 2.8,
            "count": 0
           },
           {
            "bin_start": 2.8,
            "bin_end": 3,
            "count": 491
           }
          ]
         }
        },
        {
         "name": "Sex",
         "dtype": "float64",
         "stats": {
          "unique_count": 1,
          "nan_count": 0,
          "min": "1.0",
          "max": "1.0",
          "histogram": [
           {
            "bin_start": 0.5,
            "bin_end": 0.6,
            "count": 0
           },
           {
            "bin_start": 0.6,
            "bin_end": 0.7,
            "count": 0
           },
           {
            "bin_start": 0.7,
            "bin_end": 0.8,
            "count": 0
           },
           {
            "bin_start": 0.8,
            "bin_end": 0.9,
            "count": 0
           },
           {
            "bin_start": 0.9,
            "bin_end": 1,
            "count": 0
           },
           {
            "bin_start": 1,
            "bin_end": 1.1,
            "count": 891
           },
           {
            "bin_start": 1.1,
            "bin_end": 1.2000000000000002,
            "count": 0
           },
           {
            "bin_start": 1.2000000000000002,
            "bin_end": 1.3,
            "count": 0
           },
           {
            "bin_start": 1.3,
            "bin_end": 1.4,
            "count": 0
           },
           {
            "bin_start": 1.4,
            "bin_end": 1.5,
            "count": 0
           }
          ]
         }
        },
        {
         "name": "Age",
         "dtype": "float64",
         "stats": {
          "unique_count": 89,
          "nan_count": 0,
          "min": "0.42",
          "max": "80.0",
          "histogram": [
           {
            "bin_start": 0.42,
            "bin_end": 8.378,
            "count": 54
           },
           {
            "bin_start": 8.378,
            "bin_end": 16.336000000000002,
            "count": 46
           },
           {
            "bin_start": 16.336000000000002,
            "bin_end": 24.294000000000004,
            "count": 177
           },
           {
            "bin_start": 24.294000000000004,
            "bin_end": 32.252,
            "count": 346
           },
           {
            "bin_start": 32.252,
            "bin_end": 40.21,
            "count": 118
           },
           {
            "bin_start": 40.21,
            "bin_end": 48.168000000000006,
            "count": 70
           },
           {
            "bin_start": 48.168000000000006,
            "bin_end": 56.126000000000005,
            "count": 45
           },
           {
            "bin_start": 56.126000000000005,
            "bin_end": 64.084,
            "count": 24
           },
           {
            "bin_start": 64.084,
            "bin_end": 72.042,
            "count": 9
           },
           {
            "bin_start": 72.042,
            "bin_end": 80,
            "count": 2
           }
          ]
         }
        },
        {
         "name": "Cabin",
         "dtype": "object",
         "stats": {
          "unique_count": 148,
          "nan_count": 0,
          "categories": [
           {
            "name": "",
            "count": 687
           },
           {
            "name": "G6",
            "count": 4
           },
           {
            "name": "146 others",
            "count": 200
           }
          ]
         }
        },
        {
         "name": "Embarked",
         "dtype": "object",
         "stats": {
          "unique_count": 4,
          "nan_count": 0,
          "categories": [
           {
            "name": "S",
            "count": 644
           },
           {
            "name": "C",
            "count": 168
           },
           {
            "name": "2 others",
            "count": 79
           }
          ]
         }
        },
        {
         "name": "encode",
         "dtype": "object",
         "stats": {
          "unique_count": 891,
          "nan_count": 0,
          "categories": [
           {
            "name": "  (0, 3)\t1.0\n  (1, 1)\t1.0\n  (2, 3)\t1.0\n  (3, 3)\t1.0\n  (4, 3)\t1.0\n  (5, 2)\t1.0\n  (6, 3)\t1.0\n  (7, 3)\t1.0\n  (8, 3)\t1.0\n  (9, 1)\t1.0\n  (10, 3)\t1.0\n  (11, 3)\t1.0\n  (12, 3)\t1.0\n  (13, 3)\t1.0\n  (14, 3)\t1.0\n  (15, 3)\t1.0\n  (16, 2)\t1.0\n  (17, 3)\t1.0\n  (18, 3)\t1.0\n  (19, 1)\t1.0\n  (20, 3)\t1.0\n  (21, 3)\t1.0\n  (22, 2)\t1.0\n  (23, 3)\t1.0\n  (24, 3)\t1.0\n  :\t:\n  (866, 1)\t1.0\n  (867, 3)\t1.0\n  (868, 3)\t1.0\n  (869, 3)\t1.0\n  (870, 3)\t1.0\n  (871, 3)\t1.0\n  (872, 3)\t1.0\n  (873, 3)\t1.0\n  (874, 1)\t1.0\n  (875, 1)\t1.0\n  (876, 3)\t1.0\n  (877, 3)\t1.0\n  (878, 3)\t1.0\n  (879, 1)\t1.0\n  (880, 3)\t1.0\n  (881, 3)\t1.0\n  (882, 3)\t1.0\n  (883, 3)\t1.0\n  (884, 3)\t1.0\n  (885, 2)\t1.0\n  (886, 3)\t1.0\n  (887, 3)\t1.0\n  (888, 3)\t1.0\n  (889, 1)\t1.0\n  (890, 2)\t1.0",
            "count": 891
           }
          ]
         }
        },
        {
         "name": "Output",
         "dtype": "float64",
         "stats": {
          "unique_count": 1,
          "nan_count": 0,
          "min": "1.0",
          "max": "1.0",
          "histogram": [
           {
            "bin_start": 0.5,
            "bin_end": 0.6,
            "count": 0
           },
           {
            "bin_start": 0.6,
            "bin_end": 0.7,
            "count": 0
           },
           {
            "bin_start": 0.7,
            "bin_end": 0.8,
            "count": 0
           },
           {
            "bin_start": 0.8,
            "bin_end": 0.9,
            "count": 0
           },
           {
            "bin_start": 0.9,
            "bin_end": 1,
            "count": 0
           },
           {
            "bin_start": 1,
            "bin_end": 1.1,
            "count": 891
           },
           {
            "bin_start": 1.1,
            "bin_end": 1.2000000000000002,
            "count": 0
           },
           {
            "bin_start": 1.2000000000000002,
            "bin_end": 1.3,
            "count": 0
           },
           {
            "bin_start": 1.3,
            "bin_end": 1.4,
            "count": 0
           },
           {
            "bin_start": 1.4,
            "bin_end": 1.5,
            "count": 0
           }
          ]
         }
        },
        {
         "name": "_deepnote_index_column",
         "dtype": "int64"
        }
       ],
       "rows": [
        {
         "Survived": 1,
         "Pclass": 3,
         "Sex": 1,
         "Age": 4,
         "Cabin": "G6",
         "Embarked": "S",
         "encode": "  (0, 3)\t1.0\n  (1, 1)\t1.0\n  (2, 3)\t1.0\n  (3, 3)\t1.0\n  (4, 3)\t1.0\n  (5, 2)\t1.0\n  (6, 3)\t1.0\n  (7, 3)\t1.0\n  (8, 3)\t1.0\n  (9, 1)\t1.0\n  (10, 3)\t1.0\n  (11, 3)\t1.0\n  (12, 3)\t1.0\n  (13, 3)\t1.0\n  (14, 3)\t1.0\n  (15, 3)\t1.0\n  (16, 2)\t1.0\n  (17, 3)\t1.0\n  (18, 3)\t1.0\n  (19, 1)\t1.0\n  (20, 3)\t1.0\n  (21, 3)\t1.0\n  (22, 2)\t1.0\n  (23, 3)\t1.0\n  (24, 3)\t1.0\n  :\t:\n  (866, 1)\t1.0\n  (867, 3)\t1.0\n  (868, 3)\t1.0\n  (869, 3)\t1.0\n  (870, 3)\t1.0\n  (871, 3)\t1.0\n  (872, 3)\t1.0\n  (873, 3)\t1.0\n  (874, 1)\t1.0\n  (875, 1)\t1.0\n  (876, 3)\t1.0\n  (877, 3)\t1.0\n  (878, 3)\t1.0\n  (879, 1)\t1.0\n  (880, 3)\t1.0\n  (881, 3)\t1.0\n  (882, 3)\t1.0\n  (883, 3)\t1.0\n  (884, 3)\t1.0\n  (885, 2)\t1.0\n  (886, 3)\t1.0\n  (887, 3)\t1.0\n  (888, 3)\t1.0\n  (889, 1)\t1.0\n  (890, 2)\t1.0",
         "Output": 1,
         "_deepnote_index_column": 10
        },
        {
         "Survived": 1,
         "Pclass": 1,
         "Sex": 1,
         "Age": 58,
         "Cabin": "C103",
         "Embarked": "S",
         "encode": "  (0, 3)\t1.0\n  (1, 1)\t1.0\n  (2, 3)\t1.0\n  (3, 3)\t1.0\n  (4, 3)\t1.0\n  (5, 2)\t1.0\n  (6, 3)\t1.0\n  (7, 3)\t1.0\n  (8, 3)\t1.0\n  (9, 1)\t1.0\n  (10, 3)\t1.0\n  (11, 3)\t1.0\n  (12, 3)\t1.0\n  (13, 3)\t1.0\n  (14, 3)\t1.0\n  (15, 3)\t1.0\n  (16, 2)\t1.0\n  (17, 3)\t1.0\n  (18, 3)\t1.0\n  (19, 1)\t1.0\n  (20, 3)\t1.0\n  (21, 3)\t1.0\n  (22, 2)\t1.0\n  (23, 3)\t1.0\n  (24, 3)\t1.0\n  :\t:\n  (866, 1)\t1.0\n  (867, 3)\t1.0\n  (868, 3)\t1.0\n  (869, 3)\t1.0\n  (870, 3)\t1.0\n  (871, 3)\t1.0\n  (872, 3)\t1.0\n  (873, 3)\t1.0\n  (874, 1)\t1.0\n  (875, 1)\t1.0\n  (876, 3)\t1.0\n  (877, 3)\t1.0\n  (878, 3)\t1.0\n  (879, 1)\t1.0\n  (880, 3)\t1.0\n  (881, 3)\t1.0\n  (882, 3)\t1.0\n  (883, 3)\t1.0\n  (884, 3)\t1.0\n  (885, 2)\t1.0\n  (886, 3)\t1.0\n  (887, 3)\t1.0\n  (888, 3)\t1.0\n  (889, 1)\t1.0\n  (890, 2)\t1.0",
         "Output": 1,
         "_deepnote_index_column": 11
        },
        {
         "Survived": 0,
         "Pclass": 3,
         "Sex": 1,
         "Age": 20,
         "Cabin": "",
         "Embarked": "S",
         "encode": "  (0, 3)\t1.0\n  (1, 1)\t1.0\n  (2, 3)\t1.0\n  (3, 3)\t1.0\n  (4, 3)\t1.0\n  (5, 2)\t1.0\n  (6, 3)\t1.0\n  (7, 3)\t1.0\n  (8, 3)\t1.0\n  (9, 1)\t1.0\n  (10, 3)\t1.0\n  (11, 3)\t1.0\n  (12, 3)\t1.0\n  (13, 3)\t1.0\n  (14, 3)\t1.0\n  (15, 3)\t1.0\n  (16, 2)\t1.0\n  (17, 3)\t1.0\n  (18, 3)\t1.0\n  (19, 1)\t1.0\n  (20, 3)\t1.0\n  (21, 3)\t1.0\n  (22, 2)\t1.0\n  (23, 3)\t1.0\n  (24, 3)\t1.0\n  :\t:\n  (866, 1)\t1.0\n  (867, 3)\t1.0\n  (868, 3)\t1.0\n  (869, 3)\t1.0\n  (870, 3)\t1.0\n  (871, 3)\t1.0\n  (872, 3)\t1.0\n  (873, 3)\t1.0\n  (874, 1)\t1.0\n  (875, 1)\t1.0\n  (876, 3)\t1.0\n  (877, 3)\t1.0\n  (878, 3)\t1.0\n  (879, 1)\t1.0\n  (880, 3)\t1.0\n  (881, 3)\t1.0\n  (882, 3)\t1.0\n  (883, 3)\t1.0\n  (884, 3)\t1.0\n  (885, 2)\t1.0\n  (886, 3)\t1.0\n  (887, 3)\t1.0\n  (888, 3)\t1.0\n  (889, 1)\t1.0\n  (890, 2)\t1.0",
         "Output": 1,
         "_deepnote_index_column": 12
        },
        {
         "Survived": 0,
         "Pclass": 3,
         "Sex": 1,
         "Age": 39,
         "Cabin": "",
         "Embarked": "S",
         "encode": "  (0, 3)\t1.0\n  (1, 1)\t1.0\n  (2, 3)\t1.0\n  (3, 3)\t1.0\n  (4, 3)\t1.0\n  (5, 2)\t1.0\n  (6, 3)\t1.0\n  (7, 3)\t1.0\n  (8, 3)\t1.0\n  (9, 1)\t1.0\n  (10, 3)\t1.0\n  (11, 3)\t1.0\n  (12, 3)\t1.0\n  (13, 3)\t1.0\n  (14, 3)\t1.0\n  (15, 3)\t1.0\n  (16, 2)\t1.0\n  (17, 3)\t1.0\n  (18, 3)\t1.0\n  (19, 1)\t1.0\n  (20, 3)\t1.0\n  (21, 3)\t1.0\n  (22, 2)\t1.0\n  (23, 3)\t1.0\n  (24, 3)\t1.0\n  :\t:\n  (866, 1)\t1.0\n  (867, 3)\t1.0\n  (868, 3)\t1.0\n  (869, 3)\t1.0\n  (870, 3)\t1.0\n  (871, 3)\t1.0\n  (872, 3)\t1.0\n  (873, 3)\t1.0\n  (874, 1)\t1.0\n  (875, 1)\t1.0\n  (876, 3)\t1.0\n  (877, 3)\t1.0\n  (878, 3)\t1.0\n  (879, 1)\t1.0\n  (880, 3)\t1.0\n  (881, 3)\t1.0\n  (882, 3)\t1.0\n  (883, 3)\t1.0\n  (884, 3)\t1.0\n  (885, 2)\t1.0\n  (886, 3)\t1.0\n  (887, 3)\t1.0\n  (888, 3)\t1.0\n  (889, 1)\t1.0\n  (890, 2)\t1.0",
         "Output": 1,
         "_deepnote_index_column": 13
        },
        {
         "Survived": 0,
         "Pclass": 3,
         "Sex": 1,
         "Age": 14,
         "Cabin": "",
         "Embarked": "S",
         "encode": "  (0, 3)\t1.0\n  (1, 1)\t1.0\n  (2, 3)\t1.0\n  (3, 3)\t1.0\n  (4, 3)\t1.0\n  (5, 2)\t1.0\n  (6, 3)\t1.0\n  (7, 3)\t1.0\n  (8, 3)\t1.0\n  (9, 1)\t1.0\n  (10, 3)\t1.0\n  (11, 3)\t1.0\n  (12, 3)\t1.0\n  (13, 3)\t1.0\n  (14, 3)\t1.0\n  (15, 3)\t1.0\n  (16, 2)\t1.0\n  (17, 3)\t1.0\n  (18, 3)\t1.0\n  (19, 1)\t1.0\n  (20, 3)\t1.0\n  (21, 3)\t1.0\n  (22, 2)\t1.0\n  (23, 3)\t1.0\n  (24, 3)\t1.0\n  :\t:\n  (866, 1)\t1.0\n  (867, 3)\t1.0\n  (868, 3)\t1.0\n  (869, 3)\t1.0\n  (870, 3)\t1.0\n  (871, 3)\t1.0\n  (872, 3)\t1.0\n  (873, 3)\t1.0\n  (874, 1)\t1.0\n  (875, 1)\t1.0\n  (876, 3)\t1.0\n  (877, 3)\t1.0\n  (878, 3)\t1.0\n  (879, 1)\t1.0\n  (880, 3)\t1.0\n  (881, 3)\t1.0\n  (882, 3)\t1.0\n  (883, 3)\t1.0\n  (884, 3)\t1.0\n  (885, 2)\t1.0\n  (886, 3)\t1.0\n  (887, 3)\t1.0\n  (888, 3)\t1.0\n  (889, 1)\t1.0\n  (890, 2)\t1.0",
         "Output": 1,
         "_deepnote_index_column": 14
        },
        {
         "Survived": 1,
         "Pclass": 2,
         "Sex": 1,
         "Age": 55,
         "Cabin": "",
         "Embarked": "S",
         "encode": "  (0, 3)\t1.0\n  (1, 1)\t1.0\n  (2, 3)\t1.0\n  (3, 3)\t1.0\n  (4, 3)\t1.0\n  (5, 2)\t1.0\n  (6, 3)\t1.0\n  (7, 3)\t1.0\n  (8, 3)\t1.0\n  (9, 1)\t1.0\n  (10, 3)\t1.0\n  (11, 3)\t1.0\n  (12, 3)\t1.0\n  (13, 3)\t1.0\n  (14, 3)\t1.0\n  (15, 3)\t1.0\n  (16, 2)\t1.0\n  (17, 3)\t1.0\n  (18, 3)\t1.0\n  (19, 1)\t1.0\n  (20, 3)\t1.0\n  (21, 3)\t1.0\n  (22, 2)\t1.0\n  (23, 3)\t1.0\n  (24, 3)\t1.0\n  :\t:\n  (866, 1)\t1.0\n  (867, 3)\t1.0\n  (868, 3)\t1.0\n  (869, 3)\t1.0\n  (870, 3)\t1.0\n  (871, 3)\t1.0\n  (872, 3)\t1.0\n  (873, 3)\t1.0\n  (874, 1)\t1.0\n  (875, 1)\t1.0\n  (876, 3)\t1.0\n  (877, 3)\t1.0\n  (878, 3)\t1.0\n  (879, 1)\t1.0\n  (880, 3)\t1.0\n  (881, 3)\t1.0\n  (882, 3)\t1.0\n  (883, 3)\t1.0\n  (884, 3)\t1.0\n  (885, 2)\t1.0\n  (886, 3)\t1.0\n  (887, 3)\t1.0\n  (888, 3)\t1.0\n  (889, 1)\t1.0\n  (890, 2)\t1.0",
         "Output": 1,
         "_deepnote_index_column": 15
        },
        {
         "Survived": 0,
         "Pclass": 3,
         "Sex": 1,
         "Age": 2,
         "Cabin": "",
         "Embarked": "Q",
         "encode": "  (0, 3)\t1.0\n  (1, 1)\t1.0\n  (2, 3)\t1.0\n  (3, 3)\t1.0\n  (4, 3)\t1.0\n  (5, 2)\t1.0\n  (6, 3)\t1.0\n  (7, 3)\t1.0\n  (8, 3)\t1.0\n  (9, 1)\t1.0\n  (10, 3)\t1.0\n  (11, 3)\t1.0\n  (12, 3)\t1.0\n  (13, 3)\t1.0\n  (14, 3)\t1.0\n  (15, 3)\t1.0\n  (16, 2)\t1.0\n  (17, 3)\t1.0\n  (18, 3)\t1.0\n  (19, 1)\t1.0\n  (20, 3)\t1.0\n  (21, 3)\t1.0\n  (22, 2)\t1.0\n  (23, 3)\t1.0\n  (24, 3)\t1.0\n  :\t:\n  (866, 1)\t1.0\n  (867, 3)\t1.0\n  (868, 3)\t1.0\n  (869, 3)\t1.0\n  (870, 3)\t1.0\n  (871, 3)\t1.0\n  (872, 3)\t1.0\n  (873, 3)\t1.0\n  (874, 1)\t1.0\n  (875, 1)\t1.0\n  (876, 3)\t1.0\n  (877, 3)\t1.0\n  (878, 3)\t1.0\n  (879, 1)\t1.0\n  (880, 3)\t1.0\n  (881, 3)\t1.0\n  (882, 3)\t1.0\n  (883, 3)\t1.0\n  (884, 3)\t1.0\n  (885, 2)\t1.0\n  (886, 3)\t1.0\n  (887, 3)\t1.0\n  (888, 3)\t1.0\n  (889, 1)\t1.0\n  (890, 2)\t1.0",
         "Output": 1,
         "_deepnote_index_column": 16
        },
        {
         "Survived": 1,
         "Pclass": 2,
         "Sex": 1,
         "Age": 29.69911764705882,
         "Cabin": "",
         "Embarked": "S",
         "encode": "  (0, 3)\t1.0\n  (1, 1)\t1.0\n  (2, 3)\t1.0\n  (3, 3)\t1.0\n  (4, 3)\t1.0\n  (5, 2)\t1.0\n  (6, 3)\t1.0\n  (7, 3)\t1.0\n  (8, 3)\t1.0\n  (9, 1)\t1.0\n  (10, 3)\t1.0\n  (11, 3)\t1.0\n  (12, 3)\t1.0\n  (13, 3)\t1.0\n  (14, 3)\t1.0\n  (15, 3)\t1.0\n  (16, 2)\t1.0\n  (17, 3)\t1.0\n  (18, 3)\t1.0\n  (19, 1)\t1.0\n  (20, 3)\t1.0\n  (21, 3)\t1.0\n  (22, 2)\t1.0\n  (23, 3)\t1.0\n  (24, 3)\t1.0\n  :\t:\n  (866, 1)\t1.0\n  (867, 3)\t1.0\n  (868, 3)\t1.0\n  (869, 3)\t1.0\n  (870, 3)\t1.0\n  (871, 3)\t1.0\n  (872, 3)\t1.0\n  (873, 3)\t1.0\n  (874, 1)\t1.0\n  (875, 1)\t1.0\n  (876, 3)\t1.0\n  (877, 3)\t1.0\n  (878, 3)\t1.0\n  (879, 1)\t1.0\n  (880, 3)\t1.0\n  (881, 3)\t1.0\n  (882, 3)\t1.0\n  (883, 3)\t1.0\n  (884, 3)\t1.0\n  (885, 2)\t1.0\n  (886, 3)\t1.0\n  (887, 3)\t1.0\n  (888, 3)\t1.0\n  (889, 1)\t1.0\n  (890, 2)\t1.0",
         "Output": 1,
         "_deepnote_index_column": 17
        },
        {
         "Survived": 0,
         "Pclass": 3,
         "Sex": 1,
         "Age": 31,
         "Cabin": "",
         "Embarked": "S",
         "encode": "  (0, 3)\t1.0\n  (1, 1)\t1.0\n  (2, 3)\t1.0\n  (3, 3)\t1.0\n  (4, 3)\t1.0\n  (5, 2)\t1.0\n  (6, 3)\t1.0\n  (7, 3)\t1.0\n  (8, 3)\t1.0\n  (9, 1)\t1.0\n  (10, 3)\t1.0\n  (11, 3)\t1.0\n  (12, 3)\t1.0\n  (13, 3)\t1.0\n  (14, 3)\t1.0\n  (15, 3)\t1.0\n  (16, 2)\t1.0\n  (17, 3)\t1.0\n  (18, 3)\t1.0\n  (19, 1)\t1.0\n  (20, 3)\t1.0\n  (21, 3)\t1.0\n  (22, 2)\t1.0\n  (23, 3)\t1.0\n  (24, 3)\t1.0\n  :\t:\n  (866, 1)\t1.0\n  (867, 3)\t1.0\n  (868, 3)\t1.0\n  (869, 3)\t1.0\n  (870, 3)\t1.0\n  (871, 3)\t1.0\n  (872, 3)\t1.0\n  (873, 3)\t1.0\n  (874, 1)\t1.0\n  (875, 1)\t1.0\n  (876, 3)\t1.0\n  (877, 3)\t1.0\n  (878, 3)\t1.0\n  (879, 1)\t1.0\n  (880, 3)\t1.0\n  (881, 3)\t1.0\n  (882, 3)\t1.0\n  (883, 3)\t1.0\n  (884, 3)\t1.0\n  (885, 2)\t1.0\n  (886, 3)\t1.0\n  (887, 3)\t1.0\n  (888, 3)\t1.0\n  (889, 1)\t1.0\n  (890, 2)\t1.0",
         "Output": 1,
         "_deepnote_index_column": 18
        },
        {
         "Survived": 1,
         "Pclass": 3,
         "Sex": 1,
         "Age": 29.69911764705882,
         "Cabin": "",
         "Embarked": "C",
         "encode": "  (0, 3)\t1.0\n  (1, 1)\t1.0\n  (2, 3)\t1.0\n  (3, 3)\t1.0\n  (4, 3)\t1.0\n  (5, 2)\t1.0\n  (6, 3)\t1.0\n  (7, 3)\t1.0\n  (8, 3)\t1.0\n  (9, 1)\t1.0\n  (10, 3)\t1.0\n  (11, 3)\t1.0\n  (12, 3)\t1.0\n  (13, 3)\t1.0\n  (14, 3)\t1.0\n  (15, 3)\t1.0\n  (16, 2)\t1.0\n  (17, 3)\t1.0\n  (18, 3)\t1.0\n  (19, 1)\t1.0\n  (20, 3)\t1.0\n  (21, 3)\t1.0\n  (22, 2)\t1.0\n  (23, 3)\t1.0\n  (24, 3)\t1.0\n  :\t:\n  (866, 1)\t1.0\n  (867, 3)\t1.0\n  (868, 3)\t1.0\n  (869, 3)\t1.0\n  (870, 3)\t1.0\n  (871, 3)\t1.0\n  (872, 3)\t1.0\n  (873, 3)\t1.0\n  (874, 1)\t1.0\n  (875, 1)\t1.0\n  (876, 3)\t1.0\n  (877, 3)\t1.0\n  (878, 3)\t1.0\n  (879, 1)\t1.0\n  (880, 3)\t1.0\n  (881, 3)\t1.0\n  (882, 3)\t1.0\n  (883, 3)\t1.0\n  (884, 3)\t1.0\n  (885, 2)\t1.0\n  (886, 3)\t1.0\n  (887, 3)\t1.0\n  (888, 3)\t1.0\n  (889, 1)\t1.0\n  (890, 2)\t1.0",
         "Output": 1,
         "_deepnote_index_column": 19
        }
       ]
      },
      "text/plain": "     Survived  Pclass  Sex        Age Cabin Embarked  \\\n0           0       3  1.0  22.000000              S   \n1           1       1  1.0  38.000000   C85        C   \n2           1       3  1.0  26.000000              S   \n3           1       1  1.0  35.000000  C123        S   \n4           0       3  1.0  35.000000              S   \n..        ...     ...  ...        ...   ...      ...   \n886         0       2  1.0  27.000000              S   \n887         1       1  1.0  19.000000   B42        S   \n888         0       3  1.0  29.699118              S   \n889         1       1  1.0  26.000000  C148        C   \n890         0       3  1.0  32.000000              Q   \n\n                                                encode  Output  \n0      (0, 3)\\t1.0\\n  (1, 1)\\t1.0\\n  (2, 3)\\t1.0\\n ...     1.0  \n1      (0, 3)\\t1.0\\n  (1, 1)\\t1.0\\n  (2, 3)\\t1.0\\n ...     1.0  \n2      (0, 3)\\t1.0\\n  (1, 1)\\t1.0\\n  (2, 3)\\t1.0\\n ...     1.0  \n3      (0, 3)\\t1.0\\n  (1, 1)\\t1.0\\n  (2, 3)\\t1.0\\n ...     1.0  \n4      (0, 3)\\t1.0\\n  (1, 1)\\t1.0\\n  (2, 3)\\t1.0\\n ...     1.0  \n..                                                 ...     ...  \n886    (0, 3)\\t1.0\\n  (1, 1)\\t1.0\\n  (2, 3)\\t1.0\\n ...     1.0  \n887    (0, 3)\\t1.0\\n  (1, 1)\\t1.0\\n  (2, 3)\\t1.0\\n ...     1.0  \n888    (0, 3)\\t1.0\\n  (1, 1)\\t1.0\\n  (2, 3)\\t1.0\\n ...     1.0  \n889    (0, 3)\\t1.0\\n  (1, 1)\\t1.0\\n  (2, 3)\\t1.0\\n ...     1.0  \n890    (0, 3)\\t1.0\\n  (1, 1)\\t1.0\\n  (2, 3)\\t1.0\\n ...     1.0  \n\n[891 rows x 8 columns]",
      "text/html": "<div>\n<style scoped>\n    .dataframe tbody tr th:only-of-type {\n        vertical-align: middle;\n    }\n\n    .dataframe tbody tr th {\n        vertical-align: top;\n    }\n\n    .dataframe thead th {\n        text-align: right;\n    }\n</style>\n<table border=\"1\" class=\"dataframe\">\n  <thead>\n    <tr style=\"text-align: right;\">\n      <th></th>\n      <th>Survived</th>\n      <th>Pclass</th>\n      <th>Sex</th>\n      <th>Age</th>\n      <th>Cabin</th>\n      <th>Embarked</th>\n      <th>encode</th>\n      <th>Output</th>\n    </tr>\n  </thead>\n  <tbody>\n    <tr>\n      <th>0</th>\n      <td>0</td>\n      <td>3</td>\n      <td>1.0</td>\n      <td>22.000000</td>\n      <td></td>\n      <td>S</td>\n      <td>(0, 3)\\t1.0\\n  (1, 1)\\t1.0\\n  (2, 3)\\t1.0\\n ...</td>\n      <td>1.0</td>\n    </tr>\n    <tr>\n      <th>1</th>\n      <td>1</td>\n      <td>1</td>\n      <td>1.0</td>\n      <td>38.000000</td>\n      <td>C85</td>\n      <td>C</td>\n      <td>(0, 3)\\t1.0\\n  (1, 1)\\t1.0\\n  (2, 3)\\t1.0\\n ...</td>\n      <td>1.0</td>\n    </tr>\n    <tr>\n      <th>2</th>\n      <td>1</td>\n      <td>3</td>\n      <td>1.0</td>\n      <td>26.000000</td>\n      <td></td>\n      <td>S</td>\n      <td>(0, 3)\\t1.0\\n  (1, 1)\\t1.0\\n  (2, 3)\\t1.0\\n ...</td>\n      <td>1.0</td>\n    </tr>\n    <tr>\n      <th>3</th>\n      <td>1</td>\n      <td>1</td>\n      <td>1.0</td>\n      <td>35.000000</td>\n      <td>C123</td>\n      <td>S</td>\n      <td>(0, 3)\\t1.0\\n  (1, 1)\\t1.0\\n  (2, 3)\\t1.0\\n ...</td>\n      <td>1.0</td>\n    </tr>\n    <tr>\n      <th>4</th>\n      <td>0</td>\n      <td>3</td>\n      <td>1.0</td>\n      <td>35.000000</td>\n      <td></td>\n      <td>S</td>\n      <td>(0, 3)\\t1.0\\n  (1, 1)\\t1.0\\n  (2, 3)\\t1.0\\n ...</td>\n      <td>1.0</td>\n    </tr>\n    <tr>\n      <th>...</th>\n      <td>...</td>\n      <td>...</td>\n      <td>...</td>\n      <td>...</td>\n      <td>...</td>\n      <td>...</td>\n      <td>...</td>\n      <td>...</td>\n    </tr>\n    <tr>\n      <th>886</th>\n      <td>0</td>\n      <td>2</td>\n      <td>1.0</td>\n      <td>27.000000</td>\n      <td></td>\n      <td>S</td>\n      <td>(0, 3)\\t1.0\\n  (1, 1)\\t1.0\\n  (2, 3)\\t1.0\\n ...</td>\n      <td>1.0</td>\n    </tr>\n    <tr>\n      <th>887</th>\n      <td>1</td>\n      <td>1</td>\n      <td>1.0</td>\n      <td>19.000000</td>\n      <td>B42</td>\n      <td>S</td>\n      <td>(0, 3)\\t1.0\\n  (1, 1)\\t1.0\\n  (2, 3)\\t1.0\\n ...</td>\n      <td>1.0</td>\n    </tr>\n    <tr>\n      <th>888</th>\n      <td>0</td>\n      <td>3</td>\n      <td>1.0</td>\n      <td>29.699118</td>\n      <td></td>\n      <td>S</td>\n      <td>(0, 3)\\t1.0\\n  (1, 1)\\t1.0\\n  (2, 3)\\t1.0\\n ...</td>\n      <td>1.0</td>\n    </tr>\n    <tr>\n      <th>889</th>\n      <td>1</td>\n      <td>1</td>\n      <td>1.0</td>\n      <td>26.000000</td>\n      <td>C148</td>\n      <td>C</td>\n      <td>(0, 3)\\t1.0\\n  (1, 1)\\t1.0\\n  (2, 3)\\t1.0\\n ...</td>\n      <td>1.0</td>\n    </tr>\n    <tr>\n      <th>890</th>\n      <td>0</td>\n      <td>3</td>\n      <td>1.0</td>\n      <td>32.000000</td>\n      <td></td>\n      <td>Q</td>\n      <td>(0, 3)\\t1.0\\n  (1, 1)\\t1.0\\n  (2, 3)\\t1.0\\n ...</td>\n      <td>1.0</td>\n    </tr>\n  </tbody>\n</table>\n<p>891 rows × 8 columns</p>\n</div>"
     },
     "metadata": {}
    }
   ]
  },
  {
   "cell_type": "code",
   "metadata": {
    "cell_id": "8162b8bb61c4404b9bf82ae1cff1baf0",
    "tags": [],
    "deepnote_to_be_reexecuted": false,
    "source_hash": "3711ee86",
    "execution_start": 1661375780676,
    "execution_millis": 495,
    "deepnote_cell_type": "code",
    "deepnote_cell_height": 503.796875
   },
   "source": "from sklearn import metrics\nconfusion_matrix = metrics.confusion_matrix(df_clean[\"Survived\"], df_clean[\"Output\"])\n\nprint(confusion_matrix)\nprint(metrics.classification_report(df_clean[\"Survived\"], df_clean[\"Output\"]))",
   "execution_count": null,
   "outputs": [
    {
     "name": "stdout",
     "text": "[[  0 549]\n [  0 342]]\n              precision    recall  f1-score   support\n\n           0       0.00      0.00      0.00       549\n           1       0.38      1.00      0.55       342\n\n    accuracy                           0.38       891\n   macro avg       0.19      0.50      0.28       891\nweighted avg       0.15      0.38      0.21       891\n\n/shared-libs/python3.9/py/lib/python3.9/site-packages/sklearn/metrics/_classification.py:1327: UndefinedMetricWarning: Precision and F-score are ill-defined and being set to 0.0 in labels with no predicted samples. Use `zero_division` parameter to control this behavior.\n  _warn_prf(average, modifier, msg_start, len(result))\n/shared-libs/python3.9/py/lib/python3.9/site-packages/sklearn/metrics/_classification.py:1327: UndefinedMetricWarning: Precision and F-score are ill-defined and being set to 0.0 in labels with no predicted samples. Use `zero_division` parameter to control this behavior.\n  _warn_prf(average, modifier, msg_start, len(result))\n/shared-libs/python3.9/py/lib/python3.9/site-packages/sklearn/metrics/_classification.py:1327: UndefinedMetricWarning: Precision and F-score are ill-defined and being set to 0.0 in labels with no predicted samples. Use `zero_division` parameter to control this behavior.\n  _warn_prf(average, modifier, msg_start, len(result))\n",
     "output_type": "stream"
    }
   ]
  },
  {
   "cell_type": "markdown",
   "source": "# Initial Models\nJust to play with the data",
   "metadata": {
    "cell_id": "3293007488b84682a26317f38215671d",
    "tags": [],
    "deepnote_cell_type": "markdown",
    "deepnote_cell_height": 185.390625
   }
  },
  {
   "cell_type": "code",
   "metadata": {
    "cell_id": "f674a624170b485f9944a0d898a22067",
    "tags": [],
    "deepnote_to_be_reexecuted": false,
    "source_hash": "d165fb94",
    "execution_start": 1661375242365,
    "execution_millis": 3754,
    "deepnote_cell_type": "code",
    "deepnote_cell_height": 376.796875
   },
   "source": "!pip install boruta==0.3",
   "execution_count": null,
   "outputs": [
    {
     "name": "stdout",
     "text": "Collecting boruta==0.3\n  Downloading Boruta-0.3-py3-none-any.whl (56 kB)\n\u001b[2K     \u001b[90m━━━━━━━━━━━━━━━━━━━━━━━━━━━━━━━━━━━━━━━━\u001b[0m \u001b[32m56.6/56.6 KB\u001b[0m \u001b[31m12.6 MB/s\u001b[0m eta \u001b[36m0:00:00\u001b[0m\n\u001b[?25hRequirement already satisfied: scipy>=0.17.0 in /shared-libs/python3.9/py/lib/python3.9/site-packages (from boruta==0.3) (1.9.0)\nRequirement already satisfied: numpy>=1.10.4 in /shared-libs/python3.9/py/lib/python3.9/site-packages (from boruta==0.3) (1.23.1)\nRequirement already satisfied: scikit-learn>=0.17.1 in /shared-libs/python3.9/py/lib/python3.9/site-packages (from boruta==0.3) (1.1.1)\nRequirement already satisfied: joblib>=1.0.0 in /shared-libs/python3.9/py/lib/python3.9/site-packages (from scikit-learn>=0.17.1->boruta==0.3) (1.1.0)\nRequirement already satisfied: threadpoolctl>=2.0.0 in /shared-libs/python3.9/py/lib/python3.9/site-packages (from scikit-learn>=0.17.1->boruta==0.3) (3.1.0)\nInstalling collected packages: boruta\nSuccessfully installed boruta-0.3\n\u001b[33mWARNING: You are using pip version 22.0.4; however, version 22.2.2 is available.\nYou should consider upgrading via the '/root/venv/bin/python -m pip install --upgrade pip' command.\u001b[0m\u001b[33m\n\u001b[0m",
     "output_type": "stream"
    }
   ]
  },
  {
   "cell_type": "code",
   "metadata": {
    "cell_id": "9f5b6c582ef942089b835928f0e132e4",
    "tags": [],
    "deepnote_to_be_reexecuted": false,
    "source_hash": "625ddad",
    "execution_start": 1661375245921,
    "execution_millis": 457,
    "deepnote_cell_type": "code",
    "deepnote_cell_height": 498
   },
   "source": "import numpy as np\n\n# feature engineering\nfrom boruta import BorutaPy\nestimator = RandomForestRegressor()\n\nx = df_clean.select_dtypes(include ='number').drop(['Survived','Output'], axis = 1)  \ny = df_clean[\"Survived\"]\nboruta = BorutaPy(estimator = estimator, n_estimators = 'auto', max_iter = 100)\nboruta.fit(np.array(x), np.array(y))\n\n# Important features\nimportant = list(x.columns[boruta.support_])\nprint(f\"Features confirmed as important:   {important}\")\n\n# Other features\nprint(f\"\\nUnconfirmed features (tentative):  {list(x.columns[boruta.support_weak_])}\")\nprint(f\"\\nFeatures confirmed as unimportant: {list(x.columns[~(boruta.support_ | boruta.support_weak_)])}\")",
   "execution_count": null,
   "outputs": [
    {
     "name": "stdout",
     "text": "Features confirmed as important:   ['Age']\n\nUnconfirmed features (tentative):  []\n\nFeatures confirmed as unimportant: ['Pclass', 'Sex']\n",
     "output_type": "stream"
    }
   ]
  },
  {
   "cell_type": "code",
   "metadata": {
    "cell_id": "f657b9dac99e48c198a12d7ede524ded",
    "tags": [],
    "deepnote_to_be_reexecuted": false,
    "source_hash": "cf0f07e1",
    "execution_start": 1661375267554,
    "execution_millis": 83,
    "deepnote_cell_type": "code",
    "deepnote_cell_height": 531.796875
   },
   "source": "from sklearn.neighbors import KNeighborsClassifier\n\nsmall_x = df_clean[[\"Age\", \"Sex\"]]\nmodel = KNeighborsClassifier(n_neighbors=2)\nmodel.fit(small_x, y)\ny_pred = model.predict(small_x)\n\n# Confusion Matrix\nconfusion_matrix = metrics.confusion_matrix(y, y_pred)\nprint(confusion_matrix)\nprint(metrics.classification_report(y, y_pred))",
   "execution_count": null,
   "outputs": [
    {
     "name": "stdout",
     "text": "[[468  81]\n [248  94]]\n              precision    recall  f1-score   support\n\n           0       0.65      0.85      0.74       549\n           1       0.54      0.27      0.36       342\n\n    accuracy                           0.63       891\n   macro avg       0.60      0.56      0.55       891\nweighted avg       0.61      0.63      0.60       891\n\n/shared-libs/python3.9/py/lib/python3.9/site-packages/sklearn/neighbors/_classification.py:237: FutureWarning: Unlike other reduction functions (e.g. `skew`, `kurtosis`), the default behavior of `mode` typically preserves the axis it acts along. In SciPy 1.11.0, this behavior will change: the default value of `keepdims` will become False, the `axis` over which the statistic is taken will be eliminated, and the value None will no longer be accepted. Set `keepdims` to True or False to avoid this warning.\n  mode, _ = stats.mode(_y[neigh_ind, k], axis=1)\n",
     "output_type": "stream"
    }
   ]
  },
  {
   "cell_type": "code",
   "metadata": {
    "cell_id": "6351ed6c4ca1467e94ab5097cb7f92d6",
    "tags": [],
    "deepnote_to_be_reexecuted": false,
    "source_hash": "8c34e8c6",
    "execution_start": 1661375312591,
    "execution_millis": 3,
    "deepnote_cell_type": "code",
    "deepnote_cell_height": 433
   },
   "source": "from sklearn.tree import DecisionTreeClassifier\n\nmodel = DecisionTreeClassifier(max_depth =3, random_state = 42)\nmodel.fit(small_x, y)\ny_pred = model.predict(small_x)\nconfusion_matrix = metrics.confusion_matrix(y,y_pred)\nprint(confusion_matrix)\nprint(metrics.classification_report(y, y_pred))",
   "execution_count": null,
   "outputs": [
    {
     "name": "stdout",
     "text": "[[544   5]\n [316  26]]\n              precision    recall  f1-score   support\n\n           0       0.63      0.99      0.77       549\n           1       0.84      0.08      0.14       342\n\n    accuracy                           0.64       891\n   macro avg       0.74      0.53      0.46       891\nweighted avg       0.71      0.64      0.53       891\n\n",
     "output_type": "stream"
    }
   ]
  },
  {
   "cell_type": "code",
   "metadata": {
    "cell_id": "670bf7ab87f144c4be8ff64091a90174",
    "tags": [],
    "deepnote_to_be_reexecuted": false,
    "source_hash": "33a29425",
    "execution_start": 1661375407946,
    "execution_millis": 241104,
    "deepnote_cell_type": "code",
    "deepnote_cell_height": 1146
   },
   "source": "from sklearn.model_selection import GridSearchCV\n\nmodel = DecisionTreeClassifier(max_depth =3, random_state = 0)\nparams = {'max_depth': range(1,10), \n          'min_samples_leaf' : range(1,10),\n          'min_samples_split': [2, 3] + np.arange(0.1, 0.9, 0.1).tolist(),\n          'criterion' : ['gini', 'entropy']\n        }\nscores = ['recall', 'precision', 'f1']\nfor score in scores:\n    print(f\"Tuning for {score}\")    \n    clf = GridSearchCV(\n        model, params,\n        cv = 10,\n        n_jobs = -1, \n        scoring = f'{score}_macro',\n        verbose = 0,\n        refit = True)\n    clf.fit(small_x, y)\n    print(clf.best_params_)\n    print(clf.best_score_, '\\n\\n')\n    model =  clf.best_estimator_\n\nprint(\"FINAL\")\nprint(clf.best_params_)\nprint(clf.best_score_)",
   "execution_count": null,
   "outputs": [
    {
     "name": "stdout",
     "text": "Tuning for recall\n{'criterion': 'entropy', 'max_depth': 8, 'min_samples_leaf': 4, 'min_samples_split': 2}\n0.5487317149081855 \n\n\nTuning for precision\n/shared-libs/python3.9/py/lib/python3.9/site-packages/sklearn/metrics/_classification.py:1327: UndefinedMetricWarning: Precision is ill-defined and being set to 0.0 in labels with no predicted samples. Use `zero_division` parameter to control this behavior.\n  _warn_prf(average, modifier, msg_start, len(result))\n/shared-libs/python3.9/py/lib/python3.9/site-packages/sklearn/metrics/_classification.py:1327: UndefinedMetricWarning: Precision is ill-defined and being set to 0.0 in labels with no predicted samples. Use `zero_division` parameter to control this behavior.\n  _warn_prf(average, modifier, msg_start, len(result))\n/shared-libs/python3.9/py/lib/python3.9/site-packages/sklearn/metrics/_classification.py:1327: UndefinedMetricWarning: Precision is ill-defined and being set to 0.0 in labels with no predicted samples. Use `zero_division` parameter to control this behavior.\n  _warn_prf(average, modifier, msg_start, len(result))\n/shared-libs/python3.9/py/lib/python3.9/site-packages/sklearn/metrics/_classification.py:1327: UndefinedMetricWarning: Precision is ill-defined and being set to 0.0 in labels with no predicted samples. Use `zero_division` parameter to control this behavior.\n  _warn_prf(average, modifier, msg_start, len(result))\n/shared-libs/python3.9/py/lib/python3.9/site-packages/sklearn/metrics/_classification.py:1327: UndefinedMetricWarning: Precision is ill-defined and being set to 0.0 in labels with no predicted samples. Use `zero_division` parameter to control this behavior.\n  _warn_prf(average, modifier, msg_start, len(result))\n/shared-libs/python3.9/py/lib/python3.9/site-packages/sklearn/metrics/_classification.py:1327: UndefinedMetricWarning: Precision is ill-defined and being set to 0.0 in labels with no predicted samples. Use `zero_division` parameter to control this behavior.\n  _warn_prf(average, modifier, msg_start, len(result))\n/shared-libs/python3.9/py/lib/python3.9/site-packages/sklearn/metrics/_classification.py:1327: UndefinedMetricWarning: Precision is ill-defined and being set to 0.0 in labels with no predicted samples. Use `zero_division` parameter to control this behavior.\n  _warn_prf(average, modifier, msg_start, len(result))\n/shared-libs/python3.9/py/lib/python3.9/site-packages/sklearn/metrics/_classification.py:1327: UndefinedMetricWarning: Precision is ill-defined and being set to 0.0 in labels with no predicted samples. Use `zero_division` parameter to control this behavior.\n  _warn_prf(average, modifier, msg_start, len(result))\n/shared-libs/python3.9/py/lib/python3.9/site-packages/sklearn/metrics/_classification.py:1327: UndefinedMetricWarning: Precision is ill-defined and being set to 0.0 in labels with no predicted samples. Use `zero_division` parameter to control this behavior.\n  _warn_prf(average, modifier, msg_start, len(result))\n/shared-libs/python3.9/py/lib/python3.9/site-packages/sklearn/metrics/_classification.py:1327: UndefinedMetricWarning: Precision is ill-defined and being set to 0.0 in labels with no predicted samples. Use `zero_division` parameter to control this behavior.\n  _warn_prf(average, modifier, msg_start, len(result))\n/shared-libs/python3.9/py/lib/python3.9/site-packages/sklearn/metrics/_classification.py:1327: UndefinedMetricWarning: Precision is ill-defined and being set to 0.0 in labels with no predicted samples. Use `zero_division` parameter to control this behavior.\n  _warn_prf(average, modifier, msg_start, len(result))\n/shared-libs/python3.9/py/lib/python3.9/site-packages/sklearn/metrics/_classification.py:1327: UndefinedMetricWarning: Precision is ill-defined and being set to 0.0 in labels with no predicted samples. Use `zero_division` parameter to control this behavior.\n  _warn_prf(average, modifier, msg_start, len(result))\n/shared-libs/python3.9/py/lib/python3.9/site-packages/sklearn/metrics/_classification.py:1327: UndefinedMetricWarning: Precision is ill-defined and being set to 0.0 in labels with no predicted samples. Use `zero_division` parameter to control this behavior.\n  _warn_prf(average, modifier, msg_start, len(result))\n/shared-libs/python3.9/py/lib/python3.9/site-packages/sklearn/metrics/_classification.py:1327: UndefinedMetricWarning: Precision is ill-defined and being set to 0.0 in labels with no predicted samples. Use `zero_division` parameter to control this behavior.\n  _warn_prf(average, modifier, msg_start, len(result))\n/shared-libs/python3.9/py/lib/python3.9/site-packages/sklearn/metrics/_classification.py:1327: UndefinedMetricWarning: Precision is ill-defined and being set to 0.0 in labels with no predicted samples. Use `zero_division` parameter to control this behavior.\n  _warn_prf(average, modifier, msg_start, len(result))\n/shared-libs/python3.9/py/lib/python3.9/site-packages/sklearn/metrics/_classification.py:1327: UndefinedMetricWarning: Precision is ill-defined and being set to 0.0 in labels with no predicted samples. Use `zero_division` parameter to control this behavior.\n  _warn_prf(average, modifier, msg_start, len(result))\n/shared-libs/python3.9/py/lib/python3.9/site-packages/sklearn/metrics/_classification.py:1327: UndefinedMetricWarning: Precision is ill-defined and being set to 0.0 in labels with no predicted samples. Use `zero_division` parameter to control this behavior.\n  _warn_prf(average, modifier, msg_start, len(result))\n/shared-libs/python3.9/py/lib/python3.9/site-packages/sklearn/metrics/_classification.py:1327: UndefinedMetricWarning: Precision is ill-defined and being set to 0.0 in labels with no predicted samples. Use `zero_division` parameter to control this behavior.\n  _warn_prf(average, modifier, msg_start, len(result))\n/shared-libs/python3.9/py/lib/python3.9/site-packages/sklearn/metrics/_classification.py:1327: UndefinedMetricWarning: Precision is ill-defined and being set to 0.0 in labels with no predicted samples. Use `zero_division` parameter to control this behavior.\n  _warn_prf(average, modifier, msg_start, len(result))\n/shared-libs/python3.9/py/lib/python3.9/site-packages/sklearn/metrics/_classification.py:1327: UndefinedMetricWarning: Precision is ill-defined and being set to 0.0 in labels with no predicted samples. Use `zero_division` parameter to control this behavior.\n  _warn_prf(average, modifier, msg_start, len(result))\n/shared-libs/python3.9/py/lib/python3.9/site-packages/sklearn/metrics/_classification.py:1327: UndefinedMetricWarning: Precision is ill-defined and being set to 0.0 in labels with no predicted samples. Use `zero_division` parameter to control this behavior.\n  _warn_prf(average, modifier, msg_start, len(result))\n/shared-libs/python3.9/py/lib/python3.9/site-packages/sklearn/metrics/_classification.py:1327: UndefinedMetricWarning: Precision is ill-defined and being set to 0.0 in labels with no predicted samples. Use `zero_division` parameter to control this behavior.\n  _warn_prf(average, modifier, msg_start, len(result))\n/shared-libs/python3.9/py/lib/python3.9/site-packages/sklearn/metrics/_classification.py:1327: UndefinedMetricWarning: Precision is ill-defined and being set to 0.0 in labels with no predicted samples. Use `zero_division` parameter to control this behavior.\n  _warn_prf(average, modifier, msg_start, len(result))\n/shared-libs/python3.9/py/lib/python3.9/site-packages/sklearn/metrics/_classification.py:1327: UndefinedMetricWarning: Precision is ill-defined and being set to 0.0 in labels with no predicted samples. Use `zero_division` parameter to control this behavior.\n  _warn_prf(average, modifier, msg_start, len(result))\n/shared-libs/python3.9/py/lib/python3.9/site-packages/sklearn/metrics/_classification.py:1327: UndefinedMetricWarning: Precision is ill-defined and being set to 0.0 in labels with no predicted samples. Use `zero_division` parameter to control this behavior.\n  _warn_prf(average, modifier, msg_start, len(result))\n/shared-libs/python3.9/py/lib/python3.9/site-packages/sklearn/metrics/_classification.py:1327: UndefinedMetricWarning: Precision is ill-defined and being set to 0.0 in labels with no predicted samples. Use `zero_division` parameter to control this behavior.\n  _warn_prf(average, modifier, msg_start, len(result))\n/shared-libs/python3.9/py/lib/python3.9/site-packages/sklearn/metrics/_classification.py:1327: UndefinedMetricWarning: Precision is ill-defined and being set to 0.0 in labels with no predicted samples. Use `zero_division` parameter to control this behavior.\n  _warn_prf(average, modifier, msg_start, len(result))\n/shared-libs/python3.9/py/lib/python3.9/site-packages/sklearn/metrics/_classification.py:1327: UndefinedMetricWarning: Precision is ill-defined and being set to 0.0 in labels with no predicted samples. Use `zero_division` parameter to control this behavior.\n  _warn_prf(average, modifier, msg_start, len(result))\n/shared-libs/python3.9/py/lib/python3.9/site-packages/sklearn/metrics/_classification.py:1327: UndefinedMetricWarning: Precision is ill-defined and being set to 0.0 in labels with no predicted samples. Use `zero_division` parameter to control this behavior.\n  _warn_prf(average, modifier, msg_start, len(result))\n/shared-libs/python3.9/py/lib/python3.9/site-packages/sklearn/metrics/_classification.py:1327: UndefinedMetricWarning: Precision is ill-defined and being set to 0.0 in labels with no predicted samples. Use `zero_division` parameter to control this behavior.\n  _warn_prf(average, modifier, msg_start, len(result))\n/shared-libs/python3.9/py/lib/python3.9/site-packages/sklearn/metrics/_classification.py:1327: UndefinedMetricWarning: Precision is ill-defined and being set to 0.0 in labels with no predicted samples. Use `zero_division` parameter to control this behavior.\n  _warn_prf(average, modifier, msg_start, len(result))\n/shared-libs/python3.9/py/lib/python3.9/site-packages/sklearn/metrics/_classification.py:1327: UndefinedMetricWarning: Precision is ill-defined and being set to 0.0 in labels with no predicted samples. Use `zero_division` parameter to control this behavior.\n  _warn_prf(average, modifier, msg_start, len(result))\n/shared-libs/python3.9/py/lib/python3.9/site-packages/sklearn/metrics/_classification.py:1327: UndefinedMetricWarning: Precision is ill-defined and being set to 0.0 in labels with no predicted samples. Use `zero_division` parameter to control this behavior.\n  _warn_prf(average, modifier, msg_start, len(result))\n/shared-libs/python3.9/py/lib/python3.9/site-packages/sklearn/metrics/_classification.py:1327: UndefinedMetricWarning: Precision is ill-defined and being set to 0.0 in labels with no predicted samples. Use `zero_division` parameter to control this behavior.\n  _warn_prf(average, modifier, msg_start, len(result))\n/shared-libs/python3.9/py/lib/python3.9/site-packages/sklearn/metrics/_classification.py:1327: UndefinedMetricWarning: Precision is ill-defined and being set to 0.0 in labels with no predicted samples. Use `zero_division` parameter to control this behavior.\n  _warn_prf(average, modifier, msg_start, len(result))\n/shared-libs/python3.9/py/lib/python3.9/site-packages/sklearn/metrics/_classification.py:1327: UndefinedMetricWarning: Precision is ill-defined and being set to 0.0 in labels with no predicted samples. Use `zero_division` parameter to control this behavior.\n  _warn_prf(average, modifier, msg_start, len(result))\n/shared-libs/python3.9/py/lib/python3.9/site-packages/sklearn/metrics/_classification.py:1327: UndefinedMetricWarning: Precision is ill-defined and being set to 0.0 in labels with no predicted samples. Use `zero_division` parameter to control this behavior.\n  _warn_prf(average, modifier, msg_start, len(result))\n/shared-libs/python3.9/py/lib/python3.9/site-packages/sklearn/metrics/_classification.py:1327: UndefinedMetricWarning: Precision is ill-defined and being set to 0.0 in labels with no predicted samples. Use `zero_division` parameter to control this behavior.\n  _warn_prf(average, modifier, msg_start, len(result))\n/shared-libs/python3.9/py/lib/python3.9/site-packages/sklearn/metrics/_classification.py:1327: UndefinedMetricWarning: Precision is ill-defined and being set to 0.0 in labels with no predicted samples. Use `zero_division` parameter to control this behavior.\n  _warn_prf(average, modifier, msg_start, len(result))\n/shared-libs/python3.9/py/lib/python3.9/site-packages/sklearn/metrics/_classification.py:1327: UndefinedMetricWarning: Precision is ill-defined and being set to 0.0 in labels with no predicted samples. Use `zero_division` parameter to control this behavior.\n  _warn_prf(average, modifier, msg_start, len(result))\n/shared-libs/python3.9/py/lib/python3.9/site-packages/sklearn/metrics/_classification.py:1327: UndefinedMetricWarning: Precision is ill-defined and being set to 0.0 in labels with no predicted samples. Use `zero_division` parameter to control this behavior.\n  _warn_prf(average, modifier, msg_start, len(result))\n/shared-libs/python3.9/py/lib/python3.9/site-packages/sklearn/metrics/_classification.py:1327: UndefinedMetricWarning: Precision is ill-defined and being set to 0.0 in labels with no predicted samples. Use `zero_division` parameter to control this behavior.\n  _warn_prf(average, modifier, msg_start, len(result))\n/shared-libs/python3.9/py/lib/python3.9/site-packages/sklearn/metrics/_classification.py:1327: UndefinedMetricWarning: Precision is ill-defined and being set to 0.0 in labels with no predicted samples. Use `zero_division` parameter to control this behavior.\n  _warn_prf(average, modifier, msg_start, len(result))\n/shared-libs/python3.9/py/lib/python3.9/site-packages/sklearn/metrics/_classification.py:1327: UndefinedMetricWarning: Precision is ill-defined and being set to 0.0 in labels with no predicted samples. Use `zero_division` parameter to control this behavior.\n  _warn_prf(average, modifier, msg_start, len(result))\n/shared-libs/python3.9/py/lib/python3.9/site-packages/sklearn/metrics/_classification.py:1327: UndefinedMetricWarning: Precision is ill-defined and being set to 0.0 in labels with no predicted samples. Use `zero_division` parameter to control this behavior.\n  _warn_prf(average, modifier, msg_start, len(result))\n/shared-libs/python3.9/py/lib/python3.9/site-packages/sklearn/metrics/_classification.py:1327: UndefinedMetricWarning: Precision is ill-defined and being set to 0.0 in labels with no predicted samples. Use `zero_division` parameter to control this behavior.\n  _warn_prf(average, modifier, msg_start, len(result))\n/shared-libs/python3.9/py/lib/python3.9/site-packages/sklearn/metrics/_classification.py:1327: UndefinedMetricWarning: Precision is ill-defined and being set to 0.0 in labels with no predicted samples. Use `zero_division` parameter to control this behavior.\n  _warn_prf(average, modifier, msg_start, len(result))\n/shared-libs/python3.9/py/lib/python3.9/site-packages/sklearn/metrics/_classification.py:1327: UndefinedMetricWarning: Precision is ill-defined and being set to 0.0 in labels with no predicted samples. Use `zero_division` parameter to control this behavior.\n  _warn_prf(average, modifier, msg_start, len(result))\n/shared-libs/python3.9/py/lib/python3.9/site-packages/sklearn/metrics/_classification.py:1327: UndefinedMetricWarning: Precision is ill-defined and being set to 0.0 in labels with no predicted samples. Use `zero_division` parameter to control this behavior.\n  _warn_prf(average, modifier, msg_start, len(result))\n/shared-libs/python3.9/py/lib/python3.9/site-packages/sklearn/metrics/_classification.py:1327: UndefinedMetricWarning: Precision is ill-defined and being set to 0.0 in labels with no predicted samples. Use `zero_division` parameter to control this behavior.\n  _warn_prf(average, modifier, msg_start, len(result))\n/shared-libs/python3.9/py/lib/python3.9/site-packages/sklearn/metrics/_classification.py:1327: UndefinedMetricWarning: Precision is ill-defined and being set to 0.0 in labels with no predicted samples. Use `zero_division` parameter to control this behavior.\n  _warn_prf(average, modifier, msg_start, len(result))\n/shared-libs/python3.9/py/lib/python3.9/site-packages/sklearn/metrics/_classification.py:1327: UndefinedMetricWarning: Precision is ill-defined and being set to 0.0 in labels with no predicted samples. Use `zero_division` parameter to control this behavior.\n  _warn_prf(average, modifier, msg_start, len(result))\n/shared-libs/python3.9/py/lib/python3.9/site-packages/sklearn/metrics/_classification.py:1327: UndefinedMetricWarning: Precision is ill-defined and being set to 0.0 in labels with no predicted samples. Use `zero_division` parameter to control this behavior.\n  _warn_prf(average, modifier, msg_start, len(result))\n/shared-libs/python3.9/py/lib/python3.9/site-packages/sklearn/metrics/_classification.py:1327: UndefinedMetricWarning: Precision is ill-defined and being set to 0.0 in labels with no predicted samples. Use `zero_division` parameter to control this behavior.\n  _warn_prf(average, modifier, msg_start, len(result))\n/shared-libs/python3.9/py/lib/python3.9/site-packages/sklearn/metrics/_classification.py:1327: UndefinedMetricWarning: Precision is ill-defined and being set to 0.0 in labels with no predicted samples. Use `zero_division` parameter to control this behavior.\n  _warn_prf(average, modifier, msg_start, len(result))\n/shared-libs/python3.9/py/lib/python3.9/site-packages/sklearn/metrics/_classification.py:1327: UndefinedMetricWarning: Precision is ill-defined and being set to 0.0 in labels with no predicted samples. Use `zero_division` parameter to control this behavior.\n  _warn_prf(average, modifier, msg_start, len(result))\n/shared-libs/python3.9/py/lib/python3.9/site-packages/sklearn/metrics/_classification.py:1327: UndefinedMetricWarning: Precision is ill-defined and being set to 0.0 in labels with no predicted samples. Use `zero_division` parameter to control this behavior.\n  _warn_prf(average, modifier, msg_start, len(result))\n/shared-libs/python3.9/py/lib/python3.9/site-packages/sklearn/metrics/_classification.py:1327: UndefinedMetricWarning: Precision is ill-defined and being set to 0.0 in labels with no predicted samples. Use `zero_division` parameter to control this behavior.\n  _warn_prf(average, modifier, msg_start, len(result))\n/shared-libs/python3.9/py/lib/python3.9/site-packages/sklearn/metrics/_classification.py:1327: UndefinedMetricWarning: Precision is ill-defined and being set to 0.0 in labels with no predicted samples. Use `zero_division` parameter to control this behavior.\n  _warn_prf(average, modifier, msg_start, len(result))\n/shared-libs/python3.9/py/lib/python3.9/site-packages/sklearn/metrics/_classification.py:1327: UndefinedMetricWarning: Precision is ill-defined and being set to 0.0 in labels with no predicted samples. Use `zero_division` parameter to control this behavior.\n  _warn_prf(average, modifier, msg_start, len(result))\n/shared-libs/python3.9/py/lib/python3.9/site-packages/sklearn/metrics/_classification.py:1327: UndefinedMetricWarning: Precision is ill-defined and being set to 0.0 in labels with no predicted samples. Use `zero_division` parameter to control this behavior.\n  _warn_prf(average, modifier, msg_start, len(result))\n/shared-libs/python3.9/py/lib/python3.9/site-packages/sklearn/metrics/_classification.py:1327: UndefinedMetricWarning: Precision is ill-defined and being set to 0.0 in labels with no predicted samples. Use `zero_division` parameter to control this behavior.\n  _warn_prf(average, modifier, msg_start, len(result))\n/shared-libs/python3.9/py/lib/python3.9/site-packages/sklearn/metrics/_classification.py:1327: UndefinedMetricWarning: Precision is ill-defined and being set to 0.0 in labels with no predicted samples. Use `zero_division` parameter to control this behavior.\n  _warn_prf(average, modifier, msg_start, len(result))\n/shared-libs/python3.9/py/lib/python3.9/site-packages/sklearn/metrics/_classification.py:1327: UndefinedMetricWarning: Precision is ill-defined and being set to 0.0 in labels with no predicted samples. Use `zero_division` parameter to control this behavior.\n  _warn_prf(average, modifier, msg_start, len(result))\n/shared-libs/python3.9/py/lib/python3.9/site-packages/sklearn/metrics/_classification.py:1327: UndefinedMetricWarning: Precision is ill-defined and being set to 0.0 in labels with no predicted samples. Use `zero_division` parameter to control this behavior.\n  _warn_prf(average, modifier, msg_start, len(result))\n/shared-libs/python3.9/py/lib/python3.9/site-packages/sklearn/metrics/_classification.py:1327: UndefinedMetricWarning: Precision is ill-defined and being set to 0.0 in labels with no predicted samples. Use `zero_division` parameter to control this behavior.\n  _warn_prf(average, modifier, msg_start, len(result))\n/shared-libs/python3.9/py/lib/python3.9/site-packages/sklearn/metrics/_classification.py:1327: UndefinedMetricWarning: Precision is ill-defined and being set to 0.0 in labels with no predicted samples. Use `zero_division` parameter to control this behavior.\n  _warn_prf(average, modifier, msg_start, len(result))\n/shared-libs/python3.9/py/lib/python3.9/site-packages/sklearn/metrics/_classification.py:1327: UndefinedMetricWarning: Precision is ill-defined and being set to 0.0 in labels with no predicted samples. Use `zero_division` parameter to control this behavior.\n  _warn_prf(average, modifier, msg_start, len(result))\n/shared-libs/python3.9/py/lib/python3.9/site-packages/sklearn/metrics/_classification.py:1327: UndefinedMetricWarning: Precision is ill-defined and being set to 0.0 in labels with no predicted samples. Use `zero_division` parameter to control this behavior.\n  _warn_prf(average, modifier, msg_start, len(result))\n/shared-libs/python3.9/py/lib/python3.9/site-packages/sklearn/metrics/_classification.py:1327: UndefinedMetricWarning: Precision is ill-defined and being set to 0.0 in labels with no predicted samples. Use `zero_division` parameter to control this behavior.\n  _warn_prf(average, modifier, msg_start, len(result))\n/shared-libs/python3.9/py/lib/python3.9/site-packages/sklearn/metrics/_classification.py:1327: UndefinedMetricWarning: Precision is ill-defined and being set to 0.0 in labels with no predicted samples. Use `zero_division` parameter to control this behavior.\n  _warn_prf(average, modifier, msg_start, len(result))\n/shared-libs/python3.9/py/lib/python3.9/site-packages/sklearn/metrics/_classification.py:1327: UndefinedMetricWarning: Precision is ill-defined and being set to 0.0 in labels with no predicted samples. Use `zero_division` parameter to control this behavior.\n  _warn_prf(average, modifier, msg_start, len(result))\n{'criterion': 'gini', 'max_depth': 3, 'min_samples_leaf': 7, 'min_samples_split': 2}\n0.6857422260012195 \n\n\nTuning for f1\n{'criterion': 'entropy', 'max_depth': 9, 'min_samples_leaf': 4, 'min_samples_split': 2}\n0.5151056037954458 \n\n\nFINAL\n{'criterion': 'entropy', 'max_depth': 9, 'min_samples_leaf': 4, 'min_samples_split': 2}\n0.5151056037954458\n",
     "output_type": "stream"
    }
   ]
  },
  {
   "cell_type": "markdown",
   "source": "<a style='text-decoration:none;line-height:16px;display:flex;color:#5B5B62;padding:10px;justify-content:end;' href='https://deepnote.com?utm_source=created-in-deepnote-cell&projectId=34b6ad67-9899-4609-8c36-e96f39426d07' target=\"_blank\">\n<img alt='Created in deepnote.com' style='display:inline;max-height:16px;margin:0px;margin-right:7.5px;' src='data:image/svg+xml;base64,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' > </img>\nCreated in <span style='font-weight:600;margin-left:4px;'>Deepnote</span></a>",
   "metadata": {
    "tags": [],
    "created_in_deepnote_cell": true,
    "deepnote_cell_type": "markdown"
   }
  }
 ],
 "nbformat": 4,
 "nbformat_minor": 2,
 "metadata": {
  "orig_nbformat": 2,
  "deepnote": {},
  "deepnote_notebook_id": "5f6e6589-c808-4c32-9412-9aae07a93b74",
  "deepnote_execution_queue": []
 }
}