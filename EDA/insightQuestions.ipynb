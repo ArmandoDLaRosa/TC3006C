{
 "cells": [
  {
   "cell_type": "markdown",
   "source": "",
   "metadata": {
    "formattedRanges": [],
    "is_collapsed": false,
    "cell_id": "979e2134-76f0-4337-8c34-929189f2159b",
    "tags": [],
    "deepnote_cell_type": "text-cell-p"
   }
  },
  {
   "cell_type": "code",
   "metadata": {
    "cell_id": "d03ffbeb346747f688f1d68446b5387a",
    "tags": [],
    "deepnote_to_be_reexecuted": false,
    "source_hash": "2fa8d4f5",
    "execution_start": 1661803860290,
    "execution_millis": 2847,
    "deepnote_cell_type": "code",
    "deepnote_cell_height": 496.796875
   },
   "source": "import pandas as pd\nimport matplotlib.pyplot as plt\nimport seaborn as sns\ndf = pd.read_csv('train.csv')\n\ndf.head()",
   "outputs": [
    {
     "output_type": "execute_result",
     "execution_count": 2,
     "data": {
      "application/vnd.deepnote.dataframe.v3+json": {
       "column_count": 12,
       "row_count": 5,
       "columns": [
        {
         "name": "PassengerId",
         "dtype": "int64",
         "stats": {
          "unique_count": 5,
          "nan_count": 0,
          "min": "1",
          "max": "5",
          "histogram": [
           {
            "bin_start": 1,
            "bin_end": 1.4,
            "count": 1
           },
           {
            "bin_start": 1.4,
            "bin_end": 1.8,
            "count": 0
           },
           {
            "bin_start": 1.8,
            "bin_end": 2.2,
            "count": 1
           },
           {
            "bin_start": 2.2,
            "bin_end": 2.6,
            "count": 0
           },
           {
            "bin_start": 2.6,
            "bin_end": 3,
            "count": 0
           },
           {
            "bin_start": 3,
            "bin_end": 3.4000000000000004,
            "count": 1
           },
           {
            "bin_start": 3.4000000000000004,
            "bin_end": 3.8000000000000003,
            "count": 0
           },
           {
            "bin_start": 3.8000000000000003,
            "bin_end": 4.2,
            "count": 1
           },
           {
            "bin_start": 4.2,
            "bin_end": 4.6,
            "count": 0
           },
           {
            "bin_start": 4.6,
            "bin_end": 5,
            "count": 1
           }
          ]
         }
        },
        {
         "name": "Survived",
         "dtype": "int64",
         "stats": {
          "unique_count": 2,
          "nan_count": 0,
          "min": "0",
          "max": "1",
          "histogram": [
           {
            "bin_start": 0,
            "bin_end": 0.1,
            "count": 2
           },
           {
            "bin_start": 0.1,
            "bin_end": 0.2,
            "count": 0
           },
           {
            "bin_start": 0.2,
            "bin_end": 0.30000000000000004,
            "count": 0
           },
           {
            "bin_start": 0.30000000000000004,
            "bin_end": 0.4,
            "count": 0
           },
           {
            "bin_start": 0.4,
            "bin_end": 0.5,
            "count": 0
           },
           {
            "bin_start": 0.5,
            "bin_end": 0.6000000000000001,
            "count": 0
           },
           {
            "bin_start": 0.6000000000000001,
            "bin_end": 0.7000000000000001,
            "count": 0
           },
           {
            "bin_start": 0.7000000000000001,
            "bin_end": 0.8,
            "count": 0
           },
           {
            "bin_start": 0.8,
            "bin_end": 0.9,
            "count": 0
           },
           {
            "bin_start": 0.9,
            "bin_end": 1,
            "count": 3
           }
          ]
         }
        },
        {
         "name": "Pclass",
         "dtype": "int64",
         "stats": {
          "unique_count": 2,
          "nan_count": 0,
          "min": "1",
          "max": "3",
          "histogram": [
           {
            "bin_start": 1,
            "bin_end": 1.2,
            "count": 2
           },
           {
            "bin_start": 1.2,
            "bin_end": 1.4,
            "count": 0
           },
           {
            "bin_start": 1.4,
            "bin_end": 1.6,
            "count": 0
           },
           {
            "bin_start": 1.6,
            "bin_end": 1.8,
            "count": 0
           },
           {
            "bin_start": 1.8,
            "bin_end": 2,
            "count": 0
           },
           {
            "bin_start": 2,
            "bin_end": 2.2,
            "count": 0
           },
           {
            "bin_start": 2.2,
            "bin_end": 2.4000000000000004,
            "count": 0
           },
           {
            "bin_start": 2.4000000000000004,
            "bin_end": 2.6,
            "count": 0
           },
           {
            "bin_start": 2.6,
            "bin_end": 2.8,
            "count": 0
           },
           {
            "bin_start": 2.8,
            "bin_end": 3,
            "count": 3
           }
          ]
         }
        },
        {
         "name": "Name",
         "dtype": "object",
         "stats": {
          "unique_count": 5,
          "nan_count": 0,
          "categories": [
           {
            "name": "Braund, Mr. Owen Harris",
            "count": 1
           },
           {
            "name": "Cumings, Mrs. John Bradley (Florence Briggs Thayer)",
            "count": 1
           },
           {
            "name": "3 others",
            "count": 3
           }
          ]
         }
        },
        {
         "name": "Sex",
         "dtype": "object",
         "stats": {
          "unique_count": 2,
          "nan_count": 0,
          "categories": [
           {
            "name": "female",
            "count": 3
           },
           {
            "name": "male",
            "count": 2
           }
          ]
         }
        },
        {
         "name": "Age",
         "dtype": "float64",
         "stats": {
          "unique_count": 4,
          "nan_count": 0,
          "min": "22.0",
          "max": "38.0",
          "histogram": [
           {
            "bin_start": 22,
            "bin_end": 23.6,
            "count": 1
           },
           {
            "bin_start": 23.6,
            "bin_end": 25.2,
            "count": 0
           },
           {
            "bin_start": 25.2,
            "bin_end": 26.8,
            "count": 1
           },
           {
            "bin_start": 26.8,
            "bin_end": 28.4,
            "count": 0
           },
           {
            "bin_start": 28.4,
            "bin_end": 30,
            "count": 0
           },
           {
            "bin_start": 30,
            "bin_end": 31.6,
            "count": 0
           },
           {
            "bin_start": 31.6,
            "bin_end": 33.2,
            "count": 0
           },
           {
            "bin_start": 33.2,
            "bin_end": 34.8,
            "count": 0
           },
           {
            "bin_start": 34.8,
            "bin_end": 36.4,
            "count": 2
           },
           {
            "bin_start": 36.4,
            "bin_end": 38,
            "count": 1
           }
          ]
         }
        },
        {
         "name": "SibSp",
         "dtype": "int64",
         "stats": {
          "unique_count": 2,
          "nan_count": 0,
          "min": "0",
          "max": "1",
          "histogram": [
           {
            "bin_start": 0,
            "bin_end": 0.1,
            "count": 2
           },
           {
            "bin_start": 0.1,
            "bin_end": 0.2,
            "count": 0
           },
           {
            "bin_start": 0.2,
            "bin_end": 0.30000000000000004,
            "count": 0
           },
           {
            "bin_start": 0.30000000000000004,
            "bin_end": 0.4,
            "count": 0
           },
           {
            "bin_start": 0.4,
            "bin_end": 0.5,
            "count": 0
           },
           {
            "bin_start": 0.5,
            "bin_end": 0.6000000000000001,
            "count": 0
           },
           {
            "bin_start": 0.6000000000000001,
            "bin_end": 0.7000000000000001,
            "count": 0
           },
           {
            "bin_start": 0.7000000000000001,
            "bin_end": 0.8,
            "count": 0
           },
           {
            "bin_start": 0.8,
            "bin_end": 0.9,
            "count": 0
           },
           {
            "bin_start": 0.9,
            "bin_end": 1,
            "count": 3
           }
          ]
         }
        },
        {
         "name": "Parch",
         "dtype": "int64",
         "stats": {
          "unique_count": 1,
          "nan_count": 0,
          "min": "0",
          "max": "0",
          "histogram": [
           {
            "bin_start": -0.5,
            "bin_end": -0.4,
            "count": 0
           },
           {
            "bin_start": -0.4,
            "bin_end": -0.3,
            "count": 0
           },
           {
            "bin_start": -0.3,
            "bin_end": -0.19999999999999996,
            "count": 0
           },
           {
            "bin_start": -0.19999999999999996,
            "bin_end": -0.09999999999999998,
            "count": 0
           },
           {
            "bin_start": -0.09999999999999998,
            "bin_end": 0,
            "count": 0
           },
           {
            "bin_start": 0,
            "bin_end": 0.10000000000000009,
            "count": 5
           },
           {
            "bin_start": 0.10000000000000009,
            "bin_end": 0.20000000000000007,
            "count": 0
           },
           {
            "bin_start": 0.20000000000000007,
            "bin_end": 0.30000000000000004,
            "count": 0
           },
           {
            "bin_start": 0.30000000000000004,
            "bin_end": 0.4,
            "count": 0
           },
           {
            "bin_start": 0.4,
            "bin_end": 0.5,
            "count": 0
           }
          ]
         }
        },
        {
         "name": "Ticket",
         "dtype": "object",
         "stats": {
          "unique_count": 5,
          "nan_count": 0,
          "categories": [
           {
            "name": "A/5 21171",
            "count": 1
           },
           {
            "name": "PC 17599",
            "count": 1
           },
           {
            "name": "3 others",
            "count": 3
           }
          ]
         }
        },
        {
         "name": "Fare",
         "dtype": "float64",
         "stats": {
          "unique_count": 5,
          "nan_count": 0,
          "min": "7.25",
          "max": "71.2833",
          "histogram": [
           {
            "bin_start": 7.25,
            "bin_end": 13.65333,
            "count": 3
           },
           {
            "bin_start": 13.65333,
            "bin_end": 20.05666,
            "count": 0
           },
           {
            "bin_start": 20.05666,
            "bin_end": 26.459989999999998,
            "count": 0
           },
           {
            "bin_start": 26.459989999999998,
            "bin_end": 32.86332,
            "count": 0
           },
           {
            "bin_start": 32.86332,
            "bin_end": 39.26665,
            "count": 0
           },
           {
            "bin_start": 39.26665,
            "bin_end": 45.669979999999995,
            "count": 0
           },
           {
            "bin_start": 45.669979999999995,
            "bin_end": 52.07331,
            "count": 0
           },
           {
            "bin_start": 52.07331,
            "bin_end": 58.476639999999996,
            "count": 1
           },
           {
            "bin_start": 58.476639999999996,
            "bin_end": 64.87996999999999,
            "count": 0
           },
           {
            "bin_start": 64.87996999999999,
            "bin_end": 71.2833,
            "count": 1
           }
          ]
         }
        },
        {
         "name": "Cabin",
         "dtype": "object",
         "stats": {
          "unique_count": 2,
          "nan_count": 3,
          "categories": [
           {
            "name": "C85",
            "count": 1
           },
           {
            "name": "C123",
            "count": 1
           },
           {
            "name": "Missing",
            "count": 3
           }
          ]
         }
        },
        {
         "name": "Embarked",
         "dtype": "object",
         "stats": {
          "unique_count": 2,
          "nan_count": 0,
          "categories": [
           {
            "name": "S",
            "count": 4
           },
           {
            "name": "C",
            "count": 1
           }
          ]
         }
        },
        {
         "name": "_deepnote_index_column",
         "dtype": "int64"
        }
       ],
       "rows": [
        {
         "PassengerId": "1",
         "Survived": "0",
         "Pclass": "3",
         "Name": "Braund, Mr. Owen Harris",
         "Sex": "male",
         "Age": "22.0",
         "SibSp": "1",
         "Parch": "0",
         "Ticket": "A/5 21171",
         "Fare": "7.25",
         "Cabin": "nan",
         "Embarked": "S",
         "_deepnote_index_column": "0"
        },
        {
         "PassengerId": "2",
         "Survived": "1",
         "Pclass": "1",
         "Name": "Cumings, Mrs. John Bradley (Florence Briggs Thayer)",
         "Sex": "female",
         "Age": "38.0",
         "SibSp": "1",
         "Parch": "0",
         "Ticket": "PC 17599",
         "Fare": "71.2833",
         "Cabin": "C85",
         "Embarked": "C",
         "_deepnote_index_column": "1"
        },
        {
         "PassengerId": "3",
         "Survived": "1",
         "Pclass": "3",
         "Name": "Heikkinen, Miss. Laina",
         "Sex": "female",
         "Age": "26.0",
         "SibSp": "0",
         "Parch": "0",
         "Ticket": "STON/O2. 3101282",
         "Fare": "7.925",
         "Cabin": "nan",
         "Embarked": "S",
         "_deepnote_index_column": "2"
        },
        {
         "PassengerId": "4",
         "Survived": "1",
         "Pclass": "1",
         "Name": "Futrelle, Mrs. Jacques Heath (Lily May Peel)",
         "Sex": "female",
         "Age": "35.0",
         "SibSp": "1",
         "Parch": "0",
         "Ticket": "113803",
         "Fare": "53.1",
         "Cabin": "C123",
         "Embarked": "S",
         "_deepnote_index_column": "3"
        },
        {
         "PassengerId": "5",
         "Survived": "0",
         "Pclass": "3",
         "Name": "Allen, Mr. William Henry",
         "Sex": "male",
         "Age": "35.0",
         "SibSp": "0",
         "Parch": "0",
         "Ticket": "373450",
         "Fare": "8.05",
         "Cabin": "nan",
         "Embarked": "S",
         "_deepnote_index_column": "4"
        }
       ]
      },
      "text/plain": "   PassengerId  Survived  Pclass  \\\n0            1         0       3   \n1            2         1       1   \n2            3         1       3   \n3            4         1       1   \n4            5         0       3   \n\n                                                Name     Sex   Age  SibSp  \\\n0                            Braund, Mr. Owen Harris    male  22.0      1   \n1  Cumings, Mrs. John Bradley (Florence Briggs Th...  female  38.0      1   \n2                             Heikkinen, Miss. Laina  female  26.0      0   \n3       Futrelle, Mrs. Jacques Heath (Lily May Peel)  female  35.0      1   \n4                           Allen, Mr. William Henry    male  35.0      0   \n\n   Parch            Ticket     Fare Cabin Embarked  \n0      0         A/5 21171   7.2500   NaN        S  \n1      0          PC 17599  71.2833   C85        C  \n2      0  STON/O2. 3101282   7.9250   NaN        S  \n3      0            113803  53.1000  C123        S  \n4      0            373450   8.0500   NaN        S  ",
      "text/html": "<div>\n<style scoped>\n    .dataframe tbody tr th:only-of-type {\n        vertical-align: middle;\n    }\n\n    .dataframe tbody tr th {\n        vertical-align: top;\n    }\n\n    .dataframe thead th {\n        text-align: right;\n    }\n</style>\n<table border=\"1\" class=\"dataframe\">\n  <thead>\n    <tr style=\"text-align: right;\">\n      <th></th>\n      <th>PassengerId</th>\n      <th>Survived</th>\n      <th>Pclass</th>\n      <th>Name</th>\n      <th>Sex</th>\n      <th>Age</th>\n      <th>SibSp</th>\n      <th>Parch</th>\n      <th>Ticket</th>\n      <th>Fare</th>\n      <th>Cabin</th>\n      <th>Embarked</th>\n    </tr>\n  </thead>\n  <tbody>\n    <tr>\n      <th>0</th>\n      <td>1</td>\n      <td>0</td>\n      <td>3</td>\n      <td>Braund, Mr. Owen Harris</td>\n      <td>male</td>\n      <td>22.0</td>\n      <td>1</td>\n      <td>0</td>\n      <td>A/5 21171</td>\n      <td>7.2500</td>\n      <td>NaN</td>\n      <td>S</td>\n    </tr>\n    <tr>\n      <th>1</th>\n      <td>2</td>\n      <td>1</td>\n      <td>1</td>\n      <td>Cumings, Mrs. John Bradley (Florence Briggs Th...</td>\n      <td>female</td>\n      <td>38.0</td>\n      <td>1</td>\n      <td>0</td>\n      <td>PC 17599</td>\n      <td>71.2833</td>\n      <td>C85</td>\n      <td>C</td>\n    </tr>\n    <tr>\n      <th>2</th>\n      <td>3</td>\n      <td>1</td>\n      <td>3</td>\n      <td>Heikkinen, Miss. Laina</td>\n      <td>female</td>\n      <td>26.0</td>\n      <td>0</td>\n      <td>0</td>\n      <td>STON/O2. 3101282</td>\n      <td>7.9250</td>\n      <td>NaN</td>\n      <td>S</td>\n    </tr>\n    <tr>\n      <th>3</th>\n      <td>4</td>\n      <td>1</td>\n      <td>1</td>\n      <td>Futrelle, Mrs. Jacques Heath (Lily May Peel)</td>\n      <td>female</td>\n      <td>35.0</td>\n      <td>1</td>\n      <td>0</td>\n      <td>113803</td>\n      <td>53.1000</td>\n      <td>C123</td>\n      <td>S</td>\n    </tr>\n    <tr>\n      <th>4</th>\n      <td>5</td>\n      <td>0</td>\n      <td>3</td>\n      <td>Allen, Mr. William Henry</td>\n      <td>male</td>\n      <td>35.0</td>\n      <td>0</td>\n      <td>0</td>\n      <td>373450</td>\n      <td>8.0500</td>\n      <td>NaN</td>\n      <td>S</td>\n    </tr>\n  </tbody>\n</table>\n</div>"
     },
     "metadata": {}
    }
   ],
   "execution_count": null
  },
  {
   "cell_type": "markdown",
   "source": "### ¿Influye en la sobrevivencia del pasajero la clase en la que viaja?\n",
   "metadata": {
    "formattedRanges": [],
    "is_collapsed": false,
    "cell_id": "9e540b5f58b142c38ce4f80607ae66fe",
    "tags": [],
    "deepnote_cell_type": "text-cell-h3"
   }
  },
  {
   "cell_type": "code",
   "metadata": {
    "cell_id": "3e56e5efbcd64b269495f903330ee61e",
    "tags": [],
    "deepnote_to_be_reexecuted": false,
    "source_hash": "623cf50a",
    "execution_start": 1661796937554,
    "execution_millis": 2,
    "deepnote_cell_type": "code",
    "deepnote_cell_height": 313
   },
   "source": "df[[\"Pclass\",\"Survived\"]].groupby([\"Pclass\"], as_index=False).mean().sort_values(by=\"Survived\",ascending = False)",
   "execution_count": null,
   "outputs": [
    {
     "output_type": "execute_result",
     "execution_count": 2,
     "data": {
      "application/vnd.deepnote.dataframe.v3+json": {
       "column_count": 2,
       "row_count": 3,
       "columns": [
        {
         "name": "Pclass",
         "dtype": "int64",
         "stats": {
          "unique_count": 3,
          "nan_count": 0,
          "min": "1",
          "max": "3",
          "histogram": [
           {
            "bin_start": 1,
            "bin_end": 1.2,
            "count": 1
           },
           {
            "bin_start": 1.2,
            "bin_end": 1.4,
            "count": 0
           },
           {
            "bin_start": 1.4,
            "bin_end": 1.6,
            "count": 0
           },
           {
            "bin_start": 1.6,
            "bin_end": 1.8,
            "count": 0
           },
           {
            "bin_start": 1.8,
            "bin_end": 2,
            "count": 0
           },
           {
            "bin_start": 2,
            "bin_end": 2.2,
            "count": 1
           },
           {
            "bin_start": 2.2,
            "bin_end": 2.4000000000000004,
            "count": 0
           },
           {
            "bin_start": 2.4000000000000004,
            "bin_end": 2.6,
            "count": 0
           },
           {
            "bin_start": 2.6,
            "bin_end": 2.8,
            "count": 0
           },
           {
            "bin_start": 2.8,
            "bin_end": 3,
            "count": 1
           }
          ]
         }
        },
        {
         "name": "Survived",
         "dtype": "float64",
         "stats": {
          "unique_count": 3,
          "nan_count": 0,
          "min": "0.24236252545824846",
          "max": "0.6296296296296297",
          "histogram": [
           {
            "bin_start": 0.24236252545824846,
            "bin_end": 0.2810892358753866,
            "count": 1
           },
           {
            "bin_start": 0.2810892358753866,
            "bin_end": 0.3198159462925247,
            "count": 0
           },
           {
            "bin_start": 0.3198159462925247,
            "bin_end": 0.3585426567096628,
            "count": 0
           },
           {
            "bin_start": 0.3585426567096628,
            "bin_end": 0.39726936712680094,
            "count": 0
           },
           {
            "bin_start": 0.39726936712680094,
            "bin_end": 0.4359960775439391,
            "count": 0
           },
           {
            "bin_start": 0.4359960775439391,
            "bin_end": 0.47472278796107714,
            "count": 1
           },
           {
            "bin_start": 0.47472278796107714,
            "bin_end": 0.5134494983782153,
            "count": 0
           },
           {
            "bin_start": 0.5134494983782153,
            "bin_end": 0.5521762087953535,
            "count": 0
           },
           {
            "bin_start": 0.5521762087953535,
            "bin_end": 0.5909029192124915,
            "count": 0
           },
           {
            "bin_start": 0.5909029192124915,
            "bin_end": 0.6296296296296297,
            "count": 1
           }
          ]
         }
        },
        {
         "name": "_deepnote_index_column",
         "dtype": "int64"
        }
       ],
       "rows": [
        {
         "Pclass": "1",
         "Survived": "0.6296296296296297",
         "_deepnote_index_column": "0"
        },
        {
         "Pclass": "2",
         "Survived": "0.47282608695652173",
         "_deepnote_index_column": "1"
        },
        {
         "Pclass": "3",
         "Survived": "0.24236252545824846",
         "_deepnote_index_column": "2"
        }
       ]
      },
      "text/plain": "   Pclass  Survived\n0       1  0.629630\n1       2  0.472826\n2       3  0.242363",
      "text/html": "<div>\n<style scoped>\n    .dataframe tbody tr th:only-of-type {\n        vertical-align: middle;\n    }\n\n    .dataframe tbody tr th {\n        vertical-align: top;\n    }\n\n    .dataframe thead th {\n        text-align: right;\n    }\n</style>\n<table border=\"1\" class=\"dataframe\">\n  <thead>\n    <tr style=\"text-align: right;\">\n      <th></th>\n      <th>Pclass</th>\n      <th>Survived</th>\n    </tr>\n  </thead>\n  <tbody>\n    <tr>\n      <th>0</th>\n      <td>1</td>\n      <td>0.629630</td>\n    </tr>\n    <tr>\n      <th>1</th>\n      <td>2</td>\n      <td>0.472826</td>\n    </tr>\n    <tr>\n      <th>2</th>\n      <td>3</td>\n      <td>0.242363</td>\n    </tr>\n  </tbody>\n</table>\n</div>"
     },
     "metadata": {}
    }
   ]
  },
  {
   "cell_type": "code",
   "source": "sns.countplot(x='Survived',hue='Pclass',data=df)",
   "metadata": {
    "cell_id": "3fdaed6bc7454e76819d03788a8cfc69",
    "tags": [],
    "deepnote_to_be_reexecuted": false,
    "source_hash": "37522346",
    "execution_start": 1661796937598,
    "execution_millis": 270,
    "deepnote_cell_type": "code",
    "deepnote_cell_height": 406.1875,
    "deepnote_output_heights": [
     20.1875,
     263
    ]
   },
   "execution_count": null,
   "outputs": [
    {
     "output_type": "execute_result",
     "execution_count": 3,
     "data": {
      "text/plain": "<AxesSubplot:xlabel='Survived', ylabel='count'>"
     },
     "metadata": {}
    },
    {
     "data": {
      "text/plain": "<Figure size 432x288 with 1 Axes>",
      "image/png": "[encoded data removed]"
     },
     "metadata": {
      "needs_background": "light",
      "image/png": {
       "width": 389,
       "height": 262
      }
     },
     "output_type": "display_data"
    }
   ]
  },
  {
   "cell_type": "markdown",
   "source": "Los resultados nos muestran que la clase en que viajaba el pasajero sí influyó en la probabilidad de su sobrevivencia. El porcentaje de sobrevivientes de primera clase fue de 63%, en segunda clase fue del 47% y en tercera clase del 23%.",
   "metadata": {
    "is_collapsed": false,
    "cell_id": "542efbd218d34a19949347074035377c",
    "tags": [],
    "formattedRanges": [],
    "deepnote_cell_type": "text-cell-p"
   }
  },
  {
   "cell_type": "markdown",
   "source": "### ¿Qué rango de edad aumenta la probabilidad de sobrevivir?\n",
   "metadata": {
    "formattedRanges": [],
    "is_collapsed": false,
    "cell_id": "6057659f-b920-49f5-b090-c44d1bed28a5",
    "tags": [],
    "deepnote_cell_type": "text-cell-h3"
   }
  },
  {
   "cell_type": "code",
   "metadata": {
    "cell_id": "4faaedc56de04559ac0e01a97056ffaa",
    "tags": [],
    "deepnote_to_be_reexecuted": false,
    "source_hash": "85dd6c7c",
    "execution_start": 1661796937914,
    "execution_millis": 1009,
    "deepnote_cell_type": "code",
    "deepnote_cell_height": 407,
    "deepnote_output_heights": [
     279
    ]
   },
   "source": "sns.kdeplot(x = \"Age\", hue= \"Survived\", data=df, shade = True)\nplt.title(\"Survived VS Age\")\nplt.show()",
   "execution_count": null,
   "outputs": [
    {
     "data": {
      "text/plain": "<Figure size 432x288 with 1 Axes>",
      "image/png": "[encoded data removed]"
     },
     "metadata": {
      "needs_background": "light",
      "image/png": {
       "width": 405,
       "height": 278
      }
     },
     "output_type": "display_data"
    }
   ]
  },
  {
   "cell_type": "code",
   "metadata": {
    "cell_id": "89d96016c87a4f9eb4a165b5d5906beb",
    "tags": [],
    "deepnote_to_be_reexecuted": false,
    "source_hash": "4bc6937d",
    "execution_start": 1661796938314,
    "execution_millis": 610,
    "deepnote_cell_type": "code",
    "deepnote_cell_height": 406.1875,
    "deepnote_output_heights": [
     20.1875,
     263
    ]
   },
   "source": "sns.boxplot(x=\"Sex\",y=\"Age\",hue=\"Survived\",data=df)",
   "execution_count": null,
   "outputs": [
    {
     "output_type": "execute_result",
     "execution_count": 5,
     "data": {
      "text/plain": "<AxesSubplot:xlabel='Sex', ylabel='Age'>"
     },
     "metadata": {}
    },
    {
     "data": {
      "text/plain": "<Figure size 432x288 with 1 Axes>",
      "image/png": "[encoded data removed]"
     },
     "metadata": {
      "needs_background": "light",
      "image/png": {
       "width": 382,
       "height": 262
      }
     },
     "output_type": "display_data"
    }
   ]
  },
  {
   "cell_type": "markdown",
   "source": "El mayor número de sobrevivientes (tanto hombres como mujeres) oscilaban los 30 años , sin embargo, esto no garantiza que tener esa edad sea decisiva para confirmar si el pasajero sobrevive debido a que el número de no sobrevivientes también es elevado en este rango de edad. ",
   "metadata": {
    "is_collapsed": false,
    "cell_id": "d3d30bbdef4c4376acb1681d5e2e3174",
    "tags": [],
    "formattedRanges": [],
    "deepnote_cell_type": "text-cell-p"
   }
  },
  {
   "cell_type": "markdown",
   "source": "### ¿Influye el 'title' del pasajero en su sobrevivencia?\n",
   "metadata": {
    "formattedRanges": [],
    "is_collapsed": false,
    "cell_id": "c376dbb7-5aee-4e8e-b9d4-7c431e729841",
    "tags": [],
    "deepnote_cell_type": "text-cell-h3"
   }
  },
  {
   "cell_type": "code",
   "metadata": {
    "cell_id": "e21b2259f72a4222bab2a539de03980b",
    "tags": [],
    "deepnote_to_be_reexecuted": false,
    "source_hash": "7682eba3",
    "execution_start": 1661797402333,
    "execution_millis": 518,
    "deepnote_cell_type": "code",
    "deepnote_cell_height": 628.796875,
    "deepnote_output_heights": [
     null,
     353
    ]
   },
   "source": "name=df[\"Name\"]\ndf[\"Title\"]=[i.split(\".\")[0].split(\",\")[-1].strip() for i in name]\n\ndf[\"Title\"]=df[\"Title\"].replace([\"Lady\",\"the Countess\",\"Capt\",\"Col\",\"Don\",\"Dr\",\"Major\",\"Rev\",\"Sir\",\"Jonkheer\",\"Dona\"],\"other\")\ndf[\"Title\"] = [0 if i == \"Master\" else 1 if i == \"Miss\" or i == \"Ms\" or i == \"Mlle\" or i == \"Mrs\" else 2 if i == \"Mr\" else 3 for i in df[\"Title\"]]\n\nf=sns.factorplot(x=\"Title\",y=\"Survived\",data=df,kind=\"bar\")",
   "execution_count": null,
   "outputs": [
    {
     "name": "stderr",
     "text": "/shared-libs/python3.9/py/lib/python3.9/site-packages/seaborn/categorical.py:3717: UserWarning: The `factorplot` function has been renamed to `catplot`. The original name will be removed in a future release. Please update your code. Note that the default `kind` in `factorplot` (`'point'`) has changed `'strip'` in `catplot`.\n  warnings.warn(msg)\n",
     "output_type": "stream"
    },
    {
     "data": {
      "text/plain": "<Figure size 360x360 with 1 Axes>",
      "image/png": "[encoded data removed]"
     },
     "metadata": {
      "needs_background": "light",
      "image/png": {
       "width": 352,
       "height": 352
      }
     },
     "output_type": "display_data"
    }
   ]
  },
  {
   "cell_type": "markdown",
   "source": "Los datos muestran que las personas con 'title': miss, ms, mlle y mrs tienen más probabilidad de sobrevivir, seguido por aquellos que tienen el 'title': master. Lo anterior permite inferir que las mujeres y los hombres de alto rango son quienes en mayor medida sobrevivieron. ",
   "metadata": {
    "is_collapsed": false,
    "cell_id": "2bb17afa57bb4000967f586e44f05c38",
    "tags": [],
    "formattedRanges": [],
    "deepnote_cell_type": "text-cell-p"
   }
  },
  {
   "cell_type": "markdown",
   "source": "### ¿Influye el sexo del pasajero en su sobrevivencia?\n",
   "metadata": {
    "formattedRanges": [],
    "is_collapsed": false,
    "cell_id": "854ee44e-91e4-4111-8ebb-452262f6f680",
    "tags": [],
    "deepnote_cell_type": "text-cell-h3"
   }
  },
  {
   "cell_type": "code",
   "metadata": {
    "cell_id": "6f4e56335ce84407af639ff63214faf4",
    "tags": [],
    "deepnote_to_be_reexecuted": false,
    "source_hash": "2f88d270",
    "execution_start": 1661796938630,
    "execution_millis": 299,
    "deepnote_cell_type": "code",
    "deepnote_cell_height": 267
   },
   "source": "df[[\"Sex\",\"Survived\"]].groupby([\"Sex\"]).mean().sort_values(by=\"Survived\",ascending = False)",
   "execution_count": null,
   "outputs": [
    {
     "output_type": "execute_result",
     "execution_count": 6,
     "data": {
      "application/vnd.deepnote.dataframe.v3+json": {
       "column_count": 1,
       "row_count": 2,
       "columns": [
        {
         "name": "Survived",
         "dtype": "float64",
         "stats": {
          "unique_count": 2,
          "nan_count": 0,
          "min": "0.18890814558058924",
          "max": "0.7420382165605095",
          "histogram": [
           {
            "bin_start": 0.18890814558058924,
            "bin_end": 0.24422115267858127,
            "count": 1
           },
           {
            "bin_start": 0.24422115267858127,
            "bin_end": 0.29953415977657327,
            "count": 0
           },
           {
            "bin_start": 0.29953415977657327,
            "bin_end": 0.3548471668745653,
            "count": 0
           },
           {
            "bin_start": 0.3548471668745653,
            "bin_end": 0.41016017397255733,
            "count": 0
           },
           {
            "bin_start": 0.41016017397255733,
            "bin_end": 0.46547318107054936,
            "count": 0
           },
           {
            "bin_start": 0.46547318107054936,
            "bin_end": 0.5207861881685414,
            "count": 0
           },
           {
            "bin_start": 0.5207861881685414,
            "bin_end": 0.5760991952665334,
            "count": 0
           },
           {
            "bin_start": 0.5760991952665334,
            "bin_end": 0.6314122023645254,
            "count": 0
           },
           {
            "bin_start": 0.6314122023645254,
            "bin_end": 0.6867252094625175,
            "count": 0
           },
           {
            "bin_start": 0.6867252094625175,
            "bin_end": 0.7420382165605095,
            "count": 1
           }
          ]
         }
        },
        {
         "name": "_deepnote_index_column",
         "dtype": "object"
        }
       ],
       "rows": [
        {
         "Survived": "0.7420382165605095",
         "_deepnote_index_column": "female"
        },
        {
         "Survived": "0.18890814558058924",
         "_deepnote_index_column": "male"
        }
       ]
      },
      "text/plain": "        Survived\nSex             \nfemale  0.742038\nmale    0.188908",
      "text/html": "<div>\n<style scoped>\n    .dataframe tbody tr th:only-of-type {\n        vertical-align: middle;\n    }\n\n    .dataframe tbody tr th {\n        vertical-align: top;\n    }\n\n    .dataframe thead th {\n        text-align: right;\n    }\n</style>\n<table border=\"1\" class=\"dataframe\">\n  <thead>\n    <tr style=\"text-align: right;\">\n      <th></th>\n      <th>Survived</th>\n    </tr>\n    <tr>\n      <th>Sex</th>\n      <th></th>\n    </tr>\n  </thead>\n  <tbody>\n    <tr>\n      <th>female</th>\n      <td>0.742038</td>\n    </tr>\n    <tr>\n      <th>male</th>\n      <td>0.188908</td>\n    </tr>\n  </tbody>\n</table>\n</div>"
     },
     "metadata": {}
    }
   ]
  },
  {
   "cell_type": "code",
   "metadata": {
    "cell_id": "b2759c1f3b7f448f93ef0cecfdbf0d30",
    "tags": [],
    "deepnote_to_be_reexecuted": false,
    "source_hash": "97f7783c",
    "execution_start": 1661796938660,
    "execution_millis": 277,
    "deepnote_cell_type": "code",
    "deepnote_cell_height": 406.1875,
    "deepnote_output_heights": [
     20.1875,
     263
    ]
   },
   "source": "sns.countplot(x='Survived',hue='Sex',data=df)",
   "execution_count": null,
   "outputs": [
    {
     "output_type": "execute_result",
     "execution_count": 7,
     "data": {
      "text/plain": "<AxesSubplot:xlabel='Survived', ylabel='count'>"
     },
     "metadata": {}
    },
    {
     "data": {
      "text/plain": "<Figure size 432x288 with 1 Axes>",
      "image/png": "[encoded data removed]"
     },
     "metadata": {
      "needs_background": "light",
      "image/png": {
       "width": 389,
       "height": 262
      }
     },
     "output_type": "display_data"
    }
   ]
  },
  {
   "cell_type": "markdown",
   "source": "El 74% de todas las mujeres sobrevivió, comparado con sólo el 19% del total de los hombres. Ser mujer aumenta las posibilidades de sobreviviencia. ",
   "metadata": {
    "is_collapsed": false,
    "cell_id": "02cdc0f19fca41d99d5c09c4ad995e34",
    "tags": [],
    "formattedRanges": [],
    "deepnote_cell_type": "text-cell-p"
   }
  },
  {
   "cell_type": "markdown",
   "source": "### ¿Existen cabinas con mayor cercania a chalecos salvavidas o lanchas?",
   "metadata": {
    "formattedRanges": [],
    "is_collapsed": false,
    "cell_id": "613ed80a-ce55-4663-86d9-65312621f24c",
    "tags": [],
    "deepnote_cell_type": "text-cell-h3"
   }
  },
  {
   "cell_type": "code",
   "metadata": {
    "cell_id": "5e747b532a464bd7820de0b6bf56b8fd",
    "tags": [],
    "deepnote_to_be_reexecuted": false,
    "source_hash": "db56f342",
    "execution_start": 1661796938937,
    "execution_millis": 349,
    "deepnote_cell_type": "code",
    "deepnote_cell_height": 396.1875,
    "deepnote_output_heights": [
     20.1875,
     253
    ]
   },
   "source": "sns.heatmap(df[[\"Cabin\",\"Survived\"]].corr())",
   "execution_count": null,
   "outputs": [
    {
     "output_type": "execute_result",
     "execution_count": 8,
     "data": {
      "text/plain": "<AxesSubplot:>"
     },
     "metadata": {}
    },
    {
     "data": {
      "text/plain": "<Figure size 432x288 with 2 Axes>",
      "image/png": "[encoded data removed]"
     },
     "metadata": {
      "needs_background": "light",
      "image/png": {
       "width": 362,
       "height": 252
      }
     },
     "output_type": "display_data"
    }
   ]
  },
  {
   "cell_type": "code",
   "metadata": {
    "cell_id": "18e7b7a173eb47ccb8a601f7be9e67aa",
    "tags": [],
    "deepnote_to_be_reexecuted": false,
    "source_hash": "89d88612",
    "execution_start": 1661796939259,
    "execution_millis": 4100,
    "deepnote_cell_type": "code",
    "deepnote_cell_height": 551.796875,
    "deepnote_output_heights": [
     null,
     353
    ]
   },
   "source": "cabinSurvived=sns.factorplot(x=\"Cabin\",y=\"Survived\",data=df,kind=\"bar\")\ncabinSurvived.set_ylabels(\"Probabilty of survived\")\nplt.show()",
   "execution_count": null,
   "outputs": [
    {
     "name": "stderr",
     "text": "/shared-libs/python3.9/py/lib/python3.9/site-packages/seaborn/categorical.py:3717: UserWarning: The `factorplot` function has been renamed to `catplot`. The original name will be removed in a future release. Please update your code. Note that the default `kind` in `factorplot` (`'point'`) has changed `'strip'` in `catplot`.\n  warnings.warn(msg)\n",
     "output_type": "stream"
    },
    {
     "data": {
      "text/plain": "<Figure size 360x360 with 1 Axes>",
      "image/png": "[encoded data removed]"
     },
     "metadata": {
      "needs_background": "light",
      "image/png": {
       "width": 352,
       "height": 352
      }
     },
     "output_type": "display_data"
    }
   ]
  },
  {
   "cell_type": "markdown",
   "source": "La primer gráfica demuestra que no existe correlación entre la cabina y la sobrevivencia del pasajero, la segunda gráfica rectifica que viajar en cierta cabina no se relaciona directamente con la posibilidad de sobrevivencia del pasajero. ",
   "metadata": {
    "is_collapsed": false,
    "cell_id": "b5f7cc6865a94a7a93c022940ff2e7ba",
    "tags": [],
    "formattedRanges": [],
    "deepnote_cell_type": "text-cell-p"
   }
  },
  {
   "cell_type": "markdown",
   "source": "### ¿Los sobrevivientes viajaban con familia?",
   "metadata": {
    "formattedRanges": [],
    "is_collapsed": false,
    "cell_id": "93777c02b45a4f00bd2b973a9b9c3e79",
    "tags": [],
    "deepnote_cell_type": "text-cell-h3"
   }
  },
  {
   "cell_type": "code",
   "source": "with_family = df.query('Survived == 1 & (SibSp > 0 | Parch > 0)')\nwithout_family = df.query('Survived == 1 & (SibSp == 0 & Parch == 0)')\n\nn1 = with_family['PassengerId'].count()\nn2 = without_family['PassengerId'].count()\n\ndf1 = pd.DataFrame({'Survivors': [n1, n2]},\n                  index=['Survivors', 'Without Family'])\n\nplot = df1.plot.pie(y='Survivors', figsize=(5, 5))",
   "metadata": {
    "cell_id": "eb575d1977f64671902c9e49b2f65e0d",
    "tags": [],
    "deepnote_to_be_reexecuted": false,
    "source_hash": "f7b4ba1e",
    "execution_start": 1661811112289,
    "execution_millis": 259,
    "deepnote_table_state": {
     "pageSize": 10,
     "pageIndex": 0,
     "filters": [],
     "sortBy": []
    },
    "deepnote_table_loading": false,
    "deepnote_cell_type": "code",
    "deepnote_cell_height": 541,
    "deepnote_output_heights": [
     287
    ]
   },
   "outputs": [
    {
     "data": {
      "text/plain": "<Figure size 360x360 with 1 Axes>",
      "image/png": "[encoded data removed]"
     },
     "metadata": {
      "image/png": {
       "width": 303,
       "height": 286
      }
     },
     "output_type": "display_data"
    }
   ],
   "execution_count": null
  },
  {
   "cell_type": "markdown",
   "source": "### ¿Los sobrevivientes pagaron una mayor tarifa?",
   "metadata": {
    "formattedRanges": [],
    "is_collapsed": false,
    "cell_id": "2155619be17d4a89adc2bbb65838b9c2",
    "tags": [],
    "deepnote_cell_type": "text-cell-h3"
   }
  },
  {
   "cell_type": "code",
   "metadata": {
    "cell_id": "ca30ca0c1fc849b9a1042f66e4a20fd3",
    "tags": [],
    "deepnote_to_be_reexecuted": false,
    "source_hash": "16ba0a85",
    "execution_start": 1661800546084,
    "execution_millis": 309,
    "deepnote_cell_type": "code",
    "deepnote_cell_height": 622.1875,
    "deepnote_output_heights": [
     null,
     20.1875,
     264
    ]
   },
   "source": "mean_fare_survivors = df.query('Survived == 1')['Fare'].mean()\nprint(mean_fare_survivors)\n\nmean_fare_non_survivors = df.query('Survived == 0')['Fare'].mean()\nprint(mean_fare_non_survivors)\n\ndf1 = pd.DataFrame({'lab':['Mean Fare Survivors', 'Mean Fare Non-Survivors'], 'Fare':[mean_fare_survivors, mean_fare_non_survivors]})\ndf1.plot.bar(x='lab', y='Fare', rot=0)\n",
   "execution_count": null,
   "outputs": [
    {
     "name": "stdout",
     "text": "48.39540760233918\n22.117886885245902\n",
     "output_type": "stream"
    },
    {
     "output_type": "execute_result",
     "execution_count": 34,
     "data": {
      "text/plain": "<AxesSubplot:xlabel='lab'>"
     },
     "metadata": {}
    },
    {
     "data": {
      "text/plain": "<Figure size 432x288 with 1 Axes>",
      "image/png": "[encoded data removed]"
     },
     "metadata": {
      "needs_background": "light",
      "image/png": {
       "width": 368,
       "height": 263
      }
     },
     "output_type": "display_data"
    }
   ]
  },
  {
   "cell_type": "markdown",
   "source": "### ¿El puerto de embarcación  influye en la supervivencia del pasajero?",
   "metadata": {
    "formattedRanges": [],
    "is_collapsed": false,
    "cell_id": "b159a8be91d441d7b761d164ecdaa00c",
    "tags": [],
    "deepnote_cell_type": "text-cell-h3"
   }
  },
  {
   "cell_type": "code",
   "source": "a = df.query('Survived == 1 & Embarked.notna()')\n\nb = df.query('Survived == 0 & Embarked.notna()')\n\nx = a[[\"Embarked\",\"Survived\"]].groupby([\"Embarked\"]).count()\n\ny = b[[\"Embarked\",\"Survived\"]].groupby([\"Embarked\"]).count()\n\nidx = ['C','Q','S']\n\ni = pd.Series(x['Survived'],idx)\nj = pd.Series(y['Survived'],idx)\n\ndf1 = pd.DataFrame({\"Survivors\":i,\"Non-Survivors\":j})\nax = df1.plot.bar(color=[\"SkyBlue\",\"IndianRed\"], rot=0, title=\"\")\nax.set_xlabel(\"Embarked\")\nax.set_ylabel(\"Count\")\nplt.show()",
   "metadata": {
    "cell_id": "d4d138bc133243378a02a5149878853a",
    "tags": [],
    "deepnote_to_be_reexecuted": false,
    "source_hash": "5a3e22e8",
    "execution_start": 1661807227170,
    "execution_millis": 313,
    "deepnote_cell_type": "code",
    "deepnote_cell_height": 661,
    "deepnote_output_heights": [
     263
    ]
   },
   "outputs": [
    {
     "data": {
      "text/plain": "<Figure size 432x288 with 1 Axes>",
      "image/png": "[encoded data removed]"
     },
     "metadata": {
      "needs_background": "light",
      "image/png": {
       "width": 389,
       "height": 262
      }
     },
     "output_type": "display_data"
    }
   ],
   "execution_count": null
  },
  {
   "cell_type": "markdown",
   "source": "### ¿El número de ticket tiene relación con la supervivencia?",
   "metadata": {
    "formattedRanges": [],
    "is_collapsed": false,
    "cell_id": "59800c1ec9d54c77be910425b389eb5d",
    "tags": [],
    "deepnote_cell_type": "text-cell-h3"
   }
  },
  {
   "cell_type": "code",
   "source": "a = df.sort_values(by=['Ticket'])\n\nprint(a[\"PassengerId\"].count())\n\ni1 = (a.iloc[0:100].query('Survived == 1'))['PassengerId'].count()\nj1 = (a.iloc[100:200].query('Survived == 1'))['PassengerId'].count()\nk1 = (a.iloc[200:300].query('Survived == 1'))['PassengerId'].count()\nl1 = (a.iloc[300:400].query('Survived == 1'))['PassengerId'].count()\nm1 = (a.iloc[400:500].query('Survived == 1'))['PassengerId'].count()\nn1 = (a.iloc[500:600].query('Survived == 1'))['PassengerId'].count()\no1 = (a.iloc[600:700].query('Survived == 1'))['PassengerId'].count()\np1 = (a.iloc[700:800].query('Survived == 1'))['PassengerId'].count()\nq1 = (a.iloc[800:].query('Survived == 1'))['PassengerId'].count()\n\narr1 = [i1,j1,k1,l1,m1,n1,o1,p1,q1]\narr2 = [100-i1,100-j1,100-k1,100-l1,100-m1,100-n1,100-o1,100-p1,100-q1]\nprint(arr1)\nprint(arr2)\n\nidx = ['1','2','3','4','5','6','7','8','9']\n\nx = pd.Series(arr1,idx)\ny = pd.Series(arr2,idx)\n\ndf1 = pd.DataFrame({\"Survivors\":x,\"Non-Survivors\":y})\nax = df1.plot.bar(color=[\"SkyBlue\",\"IndianRed\"], rot=0, title=\"\")\nax.set_xlabel(\"Range\")\nax.set_ylabel(\"Count\")\nplt.show()\n",
   "metadata": {
    "cell_id": "47a44060748b47d794548cf6fc8e949c",
    "tags": [],
    "deepnote_to_be_reexecuted": false,
    "source_hash": "4732ee4f",
    "execution_start": 1661810048968,
    "execution_millis": 418,
    "deepnote_cell_type": "code",
    "deepnote_cell_height": 963,
    "deepnote_output_heights": [
     null,
     263
    ]
   },
   "outputs": [
    {
     "name": "stdout",
     "text": "891\n[58, 61, 44, 35, 15, 29, 17, 51, 32]\n[42, 39, 56, 65, 85, 71, 83, 49, 68]\n",
     "output_type": "stream"
    },
    {
     "data": {
      "text/plain": "<Figure size 432x288 with 1 Axes>",
      "image/png": "[encoded data removed]"
     },
     "metadata": {
      "needs_background": "light",
      "image/png": {
       "width": 382,
       "height": 262
      }
     },
     "output_type": "display_data"
    }
   ],
   "execution_count": null
  },
  {
   "cell_type": "markdown",
   "source": "### ¿Tener un hijo influye en las posibilidades del pasajero de sobrevivir?",
   "metadata": {
    "formattedRanges": [],
    "is_collapsed": false,
    "cell_id": "5b7ca72ab8294d1abb2f0b3ff7e89c69",
    "tags": [],
    "deepnote_cell_type": "text-cell-h3"
   }
  },
  {
   "cell_type": "code",
   "source": "with_kids = df.query('Survived == 1 & Parch > 0')\nwithout_kids = df.query('Survived == 1 & Parch == 0')\n\nn1 = with_kids['PassengerId'].count()\nn2 = without_kids['PassengerId'].count()\n\ndf1 = pd.DataFrame({'Survivors': [n1, n2]},\n                  index=['With Kids', 'Without Kids'])\n\nplot = df1.plot.pie(y='Survivors', figsize=(5, 5))",
   "metadata": {
    "cell_id": "0ea6b631dd37467da0045d9a5348456f",
    "tags": [],
    "deepnote_to_be_reexecuted": false,
    "source_hash": "3f0cedc0",
    "execution_start": 1661810496794,
    "execution_millis": 302,
    "deepnote_cell_type": "code",
    "deepnote_cell_height": 541,
    "deepnote_output_heights": [
     287
    ]
   },
   "outputs": [
    {
     "data": {
      "text/plain": "<Figure size 360x360 with 1 Axes>",
      "image/png": "[encoded data removed]"
     },
     "metadata": {
      "image/png": {
       "width": 303,
       "height": 286
      }
     },
     "output_type": "display_data"
    }
   ],
   "execution_count": null
  },
  {
   "cell_type": "markdown",
   "source": "<a style='text-decoration:none;line-height:16px;display:flex;color:#5B5B62;padding:10px;justify-content:end;' href='https://deepnote.com?utm_source=created-in-deepnote-cell&projectId=34b6ad67-9899-4609-8c36-e96f39426d07' target=\"_blank\">\n<img alt='Created in deepnote.com' style='display:inline;max-height:16px;margin:0px;margin-right:7.5px;' src='data:image/svg+xml;base64,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' > </img>\nCreated in <span style='font-weight:600;margin-left:4px;'>Deepnote</span></a>",
   "metadata": {
    "tags": [],
    "created_in_deepnote_cell": true,
    "deepnote_cell_type": "markdown"
   }
  }
 ],
 "nbformat": 4,
 "nbformat_minor": 2,
 "metadata": {
  "orig_nbformat": 2,
  "deepnote": {},
  "deepnote_notebook_id": "c90082b5-a443-44a2-8163-826ca0d263e6",
  "deepnote_execution_queue": []
 }
}