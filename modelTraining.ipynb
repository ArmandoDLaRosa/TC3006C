{
 "cells": [
  {
   "cell_type": "markdown",
   "source": "",
   "metadata": {
    "cell_id": "1412d783375249bd90bf1f2b54197521",
    "tags": [],
    "deepnote_cell_type": "markdown",
    "deepnote_cell_height": 46
   }
  },
  {
   "cell_type": "markdown",
   "source": "# LIBRERÍAS",
   "metadata": {
    "cell_id": "2e42e55d17ff4e639753398f0c7e1874",
    "tags": [],
    "deepnote_cell_type": "markdown",
    "deepnote_cell_height": 82
   }
  },
  {
   "cell_type": "code",
   "metadata": {
    "cell_id": "b11ae64501c946a89ac97541a8130e07",
    "tags": [],
    "deepnote_to_be_reexecuted": false,
    "source_hash": "9cfe2b97",
    "execution_start": 1663385236543,
    "execution_millis": 9411,
    "deepnote_cell_type": "code",
    "deepnote_cell_height": 305
   },
   "source": "!pip install xgboost==1.6.2",
   "execution_count": 1,
   "outputs": [
    {
     "name": "stdout",
     "text": "Collecting xgboost==1.6.2\n  Downloading xgboost-1.6.2-py3-none-manylinux2014_x86_64.whl (255.9 MB)\n\u001b[2K     \u001b[90m━━━━━━━━━━━━━━━━━━━━━━━━━━━━━━━━━━━━━━━\u001b[0m \u001b[32m255.9/255.9 MB\u001b[0m \u001b[31m6.8 MB/s\u001b[0m eta \u001b[36m0:00:00\u001b[0m\n\u001b[?25hRequirement already satisfied: scipy in /shared-libs/python3.9/py/lib/python3.9/site-packages (from xgboost==1.6.2) (1.9.1)\nRequirement already satisfied: numpy in /shared-libs/python3.9/py/lib/python3.9/site-packages (from xgboost==1.6.2) (1.23.3)\nInstalling collected packages: xgboost\nSuccessfully installed xgboost-1.6.2\n\u001b[33mWARNING: You are using pip version 22.0.4; however, version 22.2.2 is available.\nYou should consider upgrading via the '/root/venv/bin/python -m pip install --upgrade pip' command.\u001b[0m\u001b[33m\n\u001b[0m",
     "output_type": "stream"
    }
   ]
  },
  {
   "cell_type": "code",
   "metadata": {
    "cell_id": "877cceba1786492392dae1df758fa362",
    "tags": [],
    "deepnote_to_be_reexecuted": false,
    "source_hash": "1e884e91",
    "execution_start": 1663385245960,
    "execution_millis": 3353,
    "deepnote_cell_type": "code",
    "deepnote_cell_height": 732.1875
   },
   "source": "import pickle\n\nimport ETL\nimport matplotlib.pyplot as plt\nimport numpy as np\nimport pandas as pd\nimport tensorflow as tf\nimport utils\nfrom keras.layers import Dense\nfrom keras.models import Sequential\nfrom sklearn import datasets, decomposition\nfrom sklearn.ensemble import GradientBoostingClassifier, RandomForestClassifier\nfrom sklearn.linear_model import LogisticRegression\nfrom sklearn.metrics import (accuracy_score, classification_report,\n                             confusion_matrix, precision_recall_curve,\n                             roc_auc_score, roc_curve)\nfrom sklearn.model_selection import (GridSearchCV, KFold, cross_validate,\n                                     train_test_split)\nfrom sklearn.feature_selection import SelectFromModel\nfrom sklearn.naive_bayes import GaussianNB\nfrom sklearn.neighbors import KNeighborsClassifier\nfrom sklearn.pipeline import Pipeline\nfrom sklearn.preprocessing import MinMaxScaler, StandardScaler\nfrom sklearn.svm import SVC\nfrom sklearn.tree import DecisionTreeClassifier\nfrom xgboost import XGBClassifier\nfrom sklearn.ensemble import RandomForestRegressor",
   "execution_count": 2,
   "outputs": [
    {
     "name": "stderr",
     "text": "2022-09-17 03:27:26.854445: I tensorflow/core/platform/cpu_feature_guard.cc:193] This TensorFlow binary is optimized with oneAPI Deep Neural Network Library (oneDNN) to use the following CPU instructions in performance-critical operations:  AVX2 AVX512F AVX512_VNNI FMA\nTo enable them in other operations, rebuild TensorFlow with the appropriate compiler flags.\n2022-09-17 03:27:26.977680: I tensorflow/core/util/util.cc:169] oneDNN custom operations are on. You may see slightly different numerical results due to floating-point round-off errors from different computation orders. To turn them off, set the environment variable `TF_ENABLE_ONEDNN_OPTS=0`.\n2022-09-17 03:27:26.982656: W tensorflow/stream_executor/platform/default/dso_loader.cc:64] Could not load dynamic library 'libcudart.so.11.0'; dlerror: libcudart.so.11.0: cannot open shared object file: No such file or directory\n2022-09-17 03:27:26.982678: I tensorflow/stream_executor/cuda/cudart_stub.cc:29] Ignore above cudart dlerror if you do not have a GPU set up on your machine.\n2022-09-17 03:27:27.006089: E tensorflow/stream_executor/cuda/cuda_blas.cc:2981] Unable to register cuBLAS factory: Attempting to register factory for plugin cuBLAS when one has already been registered\n2022-09-17 03:27:27.600815: W tensorflow/stream_executor/platform/default/dso_loader.cc:64] Could not load dynamic library 'libnvinfer.so.7'; dlerror: libnvinfer.so.7: cannot open shared object file: No such file or directory\n2022-09-17 03:27:27.600900: W tensorflow/stream_executor/platform/default/dso_loader.cc:64] Could not load dynamic library 'libnvinfer_plugin.so.7'; dlerror: libnvinfer_plugin.so.7: cannot open shared object file: No such file or directory\n2022-09-17 03:27:27.600910: W tensorflow/compiler/tf2tensorrt/utils/py_utils.cc:38] TF-TRT Warning: Cannot dlopen some TensorRT libraries. If you would like to use Nvidia GPU with TensorRT, please make sure the missing libraries mentioned above are installed properly.\n",
     "output_type": "stream"
    }
   ]
  },
  {
   "cell_type": "markdown",
   "source": "# DATA",
   "metadata": {
    "cell_id": "f87b851c48ff4a94ab2f8c55e72523ee",
    "tags": [],
    "deepnote_cell_type": "markdown",
    "deepnote_cell_height": 82
   }
  },
  {
   "cell_type": "code",
   "metadata": {
    "cell_id": "c4b4b51b161548889b66025a769bc6c9",
    "tags": [],
    "deepnote_to_be_reexecuted": false,
    "source_hash": "d5517361",
    "execution_start": 1663385249318,
    "execution_millis": 776,
    "deepnote_cell_type": "code",
    "deepnote_cell_height": 649
   },
   "source": "df = ETL.etl(extract_path = \"/work/data/train.csv\")\ndf\nkaggle = ETL.etl(extract_path = \"/work/data/test.csv\", kaggle=True)\nkaggle",
   "execution_count": 3,
   "outputs": [
    {
     "output_type": "execute_result",
     "execution_count": 3,
     "data": {
      "application/vnd.deepnote.dataframe.v3+json": {
       "column_count": 6,
       "row_count": 418,
       "columns": [
        {
         "name": "PassengerId",
         "dtype": "int64",
         "stats": {
          "unique_count": 418,
          "nan_count": 0,
          "min": "892",
          "max": "1309",
          "histogram": [
           {
            "bin_start": 892,
            "bin_end": 933.7,
            "count": 42
           },
           {
            "bin_start": 933.7,
            "bin_end": 975.4,
            "count": 42
           },
           {
            "bin_start": 975.4,
            "bin_end": 1017.1,
            "count": 42
           },
           {
            "bin_start": 1017.1,
            "bin_end": 1058.8,
            "count": 41
           },
           {
            "bin_start": 1058.8,
            "bin_end": 1100.5,
            "count": 42
           },
           {
            "bin_start": 1100.5,
            "bin_end": 1142.2,
            "count": 42
           },
           {
            "bin_start": 1142.2,
            "bin_end": 1183.9,
            "count": 41
           },
           {
            "bin_start": 1183.9,
            "bin_end": 1225.6,
            "count": 42
           },
           {
            "bin_start": 1225.6,
            "bin_end": 1267.3,
            "count": 42
           },
           {
            "bin_start": 1267.3,
            "bin_end": 1309,
            "count": 42
           }
          ]
         }
        },
        {
         "name": "Pclass",
         "dtype": "int64",
         "stats": {
          "unique_count": 3,
          "nan_count": 0,
          "min": "1",
          "max": "3",
          "histogram": [
           {
            "bin_start": 1,
            "bin_end": 1.2,
            "count": 107
           },
           {
            "bin_start": 1.2,
            "bin_end": 1.4,
            "count": 0
           },
           {
            "bin_start": 1.4,
            "bin_end": 1.6,
            "count": 0
           },
           {
            "bin_start": 1.6,
            "bin_end": 1.8,
            "count": 0
           },
           {
            "bin_start": 1.8,
            "bin_end": 2,
            "count": 0
           },
           {
            "bin_start": 2,
            "bin_end": 2.2,
            "count": 93
           },
           {
            "bin_start": 2.2,
            "bin_end": 2.4000000000000004,
            "count": 0
           },
           {
            "bin_start": 2.4000000000000004,
            "bin_end": 2.6,
            "count": 0
           },
           {
            "bin_start": 2.6,
            "bin_end": 2.8,
            "count": 0
           },
           {
            "bin_start": 2.8,
            "bin_end": 3,
            "count": 218
           }
          ]
         }
        },
        {
         "name": "Sex",
         "dtype": "int64",
         "stats": {
          "unique_count": 2,
          "nan_count": 0,
          "min": "0",
          "max": "1",
          "histogram": [
           {
            "bin_start": 0,
            "bin_end": 0.1,
            "count": 266
           },
           {
            "bin_start": 0.1,
            "bin_end": 0.2,
            "count": 0
           },
           {
            "bin_start": 0.2,
            "bin_end": 0.30000000000000004,
            "count": 0
           },
           {
            "bin_start": 0.30000000000000004,
            "bin_end": 0.4,
            "count": 0
           },
           {
            "bin_start": 0.4,
            "bin_end": 0.5,
            "count": 0
           },
           {
            "bin_start": 0.5,
            "bin_end": 0.6000000000000001,
            "count": 0
           },
           {
            "bin_start": 0.6000000000000001,
            "bin_end": 0.7000000000000001,
            "count": 0
           },
           {
            "bin_start": 0.7000000000000001,
            "bin_end": 0.8,
            "count": 0
           },
           {
            "bin_start": 0.8,
            "bin_end": 0.9,
            "count": 0
           },
           {
            "bin_start": 0.9,
            "bin_end": 1,
            "count": 152
           }
          ]
         }
        },
        {
         "name": "Age",
         "dtype": "float64",
         "stats": {
          "unique_count": 79,
          "nan_count": 0,
          "min": "0.17",
          "max": "76.0",
          "histogram": [
           {
            "bin_start": 0.17,
            "bin_end": 7.753,
            "count": 16
           },
           {
            "bin_start": 7.753,
            "bin_end": 15.336,
            "count": 16
           },
           {
            "bin_start": 15.336,
            "bin_end": 22.919000000000004,
            "count": 71
           },
           {
            "bin_start": 22.919000000000004,
            "bin_end": 30.502000000000002,
            "count": 170
           },
           {
            "bin_start": 30.502000000000002,
            "bin_end": 38.085,
            "count": 49
           },
           {
            "bin_start": 38.085,
            "bin_end": 45.668000000000006,
            "count": 44
           },
           {
            "bin_start": 45.668000000000006,
            "bin_end": 53.251000000000005,
            "count": 25
           },
           {
            "bin_start": 53.251000000000005,
            "bin_end": 60.834,
            "count": 17
           },
           {
            "bin_start": 60.834,
            "bin_end": 68.417,
            "count": 9
           },
           {
            "bin_start": 68.417,
            "bin_end": 76,
            "count": 1
           }
          ]
         }
        },
        {
         "name": "Embarked",
         "dtype": "int64",
         "stats": {
          "unique_count": 3,
          "nan_count": 0,
          "min": "0",
          "max": "2",
          "histogram": [
           {
            "bin_start": 0,
            "bin_end": 0.2,
            "count": 102
           },
           {
            "bin_start": 0.2,
            "bin_end": 0.4,
            "count": 0
           },
           {
            "bin_start": 0.4,
            "bin_end": 0.6000000000000001,
            "count": 0
           },
           {
            "bin_start": 0.6000000000000001,
            "bin_end": 0.8,
            "count": 0
           },
           {
            "bin_start": 0.8,
            "bin_end": 1,
            "count": 0
           },
           {
            "bin_start": 1,
            "bin_end": 1.2000000000000002,
            "count": 46
           },
           {
            "bin_start": 1.2000000000000002,
            "bin_end": 1.4000000000000001,
            "count": 0
           },
           {
            "bin_start": 1.4000000000000001,
            "bin_end": 1.6,
            "count": 0
           },
           {
            "bin_start": 1.6,
            "bin_end": 1.8,
            "count": 0
           },
           {
            "bin_start": 1.8,
            "bin_end": 2,
            "count": 270
           }
          ]
         }
        },
        {
         "name": "Title",
         "dtype": "int64",
         "stats": {
          "unique_count": 2,
          "nan_count": 0,
          "min": "1",
          "max": "2",
          "histogram": [
           {
            "bin_start": 1,
            "bin_end": 1.1,
            "count": 413
           },
           {
            "bin_start": 1.1,
            "bin_end": 1.2,
            "count": 0
           },
           {
            "bin_start": 1.2,
            "bin_end": 1.3,
            "count": 0
           },
           {
            "bin_start": 1.3,
            "bin_end": 1.4,
            "count": 0
           },
           {
            "bin_start": 1.4,
            "bin_end": 1.5,
            "count": 0
           },
           {
            "bin_start": 1.5,
            "bin_end": 1.6,
            "count": 0
           },
           {
            "bin_start": 1.6,
            "bin_end": 1.7000000000000002,
            "count": 0
           },
           {
            "bin_start": 1.7000000000000002,
            "bin_end": 1.8,
            "count": 0
           },
           {
            "bin_start": 1.8,
            "bin_end": 1.9,
            "count": 0
           },
           {
            "bin_start": 1.9,
            "bin_end": 2,
            "count": 5
           }
          ]
         }
        },
        {
         "name": "_deepnote_index_column",
         "dtype": "int64"
        }
       ],
       "rows": [
        {
         "PassengerId": "892",
         "Pclass": "3",
         "Sex": "0",
         "Age": "34.5",
         "Embarked": "1",
         "Title": "1",
         "_deepnote_index_column": "0"
        },
        {
         "PassengerId": "893",
         "Pclass": "3",
         "Sex": "1",
         "Age": "47.0",
         "Embarked": "2",
         "Title": "1",
         "_deepnote_index_column": "1"
        },
        {
         "PassengerId": "894",
         "Pclass": "2",
         "Sex": "0",
         "Age": "62.0",
         "Embarked": "1",
         "Title": "1",
         "_deepnote_index_column": "2"
        },
        {
         "PassengerId": "895",
         "Pclass": "3",
         "Sex": "0",
         "Age": "27.0",
         "Embarked": "2",
         "Title": "1",
         "_deepnote_index_column": "3"
        },
        {
         "PassengerId": "896",
         "Pclass": "3",
         "Sex": "1",
         "Age": "22.0",
         "Embarked": "2",
         "Title": "1",
         "_deepnote_index_column": "4"
        },
        {
         "PassengerId": "897",
         "Pclass": "3",
         "Sex": "0",
         "Age": "14.0",
         "Embarked": "2",
         "Title": "1",
         "_deepnote_index_column": "5"
        },
        {
         "PassengerId": "898",
         "Pclass": "3",
         "Sex": "1",
         "Age": "30.0",
         "Embarked": "1",
         "Title": "1",
         "_deepnote_index_column": "6"
        },
        {
         "PassengerId": "899",
         "Pclass": "2",
         "Sex": "0",
         "Age": "26.0",
         "Embarked": "2",
         "Title": "1",
         "_deepnote_index_column": "7"
        },
        {
         "PassengerId": "900",
         "Pclass": "3",
         "Sex": "1",
         "Age": "18.0",
         "Embarked": "0",
         "Title": "1",
         "_deepnote_index_column": "8"
        },
        {
         "PassengerId": "901",
         "Pclass": "3",
         "Sex": "0",
         "Age": "21.0",
         "Embarked": "2",
         "Title": "1",
         "_deepnote_index_column": "9"
        }
       ]
      },
      "text/plain": "     PassengerId  Pclass  Sex   Age  Embarked  Title\n0            892       3    0  34.5         1      1\n1            893       3    1  47.0         2      1\n2            894       2    0  62.0         1      1\n3            895       3    0  27.0         2      1\n4            896       3    1  22.0         2      1\n..           ...     ...  ...   ...       ...    ...\n408         1300       3    1  24.0         1      1\n410         1302       3    1  24.0         1      1\n413         1305       3    0  27.0         2      1\n416         1308       3    0  27.0         2      1\n417         1309       3    0  27.0         0      1\n\n[418 rows x 6 columns]",
      "text/html": "<div>\n<style scoped>\n    .dataframe tbody tr th:only-of-type {\n        vertical-align: middle;\n    }\n\n    .dataframe tbody tr th {\n        vertical-align: top;\n    }\n\n    .dataframe thead th {\n        text-align: right;\n    }\n</style>\n<table border=\"1\" class=\"dataframe\">\n  <thead>\n    <tr style=\"text-align: right;\">\n      <th></th>\n      <th>PassengerId</th>\n      <th>Pclass</th>\n      <th>Sex</th>\n      <th>Age</th>\n      <th>Embarked</th>\n      <th>Title</th>\n    </tr>\n  </thead>\n  <tbody>\n    <tr>\n      <th>0</th>\n      <td>892</td>\n      <td>3</td>\n      <td>0</td>\n      <td>34.5</td>\n      <td>1</td>\n      <td>1</td>\n    </tr>\n    <tr>\n      <th>1</th>\n      <td>893</td>\n      <td>3</td>\n      <td>1</td>\n      <td>47.0</td>\n      <td>2</td>\n      <td>1</td>\n    </tr>\n    <tr>\n      <th>2</th>\n      <td>894</td>\n      <td>2</td>\n      <td>0</td>\n      <td>62.0</td>\n      <td>1</td>\n      <td>1</td>\n    </tr>\n    <tr>\n      <th>3</th>\n      <td>895</td>\n      <td>3</td>\n      <td>0</td>\n      <td>27.0</td>\n      <td>2</td>\n      <td>1</td>\n    </tr>\n    <tr>\n      <th>4</th>\n      <td>896</td>\n      <td>3</td>\n      <td>1</td>\n      <td>22.0</td>\n      <td>2</td>\n      <td>1</td>\n    </tr>\n    <tr>\n      <th>...</th>\n      <td>...</td>\n      <td>...</td>\n      <td>...</td>\n      <td>...</td>\n      <td>...</td>\n      <td>...</td>\n    </tr>\n    <tr>\n      <th>408</th>\n      <td>1300</td>\n      <td>3</td>\n      <td>1</td>\n      <td>24.0</td>\n      <td>1</td>\n      <td>1</td>\n    </tr>\n    <tr>\n      <th>410</th>\n      <td>1302</td>\n      <td>3</td>\n      <td>1</td>\n      <td>24.0</td>\n      <td>1</td>\n      <td>1</td>\n    </tr>\n    <tr>\n      <th>413</th>\n      <td>1305</td>\n      <td>3</td>\n      <td>0</td>\n      <td>27.0</td>\n      <td>2</td>\n      <td>1</td>\n    </tr>\n    <tr>\n      <th>416</th>\n      <td>1308</td>\n      <td>3</td>\n      <td>0</td>\n      <td>27.0</td>\n      <td>2</td>\n      <td>1</td>\n    </tr>\n    <tr>\n      <th>417</th>\n      <td>1309</td>\n      <td>3</td>\n      <td>0</td>\n      <td>27.0</td>\n      <td>0</td>\n      <td>1</td>\n    </tr>\n  </tbody>\n</table>\n<p>418 rows × 6 columns</p>\n</div>"
     },
     "metadata": {}
    }
   ]
  },
  {
   "cell_type": "markdown",
   "source": "# DATA SPLITTING",
   "metadata": {
    "cell_id": "98c709df6b3e402597c3c0a92f4a5416",
    "tags": [],
    "deepnote_cell_type": "markdown",
    "deepnote_cell_height": 82
   }
  },
  {
   "cell_type": "code",
   "metadata": {
    "cell_id": "8ded7303547d465c91686360734dbbb9",
    "tags": [],
    "deepnote_to_be_reexecuted": false,
    "source_hash": "23fb129d",
    "execution_start": 1663385249595,
    "execution_millis": 7,
    "deepnote_cell_type": "code",
    "deepnote_cell_height": 454
   },
   "source": "from sklearn.preprocessing import PowerTransformer\n\n# TRAINING ..................................\nX = df.drop(columns=\"Survived\")\nX_cols = X.columns\n#power = PowerTransformer(method='yeo-johnson', standardize=True)\n#X = power.fit_transform(X)\n#X = pd.DataFrame(X, columns = X_cols) \n\nscaler = StandardScaler().fit(X)\nX = pd.DataFrame(scaler.transform(X), columns = X.columns)\ny =  df[\"Survived\"]\nX_train, X_test, y_train, y_test = train_test_split(X, y, stratify = df.Survived, random_state=0)\n\n# KAGGLE  ..................................\nX_kaggle = kaggle\nX_kaggle_cols = X_kaggle.columns\n#power = PowerTransformer(method='yeo-johnson', standardize=True)\n#X_kaggle = power.fit_transform(X_kaggle)\n#X_kaggle = pd.DataFrame(X_kaggle, columns = X_kaggle_cols) \nscaler = StandardScaler().fit(X_kaggle)\nX_kaggle = pd.DataFrame(scaler.transform(X_kaggle), columns = X_kaggle.columns)",
   "execution_count": 4,
   "outputs": []
  },
  {
   "cell_type": "markdown",
   "source": "# VARIABLE IMPORTANCE",
   "metadata": {
    "cell_id": "24bc9266ebe148c6808a7ca52b520516",
    "tags": [],
    "deepnote_cell_type": "markdown",
    "deepnote_cell_height": 82
   }
  },
  {
   "cell_type": "code",
   "metadata": {
    "cell_id": "e1cac96c162345bbb5d8fc2a317f8af7",
    "tags": [],
    "deepnote_to_be_reexecuted": false,
    "source_hash": "7e663e4f",
    "execution_start": 1663385249615,
    "execution_millis": 1321,
    "deepnote_cell_type": "code",
    "deepnote_cell_height": 778,
    "deepnote_output_heights": [
     452
    ]
   },
   "source": "sel = SelectFromModel(RandomForestRegressor(n_estimators = 1000))\nsel.fit(X, y)\n\nimportances = sel.estimator_.feature_importances_\nnames = sel.estimator_.feature_names_in_\n\nindices = np.argsort(importances)[::-1]\n# X is the train data used to fit the model \nplt.figure(figsize=(10,5))\nplt.title(\"Feature importances\")\nplt.bar(range(X.shape[1]), importances[indices], color=\"r\", align=\"center\")\nplt.xticks(range(X.shape[1]), [names[i] for i in indices])\nplt.xlim([-1, X.shape[1]])\nplt.show()",
   "execution_count": 5,
   "outputs": [
    {
     "data": {
      "text/plain": "<Figure size 1000x500 with 1 Axes>",
      "image/png": "[encoded data removed]"
     },
     "metadata": {
      "image/png": {
       "width": 835,
       "height": 451
      }
     },
     "output_type": "display_data"
    }
   ]
  },
  {
   "cell_type": "markdown",
   "source": "# SMART MODEL SELECTION ",
   "metadata": {
    "cell_id": "9b72960216b54531b3f5043eff6db3ca",
    "tags": [],
    "deepnote_cell_type": "markdown",
    "deepnote_cell_height": 82
   }
  },
  {
   "cell_type": "code",
   "metadata": {
    "cell_id": "11017fd66bf249118e47237d6fcdd353",
    "tags": [],
    "deepnote_to_be_reexecuted": false,
    "source_hash": "b2170c3f",
    "execution_start": 1663385250937,
    "execution_millis": 1,
    "deepnote_cell_type": "code",
    "deepnote_cell_height": 202
   },
   "source": "models = [('KNN', KNeighborsClassifier()),\n          ('SVC', SVC()),\n          ('LR', LogisticRegression(max_iter=300000)),\n          ('DT', DecisionTreeClassifier()),\n          ('GNB', GaussianNB()),\n          ('RF', RandomForestClassifier()),\n          ('GB', GradientBoostingClassifier()),\n          ('XGB', XGBClassifier())]",
   "execution_count": 6,
   "outputs": []
  },
  {
   "cell_type": "code",
   "metadata": {
    "cell_id": "577d65e3b51f456c9999e049d6fce819",
    "tags": [],
    "deepnote_to_be_reexecuted": false,
    "source_hash": "5eb9d4c5",
    "execution_start": 1663385250987,
    "execution_millis": 3444,
    "deepnote_table_state": {
     "pageSize": 10,
     "pageIndex": 0,
     "filters": [],
     "sortBy": [
      {
       "id": "f1",
       "type": "desc"
      }
     ]
    },
    "deepnote_table_loading": false,
    "deepnote_cell_type": "code",
    "deepnote_cell_height": 725
   },
   "source": "fitmodels_k = []\nfor name, model in models: \n    kfold = KFold(n_splits=10, random_state=10, shuffle=True) \n    results = cross_validate(model, X, y, cv = kfold, scoring = ['accuracy', 'precision','recall','f1'])\n    fitmodels_k.append( utils.MLmodel(name,\n                              np.mean(results['test_accuracy']),\n                              np.mean(results['test_precision']),\n                              np.mean(results['test_recall']),\n                              np.mean(results['test_f1'])))    \nkval = pd.DataFrame.from_records([fitmodel.to_dict() for fitmodel in fitmodels_k])\nkval",
   "execution_count": 7,
   "outputs": [
    {
     "output_type": "execute_result",
     "execution_count": 7,
     "data": {
      "application/vnd.deepnote.dataframe.v3+json": {
       "column_count": 5,
       "row_count": 8,
       "columns": [
        {
         "name": "name",
         "dtype": "object",
         "stats": {
          "unique_count": 8,
          "nan_count": 0,
          "categories": [
           {
            "name": "XGB",
            "count": 1
           },
           {
            "name": "GB",
            "count": 1
           },
           {
            "name": "6 others",
            "count": 6
           }
          ]
         }
        },
        {
         "name": "accuracy",
         "dtype": "float64",
         "stats": {
          "unique_count": 8,
          "nan_count": 0,
          "min": "0.7553183520599251",
          "max": "0.817103620474407",
          "histogram": [
           {
            "bin_start": 0.7553183520599251,
            "bin_end": 0.7614968789013733,
            "count": 1
           },
           {
            "bin_start": 0.7614968789013733,
            "bin_end": 0.7676754057428216,
            "count": 0
           },
           {
            "bin_start": 0.7676754057428216,
            "bin_end": 0.7738539325842697,
            "count": 0
           },
           {
            "bin_start": 0.7738539325842697,
            "bin_end": 0.7800324594257179,
            "count": 1
           },
           {
            "bin_start": 0.7800324594257179,
            "bin_end": 0.786210986267166,
            "count": 0
           },
           {
            "bin_start": 0.786210986267166,
            "bin_end": 0.7923895131086143,
            "count": 2
           },
           {
            "bin_start": 0.7923895131086143,
            "bin_end": 0.7985680399500624,
            "count": 1
           },
           {
            "bin_start": 0.7985680399500624,
            "bin_end": 0.8047465667915106,
            "count": 0
           },
           {
            "bin_start": 0.8047465667915106,
            "bin_end": 0.8109250936329588,
            "count": 1
           },
           {
            "bin_start": 0.8109250936329588,
            "bin_end": 0.817103620474407,
            "count": 2
           }
          ]
         }
        },
        {
         "name": "precision",
         "dtype": "float64",
         "stats": {
          "unique_count": 8,
          "nan_count": 0,
          "min": "0.6809091520544702",
          "max": "0.8786080618838449",
          "histogram": [
           {
            "bin_start": 0.6809091520544702,
            "bin_end": 0.7006790430374077,
            "count": 2
           },
           {
            "bin_start": 0.7006790430374077,
            "bin_end": 0.7204489340203452,
            "count": 0
           },
           {
            "bin_start": 0.7204489340203452,
            "bin_end": 0.7402188250032826,
            "count": 2
           },
           {
            "bin_start": 0.7402188250032826,
            "bin_end": 0.7599887159862201,
            "count": 0
           },
           {
            "bin_start": 0.7599887159862201,
            "bin_end": 0.7797586069691576,
            "count": 2
           },
           {
            "bin_start": 0.7797586069691576,
            "bin_end": 0.799528497952095,
            "count": 0
           },
           {
            "bin_start": 0.799528497952095,
            "bin_end": 0.8192983889350325,
            "count": 1
           },
           {
            "bin_start": 0.8192983889350325,
            "bin_end": 0.83906827991797,
            "count": 0
           },
           {
            "bin_start": 0.83906827991797,
            "bin_end": 0.8588381709009074,
            "count": 0
           },
           {
            "bin_start": 0.8588381709009074,
            "bin_end": 0.8786080618838449,
            "count": 1
           }
          ]
         }
        },
        {
         "name": "recall",
         "dtype": "float64",
         "stats": {
          "unique_count": 8,
          "nan_count": 0,
          "min": "0.6018999955914518",
          "max": "0.724332407061211",
          "histogram": [
           {
            "bin_start": 0.6018999955914518,
            "bin_end": 0.6141432367384277,
            "count": 1
           },
           {
            "bin_start": 0.6141432367384277,
            "bin_end": 0.6263864778854037,
            "count": 0
           },
           {
            "bin_start": 0.6263864778854037,
            "bin_end": 0.6386297190323795,
            "count": 0
           },
           {
            "bin_start": 0.6386297190323795,
            "bin_end": 0.6508729601793555,
            "count": 0
           },
           {
            "bin_start": 0.6508729601793555,
            "bin_end": 0.6631162013263314,
            "count": 1
           },
           {
            "bin_start": 0.6631162013263314,
            "bin_end": 0.6753594424733074,
            "count": 2
           },
           {
            "bin_start": 0.6753594424733074,
            "bin_end": 0.6876026836202833,
            "count": 0
           },
           {
            "bin_start": 0.6876026836202833,
            "bin_end": 0.6998459247672592,
            "count": 2
           },
           {
            "bin_start": 0.6998459247672592,
            "bin_end": 0.7120891659142351,
            "count": 0
           },
           {
            "bin_start": 0.7120891659142351,
            "bin_end": 0.724332407061211,
            "count": 2
           }
          ]
         }
        },
        {
         "name": "f1",
         "dtype": "float64",
         "stats": {
          "unique_count": 8,
          "nan_count": 0,
          "min": "0.6741216981619459",
          "max": "0.727003169154499",
          "histogram": [
           {
            "bin_start": 0.6741216981619459,
            "bin_end": 0.6794098452612012,
            "count": 1
           },
           {
            "bin_start": 0.6794098452612012,
            "bin_end": 0.6846979923604565,
            "count": 0
           },
           {
            "bin_start": 0.6846979923604565,
            "bin_end": 0.6899861394597119,
            "count": 0
           },
           {
            "bin_start": 0.6899861394597119,
            "bin_end": 0.6952742865589672,
            "count": 0
           },
           {
            "bin_start": 0.6952742865589672,
            "bin_end": 0.7005624336582225,
            "count": 0
           },
           {
            "bin_start": 0.7005624336582225,
            "bin_end": 0.7058505807574778,
            "count": 0
           },
           {
            "bin_start": 0.7058505807574778,
            "bin_end": 0.711138727856733,
            "count": 3
           },
           {
            "bin_start": 0.711138727856733,
            "bin_end": 0.7164268749559884,
            "count": 1
           },
           {
            "bin_start": 0.7164268749559884,
            "bin_end": 0.7217150220552437,
            "count": 2
           },
           {
            "bin_start": 0.7217150220552437,
            "bin_end": 0.727003169154499,
            "count": 1
           }
          ]
         }
        },
        {
         "name": "_deepnote_index_column",
         "dtype": "int64"
        }
       ],
       "rows": [
        {
         "name": "XGB",
         "accuracy": "0.8080649188514357",
         "precision": "0.7759350965608529",
         "recall": "0.690054687879228",
         "f1": "0.727003169154499",
         "_deepnote_index_column": "7"
        },
        {
         "name": "GB",
         "accuracy": "0.8114606741573034",
         "precision": "0.8038480370592438",
         "recall": "0.6538353256790119",
         "f1": "0.7188335102747198",
         "_deepnote_index_column": "6"
        },
        {
         "name": "LR",
         "accuracy": "0.7878776529338326",
         "precision": "0.7255733018837858",
         "recall": "0.7128920657932836",
         "f1": "0.7166954463318074",
         "_deepnote_index_column": "2"
        },
        {
         "name": "RF",
         "accuracy": "0.7900873907615481",
         "precision": "0.7396485229866674",
         "recall": "0.6970146348228002",
         "f1": "0.7124640253716912",
         "_deepnote_index_column": "5"
        },
        {
         "name": "DT",
         "accuracy": "0.7979525593008739",
         "precision": "0.7720557668792962",
         "recall": "0.6668922447022501",
         "f1": "0.7109956966864289",
         "_deepnote_index_column": "3"
        },
        {
         "name": "SVC",
         "accuracy": "0.817103620474407",
         "precision": "0.8786080618838449",
         "recall": "0.6018999955914518",
         "f1": "0.7091334513940306",
         "_deepnote_index_column": "1"
        },
        {
         "name": "GNB",
         "accuracy": "0.7744319600499374",
         "precision": "0.6968578919110582",
         "recall": "0.724332407061211",
         "f1": "0.7073709301334054",
         "_deepnote_index_column": "4"
        },
        {
         "name": "KNN",
         "accuracy": "0.7553183520599251",
         "precision": "0.6809091520544702",
         "recall": "0.674088018530736",
         "f1": "0.6741216981619459",
         "_deepnote_index_column": "0"
        }
       ]
      },
      "text/plain": "  name  accuracy  precision    recall        f1\n0  KNN  0.755318   0.680909  0.674088  0.674122\n1  SVC  0.817104   0.878608  0.601900  0.709133\n2   LR  0.787878   0.725573  0.712892  0.716695\n3   DT  0.797953   0.772056  0.666892  0.710996\n4  GNB  0.774432   0.696858  0.724332  0.707371\n5   RF  0.790087   0.739649  0.697015  0.712464\n6   GB  0.811461   0.803848  0.653835  0.718834\n7  XGB  0.808065   0.775935  0.690055  0.727003",
      "text/html": "<div>\n<style scoped>\n    .dataframe tbody tr th:only-of-type {\n        vertical-align: middle;\n    }\n\n    .dataframe tbody tr th {\n        vertical-align: top;\n    }\n\n    .dataframe thead th {\n        text-align: right;\n    }\n</style>\n<table border=\"1\" class=\"dataframe\">\n  <thead>\n    <tr style=\"text-align: right;\">\n      <th></th>\n      <th>name</th>\n      <th>accuracy</th>\n      <th>precision</th>\n      <th>recall</th>\n      <th>f1</th>\n    </tr>\n  </thead>\n  <tbody>\n    <tr>\n      <th>0</th>\n      <td>KNN</td>\n      <td>0.755318</td>\n      <td>0.680909</td>\n      <td>0.674088</td>\n      <td>0.674122</td>\n    </tr>\n    <tr>\n      <th>1</th>\n      <td>SVC</td>\n      <td>0.817104</td>\n      <td>0.878608</td>\n      <td>0.601900</td>\n      <td>0.709133</td>\n    </tr>\n    <tr>\n      <th>2</th>\n      <td>LR</td>\n      <td>0.787878</td>\n      <td>0.725573</td>\n      <td>0.712892</td>\n      <td>0.716695</td>\n    </tr>\n    <tr>\n      <th>3</th>\n      <td>DT</td>\n      <td>0.797953</td>\n      <td>0.772056</td>\n      <td>0.666892</td>\n      <td>0.710996</td>\n    </tr>\n    <tr>\n      <th>4</th>\n      <td>GNB</td>\n      <td>0.774432</td>\n      <td>0.696858</td>\n      <td>0.724332</td>\n      <td>0.707371</td>\n    </tr>\n    <tr>\n      <th>5</th>\n      <td>RF</td>\n      <td>0.790087</td>\n      <td>0.739649</td>\n      <td>0.697015</td>\n      <td>0.712464</td>\n    </tr>\n    <tr>\n      <th>6</th>\n      <td>GB</td>\n      <td>0.811461</td>\n      <td>0.803848</td>\n      <td>0.653835</td>\n      <td>0.718834</td>\n    </tr>\n    <tr>\n      <th>7</th>\n      <td>XGB</td>\n      <td>0.808065</td>\n      <td>0.775935</td>\n      <td>0.690055</td>\n      <td>0.727003</td>\n    </tr>\n  </tbody>\n</table>\n</div>"
     },
     "metadata": {}
    }
   ]
  },
  {
   "cell_type": "markdown",
   "source": "",
   "metadata": {
    "cell_id": "ecdaf8362c664eb5b2655ebe8cc2f152",
    "tags": [],
    "deepnote_cell_type": "markdown",
    "deepnote_cell_height": 46
   }
  },
  {
   "cell_type": "markdown",
   "source": "## Neural Network \n**(Just a Test)**\nNot stored/used in the ensembled model",
   "metadata": {
    "cell_id": "e109a62240874b4f990a178579196562",
    "tags": [],
    "deepnote_cell_type": "markdown",
    "deepnote_cell_height": 130.765625
   }
  },
  {
   "cell_type": "code",
   "metadata": {
    "cell_id": "b0c561b8c43f404781c484f55164221b",
    "tags": [],
    "deepnote_to_be_reexecuted": false,
    "source_hash": "d8220272",
    "execution_start": 1663385254439,
    "execution_millis": 5778,
    "deepnote_cell_type": "code",
    "deepnote_cell_height": 1735,
    "deepnote_output_heights": [
     null,
     20.1875,
     435
    ]
   },
   "source": "modelo_nn=Sequential()\n\nmodelo_nn.add(Dense(units=14,activation=\"linear\",input_dim=X.to_numpy().shape[1]))\nmodelo_nn.add(Dense(units=18,activation=\"relu\"))\nmodelo_nn.add(Dense(units=12,activation=\"relu\"))\nmodelo_nn.add(tf.keras.layers.Dense(units=1,activation=\"sigmoid\"))\n\nmodelo_nn.compile(\n    optimizer=\"sgd\",\n    loss=\"binary_crossentropy\",\n    metrics=[tf.keras.metrics.AUC(),tf.keras.metrics.BinaryAccuracy()]\n)\n\nprint(\"Inicia el entrenamiento\")\nhistoria  = modelo_nn.fit(X_train,y_train,epochs=150,verbose=False)\nprint(\"Termina el entrenamiento\")\n\nprint(\"\\n Train\")\ny_predicted = modelo_nn.predict(X_train)\ny_predicted = np.argmax(y_predicted, axis=1)\nprint(classification_report(y_train,y_predicted))\n\nprint(\"\\n Test\")\ny_predicted = modelo_nn.predict(X_test)\ny_predicted = np.argmax(y_predicted, axis=1)\nprint(classification_report(y_test,y_predicted))\n\nplt.xlabel(\"# epoca\")\nplt.ylabel(\"Función de pérdida\")\nplt.plot(historia.history[\"loss\"])",
   "execution_count": 8,
   "outputs": [
    {
     "name": "stderr",
     "text": "2022-09-17 03:27:34.438444: W tensorflow/stream_executor/platform/default/dso_loader.cc:64] Could not load dynamic library 'libcuda.so.1'; dlerror: libcuda.so.1: cannot open shared object file: No such file or directory\n2022-09-17 03:27:34.438492: W tensorflow/stream_executor/cuda/cuda_driver.cc:263] failed call to cuInit: UNKNOWN ERROR (303)\n2022-09-17 03:27:34.438515: I tensorflow/stream_executor/cuda/cuda_diagnostics.cc:156] kernel driver does not appear to be running on this host (p-34b6ad67-9899-4609-8c36-e96f39426d07): /proc/driver/nvidia/version does not exist\n2022-09-17 03:27:34.438838: I tensorflow/core/platform/cpu_feature_guard.cc:193] This TensorFlow binary is optimized with oneAPI Deep Neural Network Library (oneDNN) to use the following CPU instructions in performance-critical operations:  AVX2 AVX512F AVX512_VNNI FMA\nTo enable them in other operations, rebuild TensorFlow with the appropriate compiler flags.\nInicia el entrenamiento\nTermina el entrenamiento\n\n Train\n21/21 [==============================] - 0s 789us/step\n              precision    recall  f1-score   support\n\n           0       0.62      1.00      0.76       412\n           1       0.00      0.00      0.00       256\n\n    accuracy                           0.62       668\n   macro avg       0.31      0.50      0.38       668\nweighted avg       0.38      0.62      0.47       668\n\n\n Test\n7/7 [==============================] - 0s 880us/step\n              precision    recall  f1-score   support\n\n           0       0.61      1.00      0.76       137\n           1       0.00      0.00      0.00        86\n\n    accuracy                           0.61       223\n   macro avg       0.31      0.50      0.38       223\nweighted avg       0.38      0.61      0.47       223\n\n/shared-libs/python3.9/py/lib/python3.9/site-packages/sklearn/metrics/_classification.py:1334: UndefinedMetricWarning: Precision and F-score are ill-defined and being set to 0.0 in labels with no predicted samples. Use `zero_division` parameter to control this behavior.\n  _warn_prf(average, modifier, msg_start, len(result))\n/shared-libs/python3.9/py/lib/python3.9/site-packages/sklearn/metrics/_classification.py:1334: UndefinedMetricWarning: Precision and F-score are ill-defined and being set to 0.0 in labels with no predicted samples. Use `zero_division` parameter to control this behavior.\n  _warn_prf(average, modifier, msg_start, len(result))\n/shared-libs/python3.9/py/lib/python3.9/site-packages/sklearn/metrics/_classification.py:1334: UndefinedMetricWarning: Precision and F-score are ill-defined and being set to 0.0 in labels with no predicted samples. Use `zero_division` parameter to control this behavior.\n  _warn_prf(average, modifier, msg_start, len(result))\n/shared-libs/python3.9/py/lib/python3.9/site-packages/sklearn/metrics/_classification.py:1334: UndefinedMetricWarning: Precision and F-score are ill-defined and being set to 0.0 in labels with no predicted samples. Use `zero_division` parameter to control this behavior.\n  _warn_prf(average, modifier, msg_start, len(result))\n/shared-libs/python3.9/py/lib/python3.9/site-packages/sklearn/metrics/_classification.py:1334: UndefinedMetricWarning: Precision and F-score are ill-defined and being set to 0.0 in labels with no predicted samples. Use `zero_division` parameter to control this behavior.\n  _warn_prf(average, modifier, msg_start, len(result))\n/shared-libs/python3.9/py/lib/python3.9/site-packages/sklearn/metrics/_classification.py:1334: UndefinedMetricWarning: Precision and F-score are ill-defined and being set to 0.0 in labels with no predicted samples. Use `zero_division` parameter to control this behavior.\n  _warn_prf(average, modifier, msg_start, len(result))\n",
     "output_type": "stream"
    },
    {
     "output_type": "execute_result",
     "execution_count": 8,
     "data": {
      "text/plain": "[<matplotlib.lines.Line2D at 0x7f0f875dc730>]"
     },
     "metadata": {}
    },
    {
     "data": {
      "text/plain": "<Figure size 640x480 with 1 Axes>",
      "image/png": "[encoded data removed]"
     },
     "metadata": {
      "image/png": {
       "width": 576,
       "height": 432
      }
     },
     "output_type": "display_data"
    }
   ]
  },
  {
   "cell_type": "markdown",
   "source": "",
   "metadata": {
    "cell_id": "8420b1fa64bc4a2093f5d9e2fc1c40ca",
    "tags": [],
    "deepnote_cell_type": "markdown",
    "deepnote_cell_height": 46
   }
  },
  {
   "cell_type": "markdown",
   "source": "# MODEL DEEP DIVE",
   "metadata": {
    "cell_id": "8d05ef58fdca4b57962e801c817e02ec",
    "tags": [],
    "deepnote_cell_type": "markdown",
    "deepnote_cell_height": 82
   }
  },
  {
   "cell_type": "markdown",
   "source": "## RANDOM FOREST CLASSIFIER",
   "metadata": {
    "cell_id": "b03b03f1e63d4c10a6ff7f97f0befff1",
    "tags": [],
    "deepnote_cell_type": "markdown",
    "deepnote_cell_height": 70
   }
  },
  {
   "cell_type": "code",
   "metadata": {
    "cell_id": "d4e576f80a6840409fe8f517af1a2e56",
    "tags": [],
    "deepnote_to_be_reexecuted": false,
    "source_hash": "77a2963a",
    "execution_start": 1663385260220,
    "execution_millis": 260,
    "deepnote_cell_type": "code",
    "deepnote_cell_height": 1020
   },
   "source": "rf_model = RandomForestClassifier()\n\n# Full Data\nprint(\"Full Data\")\nrf_model.fit(X, y)\nprint(rf_model.get_params())\ny_pred = rf_model.predict(X)\nprint(classification_report(y, y_pred))\n\n# Partial Data\nrf_model.fit(X_train, y_train)\nprint(rf_model.get_params())\n\nprint(\"Train\")\ny_pred = rf_model.predict(X_train)\nprint(classification_report(y_train, y_pred))\nprint(\"Test\")\ny_pred = rf_model.predict(X_test)\nprint(classification_report(y_test, y_pred))",
   "execution_count": 9,
   "outputs": [
    {
     "name": "stdout",
     "text": "Full Data\n{'bootstrap': True, 'ccp_alpha': 0.0, 'class_weight': None, 'criterion': 'gini', 'max_depth': None, 'max_features': 'sqrt', 'max_leaf_nodes': None, 'max_samples': None, 'min_impurity_decrease': 0.0, 'min_samples_leaf': 1, 'min_samples_split': 2, 'min_weight_fraction_leaf': 0.0, 'n_estimators': 100, 'n_jobs': None, 'oob_score': False, 'random_state': None, 'verbose': 0, 'warm_start': False}\n              precision    recall  f1-score   support\n\n           0       0.90      0.95      0.92       549\n           1       0.91      0.83      0.87       342\n\n    accuracy                           0.90       891\n   macro avg       0.90      0.89      0.89       891\nweighted avg       0.90      0.90      0.90       891\n\n{'bootstrap': True, 'ccp_alpha': 0.0, 'class_weight': None, 'criterion': 'gini', 'max_depth': None, 'max_features': 'sqrt', 'max_leaf_nodes': None, 'max_samples': None, 'min_impurity_decrease': 0.0, 'min_samples_leaf': 1, 'min_samples_split': 2, 'min_weight_fraction_leaf': 0.0, 'n_estimators': 100, 'n_jobs': None, 'oob_score': False, 'random_state': None, 'verbose': 0, 'warm_start': False}\nTrain\n              precision    recall  f1-score   support\n\n           0       0.88      0.98      0.93       412\n           1       0.95      0.79      0.86       256\n\n    accuracy                           0.90       668\n   macro avg       0.92      0.88      0.89       668\nweighted avg       0.91      0.90      0.90       668\n\nTest\n              precision    recall  f1-score   support\n\n           0       0.82      0.93      0.87       137\n           1       0.86      0.66      0.75        86\n\n    accuracy                           0.83       223\n   macro avg       0.84      0.80      0.81       223\nweighted avg       0.83      0.83      0.82       223\n\n",
     "output_type": "stream"
    }
   ]
  },
  {
   "cell_type": "markdown",
   "source": "### Parameters Search",
   "metadata": {
    "cell_id": "a51cd772b0cd4f9a852090179832df81",
    "tags": [],
    "deepnote_cell_type": "markdown",
    "deepnote_cell_height": 62
   }
  },
  {
   "cell_type": "code",
   "source": "pca = decomposition.PCA()\nrf_model = RandomForestClassifier()\npipe = Pipeline(steps=[('pca', pca), ('rf', rf_model)])\nn_components = list(range(1,X.shape[1]+1,1))\n\nparams= {\n    'pca__n_components' : n_components,\n    'rf__criterion' : ['entropy','gini'],\n    'rf__max_depth' : list(range(1,15,1))+[None],\n    'rf__max_features': list(range(1,15,1))+[\"sqrt\"],\n    'rf__min_samples_leaf' : range(1,15,10),\n    'rf__min_samples_split' : list(range(1,15,10)) + np.arange(0.1, 0.9, 0.1).tolist(),\n    'rf__n_estimators' : range(0,1000,50),\n    'rf__bootstrap'     : [True,False]\n}\n\nkfold = KFold(n_splits=10, random_state=10, shuffle=True) \nscores = ['recall', 'precision', 'f1']\nfor score in scores:\n    print(f\"Tuning for {score}\")    \n    clf = GridSearchCV(\n        pipe, params,\n        cv = kfold,\n        n_jobs = -1, \n        scoring = f'{score}_macro',\n        verbose = 0,\n        refit = True)\n    clf.fit(X_train,y_train)\n    print(clf.best_params_)\n    print(clf.best_score_, '\\n\\n')\n    pipe =  clf.best_estimator_\n\nprint(\"FINAL\")\nprint(clf.best_params_)\nprint(clf.best_score_)",
   "metadata": {
    "cell_id": "3bbc644e63ba4d6ab645f6cbcc87214b",
    "tags": [],
    "deepnote_to_be_reexecuted": false,
    "source_hash": "c66faffe",
    "execution_start": 1663385260523,
    "execution_millis": 15,
    "deepnote_cell_type": "code",
    "deepnote_cell_height": 931.375,
    "deepnote_output_heights": [
     null,
     39
    ]
   },
   "execution_count": null,
   "outputs": [
    {
     "name": "stdout",
     "text": "Tuning for recall\n",
     "output_type": "stream"
    }
   ]
  },
  {
   "cell_type": "markdown",
   "source": "### Model Evaluation",
   "metadata": {
    "cell_id": "a473c854e47a47e0932633c96db5d847",
    "tags": [],
    "deepnote_cell_type": "markdown",
    "deepnote_cell_height": 62
   }
  },
  {
   "cell_type": "code",
   "metadata": {
    "cell_id": "656b6ad65b7240c99ec24260133284d8",
    "tags": [],
    "deepnote_to_be_reexecuted": true,
    "source_hash": "1bd07bb5",
    "execution_start": 1663262131563,
    "execution_millis": 2492,
    "deepnote_cell_type": "code",
    "deepnote_cell_height": 926
   },
   "source": "params = {\n    'criterion':'gini', \n    'n_estimators': 700,\n    'min_samples_split': 10,\n    'min_samples_leaf': 1,\n    'max_features':'sqrt',\n    'random_state':0,\n    'max_depth':15,\n}\n\nrf_model = RandomForestClassifier(**params)\nrf_model.fit(X_train, y_train)\n\nprint(\"\\n Train\")\ny_predicted=rf_model.predict(X_train)\nprint(\"score: \" ,rf_model.score(X_train,y_train))\nprint(classification_report(y_train,y_predicted))\n\nprint(\"\\n Test\")\ny_predicted=rf_model.predict(X_test)\nprint(\"score : \" ,rf_model.score(X_test,y_test))\nprint(classification_report(y_test,y_predicted))",
   "execution_count": null,
   "outputs": [
    {
     "name": "stdout",
     "text": "\n Train\nscore:  0.8727544910179641\n              precision    recall  f1-score   support\n\n           0       0.87      0.94      0.90       412\n           1       0.89      0.77      0.82       256\n\n    accuracy                           0.87       668\n   macro avg       0.88      0.85      0.86       668\nweighted avg       0.87      0.87      0.87       668\n\n\n Test\nscore :  0.8340807174887892\n              precision    recall  f1-score   support\n\n           0       0.81      0.95      0.88       137\n           1       0.89      0.65      0.75        86\n\n    accuracy                           0.83       223\n   macro avg       0.85      0.80      0.81       223\nweighted avg       0.84      0.83      0.83       223\n\n",
     "output_type": "stream"
    }
   ]
  },
  {
   "cell_type": "markdown",
   "source": "### Kaggle",
   "metadata": {
    "cell_id": "feb4edc018c541c19e8d0d25cf92afd3",
    "tags": [],
    "deepnote_cell_type": "markdown",
    "deepnote_cell_height": 62
   }
  },
  {
   "cell_type": "code",
   "metadata": {
    "cell_id": "ae466dddf3534e7998fd1f437781c374",
    "tags": [],
    "deepnote_to_be_reexecuted": true,
    "source_hash": "c90fc2e6",
    "execution_start": 1663255736674,
    "execution_millis": 130,
    "deepnote_cell_type": "code",
    "deepnote_cell_height": 166
   },
   "source": "predictions = rf_model.predict(X_kaggle.drop(\"PassengerId\", axis=1))\nsubmission = pd.DataFrame({'PassengerId':kaggle['PassengerId'],'Survived':predictions})\n\nfilename = 'submits/Titanic Predictions RF.csv'\n\nsubmission.to_csv(filename,index=False)",
   "execution_count": null,
   "outputs": []
  },
  {
   "cell_type": "markdown",
   "source": "### Storing rf model",
   "metadata": {
    "cell_id": "5c41abfe8f0e4ab4936250a99f4389f8",
    "tags": [],
    "deepnote_cell_type": "markdown",
    "deepnote_cell_height": 62
   }
  },
  {
   "cell_type": "code",
   "metadata": {
    "cell_id": "5db0c1ca0f824304861c4e357cb3a9c0",
    "tags": [],
    "deepnote_to_be_reexecuted": true,
    "source_hash": "4ed8009b",
    "execution_start": 1663255736847,
    "execution_millis": 50,
    "deepnote_cell_type": "code",
    "deepnote_cell_height": 94
   },
   "source": "with open('survival_models/RF', 'wb') as files:\n    pickle.dump(rf_model, files)",
   "execution_count": null,
   "outputs": []
  },
  {
   "cell_type": "markdown",
   "source": "## LOGISTIC REGRESSION",
   "metadata": {
    "cell_id": "0691009d0a9f41fd870d380dfe39f15b",
    "tags": [],
    "deepnote_cell_type": "markdown",
    "deepnote_cell_height": 70
   }
  },
  {
   "cell_type": "code",
   "metadata": {
    "cell_id": "18c616ca15b74af18b98c6c143d20ce1",
    "tags": [],
    "deepnote_to_be_reexecuted": true,
    "source_hash": "5ed52c9f",
    "execution_start": 1663262313379,
    "execution_millis": 853,
    "deepnote_cell_type": "code",
    "deepnote_cell_height": 1038
   },
   "source": "lr_model = LogisticRegression()\n\n# Full Data\nprint(\"Full Data\")\nlr_model.fit(X, y)\nprint(lr_model.get_params())\ny_pred = lr_model.predict(X)\nprint(classification_report(y, y_pred))\n\n# Partial Data\nlr_model.fit(X_train, y_train)\nprint(lr_model.get_params())\n\nprint(\"Train\")\ny_pred = lr_model.predict(X_train)\nprint(classification_report(y_train, y_pred))\ny_pred = lr_model.predict(X_test)\nprint(\"Test\")\nprint(classification_report(y_test, y_pred))\n",
   "execution_count": null,
   "outputs": [
    {
     "name": "stdout",
     "text": "Full Data\n{'C': 1.0, 'class_weight': None, 'dual': False, 'fit_intercept': True, 'intercept_scaling': 1, 'l1_ratio': None, 'max_iter': 100, 'multi_class': 'auto', 'n_jobs': None, 'penalty': 'l2', 'random_state': None, 'solver': 'lbfgs', 'tol': 0.0001, 'verbose': 0, 'warm_start': False}\n              precision    recall  f1-score   support\n\n           0       0.82      0.84      0.83       549\n           1       0.73      0.71      0.72       342\n\n    accuracy                           0.79       891\n   macro avg       0.78      0.78      0.78       891\nweighted avg       0.79      0.79      0.79       891\n\n{'C': 1.0, 'class_weight': None, 'dual': False, 'fit_intercept': True, 'intercept_scaling': 1, 'l1_ratio': None, 'max_iter': 100, 'multi_class': 'auto', 'n_jobs': None, 'penalty': 'l2', 'random_state': None, 'solver': 'lbfgs', 'tol': 0.0001, 'verbose': 0, 'warm_start': False}\nTrain\n              precision    recall  f1-score   support\n\n           0       0.82      0.84      0.83       412\n           1       0.74      0.70      0.71       256\n\n    accuracy                           0.79       668\n   macro avg       0.78      0.77      0.77       668\nweighted avg       0.79      0.79      0.79       668\n\nTest\n              precision    recall  f1-score   support\n\n           0       0.84      0.90      0.87       137\n           1       0.82      0.72      0.77        86\n\n    accuracy                           0.83       223\n   macro avg       0.83      0.81      0.82       223\nweighted avg       0.83      0.83      0.83       223\n\n",
     "output_type": "stream"
    }
   ]
  },
  {
   "cell_type": "code",
   "metadata": {
    "cell_id": "96b8af35d5404547b9fb07388a0685f6",
    "tags": [],
    "deepnote_to_be_reexecuted": true,
    "source_hash": "c74ccdb5",
    "execution_start": 1663258771679,
    "execution_millis": 226,
    "deepnote_cell_type": "code",
    "deepnote_cell_height": 1705
   },
   "source": "class LogisticRegressionWithThreshold(LogisticRegression):\n    def predict(self, X, threshold=None):\n        if threshold == None: # If no threshold passed in, simply call the base class predict, effectively threshold=0.5\n            return LogisticRegression.predict(self, X)\n        else:\n            y_scores = LogisticRegression.predict_proba(self, X)[:, 1]\n            y_pred_with_threshold = (y_scores >= threshold).astype(int)\n\n            return y_pred_with_threshold\n    \n    def threshold_from_optimal_accuracy(self, X, y):\n            y_scores = LogisticRegression.predict_proba(self, X)[:, 1]\n            precisions, recalls, thresholds = precision_recall_curve(y, y_scores)\n            \n            accuracies = []\n            tns = []\n            fps = []\n            fns = []\n            tps = []\n\n            for threshold in thresholds:\n                y_pred_with_threshold = (y_scores >= threshold).astype(int)\n                tn, fp, fn, tp = confusion_matrix(y, y_pred_with_threshold).ravel()\n\n                accuracies.append((tp+tn)/(tn+fp+fn+tp))\n                tns.append(tn), fps.append(fp), fns.append(fn), tps.append(tp)\n            \n            df_accuracy = pd.DataFrame({'threshold':thresholds, 'accuracy':accuracies, 'tn':tns, 'fp':fps, 'fn':fns, 'tp':tps})\n\n            max_accuracy = df_accuracy['accuracy'].max()\n            threshold = df_accuracy[df_accuracy['accuracy']==max_accuracy].iloc[0]['threshold']\n\n            return threshold, max_accuracy, df_accuracy\n\npca = decomposition.PCA()\nlogreg = LogisticRegression()\n\npipe = Pipeline(steps=[('pca', pca), ('logistic_Reg', logreg)])\nn_components = list(range(1,X.shape[1]+1,1))\nC = np.logspace(-3, 3, 50)\npenalty = ['l1', 'l2']\nsolver = ['lbfgs', 'liblinear','newton-cg']\n\nparameters = dict(pca__n_components=n_components,\n                  logistic_Reg__C=C,\n                  logistic_Reg__penalty=penalty,\n                  logistic_Reg__solver=solver\n                  )\n\nkfold = KFold(n_splits=10, random_state=10, shuffle=True) \nlogreg = GridSearchCV(pipe, parameters, cv=kfold)\nlogreg = LogisticRegressionWithThreshold()\nlogreg.fit(X_train, y_train)\n\nthreshold, max_accuracy, df_accuracy = logreg.threshold_from_optimal_accuracy(X_train, y_train)\n\nprint(\"\\n Train\")\ny_predicted=logreg.predict(X_train, threshold)\nprint(\"score: \", logreg.score(X_train, y_train))\nprint(classification_report(y_train,y_predicted))\n\nprint(\"\\n Test\")\ny_predicted=logreg.predict(X_test, threshold)\nprint(\"score : \",logreg.score(X_test,y_test))\nprint(classification_report(y_test,y_predicted))",
   "execution_count": null,
   "outputs": [
    {
     "name": "stdout",
     "text": "\n Train\nscore:  0.7844311377245509\n              precision    recall  f1-score   support\n\n           0       0.80      0.92      0.85       412\n           1       0.82      0.63      0.72       256\n\n    accuracy                           0.81       668\n   macro avg       0.81      0.77      0.78       668\nweighted avg       0.81      0.81      0.80       668\n\n\n Test\nscore :  0.8116591928251121\n              precision    recall  f1-score   support\n\n           0       0.79      0.98      0.87       137\n           1       0.94      0.58      0.72        86\n\n    accuracy                           0.83       223\n   macro avg       0.87      0.78      0.80       223\nweighted avg       0.85      0.83      0.81       223\n\n",
     "output_type": "stream"
    }
   ]
  },
  {
   "cell_type": "markdown",
   "source": "### Kaggle",
   "metadata": {
    "cell_id": "707359498aa94841a9d02548a4289d34",
    "tags": [],
    "deepnote_cell_type": "markdown",
    "deepnote_cell_height": 62
   }
  },
  {
   "cell_type": "code",
   "metadata": {
    "cell_id": "c03a61e20ee94e7da531b8a540d94faa",
    "tags": [],
    "deepnote_to_be_reexecuted": true,
    "source_hash": "2d14087b",
    "execution_start": 1663255737188,
    "execution_millis": 5,
    "deepnote_cell_type": "code",
    "deepnote_cell_height": 166
   },
   "source": "predictions = logreg.predict(X_kaggle.drop(\"PassengerId\", axis=1), threshold)\nsubmission = pd.DataFrame({'PassengerId':kaggle['PassengerId'],'Survived':predictions})\n\nfilename = 'submits/Titanic Predictions LR.csv'\n\nsubmission.to_csv(filename,index=False)",
   "execution_count": null,
   "outputs": []
  },
  {
   "cell_type": "markdown",
   "source": "### Storing lr model",
   "metadata": {
    "cell_id": "a9cad0e724ff4f288b7673aea2fd5932",
    "tags": [],
    "deepnote_cell_type": "markdown",
    "deepnote_cell_height": 62
   }
  },
  {
   "cell_type": "code",
   "metadata": {
    "cell_id": "b78401c0a41f40d98e440e29e6faa4f1",
    "tags": [],
    "deepnote_to_be_reexecuted": true,
    "source_hash": "215401ee",
    "execution_start": 1663255737235,
    "execution_millis": 1,
    "deepnote_cell_type": "code",
    "deepnote_cell_height": 94
   },
   "source": "with open('survival_models/lr', 'wb') as files:\n    pickle.dump(logreg, files)",
   "execution_count": null,
   "outputs": []
  },
  {
   "cell_type": "markdown",
   "source": "## DECISION TREE",
   "metadata": {
    "cell_id": "f0ed8512c3af4296955a8cd3c33d3177",
    "tags": [],
    "deepnote_cell_type": "markdown",
    "deepnote_cell_height": 70
   }
  },
  {
   "cell_type": "code",
   "metadata": {
    "cell_id": "2af45e1f6a6c4efc8f220d91ba3d25b2",
    "tags": [],
    "deepnote_to_be_reexecuted": true,
    "source_hash": "f2dae12c",
    "execution_start": 1663262336373,
    "execution_millis": 46,
    "deepnote_cell_type": "code",
    "deepnote_cell_height": 403
   },
   "source": "dt_model = DecisionTreeClassifier()\n\n# Full Data\nprint(\"Full Data\")\ndt_model.fit(X, y)\nprint(dt_model.get_params())\ny_pred = dt_model.predict(X)\nprint(classification_report(y, y_pred))\n\n# Partial Data\ndt_model.fit(X_train, y_train)\nprint(dt_model.get_params())\n\nprint(\"Train\")\ny_pred = dt_model.predict(X_train)\nprint(classification_report(y_train, y_pred))\nprint(\"Test\")\ny_pred = dt_model.predict(X_test)\nprint(classification_report(y_test, y_pred))\n",
   "execution_count": null,
   "outputs": [
    {
     "name": "stdout",
     "text": "Full Data\n{'ccp_alpha': 0.0, 'class_weight': None, 'criterion': 'gini', 'max_depth': None, 'max_features': None, 'max_leaf_nodes': None, 'min_impurity_decrease': 0.0, 'min_samples_leaf': 1, 'min_samples_split': 2, 'min_weight_fraction_leaf': 0.0, 'random_state': None, 'splitter': 'best'}\n              precision    recall  f1-score   support\n\n           0       0.88      0.97      0.92       549\n           1       0.94      0.79      0.86       342\n\n    accuracy                           0.90       891\n   macro avg       0.91      0.88      0.89       891\nweighted avg       0.91      0.90      0.90       891\n\n{'ccp_alpha': 0.0, 'class_weight': None, 'criterion': 'gini', 'max_depth': None, 'max_features': None, 'max_leaf_nodes': None, 'min_impurity_decrease': 0.0, 'min_samples_leaf': 1, 'min_samples_split': 2, 'min_weight_fraction_leaf': 0.0, 'random_state': None, 'splitter': 'best'}\nTrain\n              precision    recall  f1-score   support\n\n           0       0.88      0.98      0.93       412\n           1       0.96      0.79      0.86       256\n\n    accuracy                           0.90       668\n   macro avg       0.92      0.88      0.89       668\nweighted avg       0.91      0.90      0.90       668\n\nTest\n              precision    recall  f1-score   support\n\n           0       0.81      0.94      0.87       137\n           1       0.88      0.65      0.75        86\n\n    accuracy                           0.83       223\n   macro avg       0.84      0.80      0.81       223\nweighted avg       0.84      0.83      0.82       223\n\n",
     "output_type": "stream"
    }
   ]
  },
  {
   "cell_type": "markdown",
   "source": "",
   "metadata": {
    "cell_id": "6b4cadeb80d1417ba0de06e079cf14f6",
    "tags": [],
    "deepnote_cell_type": "markdown",
    "deepnote_cell_height": 46
   }
  },
  {
   "cell_type": "markdown",
   "source": "Improving the model",
   "metadata": {
    "formattedRanges": [
     {
      "type": "marks",
      "fromCodePoint": 0,
      "toCodePoint": 19,
      "marks": {
       "bold": true
      }
     }
    ],
    "is_collapsed": false,
    "cell_id": "7df13247dc8c42d4b06fcce67ebbe670",
    "tags": [],
    "deepnote_cell_type": "text-cell-p"
   }
  },
  {
   "cell_type": "code",
   "metadata": {
    "cell_id": "e1d62d28821e49819efe4e16a2702cc4",
    "tags": [],
    "deepnote_to_be_reexecuted": true,
    "source_hash": "84af74ec",
    "execution_start": 1663255737280,
    "execution_millis": 1,
    "deepnote_cell_type": "code",
    "deepnote_cell_height": 601
   },
   "source": "pca = decomposition.PCA()\ndt_model = DecisionTreeClassifier()\npipe = Pipeline(steps=[('pca', pca), ('dt', dt_model)])\nn_components = list(range(1,X.shape[1]+1,1))\n\nparams = {'pca__n_components' : n_components,\n          'dt__max_depth': list(range(1,10))+[None], \n          'dt__min_samples_leaf' : range(1,10),\n          'dt__min_samples_split': [1, 2, 3] + np.arange(0.1, 0.9, 0.1).tolist(),\n          'dt__criterion' : ['gini', 'entropy'],\n          'dt__max_features' : list(range(1,10,1))+[None]\n        }\nkfold = KFold(n_splits=10, random_state=10, shuffle=True) \nscores = ['recall', 'precision', 'f1']\nfor score in scores:\n    print(f\"Tuning for {score}\")    \n    clf = GridSearchCV(\n        pipe, params,\n        cv = kfold,\n        n_jobs = -1, \n        scoring = f'{score}_macro',\n        verbose = 0,\n        refit = True)\n    clf.fit(X_train,y_train)\n    print(clf.best_params_)\n    print(clf.best_score_, '\\n\\n')\n    pipe =  clf.best_estimator_\n\nprint(\"FINAL\")\nprint(clf.best_params_)\nprint(clf.best_score_)",
   "execution_count": null,
   "outputs": []
  },
  {
   "cell_type": "markdown",
   "source": "Best model",
   "metadata": {
    "formattedRanges": [
     {
      "type": "marks",
      "fromCodePoint": 0,
      "toCodePoint": 10,
      "marks": {
       "bold": true
      }
     }
    ],
    "is_collapsed": false,
    "cell_id": "9963e001-d763-47eb-b46c-4be306b131e5",
    "tags": [],
    "deepnote_cell_type": "text-cell-p"
   }
  },
  {
   "cell_type": "code",
   "metadata": {
    "cell_id": "6993df53d3564a94830946890fbec17c",
    "tags": [],
    "deepnote_to_be_reexecuted": true,
    "source_hash": "6a5ef494",
    "execution_start": 1663262743964,
    "execution_millis": 16,
    "deepnote_cell_type": "code",
    "deepnote_cell_height": 751
   },
   "source": "best_model = DecisionTreeClassifier(criterion=\"gini\", max_depth=8, max_features=4, min_samples_leaf = 8, min_samples_split = 2)\nbest_model = best_model.fit(X_train,y_train)\n\nprint(\"\\n Train\")\ny_predicted = best_model.predict(X_train)\nprint(\"score: \", best_model.score(X_train, y_train))\nprint(classification_report(y_train,y_predicted))\n\nprint(\"\\n Test\")\ny_predicted = best_model.predict(X_test)\nprint(\"score : \",best_model.score(X_test,y_test))\nprint(classification_report(y_test,y_predicted))",
   "execution_count": null,
   "outputs": [
    {
     "name": "stdout",
     "text": "\n Train\nscore:  0.8338323353293413\n              precision    recall  f1-score   support\n\n           0       0.83      0.92      0.87       412\n           1       0.84      0.70      0.76       256\n\n    accuracy                           0.83       668\n   macro avg       0.84      0.81      0.82       668\nweighted avg       0.83      0.83      0.83       668\n\n\n Test\nscore :  0.852017937219731\n              precision    recall  f1-score   support\n\n           0       0.83      0.96      0.89       137\n           1       0.91      0.69      0.78        86\n\n    accuracy                           0.85       223\n   macro avg       0.87      0.82      0.83       223\nweighted avg       0.86      0.85      0.85       223\n\n",
     "output_type": "stream"
    }
   ]
  },
  {
   "cell_type": "code",
   "metadata": {
    "cell_id": "8f9f9051db2741ddb96dda57eb3a0a60",
    "tags": [],
    "deepnote_to_be_reexecuted": true,
    "source_hash": "5151ddb1",
    "execution_start": 1663255737282,
    "execution_millis": 4,
    "deepnote_cell_type": "code",
    "deepnote_cell_height": 166
   },
   "source": "predictions = best_model.predict(X_kaggle.drop(\"PassengerId\", axis=1))\nsubmission = pd.DataFrame({'PassengerId':kaggle['PassengerId'],'Survived':predictions})\n\nfilename = 'submits/Titanic Predictions DT.csv'\n\nsubmission.to_csv(filename,index=False)",
   "execution_count": null,
   "outputs": []
  },
  {
   "cell_type": "markdown",
   "source": "### Storing DT Model\n",
   "metadata": {
    "cell_id": "2d5c7d8dcf204a9a83f1519858652af5",
    "tags": [],
    "deepnote_cell_type": "markdown",
    "deepnote_cell_height": 62
   }
  },
  {
   "cell_type": "code",
   "metadata": {
    "cell_id": "38c31914298547f5989838553ddca426",
    "tags": [],
    "deepnote_to_be_reexecuted": true,
    "source_hash": "4642ff06",
    "execution_start": 1663255737335,
    "execution_millis": 1,
    "deepnote_cell_type": "code",
    "deepnote_cell_height": 94
   },
   "source": "with open('survival_models/dt', 'wb') as files:\n    pickle.dump(best_model, files)",
   "execution_count": null,
   "outputs": []
  },
  {
   "cell_type": "markdown",
   "source": "## GRADIENT BOOST",
   "metadata": {
    "cell_id": "33d4b02684f24556b293379c169ab1a0",
    "tags": [],
    "deepnote_cell_type": "markdown",
    "deepnote_cell_height": 70
   }
  },
  {
   "cell_type": "code",
   "metadata": {
    "cell_id": "dd0a51e8f44346b8a49ffd86dd0d31de",
    "tags": [],
    "deepnote_to_be_reexecuted": true,
    "source_hash": "9a183a2f",
    "execution_start": 1663262356665,
    "execution_millis": 318,
    "deepnote_cell_type": "code",
    "deepnote_cell_height": 1038
   },
   "source": "gb_model = GradientBoostingClassifier()\n\n# Full Data\nprint(\"Full Data\")\ngb_model.fit(X, y)\nprint(gb_model.get_params())\ny_pred = gb_model.predict(X)\nprint(classification_report(y, y_pred))\n\n# Partial Data\ngb_model.fit(X_train, y_train)\nprint(gb_model.get_params())\n\nprint(\"Train\")\ny_pred = gb_model.predict(X_train)\nprint(classification_report(y_train, y_pred))\nprint(\"Test\")\ny_pred = gb_model.predict(X_test)\nprint(classification_report(y_test, y_pred))\n",
   "execution_count": null,
   "outputs": [
    {
     "name": "stdout",
     "text": "Full Data\n{'ccp_alpha': 0.0, 'criterion': 'friedman_mse', 'init': None, 'learning_rate': 0.1, 'loss': 'log_loss', 'max_depth': 3, 'max_features': None, 'max_leaf_nodes': None, 'min_impurity_decrease': 0.0, 'min_samples_leaf': 1, 'min_samples_split': 2, 'min_weight_fraction_leaf': 0.0, 'n_estimators': 100, 'n_iter_no_change': None, 'random_state': None, 'subsample': 1.0, 'tol': 0.0001, 'validation_fraction': 0.1, 'verbose': 0, 'warm_start': False}\n              precision    recall  f1-score   support\n\n           0       0.84      0.95      0.89       549\n           1       0.89      0.72      0.79       342\n\n    accuracy                           0.86       891\n   macro avg       0.87      0.83      0.84       891\nweighted avg       0.86      0.86      0.85       891\n\n{'ccp_alpha': 0.0, 'criterion': 'friedman_mse', 'init': None, 'learning_rate': 0.1, 'loss': 'log_loss', 'max_depth': 3, 'max_features': None, 'max_leaf_nodes': None, 'min_impurity_decrease': 0.0, 'min_samples_leaf': 1, 'min_samples_split': 2, 'min_weight_fraction_leaf': 0.0, 'n_estimators': 100, 'n_iter_no_change': None, 'random_state': None, 'subsample': 1.0, 'tol': 0.0001, 'validation_fraction': 0.1, 'verbose': 0, 'warm_start': False}\nTrain\n              precision    recall  f1-score   support\n\n           0       0.85      0.94      0.89       412\n           1       0.89      0.73      0.80       256\n\n    accuracy                           0.86       668\n   macro avg       0.87      0.83      0.85       668\nweighted avg       0.86      0.86      0.86       668\n\nTest\n              precision    recall  f1-score   support\n\n           0       0.80      0.97      0.88       137\n           1       0.93      0.62      0.74        86\n\n    accuracy                           0.83       223\n   macro avg       0.87      0.79      0.81       223\nweighted avg       0.85      0.83      0.83       223\n\n",
     "output_type": "stream"
    }
   ]
  },
  {
   "cell_type": "markdown",
   "source": "### Parameter Evaluation",
   "metadata": {
    "cell_id": "59e4a639a47a4ab9ae2d482c938f7721",
    "tags": [],
    "deepnote_cell_type": "markdown",
    "deepnote_cell_height": 62
   }
  },
  {
   "cell_type": "code",
   "metadata": {
    "cell_id": "fde3ee17925d48e9adec56db3bb00314",
    "tags": [],
    "deepnote_to_be_reexecuted": true,
    "source_hash": "e754737d",
    "execution_start": 1663264842537,
    "execution_millis": 418634,
    "deepnote_cell_type": "code",
    "deepnote_cell_height": 742.375
   },
   "source": "pca = decomposition.PCA()\ngb_model = GradientBoostingClassifier()\npipe = Pipeline(steps=[('pca', pca), ('gb', gb_model)])\nn_components = list(range(1,X.shape[1]+1,1))\n\nparams = {\n    'pca__n_components' : n_components,\n    \"gb__n_estimators\":[5,50,250,500],        \n    \"gb__max_depth\":[1,3,5,7, 9]+[None],              \n    \"gb__learning_rate\":[0.01, 0.001,0.1,1,10, 100],   \n    \"gb__max_features\": [1, 10, 11, 50]+[None]                \n}\n\nkfold = KFold(n_splits=10, random_state=10, shuffle=True) \nscores = ['recall', 'precision', 'f1']\nfor score in scores:\n    print(f\"Tuning for {score}\")    \n    clf = GridSearchCV(\n        pipe, params,\n        cv = kfold,\n        n_jobs = -1, \n        scoring = f'{score}_macro',\n        verbose = 0,\n        refit = True)\n    clf.fit(X_train,y_train)\n    print(clf.best_params_)\n    print(clf.best_score_, '\\n\\n')\n    pipe =  clf.best_estimator_\n\nprint(\"FINAL\")\nprint(clf.best_params_)\nprint(clf.best_score_)",
   "execution_count": null,
   "outputs": [
    {
     "name": "stdout",
     "text": "Tuning for recall\n",
     "output_type": "stream"
    },
    {
     "output_type": "error",
     "ename": "KeyboardInterrupt",
     "evalue": "",
     "traceback": [
      "\u001b[0;31m---------------------------------------------------------------------------\u001b[0m",
      "\u001b[0;31mKeyboardInterrupt\u001b[0m                         Traceback (most recent call last)",
      "Cell \u001b[0;32mIn [32], line 25\u001b[0m\n\u001b[1;32m     17\u001b[0m \u001b[38;5;28mprint\u001b[39m(\u001b[38;5;124mf\u001b[39m\u001b[38;5;124m\"\u001b[39m\u001b[38;5;124mTuning for \u001b[39m\u001b[38;5;132;01m{\u001b[39;00mscore\u001b[38;5;132;01m}\u001b[39;00m\u001b[38;5;124m\"\u001b[39m)    \n\u001b[1;32m     18\u001b[0m clf \u001b[38;5;241m=\u001b[39m GridSearchCV(\n\u001b[1;32m     19\u001b[0m     pipe, params,\n\u001b[1;32m     20\u001b[0m     cv \u001b[38;5;241m=\u001b[39m kfold,\n\u001b[0;32m   (...)\u001b[0m\n\u001b[1;32m     23\u001b[0m     verbose \u001b[38;5;241m=\u001b[39m \u001b[38;5;241m0\u001b[39m,\n\u001b[1;32m     24\u001b[0m     refit \u001b[38;5;241m=\u001b[39m \u001b[38;5;28;01mTrue\u001b[39;00m)\n\u001b[0;32m---> 25\u001b[0m \u001b[43mclf\u001b[49m\u001b[38;5;241;43m.\u001b[39;49m\u001b[43mfit\u001b[49m\u001b[43m(\u001b[49m\u001b[43mX_train\u001b[49m\u001b[43m,\u001b[49m\u001b[43my_train\u001b[49m\u001b[43m)\u001b[49m\n\u001b[1;32m     26\u001b[0m \u001b[38;5;28mprint\u001b[39m(clf\u001b[38;5;241m.\u001b[39mbest_params_)\n\u001b[1;32m     27\u001b[0m \u001b[38;5;28mprint\u001b[39m(clf\u001b[38;5;241m.\u001b[39mbest_score_, \u001b[38;5;124m'\u001b[39m\u001b[38;5;130;01m\\n\u001b[39;00m\u001b[38;5;130;01m\\n\u001b[39;00m\u001b[38;5;124m'\u001b[39m)\n",
      "File \u001b[0;32m/shared-libs/python3.9/py/lib/python3.9/site-packages/sklearn/model_selection/_search.py:875\u001b[0m, in \u001b[0;36mBaseSearchCV.fit\u001b[0;34m(self, X, y, groups, **fit_params)\u001b[0m\n\u001b[1;32m    869\u001b[0m     results \u001b[38;5;241m=\u001b[39m \u001b[38;5;28mself\u001b[39m\u001b[38;5;241m.\u001b[39m_format_results(\n\u001b[1;32m    870\u001b[0m         all_candidate_params, n_splits, all_out, all_more_results\n\u001b[1;32m    871\u001b[0m     )\n\u001b[1;32m    873\u001b[0m     \u001b[38;5;28;01mreturn\u001b[39;00m results\n\u001b[0;32m--> 875\u001b[0m \u001b[38;5;28;43mself\u001b[39;49m\u001b[38;5;241;43m.\u001b[39;49m\u001b[43m_run_search\u001b[49m\u001b[43m(\u001b[49m\u001b[43mevaluate_candidates\u001b[49m\u001b[43m)\u001b[49m\n\u001b[1;32m    877\u001b[0m \u001b[38;5;66;03m# multimetric is determined here because in the case of a callable\u001b[39;00m\n\u001b[1;32m    878\u001b[0m \u001b[38;5;66;03m# self.scoring the return type is only known after calling\u001b[39;00m\n\u001b[1;32m    879\u001b[0m first_test_score \u001b[38;5;241m=\u001b[39m all_out[\u001b[38;5;241m0\u001b[39m][\u001b[38;5;124m\"\u001b[39m\u001b[38;5;124mtest_scores\u001b[39m\u001b[38;5;124m\"\u001b[39m]\n",
      "File \u001b[0;32m/shared-libs/python3.9/py/lib/python3.9/site-packages/sklearn/model_selection/_search.py:1379\u001b[0m, in \u001b[0;36mGridSearchCV._run_search\u001b[0;34m(self, evaluate_candidates)\u001b[0m\n\u001b[1;32m   1377\u001b[0m \u001b[38;5;28;01mdef\u001b[39;00m \u001b[38;5;21m_run_search\u001b[39m(\u001b[38;5;28mself\u001b[39m, evaluate_candidates):\n\u001b[1;32m   1378\u001b[0m     \u001b[38;5;124;03m\"\"\"Search all candidates in param_grid\"\"\"\u001b[39;00m\n\u001b[0;32m-> 1379\u001b[0m     \u001b[43mevaluate_candidates\u001b[49m\u001b[43m(\u001b[49m\u001b[43mParameterGrid\u001b[49m\u001b[43m(\u001b[49m\u001b[38;5;28;43mself\u001b[39;49m\u001b[38;5;241;43m.\u001b[39;49m\u001b[43mparam_grid\u001b[49m\u001b[43m)\u001b[49m\u001b[43m)\u001b[49m\n",
      "File \u001b[0;32m/shared-libs/python3.9/py/lib/python3.9/site-packages/sklearn/model_selection/_search.py:822\u001b[0m, in \u001b[0;36mBaseSearchCV.fit.<locals>.evaluate_candidates\u001b[0;34m(candidate_params, cv, more_results)\u001b[0m\n\u001b[1;32m    814\u001b[0m \u001b[38;5;28;01mif\u001b[39;00m \u001b[38;5;28mself\u001b[39m\u001b[38;5;241m.\u001b[39mverbose \u001b[38;5;241m>\u001b[39m \u001b[38;5;241m0\u001b[39m:\n\u001b[1;32m    815\u001b[0m     \u001b[38;5;28mprint\u001b[39m(\n\u001b[1;32m    816\u001b[0m         \u001b[38;5;124m\"\u001b[39m\u001b[38;5;124mFitting \u001b[39m\u001b[38;5;132;01m{0}\u001b[39;00m\u001b[38;5;124m folds for each of \u001b[39m\u001b[38;5;132;01m{1}\u001b[39;00m\u001b[38;5;124m candidates,\u001b[39m\u001b[38;5;124m\"\u001b[39m\n\u001b[1;32m    817\u001b[0m         \u001b[38;5;124m\"\u001b[39m\u001b[38;5;124m totalling \u001b[39m\u001b[38;5;132;01m{2}\u001b[39;00m\u001b[38;5;124m fits\u001b[39m\u001b[38;5;124m\"\u001b[39m\u001b[38;5;241m.\u001b[39mformat(\n\u001b[1;32m    818\u001b[0m             n_splits, n_candidates, n_candidates \u001b[38;5;241m*\u001b[39m n_splits\n\u001b[1;32m    819\u001b[0m         )\n\u001b[1;32m    820\u001b[0m     )\n\u001b[0;32m--> 822\u001b[0m out \u001b[38;5;241m=\u001b[39m \u001b[43mparallel\u001b[49m\u001b[43m(\u001b[49m\n\u001b[1;32m    823\u001b[0m \u001b[43m    \u001b[49m\u001b[43mdelayed\u001b[49m\u001b[43m(\u001b[49m\u001b[43m_fit_and_score\u001b[49m\u001b[43m)\u001b[49m\u001b[43m(\u001b[49m\n\u001b[1;32m    824\u001b[0m \u001b[43m        \u001b[49m\u001b[43mclone\u001b[49m\u001b[43m(\u001b[49m\u001b[43mbase_estimator\u001b[49m\u001b[43m)\u001b[49m\u001b[43m,\u001b[49m\n\u001b[1;32m    825\u001b[0m \u001b[43m        \u001b[49m\u001b[43mX\u001b[49m\u001b[43m,\u001b[49m\n\u001b[1;32m    826\u001b[0m \u001b[43m        \u001b[49m\u001b[43my\u001b[49m\u001b[43m,\u001b[49m\n\u001b[1;32m    827\u001b[0m \u001b[43m        \u001b[49m\u001b[43mtrain\u001b[49m\u001b[38;5;241;43m=\u001b[39;49m\u001b[43mtrain\u001b[49m\u001b[43m,\u001b[49m\n\u001b[1;32m    828\u001b[0m \u001b[43m        \u001b[49m\u001b[43mtest\u001b[49m\u001b[38;5;241;43m=\u001b[39;49m\u001b[43mtest\u001b[49m\u001b[43m,\u001b[49m\n\u001b[1;32m    829\u001b[0m \u001b[43m        \u001b[49m\u001b[43mparameters\u001b[49m\u001b[38;5;241;43m=\u001b[39;49m\u001b[43mparameters\u001b[49m\u001b[43m,\u001b[49m\n\u001b[1;32m    830\u001b[0m \u001b[43m        \u001b[49m\u001b[43msplit_progress\u001b[49m\u001b[38;5;241;43m=\u001b[39;49m\u001b[43m(\u001b[49m\u001b[43msplit_idx\u001b[49m\u001b[43m,\u001b[49m\u001b[43m \u001b[49m\u001b[43mn_splits\u001b[49m\u001b[43m)\u001b[49m\u001b[43m,\u001b[49m\n\u001b[1;32m    831\u001b[0m \u001b[43m        \u001b[49m\u001b[43mcandidate_progress\u001b[49m\u001b[38;5;241;43m=\u001b[39;49m\u001b[43m(\u001b[49m\u001b[43mcand_idx\u001b[49m\u001b[43m,\u001b[49m\u001b[43m \u001b[49m\u001b[43mn_candidates\u001b[49m\u001b[43m)\u001b[49m\u001b[43m,\u001b[49m\n\u001b[1;32m    832\u001b[0m \u001b[43m        \u001b[49m\u001b[38;5;241;43m*\u001b[39;49m\u001b[38;5;241;43m*\u001b[39;49m\u001b[43mfit_and_score_kwargs\u001b[49m\u001b[43m,\u001b[49m\n\u001b[1;32m    833\u001b[0m \u001b[43m    \u001b[49m\u001b[43m)\u001b[49m\n\u001b[1;32m    834\u001b[0m \u001b[43m    \u001b[49m\u001b[38;5;28;43;01mfor\u001b[39;49;00m\u001b[43m \u001b[49m\u001b[43m(\u001b[49m\u001b[43mcand_idx\u001b[49m\u001b[43m,\u001b[49m\u001b[43m \u001b[49m\u001b[43mparameters\u001b[49m\u001b[43m)\u001b[49m\u001b[43m,\u001b[49m\u001b[43m \u001b[49m\u001b[43m(\u001b[49m\u001b[43msplit_idx\u001b[49m\u001b[43m,\u001b[49m\u001b[43m \u001b[49m\u001b[43m(\u001b[49m\u001b[43mtrain\u001b[49m\u001b[43m,\u001b[49m\u001b[43m \u001b[49m\u001b[43mtest\u001b[49m\u001b[43m)\u001b[49m\u001b[43m)\u001b[49m\u001b[43m \u001b[49m\u001b[38;5;129;43;01min\u001b[39;49;00m\u001b[43m \u001b[49m\u001b[43mproduct\u001b[49m\u001b[43m(\u001b[49m\n\u001b[1;32m    835\u001b[0m \u001b[43m        \u001b[49m\u001b[38;5;28;43menumerate\u001b[39;49m\u001b[43m(\u001b[49m\u001b[43mcandidate_params\u001b[49m\u001b[43m)\u001b[49m\u001b[43m,\u001b[49m\u001b[43m \u001b[49m\u001b[38;5;28;43menumerate\u001b[39;49m\u001b[43m(\u001b[49m\u001b[43mcv\u001b[49m\u001b[38;5;241;43m.\u001b[39;49m\u001b[43msplit\u001b[49m\u001b[43m(\u001b[49m\u001b[43mX\u001b[49m\u001b[43m,\u001b[49m\u001b[43m \u001b[49m\u001b[43my\u001b[49m\u001b[43m,\u001b[49m\u001b[43m \u001b[49m\u001b[43mgroups\u001b[49m\u001b[43m)\u001b[49m\u001b[43m)\u001b[49m\n\u001b[1;32m    836\u001b[0m \u001b[43m    \u001b[49m\u001b[43m)\u001b[49m\n\u001b[1;32m    837\u001b[0m \u001b[43m\u001b[49m\u001b[43m)\u001b[49m\n\u001b[1;32m    839\u001b[0m \u001b[38;5;28;01mif\u001b[39;00m \u001b[38;5;28mlen\u001b[39m(out) \u001b[38;5;241m<\u001b[39m \u001b[38;5;241m1\u001b[39m:\n\u001b[1;32m    840\u001b[0m     \u001b[38;5;28;01mraise\u001b[39;00m \u001b[38;5;167;01mValueError\u001b[39;00m(\n\u001b[1;32m    841\u001b[0m         \u001b[38;5;124m\"\u001b[39m\u001b[38;5;124mNo fits were performed. \u001b[39m\u001b[38;5;124m\"\u001b[39m\n\u001b[1;32m    842\u001b[0m         \u001b[38;5;124m\"\u001b[39m\u001b[38;5;124mWas the CV iterator empty? \u001b[39m\u001b[38;5;124m\"\u001b[39m\n\u001b[1;32m    843\u001b[0m         \u001b[38;5;124m\"\u001b[39m\u001b[38;5;124mWere there no candidates?\u001b[39m\u001b[38;5;124m\"\u001b[39m\n\u001b[1;32m    844\u001b[0m     )\n",
      "File \u001b[0;32m/shared-libs/python3.9/py/lib/python3.9/site-packages/joblib/parallel.py:1046\u001b[0m, in \u001b[0;36mParallel.__call__\u001b[0;34m(self, iterable)\u001b[0m\n\u001b[1;32m   1043\u001b[0m \u001b[38;5;28;01mif\u001b[39;00m \u001b[38;5;28mself\u001b[39m\u001b[38;5;241m.\u001b[39mdispatch_one_batch(iterator):\n\u001b[1;32m   1044\u001b[0m     \u001b[38;5;28mself\u001b[39m\u001b[38;5;241m.\u001b[39m_iterating \u001b[38;5;241m=\u001b[39m \u001b[38;5;28mself\u001b[39m\u001b[38;5;241m.\u001b[39m_original_iterator \u001b[38;5;129;01mis\u001b[39;00m \u001b[38;5;129;01mnot\u001b[39;00m \u001b[38;5;28;01mNone\u001b[39;00m\n\u001b[0;32m-> 1046\u001b[0m \u001b[38;5;28;01mwhile\u001b[39;00m \u001b[38;5;28;43mself\u001b[39;49m\u001b[38;5;241;43m.\u001b[39;49m\u001b[43mdispatch_one_batch\u001b[49m\u001b[43m(\u001b[49m\u001b[43miterator\u001b[49m\u001b[43m)\u001b[49m:\n\u001b[1;32m   1047\u001b[0m     \u001b[38;5;28;01mpass\u001b[39;00m\n\u001b[1;32m   1049\u001b[0m \u001b[38;5;28;01mif\u001b[39;00m pre_dispatch \u001b[38;5;241m==\u001b[39m \u001b[38;5;124m\"\u001b[39m\u001b[38;5;124mall\u001b[39m\u001b[38;5;124m\"\u001b[39m \u001b[38;5;129;01mor\u001b[39;00m n_jobs \u001b[38;5;241m==\u001b[39m \u001b[38;5;241m1\u001b[39m:\n\u001b[1;32m   1050\u001b[0m     \u001b[38;5;66;03m# The iterable was consumed all at once by the above for loop.\u001b[39;00m\n\u001b[1;32m   1051\u001b[0m     \u001b[38;5;66;03m# No need to wait for async callbacks to trigger to\u001b[39;00m\n\u001b[1;32m   1052\u001b[0m     \u001b[38;5;66;03m# consumption.\u001b[39;00m\n",
      "File \u001b[0;32m/shared-libs/python3.9/py/lib/python3.9/site-packages/joblib/parallel.py:861\u001b[0m, in \u001b[0;36mParallel.dispatch_one_batch\u001b[0;34m(self, iterator)\u001b[0m\n\u001b[1;32m    859\u001b[0m     \u001b[38;5;28;01mreturn\u001b[39;00m \u001b[38;5;28;01mFalse\u001b[39;00m\n\u001b[1;32m    860\u001b[0m \u001b[38;5;28;01melse\u001b[39;00m:\n\u001b[0;32m--> 861\u001b[0m     \u001b[38;5;28;43mself\u001b[39;49m\u001b[38;5;241;43m.\u001b[39;49m\u001b[43m_dispatch\u001b[49m\u001b[43m(\u001b[49m\u001b[43mtasks\u001b[49m\u001b[43m)\u001b[49m\n\u001b[1;32m    862\u001b[0m     \u001b[38;5;28;01mreturn\u001b[39;00m \u001b[38;5;28;01mTrue\u001b[39;00m\n",
      "File \u001b[0;32m/shared-libs/python3.9/py/lib/python3.9/site-packages/joblib/parallel.py:779\u001b[0m, in \u001b[0;36mParallel._dispatch\u001b[0;34m(self, batch)\u001b[0m\n\u001b[1;32m    777\u001b[0m \u001b[38;5;28;01mwith\u001b[39;00m \u001b[38;5;28mself\u001b[39m\u001b[38;5;241m.\u001b[39m_lock:\n\u001b[1;32m    778\u001b[0m     job_idx \u001b[38;5;241m=\u001b[39m \u001b[38;5;28mlen\u001b[39m(\u001b[38;5;28mself\u001b[39m\u001b[38;5;241m.\u001b[39m_jobs)\n\u001b[0;32m--> 779\u001b[0m     job \u001b[38;5;241m=\u001b[39m \u001b[38;5;28;43mself\u001b[39;49m\u001b[38;5;241;43m.\u001b[39;49m\u001b[43m_backend\u001b[49m\u001b[38;5;241;43m.\u001b[39;49m\u001b[43mapply_async\u001b[49m\u001b[43m(\u001b[49m\u001b[43mbatch\u001b[49m\u001b[43m,\u001b[49m\u001b[43m \u001b[49m\u001b[43mcallback\u001b[49m\u001b[38;5;241;43m=\u001b[39;49m\u001b[43mcb\u001b[49m\u001b[43m)\u001b[49m\n\u001b[1;32m    780\u001b[0m     \u001b[38;5;66;03m# A job can complete so quickly than its callback is\u001b[39;00m\n\u001b[1;32m    781\u001b[0m     \u001b[38;5;66;03m# called before we get here, causing self._jobs to\u001b[39;00m\n\u001b[1;32m    782\u001b[0m     \u001b[38;5;66;03m# grow. To ensure correct results ordering, .insert is\u001b[39;00m\n\u001b[1;32m    783\u001b[0m     \u001b[38;5;66;03m# used (rather than .append) in the following line\u001b[39;00m\n\u001b[1;32m    784\u001b[0m     \u001b[38;5;28mself\u001b[39m\u001b[38;5;241m.\u001b[39m_jobs\u001b[38;5;241m.\u001b[39minsert(job_idx, job)\n",
      "File \u001b[0;32m/shared-libs/python3.9/py/lib/python3.9/site-packages/joblib/_parallel_backends.py:208\u001b[0m, in \u001b[0;36mSequentialBackend.apply_async\u001b[0;34m(self, func, callback)\u001b[0m\n\u001b[1;32m    206\u001b[0m \u001b[38;5;28;01mdef\u001b[39;00m \u001b[38;5;21mapply_async\u001b[39m(\u001b[38;5;28mself\u001b[39m, func, callback\u001b[38;5;241m=\u001b[39m\u001b[38;5;28;01mNone\u001b[39;00m):\n\u001b[1;32m    207\u001b[0m     \u001b[38;5;124;03m\"\"\"Schedule a func to be run\"\"\"\u001b[39;00m\n\u001b[0;32m--> 208\u001b[0m     result \u001b[38;5;241m=\u001b[39m \u001b[43mImmediateResult\u001b[49m\u001b[43m(\u001b[49m\u001b[43mfunc\u001b[49m\u001b[43m)\u001b[49m\n\u001b[1;32m    209\u001b[0m     \u001b[38;5;28;01mif\u001b[39;00m callback:\n\u001b[1;32m    210\u001b[0m         callback(result)\n",
      "File \u001b[0;32m/shared-libs/python3.9/py/lib/python3.9/site-packages/joblib/_parallel_backends.py:572\u001b[0m, in \u001b[0;36mImmediateResult.__init__\u001b[0;34m(self, batch)\u001b[0m\n\u001b[1;32m    569\u001b[0m \u001b[38;5;28;01mdef\u001b[39;00m \u001b[38;5;21m__init__\u001b[39m(\u001b[38;5;28mself\u001b[39m, batch):\n\u001b[1;32m    570\u001b[0m     \u001b[38;5;66;03m# Don't delay the application, to avoid keeping the input\u001b[39;00m\n\u001b[1;32m    571\u001b[0m     \u001b[38;5;66;03m# arguments in memory\u001b[39;00m\n\u001b[0;32m--> 572\u001b[0m     \u001b[38;5;28mself\u001b[39m\u001b[38;5;241m.\u001b[39mresults \u001b[38;5;241m=\u001b[39m \u001b[43mbatch\u001b[49m\u001b[43m(\u001b[49m\u001b[43m)\u001b[49m\n",
      "File \u001b[0;32m/shared-libs/python3.9/py/lib/python3.9/site-packages/joblib/parallel.py:262\u001b[0m, in \u001b[0;36mBatchedCalls.__call__\u001b[0;34m(self)\u001b[0m\n\u001b[1;32m    258\u001b[0m \u001b[38;5;28;01mdef\u001b[39;00m \u001b[38;5;21m__call__\u001b[39m(\u001b[38;5;28mself\u001b[39m):\n\u001b[1;32m    259\u001b[0m     \u001b[38;5;66;03m# Set the default nested backend to self._backend but do not set the\u001b[39;00m\n\u001b[1;32m    260\u001b[0m     \u001b[38;5;66;03m# change the default number of processes to -1\u001b[39;00m\n\u001b[1;32m    261\u001b[0m     \u001b[38;5;28;01mwith\u001b[39;00m parallel_backend(\u001b[38;5;28mself\u001b[39m\u001b[38;5;241m.\u001b[39m_backend, n_jobs\u001b[38;5;241m=\u001b[39m\u001b[38;5;28mself\u001b[39m\u001b[38;5;241m.\u001b[39m_n_jobs):\n\u001b[0;32m--> 262\u001b[0m         \u001b[38;5;28;01mreturn\u001b[39;00m [func(\u001b[38;5;241m*\u001b[39margs, \u001b[38;5;241m*\u001b[39m\u001b[38;5;241m*\u001b[39mkwargs)\n\u001b[1;32m    263\u001b[0m                 \u001b[38;5;28;01mfor\u001b[39;00m func, args, kwargs \u001b[38;5;129;01min\u001b[39;00m \u001b[38;5;28mself\u001b[39m\u001b[38;5;241m.\u001b[39mitems]\n",
      "File \u001b[0;32m/shared-libs/python3.9/py/lib/python3.9/site-packages/joblib/parallel.py:262\u001b[0m, in \u001b[0;36m<listcomp>\u001b[0;34m(.0)\u001b[0m\n\u001b[1;32m    258\u001b[0m \u001b[38;5;28;01mdef\u001b[39;00m \u001b[38;5;21m__call__\u001b[39m(\u001b[38;5;28mself\u001b[39m):\n\u001b[1;32m    259\u001b[0m     \u001b[38;5;66;03m# Set the default nested backend to self._backend but do not set the\u001b[39;00m\n\u001b[1;32m    260\u001b[0m     \u001b[38;5;66;03m# change the default number of processes to -1\u001b[39;00m\n\u001b[1;32m    261\u001b[0m     \u001b[38;5;28;01mwith\u001b[39;00m parallel_backend(\u001b[38;5;28mself\u001b[39m\u001b[38;5;241m.\u001b[39m_backend, n_jobs\u001b[38;5;241m=\u001b[39m\u001b[38;5;28mself\u001b[39m\u001b[38;5;241m.\u001b[39m_n_jobs):\n\u001b[0;32m--> 262\u001b[0m         \u001b[38;5;28;01mreturn\u001b[39;00m [\u001b[43mfunc\u001b[49m\u001b[43m(\u001b[49m\u001b[38;5;241;43m*\u001b[39;49m\u001b[43margs\u001b[49m\u001b[43m,\u001b[49m\u001b[43m \u001b[49m\u001b[38;5;241;43m*\u001b[39;49m\u001b[38;5;241;43m*\u001b[39;49m\u001b[43mkwargs\u001b[49m\u001b[43m)\u001b[49m\n\u001b[1;32m    263\u001b[0m                 \u001b[38;5;28;01mfor\u001b[39;00m func, args, kwargs \u001b[38;5;129;01min\u001b[39;00m \u001b[38;5;28mself\u001b[39m\u001b[38;5;241m.\u001b[39mitems]\n",
      "File \u001b[0;32m/shared-libs/python3.9/py/lib/python3.9/site-packages/sklearn/utils/fixes.py:117\u001b[0m, in \u001b[0;36m_FuncWrapper.__call__\u001b[0;34m(self, *args, **kwargs)\u001b[0m\n\u001b[1;32m    115\u001b[0m \u001b[38;5;28;01mdef\u001b[39;00m \u001b[38;5;21m__call__\u001b[39m(\u001b[38;5;28mself\u001b[39m, \u001b[38;5;241m*\u001b[39margs, \u001b[38;5;241m*\u001b[39m\u001b[38;5;241m*\u001b[39mkwargs):\n\u001b[1;32m    116\u001b[0m     \u001b[38;5;28;01mwith\u001b[39;00m config_context(\u001b[38;5;241m*\u001b[39m\u001b[38;5;241m*\u001b[39m\u001b[38;5;28mself\u001b[39m\u001b[38;5;241m.\u001b[39mconfig):\n\u001b[0;32m--> 117\u001b[0m         \u001b[38;5;28;01mreturn\u001b[39;00m \u001b[38;5;28;43mself\u001b[39;49m\u001b[38;5;241;43m.\u001b[39;49m\u001b[43mfunction\u001b[49m\u001b[43m(\u001b[49m\u001b[38;5;241;43m*\u001b[39;49m\u001b[43margs\u001b[49m\u001b[43m,\u001b[49m\u001b[43m \u001b[49m\u001b[38;5;241;43m*\u001b[39;49m\u001b[38;5;241;43m*\u001b[39;49m\u001b[43mkwargs\u001b[49m\u001b[43m)\u001b[49m\n",
      "File \u001b[0;32m/shared-libs/python3.9/py/lib/python3.9/site-packages/sklearn/model_selection/_validation.py:686\u001b[0m, in \u001b[0;36m_fit_and_score\u001b[0;34m(estimator, X, y, scorer, train, test, verbose, parameters, fit_params, return_train_score, return_parameters, return_n_test_samples, return_times, return_estimator, split_progress, candidate_progress, error_score)\u001b[0m\n\u001b[1;32m    684\u001b[0m         estimator\u001b[38;5;241m.\u001b[39mfit(X_train, \u001b[38;5;241m*\u001b[39m\u001b[38;5;241m*\u001b[39mfit_params)\n\u001b[1;32m    685\u001b[0m     \u001b[38;5;28;01melse\u001b[39;00m:\n\u001b[0;32m--> 686\u001b[0m         \u001b[43mestimator\u001b[49m\u001b[38;5;241;43m.\u001b[39;49m\u001b[43mfit\u001b[49m\u001b[43m(\u001b[49m\u001b[43mX_train\u001b[49m\u001b[43m,\u001b[49m\u001b[43m \u001b[49m\u001b[43my_train\u001b[49m\u001b[43m,\u001b[49m\u001b[43m \u001b[49m\u001b[38;5;241;43m*\u001b[39;49m\u001b[38;5;241;43m*\u001b[39;49m\u001b[43mfit_params\u001b[49m\u001b[43m)\u001b[49m\n\u001b[1;32m    688\u001b[0m \u001b[38;5;28;01mexcept\u001b[39;00m \u001b[38;5;167;01mException\u001b[39;00m:\n\u001b[1;32m    689\u001b[0m     \u001b[38;5;66;03m# Note fit time as time until error\u001b[39;00m\n\u001b[1;32m    690\u001b[0m     fit_time \u001b[38;5;241m=\u001b[39m time\u001b[38;5;241m.\u001b[39mtime() \u001b[38;5;241m-\u001b[39m start_time\n",
      "File \u001b[0;32m/shared-libs/python3.9/py/lib/python3.9/site-packages/sklearn/pipeline.py:382\u001b[0m, in \u001b[0;36mPipeline.fit\u001b[0;34m(self, X, y, **fit_params)\u001b[0m\n\u001b[1;32m    380\u001b[0m     \u001b[38;5;28;01mif\u001b[39;00m \u001b[38;5;28mself\u001b[39m\u001b[38;5;241m.\u001b[39m_final_estimator \u001b[38;5;241m!=\u001b[39m \u001b[38;5;124m\"\u001b[39m\u001b[38;5;124mpassthrough\u001b[39m\u001b[38;5;124m\"\u001b[39m:\n\u001b[1;32m    381\u001b[0m         fit_params_last_step \u001b[38;5;241m=\u001b[39m fit_params_steps[\u001b[38;5;28mself\u001b[39m\u001b[38;5;241m.\u001b[39msteps[\u001b[38;5;241m-\u001b[39m\u001b[38;5;241m1\u001b[39m][\u001b[38;5;241m0\u001b[39m]]\n\u001b[0;32m--> 382\u001b[0m         \u001b[38;5;28;43mself\u001b[39;49m\u001b[38;5;241;43m.\u001b[39;49m\u001b[43m_final_estimator\u001b[49m\u001b[38;5;241;43m.\u001b[39;49m\u001b[43mfit\u001b[49m\u001b[43m(\u001b[49m\u001b[43mXt\u001b[49m\u001b[43m,\u001b[49m\u001b[43m \u001b[49m\u001b[43my\u001b[49m\u001b[43m,\u001b[49m\u001b[43m \u001b[49m\u001b[38;5;241;43m*\u001b[39;49m\u001b[38;5;241;43m*\u001b[39;49m\u001b[43mfit_params_last_step\u001b[49m\u001b[43m)\u001b[49m\n\u001b[1;32m    384\u001b[0m \u001b[38;5;28;01mreturn\u001b[39;00m \u001b[38;5;28mself\u001b[39m\n",
      "File \u001b[0;32m/shared-libs/python3.9/py/lib/python3.9/site-packages/sklearn/ensemble/_gb.py:668\u001b[0m, in \u001b[0;36mBaseGradientBoosting.fit\u001b[0;34m(self, X, y, sample_weight, monitor)\u001b[0m\n\u001b[1;32m    665\u001b[0m     \u001b[38;5;28mself\u001b[39m\u001b[38;5;241m.\u001b[39m_resize_state()\n\u001b[1;32m    667\u001b[0m \u001b[38;5;66;03m# fit the boosting stages\u001b[39;00m\n\u001b[0;32m--> 668\u001b[0m n_stages \u001b[38;5;241m=\u001b[39m \u001b[38;5;28;43mself\u001b[39;49m\u001b[38;5;241;43m.\u001b[39;49m\u001b[43m_fit_stages\u001b[49m\u001b[43m(\u001b[49m\n\u001b[1;32m    669\u001b[0m \u001b[43m    \u001b[49m\u001b[43mX\u001b[49m\u001b[43m,\u001b[49m\n\u001b[1;32m    670\u001b[0m \u001b[43m    \u001b[49m\u001b[43my\u001b[49m\u001b[43m,\u001b[49m\n\u001b[1;32m    671\u001b[0m \u001b[43m    \u001b[49m\u001b[43mraw_predictions\u001b[49m\u001b[43m,\u001b[49m\n\u001b[1;32m    672\u001b[0m \u001b[43m    \u001b[49m\u001b[43msample_weight\u001b[49m\u001b[43m,\u001b[49m\n\u001b[1;32m    673\u001b[0m \u001b[43m    \u001b[49m\u001b[38;5;28;43mself\u001b[39;49m\u001b[38;5;241;43m.\u001b[39;49m\u001b[43m_rng\u001b[49m\u001b[43m,\u001b[49m\n\u001b[1;32m    674\u001b[0m \u001b[43m    \u001b[49m\u001b[43mX_val\u001b[49m\u001b[43m,\u001b[49m\n\u001b[1;32m    675\u001b[0m \u001b[43m    \u001b[49m\u001b[43my_val\u001b[49m\u001b[43m,\u001b[49m\n\u001b[1;32m    676\u001b[0m \u001b[43m    \u001b[49m\u001b[43msample_weight_val\u001b[49m\u001b[43m,\u001b[49m\n\u001b[1;32m    677\u001b[0m \u001b[43m    \u001b[49m\u001b[43mbegin_at_stage\u001b[49m\u001b[43m,\u001b[49m\n\u001b[1;32m    678\u001b[0m \u001b[43m    \u001b[49m\u001b[43mmonitor\u001b[49m\u001b[43m,\u001b[49m\n\u001b[1;32m    679\u001b[0m \u001b[43m\u001b[49m\u001b[43m)\u001b[49m\n\u001b[1;32m    681\u001b[0m \u001b[38;5;66;03m# change shape of arrays after fit (early-stopping or additional ests)\u001b[39;00m\n\u001b[1;32m    682\u001b[0m \u001b[38;5;28;01mif\u001b[39;00m n_stages \u001b[38;5;241m!=\u001b[39m \u001b[38;5;28mself\u001b[39m\u001b[38;5;241m.\u001b[39mestimators_\u001b[38;5;241m.\u001b[39mshape[\u001b[38;5;241m0\u001b[39m]:\n",
      "File \u001b[0;32m/shared-libs/python3.9/py/lib/python3.9/site-packages/sklearn/ensemble/_gb.py:745\u001b[0m, in \u001b[0;36mBaseGradientBoosting._fit_stages\u001b[0;34m(self, X, y, raw_predictions, sample_weight, random_state, X_val, y_val, sample_weight_val, begin_at_stage, monitor)\u001b[0m\n\u001b[1;32m    738\u001b[0m     old_oob_score \u001b[38;5;241m=\u001b[39m loss_(\n\u001b[1;32m    739\u001b[0m         y[\u001b[38;5;241m~\u001b[39msample_mask],\n\u001b[1;32m    740\u001b[0m         raw_predictions[\u001b[38;5;241m~\u001b[39msample_mask],\n\u001b[1;32m    741\u001b[0m         sample_weight[\u001b[38;5;241m~\u001b[39msample_mask],\n\u001b[1;32m    742\u001b[0m     )\n\u001b[1;32m    744\u001b[0m \u001b[38;5;66;03m# fit next stage of trees\u001b[39;00m\n\u001b[0;32m--> 745\u001b[0m raw_predictions \u001b[38;5;241m=\u001b[39m \u001b[38;5;28;43mself\u001b[39;49m\u001b[38;5;241;43m.\u001b[39;49m\u001b[43m_fit_stage\u001b[49m\u001b[43m(\u001b[49m\n\u001b[1;32m    746\u001b[0m \u001b[43m    \u001b[49m\u001b[43mi\u001b[49m\u001b[43m,\u001b[49m\n\u001b[1;32m    747\u001b[0m \u001b[43m    \u001b[49m\u001b[43mX\u001b[49m\u001b[43m,\u001b[49m\n\u001b[1;32m    748\u001b[0m \u001b[43m    \u001b[49m\u001b[43my\u001b[49m\u001b[43m,\u001b[49m\n\u001b[1;32m    749\u001b[0m \u001b[43m    \u001b[49m\u001b[43mraw_predictions\u001b[49m\u001b[43m,\u001b[49m\n\u001b[1;32m    750\u001b[0m \u001b[43m    \u001b[49m\u001b[43msample_weight\u001b[49m\u001b[43m,\u001b[49m\n\u001b[1;32m    751\u001b[0m \u001b[43m    \u001b[49m\u001b[43msample_mask\u001b[49m\u001b[43m,\u001b[49m\n\u001b[1;32m    752\u001b[0m \u001b[43m    \u001b[49m\u001b[43mrandom_state\u001b[49m\u001b[43m,\u001b[49m\n\u001b[1;32m    753\u001b[0m \u001b[43m    \u001b[49m\u001b[43mX_csc\u001b[49m\u001b[43m,\u001b[49m\n\u001b[1;32m    754\u001b[0m \u001b[43m    \u001b[49m\u001b[43mX_csr\u001b[49m\u001b[43m,\u001b[49m\n\u001b[1;32m    755\u001b[0m \u001b[43m\u001b[49m\u001b[43m)\u001b[49m\n\u001b[1;32m    757\u001b[0m \u001b[38;5;66;03m# track deviance (= loss)\u001b[39;00m\n\u001b[1;32m    758\u001b[0m \u001b[38;5;28;01mif\u001b[39;00m do_oob:\n",
      "File \u001b[0;32m/shared-libs/python3.9/py/lib/python3.9/site-packages/sklearn/ensemble/_gb.py:247\u001b[0m, in \u001b[0;36mBaseGradientBoosting._fit_stage\u001b[0;34m(self, i, X, y, raw_predictions, sample_weight, sample_mask, random_state, X_csc, X_csr)\u001b[0m\n\u001b[1;32m    244\u001b[0m     sample_weight \u001b[38;5;241m=\u001b[39m sample_weight \u001b[38;5;241m*\u001b[39m sample_mask\u001b[38;5;241m.\u001b[39mastype(np\u001b[38;5;241m.\u001b[39mfloat64)\n\u001b[1;32m    246\u001b[0m X \u001b[38;5;241m=\u001b[39m X_csr \u001b[38;5;28;01mif\u001b[39;00m X_csr \u001b[38;5;129;01mis\u001b[39;00m \u001b[38;5;129;01mnot\u001b[39;00m \u001b[38;5;28;01mNone\u001b[39;00m \u001b[38;5;28;01melse\u001b[39;00m X\n\u001b[0;32m--> 247\u001b[0m \u001b[43mtree\u001b[49m\u001b[38;5;241;43m.\u001b[39;49m\u001b[43mfit\u001b[49m\u001b[43m(\u001b[49m\u001b[43mX\u001b[49m\u001b[43m,\u001b[49m\u001b[43m \u001b[49m\u001b[43mresidual\u001b[49m\u001b[43m,\u001b[49m\u001b[43m \u001b[49m\u001b[43msample_weight\u001b[49m\u001b[38;5;241;43m=\u001b[39;49m\u001b[43msample_weight\u001b[49m\u001b[43m,\u001b[49m\u001b[43m \u001b[49m\u001b[43mcheck_input\u001b[49m\u001b[38;5;241;43m=\u001b[39;49m\u001b[38;5;28;43;01mFalse\u001b[39;49;00m\u001b[43m)\u001b[49m\n\u001b[1;32m    249\u001b[0m \u001b[38;5;66;03m# update tree leaves\u001b[39;00m\n\u001b[1;32m    250\u001b[0m loss\u001b[38;5;241m.\u001b[39mupdate_terminal_regions(\n\u001b[1;32m    251\u001b[0m     tree\u001b[38;5;241m.\u001b[39mtree_,\n\u001b[1;32m    252\u001b[0m     X,\n\u001b[0;32m   (...)\u001b[0m\n\u001b[1;32m    259\u001b[0m     k\u001b[38;5;241m=\u001b[39mk,\n\u001b[1;32m    260\u001b[0m )\n",
      "File \u001b[0;32m/shared-libs/python3.9/py/lib/python3.9/site-packages/sklearn/tree/_classes.py:1342\u001b[0m, in \u001b[0;36mDecisionTreeRegressor.fit\u001b[0;34m(self, X, y, sample_weight, check_input)\u001b[0m\n\u001b[1;32m   1313\u001b[0m \u001b[38;5;28;01mdef\u001b[39;00m \u001b[38;5;21mfit\u001b[39m(\u001b[38;5;28mself\u001b[39m, X, y, sample_weight\u001b[38;5;241m=\u001b[39m\u001b[38;5;28;01mNone\u001b[39;00m, check_input\u001b[38;5;241m=\u001b[39m\u001b[38;5;28;01mTrue\u001b[39;00m):\n\u001b[1;32m   1314\u001b[0m     \u001b[38;5;124;03m\"\"\"Build a decision tree regressor from the training set (X, y).\u001b[39;00m\n\u001b[1;32m   1315\u001b[0m \n\u001b[1;32m   1316\u001b[0m \u001b[38;5;124;03m    Parameters\u001b[39;00m\n\u001b[0;32m   (...)\u001b[0m\n\u001b[1;32m   1339\u001b[0m \u001b[38;5;124;03m        Fitted estimator.\u001b[39;00m\n\u001b[1;32m   1340\u001b[0m \u001b[38;5;124;03m    \"\"\"\u001b[39;00m\n\u001b[0;32m-> 1342\u001b[0m     \u001b[38;5;28;43msuper\u001b[39;49m\u001b[43m(\u001b[49m\u001b[43m)\u001b[49m\u001b[38;5;241;43m.\u001b[39;49m\u001b[43mfit\u001b[49m\u001b[43m(\u001b[49m\n\u001b[1;32m   1343\u001b[0m \u001b[43m        \u001b[49m\u001b[43mX\u001b[49m\u001b[43m,\u001b[49m\n\u001b[1;32m   1344\u001b[0m \u001b[43m        \u001b[49m\u001b[43my\u001b[49m\u001b[43m,\u001b[49m\n\u001b[1;32m   1345\u001b[0m \u001b[43m        \u001b[49m\u001b[43msample_weight\u001b[49m\u001b[38;5;241;43m=\u001b[39;49m\u001b[43msample_weight\u001b[49m\u001b[43m,\u001b[49m\n\u001b[1;32m   1346\u001b[0m \u001b[43m        \u001b[49m\u001b[43mcheck_input\u001b[49m\u001b[38;5;241;43m=\u001b[39;49m\u001b[43mcheck_input\u001b[49m\u001b[43m,\u001b[49m\n\u001b[1;32m   1347\u001b[0m \u001b[43m    \u001b[49m\u001b[43m)\u001b[49m\n\u001b[1;32m   1348\u001b[0m     \u001b[38;5;28;01mreturn\u001b[39;00m \u001b[38;5;28mself\u001b[39m\n",
      "File \u001b[0;32m/shared-libs/python3.9/py/lib/python3.9/site-packages/sklearn/tree/_classes.py:458\u001b[0m, in \u001b[0;36mBaseDecisionTree.fit\u001b[0;34m(self, X, y, sample_weight, check_input)\u001b[0m\n\u001b[1;32m    447\u001b[0m \u001b[38;5;28;01melse\u001b[39;00m:\n\u001b[1;32m    448\u001b[0m     builder \u001b[38;5;241m=\u001b[39m BestFirstTreeBuilder(\n\u001b[1;32m    449\u001b[0m         splitter,\n\u001b[1;32m    450\u001b[0m         min_samples_split,\n\u001b[0;32m   (...)\u001b[0m\n\u001b[1;32m    455\u001b[0m         \u001b[38;5;28mself\u001b[39m\u001b[38;5;241m.\u001b[39mmin_impurity_decrease,\n\u001b[1;32m    456\u001b[0m     )\n\u001b[0;32m--> 458\u001b[0m \u001b[43mbuilder\u001b[49m\u001b[38;5;241;43m.\u001b[39;49m\u001b[43mbuild\u001b[49m\u001b[43m(\u001b[49m\u001b[38;5;28;43mself\u001b[39;49m\u001b[38;5;241;43m.\u001b[39;49m\u001b[43mtree_\u001b[49m\u001b[43m,\u001b[49m\u001b[43m \u001b[49m\u001b[43mX\u001b[49m\u001b[43m,\u001b[49m\u001b[43m \u001b[49m\u001b[43my\u001b[49m\u001b[43m,\u001b[49m\u001b[43m \u001b[49m\u001b[43msample_weight\u001b[49m\u001b[43m)\u001b[49m\n\u001b[1;32m    460\u001b[0m \u001b[38;5;28;01mif\u001b[39;00m \u001b[38;5;28mself\u001b[39m\u001b[38;5;241m.\u001b[39mn_outputs_ \u001b[38;5;241m==\u001b[39m \u001b[38;5;241m1\u001b[39m \u001b[38;5;129;01mand\u001b[39;00m is_classifier(\u001b[38;5;28mself\u001b[39m):\n\u001b[1;32m    461\u001b[0m     \u001b[38;5;28mself\u001b[39m\u001b[38;5;241m.\u001b[39mn_classes_ \u001b[38;5;241m=\u001b[39m \u001b[38;5;28mself\u001b[39m\u001b[38;5;241m.\u001b[39mn_classes_[\u001b[38;5;241m0\u001b[39m]\n",
      "\u001b[0;31mKeyboardInterrupt\u001b[0m: "
     ]
    }
   ]
  },
  {
   "cell_type": "markdown",
   "source": "### Best Model",
   "metadata": {
    "cell_id": "e59580e6b0d94b1fb27279a6e549158f",
    "tags": [],
    "deepnote_cell_type": "markdown",
    "deepnote_cell_height": 62
   }
  },
  {
   "cell_type": "code",
   "metadata": {
    "cell_id": "7852b4e018e84bb9a93fc67387ab9675",
    "tags": [],
    "deepnote_to_be_reexecuted": true,
    "source_hash": "d027b33d",
    "execution_start": 1663262839591,
    "execution_millis": 6,
    "deepnote_cell_type": "code",
    "deepnote_cell_height": 782
   },
   "source": "params = {'learning_rate': 1, 'max_depth': 1, 'max_features': 10, 'n_estimators': 50}\n\nmodel = GradientBoostingClassifier(**params)\nmodel = model.fit(X_train,y_train)\n\nprint(\"\\n Train\")\ny_predicted = model.predict(X_train)\nprint(\"score: \", model.score(X_train, y_train))\nprint(classification_report(y_train,y_predicted))\n\nprint(\"\\n Test\")\ny_predicted = model.predict(X_test)\nprint(\"score : \", model.score(X_test,y_test))\nprint(classification_report(y_test,y_predicted))",
   "execution_count": null,
   "outputs": [
    {
     "name": "stdout",
     "text": "\n Train\nscore:  0.8248502994011976\n              precision    recall  f1-score   support\n\n           0       0.84      0.88      0.86       412\n           1       0.79      0.74      0.76       256\n\n    accuracy                           0.82       668\n   macro avg       0.82      0.81      0.81       668\nweighted avg       0.82      0.82      0.82       668\n\n\n Test\nscore :  0.8385650224215246\n              precision    recall  f1-score   support\n\n           0       0.83      0.92      0.88       137\n           1       0.85      0.71      0.77        86\n\n    accuracy                           0.84       223\n   macro avg       0.84      0.81      0.82       223\nweighted avg       0.84      0.84      0.84       223\n\n",
     "output_type": "stream"
    }
   ]
  },
  {
   "cell_type": "markdown",
   "source": "### Kaggle",
   "metadata": {
    "cell_id": "3bc508730605406fa46d24edf5f75fbf",
    "tags": [],
    "deepnote_cell_type": "markdown",
    "deepnote_cell_height": 62
   }
  },
  {
   "cell_type": "code",
   "metadata": {
    "cell_id": "9fe0a04d097f484bb05d08eb3c2df89d",
    "tags": [],
    "deepnote_to_be_reexecuted": true,
    "source_hash": "3c2eda63",
    "execution_start": 1663255737436,
    "execution_millis": 0,
    "deepnote_cell_type": "code",
    "deepnote_cell_height": 148
   },
   "source": "predictions = model.predict(X_kaggle.drop(\"PassengerId\", axis=1))\nsubmission = pd.DataFrame({'PassengerId':kaggle['PassengerId'],'Survived':predictions})\n\nfilename = 'submits/Titanic Predictions GB.csv'\nsubmission.to_csv(filename,index=False)",
   "execution_count": null,
   "outputs": []
  },
  {
   "cell_type": "markdown",
   "source": "### Storing GB Model",
   "metadata": {
    "cell_id": "fdeaec85a0464605a5d8cc8dfd1f229f",
    "tags": [],
    "deepnote_cell_type": "markdown",
    "deepnote_cell_height": 62
   }
  },
  {
   "cell_type": "code",
   "metadata": {
    "cell_id": "df47faac714b47539ff8bcecff1f0c99",
    "tags": [],
    "deepnote_to_be_reexecuted": true,
    "source_hash": "de6d9d26",
    "execution_start": 1663255737437,
    "execution_millis": 0,
    "deepnote_cell_type": "code",
    "deepnote_cell_height": 94
   },
   "source": "with open('survival_models/gb', 'wb') as files:\n    pickle.dump(model, files)",
   "execution_count": null,
   "outputs": []
  },
  {
   "cell_type": "markdown",
   "source": "## XGBOOST",
   "metadata": {
    "cell_id": "dda531242c6e497dbfd3b90a53f61455",
    "tags": [],
    "deepnote_cell_type": "markdown",
    "deepnote_cell_height": 70
   }
  },
  {
   "cell_type": "code",
   "metadata": {
    "cell_id": "e3fcce36857e4913ba0722247da263ce",
    "tags": [],
    "deepnote_to_be_reexecuted": true,
    "source_hash": "55bb4e09",
    "execution_start": 1663262154329,
    "execution_millis": 993,
    "deepnote_cell_type": "code",
    "deepnote_cell_height": 1038
   },
   "source": "xgb_model = XGBClassifier()\n\n# Full Data\nprint(\"Full Data\")\nxgb_model.fit(X, y)\nprint(xgb_model.get_params())\ny_pred = xgb_model.predict(X)\nprint(classification_report(y, y_pred))\n\n# Partial Data\ngb_model.fit(X_train, y_train)\nprint(xgb_model.get_params())\n\nprint(\"Train\")\ny_pred = xgb_model.predict(X_train)\nprint(classification_report(y_train, y_pred))\nprint(\"Test\")\ny_pred = xgb_model.predict(X_test)\nprint(classification_report(y_test, y_pred))\n",
   "execution_count": null,
   "outputs": [
    {
     "name": "stdout",
     "text": "Full Data\n{'objective': 'binary:logistic', 'use_label_encoder': False, 'base_score': 0.5, 'booster': 'gbtree', 'callbacks': None, 'colsample_bylevel': 1, 'colsample_bynode': 1, 'colsample_bytree': 1, 'early_stopping_rounds': None, 'enable_categorical': False, 'eval_metric': None, 'gamma': 0, 'gpu_id': -1, 'grow_policy': 'depthwise', 'importance_type': None, 'interaction_constraints': '', 'learning_rate': 0.300000012, 'max_bin': 256, 'max_cat_to_onehot': 4, 'max_delta_step': 0, 'max_depth': 6, 'max_leaves': 0, 'min_child_weight': 1, 'missing': nan, 'monotone_constraints': '()', 'n_estimators': 100, 'n_jobs': 0, 'num_parallel_tree': 1, 'predictor': 'auto', 'random_state': 0, 'reg_alpha': 0, 'reg_lambda': 1, 'sampling_method': 'uniform', 'scale_pos_weight': 1, 'subsample': 1, 'tree_method': 'exact', 'validate_parameters': 1, 'verbosity': None}\n              precision    recall  f1-score   support\n\n           0       0.88      0.96      0.91       549\n           1       0.92      0.78      0.84       342\n\n    accuracy                           0.89       891\n   macro avg       0.90      0.87      0.88       891\nweighted avg       0.89      0.89      0.89       891\n\n{'objective': 'binary:logistic', 'use_label_encoder': False, 'base_score': 0.5, 'booster': 'gbtree', 'callbacks': None, 'colsample_bylevel': 1, 'colsample_bynode': 1, 'colsample_bytree': 1, 'early_stopping_rounds': None, 'enable_categorical': False, 'eval_metric': None, 'gamma': 0, 'gpu_id': -1, 'grow_policy': 'depthwise', 'importance_type': None, 'interaction_constraints': '', 'learning_rate': 0.300000012, 'max_bin': 256, 'max_cat_to_onehot': 4, 'max_delta_step': 0, 'max_depth': 6, 'max_leaves': 0, 'min_child_weight': 1, 'missing': nan, 'monotone_constraints': '()', 'n_estimators': 100, 'n_jobs': 0, 'num_parallel_tree': 1, 'predictor': 'auto', 'random_state': 0, 'reg_alpha': 0, 'reg_lambda': 1, 'sampling_method': 'uniform', 'scale_pos_weight': 1, 'subsample': 1, 'tree_method': 'exact', 'validate_parameters': 1, 'verbosity': None}\nTrain\n              precision    recall  f1-score   support\n\n           0       0.88      0.96      0.91       412\n           1       0.92      0.78      0.84       256\n\n    accuracy                           0.89       668\n   macro avg       0.90      0.87      0.88       668\nweighted avg       0.89      0.89      0.89       668\n\nTest\n              precision    recall  f1-score   support\n\n           0       0.87      0.96      0.92       137\n           1       0.93      0.78      0.85        86\n\n    accuracy                           0.89       223\n   macro avg       0.90      0.87      0.88       223\nweighted avg       0.90      0.89      0.89       223\n\n",
     "output_type": "stream"
    }
   ]
  },
  {
   "cell_type": "markdown",
   "source": "### Improving the model ",
   "metadata": {
    "cell_id": "f3125ad062a84066afc6f236199cc8b9",
    "tags": [],
    "deepnote_cell_type": "markdown",
    "deepnote_cell_height": 62
   }
  },
  {
   "cell_type": "code",
   "metadata": {
    "cell_id": "a1026ac00df9484b8b9b3548de179d7c",
    "tags": [],
    "deepnote_to_be_reexecuted": true,
    "source_hash": "d97403ef",
    "execution_start": 1663255737439,
    "execution_millis": 40,
    "deepnote_cell_type": "code",
    "deepnote_cell_height": 616
   },
   "source": "pca = decomposition.PCA()\nxgb_model = XGBClassifier()\npipe = Pipeline(steps=[('pca', pca), ('xgb', xgb_model)])\nn_components = list(range(1,X.shape[1]+1,1))\n#model = \nparams = {   'pca__n_components' : n_components,\n              'xgb__n_estimators': [5,25,50,100,200,400,1000],\n             'xgb__max_depth': [1,2,3,4,5,6,7,8]+[None], \n             'xgb__min_child_weight': [1,2,3,4],\n             'xgb__learning_rate': [.2, .3, .4, 1],\n             'xgb__colsample_bytree': [.7, .8, .9, 1],\n             'xgb__objective': ['binary:logistic']}\nkfold = KFold(n_splits=10, random_state=10, shuffle=True) \nscores = ['recall', 'precision', 'f1']\nfor score in scores:\n    print(f\"Tuning for {score}\")    \n    clf = GridSearchCV(\n        pipe, params,\n        cv = kfold,\n        n_jobs = -1, \n        scoring = f'{score}_macro',\n        verbose = 0,\n        refit = True)\n    clf.fit(X_train,y_train)\n    print(clf.best_params_)\n    print(clf.best_score_, '\\n\\n')\n    pipe =  clf.best_estimator_\n\nprint(\"FINAL\")\nprint(clf.best_params_)\nprint(clf.best_score_)",
   "execution_count": null,
   "outputs": []
  },
  {
   "cell_type": "code",
   "metadata": {
    "cell_id": "577ff5e373384f4d97347f7c065b9175",
    "tags": [],
    "deepnote_to_be_reexecuted": true,
    "source_hash": "ca6d14e",
    "execution_start": 1663262917207,
    "execution_millis": 2,
    "deepnote_cell_type": "code",
    "deepnote_cell_height": 787
   },
   "source": "params = {'colsample_bytree': 0.8, 'learning_rate': 0.2, 'max_depth': 4, 'min_child_weight': 4, 'n_estimators': 5, 'objective': 'binary:logistic'}\n\nmodel = XGBClassifier(**params)\nmodel = model.fit(X_train,y_train)\n\nprint(\"\\n Train\")\ny_predicted = model.predict(X_train)\nprint(\"score: \", model.score(X_train, y_train))\nprint(classification_report(y_train,y_predicted))\n\nprint(\"\\n Test\")\ny_predicted = model.predict(X_test)\nprint(\"score : \", model.score(X_test,y_test))\nprint(classification_report(y_test,y_predicted))",
   "execution_count": null,
   "outputs": [
    {
     "name": "stdout",
     "text": "\n Train\nscore:  0.8308383233532934\n              precision    recall  f1-score   support\n\n           0       0.83      0.92      0.87       412\n           1       0.84      0.69      0.76       256\n\n    accuracy                           0.83       668\n   macro avg       0.83      0.80      0.81       668\nweighted avg       0.83      0.83      0.83       668\n\n\n Test\nscore :  0.8340807174887892\n              precision    recall  f1-score   support\n\n           0       0.81      0.95      0.88       137\n           1       0.89      0.65      0.75        86\n\n    accuracy                           0.83       223\n   macro avg       0.85      0.80      0.81       223\nweighted avg       0.84      0.83      0.83       223\n\n",
     "output_type": "stream"
    }
   ]
  },
  {
   "cell_type": "markdown",
   "source": "### Kaggle",
   "metadata": {
    "cell_id": "63109b57a0294b1dbd5c88c606d7b84a",
    "tags": [],
    "deepnote_cell_type": "markdown",
    "deepnote_cell_height": 62
   }
  },
  {
   "cell_type": "code",
   "metadata": {
    "cell_id": "8f2d2758c8394fce9f8196d8b1d1e68f",
    "tags": [],
    "deepnote_to_be_reexecuted": true,
    "source_hash": "663cc816",
    "execution_start": 1663255737561,
    "execution_millis": 6,
    "deepnote_cell_type": "code",
    "deepnote_cell_height": 148
   },
   "source": "predictions = model.predict(X_kaggle.drop(\"PassengerId\", axis=1))\nsubmission = pd.DataFrame({'PassengerId':kaggle['PassengerId'],'Survived':predictions})\n\nfilename = 'submits/Titanic Predictions XGB.csv'\nsubmission.to_csv(filename,index=False)",
   "execution_count": null,
   "outputs": []
  },
  {
   "cell_type": "markdown",
   "source": "### Storing XGB model",
   "metadata": {
    "cell_id": "e851ec6a3b9c4847b7c27fdf5bce251a",
    "tags": [],
    "deepnote_cell_type": "markdown",
    "deepnote_cell_height": 62
   }
  },
  {
   "cell_type": "code",
   "metadata": {
    "cell_id": "419eca948af34c529203cc18d6606c83",
    "tags": [],
    "deepnote_to_be_reexecuted": true,
    "source_hash": "f068f578",
    "execution_start": 1663255737611,
    "execution_millis": 0,
    "deepnote_cell_type": "code",
    "deepnote_cell_height": 94
   },
   "source": "with open('survival_models/xgb', 'wb') as files:\n    pickle.dump(model, files)",
   "execution_count": null,
   "outputs": []
  },
  {
   "cell_type": "markdown",
   "source": "# ENSAMBLE",
   "metadata": {
    "cell_id": "be25c69ffd064a4f9bbb39aea36e527b",
    "tags": [],
    "deepnote_cell_type": "markdown",
    "deepnote_cell_height": 82
   }
  },
  {
   "cell_type": "code",
   "metadata": {
    "cell_id": "e473fe21f1224534a5ed44a0b0676503",
    "tags": [],
    "deepnote_to_be_reexecuted": true,
    "source_hash": "f7662121",
    "execution_start": 1663256443222,
    "execution_millis": 2077,
    "deepnote_cell_type": "code",
    "deepnote_cell_height": 765
   },
   "source": "import os\nroute = 'survival_models/'\ndirectory = os.fsencode(route)\n\nestimators = []\nfor file in os.listdir(directory):\n    filename = os.fsdecode(file)\n    with open((route+filename).replace(\" \",\"\"), 'rb') as f:\n        model = pickle.load(f)\n        if (filename not in [\"nn\", \"ensemble\", \"lr\"]):\n            estimators.append((model.__class__.__name__, model))\n\nfrom sklearn.ensemble import VotingClassifier\n\nprint([ estimator[0]  for estimator in estimators])\nensemble = VotingClassifier(estimators, voting='soft', weights=[1,1,1,1])\nensemble.fit(X_train, y_train)\n\n\nprint(\"\\n Train\")\ny_predicted = model.predict(X_train)\nprint(\"score: \", model.score(X_train, y_train))\nprint(classification_report(y_train,y_predicted))\n\nprint(\"\\n Test\")\ny_predicted = model.predict(X_test)\nprint(\"score : \", model.score(X_test,y_test))\nprint(classification_report(y_test,y_predicted))",
   "execution_count": null,
   "outputs": [
    {
     "name": "stdout",
     "text": "['XGBClassifier', 'DecisionTreeClassifier', 'GradientBoostingClassifier', 'RandomForestClassifier']\n              precision    recall  f1-score   support\n\n           0       0.84      0.98      0.91       137\n           1       0.95      0.71      0.81        86\n\n    accuracy                           0.87       223\n   macro avg       0.90      0.84      0.86       223\nweighted avg       0.89      0.87      0.87       223\n\n",
     "output_type": "stream"
    }
   ]
  },
  {
   "cell_type": "markdown",
   "source": "### Kaggle",
   "metadata": {
    "cell_id": "1db5dc13a1834a66a1c593069ff5e395",
    "tags": [],
    "deepnote_cell_type": "markdown",
    "deepnote_cell_height": 62
   }
  },
  {
   "cell_type": "code",
   "metadata": {
    "cell_id": "a9a01b48dd954d4a802d32784dd90f6f",
    "tags": [],
    "deepnote_to_be_reexecuted": true,
    "source_hash": "d09d9204",
    "execution_start": 1663256449092,
    "execution_millis": 195,
    "deepnote_cell_type": "code",
    "deepnote_cell_height": 148
   },
   "source": "predictions = ensemble.predict(X_kaggle.drop(\"PassengerId\", axis=1))\nsubmission = pd.DataFrame({'PassengerId':kaggle['PassengerId'],'Survived':predictions})\n\nfilename = 'submits/Titanic Predictions ensemble_noLr.csv'\nsubmission.to_csv(filename,index=False)",
   "execution_count": null,
   "outputs": []
  },
  {
   "cell_type": "markdown",
   "source": "### Storing ensemble model",
   "metadata": {
    "cell_id": "51c7053ff0b749229e1fc0978f815bbe",
    "tags": [],
    "deepnote_cell_type": "markdown",
    "deepnote_cell_height": 62
   }
  },
  {
   "cell_type": "code",
   "metadata": {
    "cell_id": "945908f5297848b4ac6bf247e5788aa5",
    "tags": [],
    "deepnote_to_be_reexecuted": true,
    "source_hash": "2096a25b",
    "execution_start": 1663256456265,
    "execution_millis": 53,
    "deepnote_cell_type": "code",
    "deepnote_cell_height": 94
   },
   "source": "with open('survival_models/ensemble_nolr', 'wb') as files:\n    pickle.dump(model, files)",
   "execution_count": null,
   "outputs": []
  },
  {
   "cell_type": "markdown",
   "source": "<a style='text-decoration:none;line-height:16px;display:flex;color:#5B5B62;padding:10px;justify-content:end;' href='https://deepnote.com?utm_source=created-in-deepnote-cell&projectId=34b6ad67-9899-4609-8c36-e96f39426d07' target=\"_blank\">\n<img alt='Created in deepnote.com' style='display:inline;max-height:16px;margin:0px;margin-right:7.5px;' src='data:image/svg+xml;base64,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' > </img>\nCreated in <span style='font-weight:600;margin-left:4px;'>Deepnote</span></a>",
   "metadata": {
    "tags": [],
    "created_in_deepnote_cell": true,
    "deepnote_cell_type": "markdown"
   }
  }
 ],
 "nbformat": 4,
 "nbformat_minor": 2,
 "metadata": {
  "orig_nbformat": 2,
  "deepnote": {},
  "deepnote_notebook_id": "509cae2b-a57b-43ef-8009-8ae9fd712e91",
  "deepnote_execution_queue": [
   {
    "cellId": "3bbc644e63ba4d6ab645f6cbcc87214b",
    "sessionId": "c8c3885b-30c5-48d5-8f0f-efc217d0b13b",
    "msgId": "7338264e-0335-41bb-9567-7fc95c6dfb47"
   },
   {
    "cellId": "656b6ad65b7240c99ec24260133284d8",
    "sessionId": "c8c3885b-30c5-48d5-8f0f-efc217d0b13b",
    "msgId": "af09e531-0cde-470e-8ef3-199d59683b62"
   },
   {
    "cellId": "ae466dddf3534e7998fd1f437781c374",
    "sessionId": "c8c3885b-30c5-48d5-8f0f-efc217d0b13b",
    "msgId": "7a2c3f79-bf41-4650-908e-dec0587f7897"
   },
   {
    "cellId": "5db0c1ca0f824304861c4e357cb3a9c0",
    "sessionId": "c8c3885b-30c5-48d5-8f0f-efc217d0b13b",
    "msgId": "a5523758-f74b-4aa7-a1a1-2178c50ecbf1"
   },
   {
    "cellId": "18c616ca15b74af18b98c6c143d20ce1",
    "sessionId": "c8c3885b-30c5-48d5-8f0f-efc217d0b13b",
    "msgId": "20912c3b-b93b-4f1b-95df-61dd34fc818f"
   },
   {
    "cellId": "96b8af35d5404547b9fb07388a0685f6",
    "sessionId": "c8c3885b-30c5-48d5-8f0f-efc217d0b13b",
    "msgId": "dbf94891-35ca-4aa0-ad46-ceb1a5c2dcf8"
   },
   {
    "cellId": "c03a61e20ee94e7da531b8a540d94faa",
    "sessionId": "c8c3885b-30c5-48d5-8f0f-efc217d0b13b",
    "msgId": "c8ffd230-2bf4-447d-bf57-f59468e30220"
   },
   {
    "cellId": "b78401c0a41f40d98e440e29e6faa4f1",
    "sessionId": "c8c3885b-30c5-48d5-8f0f-efc217d0b13b",
    "msgId": "6a6f6f33-3928-4bc4-87db-18e1e684989d"
   },
   {
    "cellId": "2af45e1f6a6c4efc8f220d91ba3d25b2",
    "sessionId": "c8c3885b-30c5-48d5-8f0f-efc217d0b13b",
    "msgId": "3841b257-f2d6-413c-b785-215a0ff34893"
   },
   {
    "cellId": "e1d62d28821e49819efe4e16a2702cc4",
    "sessionId": "c8c3885b-30c5-48d5-8f0f-efc217d0b13b",
    "msgId": "f3070150-834d-4396-9b5d-f413ebcb4014"
   },
   {
    "cellId": "6993df53d3564a94830946890fbec17c",
    "sessionId": "c8c3885b-30c5-48d5-8f0f-efc217d0b13b",
    "msgId": "c4bd8ebf-b90b-459e-8afa-e33f420e2ed0"
   },
   {
    "cellId": "8f9f9051db2741ddb96dda57eb3a0a60",
    "sessionId": "c8c3885b-30c5-48d5-8f0f-efc217d0b13b",
    "msgId": "dd3f092f-4ad8-431e-bfa2-83c55ebfa218"
   },
   {
    "cellId": "38c31914298547f5989838553ddca426",
    "sessionId": "c8c3885b-30c5-48d5-8f0f-efc217d0b13b",
    "msgId": "ee5cc6bb-9d93-4abd-97e9-8fb99f39c08e"
   },
   {
    "cellId": "dd0a51e8f44346b8a49ffd86dd0d31de",
    "sessionId": "c8c3885b-30c5-48d5-8f0f-efc217d0b13b",
    "msgId": "3c0364d5-ffdb-43e2-8095-752002f31334"
   },
   {
    "cellId": "fde3ee17925d48e9adec56db3bb00314",
    "sessionId": "c8c3885b-30c5-48d5-8f0f-efc217d0b13b",
    "msgId": "47fbdcd5-61db-462e-b1d9-5ac363ad9f92"
   },
   {
    "cellId": "7852b4e018e84bb9a93fc67387ab9675",
    "sessionId": "c8c3885b-30c5-48d5-8f0f-efc217d0b13b",
    "msgId": "c415b4b6-9d8a-4007-bf40-eb21ec9e637b"
   },
   {
    "cellId": "9fe0a04d097f484bb05d08eb3c2df89d",
    "sessionId": "c8c3885b-30c5-48d5-8f0f-efc217d0b13b",
    "msgId": "3b1327c6-ec57-474c-a765-b44b90585d99"
   },
   {
    "cellId": "df47faac714b47539ff8bcecff1f0c99",
    "sessionId": "c8c3885b-30c5-48d5-8f0f-efc217d0b13b",
    "msgId": "fdff8307-4ae2-49cb-b902-8866e05f88f8"
   },
   {
    "cellId": "e3fcce36857e4913ba0722247da263ce",
    "sessionId": "c8c3885b-30c5-48d5-8f0f-efc217d0b13b",
    "msgId": "60419d16-bc14-4ca2-a61c-073a99a29586"
   },
   {
    "cellId": "a1026ac00df9484b8b9b3548de179d7c",
    "sessionId": "c8c3885b-30c5-48d5-8f0f-efc217d0b13b",
    "msgId": "eef4ae31-a000-44ee-b087-b2db26e3745c"
   },
   {
    "cellId": "577ff5e373384f4d97347f7c065b9175",
    "sessionId": "c8c3885b-30c5-48d5-8f0f-efc217d0b13b",
    "msgId": "874af438-e967-4892-a0dc-19ff9b8ffa55"
   },
   {
    "cellId": "8f2d2758c8394fce9f8196d8b1d1e68f",
    "sessionId": "c8c3885b-30c5-48d5-8f0f-efc217d0b13b",
    "msgId": "ab0c30d6-6e80-4610-821c-0b07ddc0e6c4"
   },
   {
    "cellId": "419eca948af34c529203cc18d6606c83",
    "sessionId": "c8c3885b-30c5-48d5-8f0f-efc217d0b13b",
    "msgId": "660a2655-d115-4bf0-a605-e2ed9f792810"
   },
   {
    "cellId": "e473fe21f1224534a5ed44a0b0676503",
    "sessionId": "c8c3885b-30c5-48d5-8f0f-efc217d0b13b",
    "msgId": "9c51d38f-bbeb-4f61-90f9-aa9ff7f0ac10"
   },
   {
    "cellId": "a9a01b48dd954d4a802d32784dd90f6f",
    "sessionId": "c8c3885b-30c5-48d5-8f0f-efc217d0b13b",
    "msgId": "d3b58f21-20c1-43f1-981c-9db8cc273da3"
   },
   {
    "cellId": "945908f5297848b4ac6bf247e5788aa5",
    "sessionId": "c8c3885b-30c5-48d5-8f0f-efc217d0b13b",
    "msgId": "047f533b-d111-4e14-81ac-b406053c5132"
   }
  ],
  "deepnote_persisted_session": {
   "createdAt": "2022-09-15T12:31:39.666Z"
  }
 }
}