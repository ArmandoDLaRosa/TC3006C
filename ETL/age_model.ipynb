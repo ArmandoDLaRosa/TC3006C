{
 "cells": [
  {
   "cell_type": "code",
   "metadata": {
    "tags": [],
    "cell_id": "cc62d7b9-56f6-4eb4-8bbe-00bdfc572414",
    "deepnote_to_be_reexecuted": false,
    "source_hash": "5ddfc3af",
    "execution_start": 1662592566328,
    "execution_millis": 1912,
    "deepnote_cell_type": "code",
    "deepnote_cell_height": 926.796875
   },
   "source": "import pandas as pd\nimport seaborn as sns\nimport utils\nimport ETL\n\ndf = pd.read_csv(\"/work/data/train.csv\")\ndf2 = pd.read_csv(\"/work/data/test.csv\")\n\ndf = utils.title_engineering(df)\ndf = utils.encoding(df)\ndf = utils.imputing(df)\n\ndf2 = utils.title_engineering(df2)\ndf2 = utils.encoding(df2)\ndf2 = utils.imputing(df2)\n\nage_df = df[~df[\"Age\"].isnull()]\nprint(len(age_df))\nage_df2 = df2[~df2[\"Age\"].isnull()]\nprint(len(age_df2))\nage_df =  pd.concat([age_df, age_df2])\nprint(len(age_df))\nage_df.head()",
   "execution_count": null,
   "outputs": [
    {
     "name": "stdout",
     "text": "891\n418\n1309\n",
     "output_type": "stream"
    },
    {
     "output_type": "execute_result",
     "execution_count": 1,
     "data": {
      "application/vnd.deepnote.dataframe.v3+json": {
       "column_count": 13,
       "row_count": 5,
       "columns": [
        {
         "name": "PassengerId",
         "dtype": "int64",
         "stats": {
          "unique_count": 5,
          "nan_count": 0,
          "min": "1",
          "max": "5",
          "histogram": [
           {
            "bin_start": 1,
            "bin_end": 1.4,
            "count": 1
           },
           {
            "bin_start": 1.4,
            "bin_end": 1.8,
            "count": 0
           },
           {
            "bin_start": 1.8,
            "bin_end": 2.2,
            "count": 1
           },
           {
            "bin_start": 2.2,
            "bin_end": 2.6,
            "count": 0
           },
           {
            "bin_start": 2.6,
            "bin_end": 3,
            "count": 0
           },
           {
            "bin_start": 3,
            "bin_end": 3.4000000000000004,
            "count": 1
           },
           {
            "bin_start": 3.4000000000000004,
            "bin_end": 3.8000000000000003,
            "count": 0
           },
           {
            "bin_start": 3.8000000000000003,
            "bin_end": 4.2,
            "count": 1
           },
           {
            "bin_start": 4.2,
            "bin_end": 4.6,
            "count": 0
           },
           {
            "bin_start": 4.6,
            "bin_end": 5,
            "count": 1
           }
          ]
         }
        },
        {
         "name": "Survived",
         "dtype": "float64",
         "stats": {
          "unique_count": 2,
          "nan_count": 0,
          "min": "0.0",
          "max": "1.0",
          "histogram": [
           {
            "bin_start": 0,
            "bin_end": 0.1,
            "count": 2
           },
           {
            "bin_start": 0.1,
            "bin_end": 0.2,
            "count": 0
           },
           {
            "bin_start": 0.2,
            "bin_end": 0.30000000000000004,
            "count": 0
           },
           {
            "bin_start": 0.30000000000000004,
            "bin_end": 0.4,
            "count": 0
           },
           {
            "bin_start": 0.4,
            "bin_end": 0.5,
            "count": 0
           },
           {
            "bin_start": 0.5,
            "bin_end": 0.6000000000000001,
            "count": 0
           },
           {
            "bin_start": 0.6000000000000001,
            "bin_end": 0.7000000000000001,
            "count": 0
           },
           {
            "bin_start": 0.7000000000000001,
            "bin_end": 0.8,
            "count": 0
           },
           {
            "bin_start": 0.8,
            "bin_end": 0.9,
            "count": 0
           },
           {
            "bin_start": 0.9,
            "bin_end": 1,
            "count": 3
           }
          ]
         }
        },
        {
         "name": "Pclass",
         "dtype": "int64",
         "stats": {
          "unique_count": 2,
          "nan_count": 0,
          "min": "1",
          "max": "3",
          "histogram": [
           {
            "bin_start": 1,
            "bin_end": 1.2,
            "count": 2
           },
           {
            "bin_start": 1.2,
            "bin_end": 1.4,
            "count": 0
           },
           {
            "bin_start": 1.4,
            "bin_end": 1.6,
            "count": 0
           },
           {
            "bin_start": 1.6,
            "bin_end": 1.8,
            "count": 0
           },
           {
            "bin_start": 1.8,
            "bin_end": 2,
            "count": 0
           },
           {
            "bin_start": 2,
            "bin_end": 2.2,
            "count": 0
           },
           {
            "bin_start": 2.2,
            "bin_end": 2.4000000000000004,
            "count": 0
           },
           {
            "bin_start": 2.4000000000000004,
            "bin_end": 2.6,
            "count": 0
           },
           {
            "bin_start": 2.6,
            "bin_end": 2.8,
            "count": 0
           },
           {
            "bin_start": 2.8,
            "bin_end": 3,
            "count": 3
           }
          ]
         }
        },
        {
         "name": "Name",
         "dtype": "object",
         "stats": {
          "unique_count": 5,
          "nan_count": 0,
          "categories": [
           {
            "name": "Braund, Mr. Owen Harris",
            "count": 1
           },
           {
            "name": "Cumings, Mrs. John Bradley (Florence Briggs Thayer)",
            "count": 1
           },
           {
            "name": "3 others",
            "count": 3
           }
          ]
         }
        },
        {
         "name": "Sex",
         "dtype": "int64",
         "stats": {
          "unique_count": 2,
          "nan_count": 0,
          "min": "0",
          "max": "1",
          "histogram": [
           {
            "bin_start": 0,
            "bin_end": 0.1,
            "count": 2
           },
           {
            "bin_start": 0.1,
            "bin_end": 0.2,
            "count": 0
           },
           {
            "bin_start": 0.2,
            "bin_end": 0.30000000000000004,
            "count": 0
           },
           {
            "bin_start": 0.30000000000000004,
            "bin_end": 0.4,
            "count": 0
           },
           {
            "bin_start": 0.4,
            "bin_end": 0.5,
            "count": 0
           },
           {
            "bin_start": 0.5,
            "bin_end": 0.6000000000000001,
            "count": 0
           },
           {
            "bin_start": 0.6000000000000001,
            "bin_end": 0.7000000000000001,
            "count": 0
           },
           {
            "bin_start": 0.7000000000000001,
            "bin_end": 0.8,
            "count": 0
           },
           {
            "bin_start": 0.8,
            "bin_end": 0.9,
            "count": 0
           },
           {
            "bin_start": 0.9,
            "bin_end": 1,
            "count": 3
           }
          ]
         }
        },
        {
         "name": "Age",
         "dtype": "float64",
         "stats": {
          "unique_count": 4,
          "nan_count": 0,
          "min": "22.0",
          "max": "38.0",
          "histogram": [
           {
            "bin_start": 22,
            "bin_end": 23.6,
            "count": 1
           },
           {
            "bin_start": 23.6,
            "bin_end": 25.2,
            "count": 0
           },
           {
            "bin_start": 25.2,
            "bin_end": 26.8,
            "count": 1
           },
           {
            "bin_start": 26.8,
            "bin_end": 28.4,
            "count": 0
           },
           {
            "bin_start": 28.4,
            "bin_end": 30,
            "count": 0
           },
           {
            "bin_start": 30,
            "bin_end": 31.6,
            "count": 0
           },
           {
            "bin_start": 31.6,
            "bin_end": 33.2,
            "count": 0
           },
           {
            "bin_start": 33.2,
            "bin_end": 34.8,
            "count": 0
           },
           {
            "bin_start": 34.8,
            "bin_end": 36.4,
            "count": 2
           },
           {
            "bin_start": 36.4,
            "bin_end": 38,
            "count": 1
           }
          ]
         }
        },
        {
         "name": "SibSp",
         "dtype": "int64",
         "stats": {
          "unique_count": 2,
          "nan_count": 0,
          "min": "0",
          "max": "1",
          "histogram": [
           {
            "bin_start": 0,
            "bin_end": 0.1,
            "count": 2
           },
           {
            "bin_start": 0.1,
            "bin_end": 0.2,
            "count": 0
           },
           {
            "bin_start": 0.2,
            "bin_end": 0.30000000000000004,
            "count": 0
           },
           {
            "bin_start": 0.30000000000000004,
            "bin_end": 0.4,
            "count": 0
           },
           {
            "bin_start": 0.4,
            "bin_end": 0.5,
            "count": 0
           },
           {
            "bin_start": 0.5,
            "bin_end": 0.6000000000000001,
            "count": 0
           },
           {
            "bin_start": 0.6000000000000001,
            "bin_end": 0.7000000000000001,
            "count": 0
           },
           {
            "bin_start": 0.7000000000000001,
            "bin_end": 0.8,
            "count": 0
           },
           {
            "bin_start": 0.8,
            "bin_end": 0.9,
            "count": 0
           },
           {
            "bin_start": 0.9,
            "bin_end": 1,
            "count": 3
           }
          ]
         }
        },
        {
         "name": "Parch",
         "dtype": "int64",
         "stats": {
          "unique_count": 1,
          "nan_count": 0,
          "min": "0",
          "max": "0",
          "histogram": [
           {
            "bin_start": -0.5,
            "bin_end": -0.4,
            "count": 0
           },
           {
            "bin_start": -0.4,
            "bin_end": -0.3,
            "count": 0
           },
           {
            "bin_start": -0.3,
            "bin_end": -0.19999999999999996,
            "count": 0
           },
           {
            "bin_start": -0.19999999999999996,
            "bin_end": -0.09999999999999998,
            "count": 0
           },
           {
            "bin_start": -0.09999999999999998,
            "bin_end": 0,
            "count": 0
           },
           {
            "bin_start": 0,
            "bin_end": 0.10000000000000009,
            "count": 5
           },
           {
            "bin_start": 0.10000000000000009,
            "bin_end": 0.20000000000000007,
            "count": 0
           },
           {
            "bin_start": 0.20000000000000007,
            "bin_end": 0.30000000000000004,
            "count": 0
           },
           {
            "bin_start": 0.30000000000000004,
            "bin_end": 0.4,
            "count": 0
           },
           {
            "bin_start": 0.4,
            "bin_end": 0.5,
            "count": 0
           }
          ]
         }
        },
        {
         "name": "Ticket",
         "dtype": "object",
         "stats": {
          "unique_count": 5,
          "nan_count": 0,
          "categories": [
           {
            "name": "A/5 21171",
            "count": 1
           },
           {
            "name": "PC 17599",
            "count": 1
           },
           {
            "name": "3 others",
            "count": 3
           }
          ]
         }
        },
        {
         "name": "Fare",
         "dtype": "float64",
         "stats": {
          "unique_count": 5,
          "nan_count": 0,
          "min": "7.25",
          "max": "71.2833",
          "histogram": [
           {
            "bin_start": 7.25,
            "bin_end": 13.65333,
            "count": 3
           },
           {
            "bin_start": 13.65333,
            "bin_end": 20.05666,
            "count": 0
           },
           {
            "bin_start": 20.05666,
            "bin_end": 26.459989999999998,
            "count": 0
           },
           {
            "bin_start": 26.459989999999998,
            "bin_end": 32.86332,
            "count": 0
           },
           {
            "bin_start": 32.86332,
            "bin_end": 39.26665,
            "count": 0
           },
           {
            "bin_start": 39.26665,
            "bin_end": 45.669979999999995,
            "count": 0
           },
           {
            "bin_start": 45.669979999999995,
            "bin_end": 52.07331,
            "count": 0
           },
           {
            "bin_start": 52.07331,
            "bin_end": 58.476639999999996,
            "count": 1
           },
           {
            "bin_start": 58.476639999999996,
            "bin_end": 64.87996999999999,
            "count": 0
           },
           {
            "bin_start": 64.87996999999999,
            "bin_end": 71.2833,
            "count": 1
           }
          ]
         }
        },
        {
         "name": "Cabin",
         "dtype": "object",
         "stats": {
          "unique_count": 4,
          "nan_count": 1,
          "categories": [
           {
            "name": "B96 B98",
            "count": 1
           },
           {
            "name": "3 others",
            "count": 3
           },
           {
            "name": "Missing",
            "count": 1
           }
          ]
         }
        },
        {
         "name": "Embarked",
         "dtype": "float64",
         "stats": {
          "unique_count": 2,
          "nan_count": 0,
          "min": "0.0",
          "max": "2.0",
          "histogram": [
           {
            "bin_start": 0,
            "bin_end": 0.2,
            "count": 1
           },
           {
            "bin_start": 0.2,
            "bin_end": 0.4,
            "count": 0
           },
           {
            "bin_start": 0.4,
            "bin_end": 0.6000000000000001,
            "count": 0
           },
           {
            "bin_start": 0.6000000000000001,
            "bin_end": 0.8,
            "count": 0
           },
           {
            "bin_start": 0.8,
            "bin_end": 1,
            "count": 0
           },
           {
            "bin_start": 1,
            "bin_end": 1.2000000000000002,
            "count": 0
           },
           {
            "bin_start": 1.2000000000000002,
            "bin_end": 1.4000000000000001,
            "count": 0
           },
           {
            "bin_start": 1.4000000000000001,
            "bin_end": 1.6,
            "count": 0
           },
           {
            "bin_start": 1.6,
            "bin_end": 1.8,
            "count": 0
           },
           {
            "bin_start": 1.8,
            "bin_end": 2,
            "count": 4
           }
          ]
         }
        },
        {
         "name": "Title",
         "dtype": "float64",
         "stats": {
          "unique_count": 1,
          "nan_count": 0,
          "min": "1.0",
          "max": "1.0",
          "histogram": [
           {
            "bin_start": 0.5,
            "bin_end": 0.6,
            "count": 0
           },
           {
            "bin_start": 0.6,
            "bin_end": 0.7,
            "count": 0
           },
           {
            "bin_start": 0.7,
            "bin_end": 0.8,
            "count": 0
           },
           {
            "bin_start": 0.8,
            "bin_end": 0.9,
            "count": 0
           },
           {
            "bin_start": 0.9,
            "bin_end": 1,
            "count": 0
           },
           {
            "bin_start": 1,
            "bin_end": 1.1,
            "count": 5
           },
           {
            "bin_start": 1.1,
            "bin_end": 1.2000000000000002,
            "count": 0
           },
           {
            "bin_start": 1.2000000000000002,
            "bin_end": 1.3,
            "count": 0
           },
           {
            "bin_start": 1.3,
            "bin_end": 1.4,
            "count": 0
           },
           {
            "bin_start": 1.4,
            "bin_end": 1.5,
            "count": 0
           }
          ]
         }
        },
        {
         "name": "_deepnote_index_column",
         "dtype": "int64"
        }
       ],
       "rows": [
        {
         "PassengerId": "1",
         "Survived": "0.0",
         "Pclass": "3",
         "Name": "Braund, Mr. Owen Harris",
         "Sex": "0",
         "Age": "22.0",
         "SibSp": "1",
         "Parch": "0",
         "Ticket": "A/5 21171",
         "Fare": "7.25",
         "Cabin": "B96 B98",
         "Embarked": "2.0",
         "Title": "1.0",
         "_deepnote_index_column": "0"
        },
        {
         "PassengerId": "2",
         "Survived": "1.0",
         "Pclass": "1",
         "Name": "Cumings, Mrs. John Bradley (Florence Briggs Thayer)",
         "Sex": "1",
         "Age": "38.0",
         "SibSp": "1",
         "Parch": "0",
         "Ticket": "PC 17599",
         "Fare": "71.2833",
         "Cabin": "C85",
         "Embarked": "0.0",
         "Title": "1.0",
         "_deepnote_index_column": "1"
        },
        {
         "PassengerId": "3",
         "Survived": "1.0",
         "Pclass": "3",
         "Name": "Heikkinen, Miss. Laina",
         "Sex": "1",
         "Age": "26.0",
         "SibSp": "0",
         "Parch": "0",
         "Ticket": "STON/O2. 3101282",
         "Fare": "7.925",
         "Cabin": "G6",
         "Embarked": "2.0",
         "Title": "1.0",
         "_deepnote_index_column": "2"
        },
        {
         "PassengerId": "4",
         "Survived": "1.0",
         "Pclass": "1",
         "Name": "Futrelle, Mrs. Jacques Heath (Lily May Peel)",
         "Sex": "1",
         "Age": "35.0",
         "SibSp": "1",
         "Parch": "0",
         "Ticket": "113803",
         "Fare": "53.1",
         "Cabin": "C123",
         "Embarked": "2.0",
         "Title": "1.0",
         "_deepnote_index_column": "3"
        },
        {
         "PassengerId": "5",
         "Survived": "0.0",
         "Pclass": "3",
         "Name": "Allen, Mr. William Henry",
         "Sex": "0",
         "Age": "35.0",
         "SibSp": "0",
         "Parch": "0",
         "Ticket": "373450",
         "Fare": "8.05",
         "Cabin": "nan",
         "Embarked": "2.0",
         "Title": "1.0",
         "_deepnote_index_column": "4"
        }
       ]
      },
      "text/plain": "   PassengerId  Survived  Pclass  \\\n0            1       0.0       3   \n1            2       1.0       1   \n2            3       1.0       3   \n3            4       1.0       1   \n4            5       0.0       3   \n\n                                                Name  Sex   Age  SibSp  Parch  \\\n0                            Braund, Mr. Owen Harris    0  22.0      1      0   \n1  Cumings, Mrs. John Bradley (Florence Briggs Th...    1  38.0      1      0   \n2                             Heikkinen, Miss. Laina    1  26.0      0      0   \n3       Futrelle, Mrs. Jacques Heath (Lily May Peel)    1  35.0      1      0   \n4                           Allen, Mr. William Henry    0  35.0      0      0   \n\n             Ticket     Fare    Cabin  Embarked  Title  \n0         A/5 21171   7.2500  B96 B98       2.0    1.0  \n1          PC 17599  71.2833      C85       0.0    1.0  \n2  STON/O2. 3101282   7.9250       G6       2.0    1.0  \n3            113803  53.1000     C123       2.0    1.0  \n4            373450   8.0500      NaN       2.0    1.0  ",
      "text/html": "<div>\n<style scoped>\n    .dataframe tbody tr th:only-of-type {\n        vertical-align: middle;\n    }\n\n    .dataframe tbody tr th {\n        vertical-align: top;\n    }\n\n    .dataframe thead th {\n        text-align: right;\n    }\n</style>\n<table border=\"1\" class=\"dataframe\">\n  <thead>\n    <tr style=\"text-align: right;\">\n      <th></th>\n      <th>PassengerId</th>\n      <th>Survived</th>\n      <th>Pclass</th>\n      <th>Name</th>\n      <th>Sex</th>\n      <th>Age</th>\n      <th>SibSp</th>\n      <th>Parch</th>\n      <th>Ticket</th>\n      <th>Fare</th>\n      <th>Cabin</th>\n      <th>Embarked</th>\n      <th>Title</th>\n    </tr>\n  </thead>\n  <tbody>\n    <tr>\n      <th>0</th>\n      <td>1</td>\n      <td>0.0</td>\n      <td>3</td>\n      <td>Braund, Mr. Owen Harris</td>\n      <td>0</td>\n      <td>22.0</td>\n      <td>1</td>\n      <td>0</td>\n      <td>A/5 21171</td>\n      <td>7.2500</td>\n      <td>B96 B98</td>\n      <td>2.0</td>\n      <td>1.0</td>\n    </tr>\n    <tr>\n      <th>1</th>\n      <td>2</td>\n      <td>1.0</td>\n      <td>1</td>\n      <td>Cumings, Mrs. John Bradley (Florence Briggs Th...</td>\n      <td>1</td>\n      <td>38.0</td>\n      <td>1</td>\n      <td>0</td>\n      <td>PC 17599</td>\n      <td>71.2833</td>\n      <td>C85</td>\n      <td>0.0</td>\n      <td>1.0</td>\n    </tr>\n    <tr>\n      <th>2</th>\n      <td>3</td>\n      <td>1.0</td>\n      <td>3</td>\n      <td>Heikkinen, Miss. Laina</td>\n      <td>1</td>\n      <td>26.0</td>\n      <td>0</td>\n      <td>0</td>\n      <td>STON/O2. 3101282</td>\n      <td>7.9250</td>\n      <td>G6</td>\n      <td>2.0</td>\n      <td>1.0</td>\n    </tr>\n    <tr>\n      <th>3</th>\n      <td>4</td>\n      <td>1.0</td>\n      <td>1</td>\n      <td>Futrelle, Mrs. Jacques Heath (Lily May Peel)</td>\n      <td>1</td>\n      <td>35.0</td>\n      <td>1</td>\n      <td>0</td>\n      <td>113803</td>\n      <td>53.1000</td>\n      <td>C123</td>\n      <td>2.0</td>\n      <td>1.0</td>\n    </tr>\n    <tr>\n      <th>4</th>\n      <td>5</td>\n      <td>0.0</td>\n      <td>3</td>\n      <td>Allen, Mr. William Henry</td>\n      <td>0</td>\n      <td>35.0</td>\n      <td>0</td>\n      <td>0</td>\n      <td>373450</td>\n      <td>8.0500</td>\n      <td>NaN</td>\n      <td>2.0</td>\n      <td>1.0</td>\n    </tr>\n  </tbody>\n</table>\n</div>"
     },
     "metadata": {}
    }
   ]
  },
  {
   "cell_type": "code",
   "metadata": {
    "cell_id": "298fefcd759441a69a686abde8791293",
    "tags": [],
    "deepnote_to_be_reexecuted": false,
    "source_hash": "e2f45e08",
    "execution_start": 1662592568283,
    "execution_millis": 634,
    "deepnote_cell_type": "code",
    "deepnote_cell_height": 470.609375,
    "deepnote_output_heights": [
     20.171875,
     303.96875
    ]
   },
   "source": "corr = df.corr()\nsns.heatmap(corr,  xticklabels=corr.columns,  yticklabels=corr.columns)",
   "execution_count": null,
   "outputs": [
    {
     "output_type": "execute_result",
     "execution_count": 2,
     "data": {
      "text/plain": "<AxesSubplot:>"
     },
     "metadata": {}
    },
    {
     "data": {
      "text/plain": "<Figure size 432x288 with 2 Axes>",
      "image/png": "[encoded data removed]"
     },
     "metadata": {
      "needs_background": "light",
      "image/png": {
       "width": 408,
       "height": 303
      }
     },
     "output_type": "display_data"
    }
   ]
  },
  {
   "cell_type": "code",
   "metadata": {
    "cell_id": "ff86a339d67a4c8bb0d7921fe25c887f",
    "tags": [],
    "deepnote_to_be_reexecuted": false,
    "source_hash": "7021958b",
    "execution_start": 1662592568924,
    "execution_millis": 5,
    "deepnote_cell_type": "code",
    "deepnote_cell_height": 326.28125,
    "deepnote_output_heights": [
     212.171875
    ]
   },
   "source": "corr[\"Age\"].sort_values(ascending=False)\n",
   "execution_count": null,
   "outputs": [
    {
     "output_type": "execute_result",
     "execution_count": 3,
     "data": {
      "text/plain": "Age            1.000000\nTitle          0.148415\nFare           0.096688\nPassengerId    0.034212\nEmbarked      -0.018754\nSurvived      -0.064910\nSex           -0.081163\nParch         -0.172482\nSibSp         -0.233296\nPclass        -0.339898\nName: Age, dtype: float64"
     },
     "metadata": {}
    }
   ]
  },
  {
   "cell_type": "code",
   "metadata": {
    "cell_id": "f11f1b36a2564ba2b7985ecfd3c602a0",
    "tags": [],
    "deepnote_to_be_reexecuted": false,
    "source_hash": "58e4fa65",
    "execution_start": 1662592568935,
    "execution_millis": 321,
    "deepnote_cell_type": "code",
    "deepnote_cell_height": 173.734375
   },
   "source": "from sklearn.model_selection import train_test_split\n\nX = age_df[utils.Maps.age_predictors]\ny = age_df['Age']\n\nX_train, X_test, y_train, y_test = train_test_split(X, y, random_state=0, test_size=0.4, shuffle=True, stratify=age_df[\"Sex\"])",
   "execution_count": null,
   "outputs": []
  },
  {
   "cell_type": "code",
   "metadata": {
    "cell_id": "4486a17585b442dca0288d529f1cfcb8",
    "tags": [],
    "deepnote_to_be_reexecuted": false,
    "source_hash": "fcd2fd33",
    "execution_start": 1662592569267,
    "execution_millis": 1398,
    "deepnote_cell_type": "code",
    "deepnote_cell_height": 1214.3125
   },
   "source": "import xgboost as xgb\nimport numpy as np\nimport optuna\nfrom sklearn import metrics\nfrom sklearn.metrics import mean_squared_error\nfrom optuna.samplers import TPESampler\nfrom xgboost import XGBRegressor\nfrom optuna.integration import XGBoostPruningCallback\nfrom sklearn.model_selection import RepeatedKFold\nfrom optuna import create_study\n\ndef objective(\n    trial,\n    X,\n    y,\n    random_state=22,\n    n_splits=3,\n    n_repeats=2,\n    n_jobs=1,\n    early_stopping_rounds=100,\n):\n    # XGBoost parameters\n    params = {\n        \"verbosity\": 0,  # 0 (silent) - 3 (debug)\n        \"objective\": \"reg:squarederror\",\n        \"n_estimators\": 10000,\n        \"max_depth\": trial.suggest_int(\"max_depth\", 4, 12),\n        \"learning_rate\": trial.suggest_loguniform(\"learning_rate\", 0.00001, 0.01),\n        \"colsample_bytree\": trial.suggest_loguniform(\"colsample_bytree\", 0.2, 0.6),\n        \"subsample\": trial.suggest_loguniform(\"subsample\", 0.4, 0.8),\n        \"alpha\": trial.suggest_loguniform(\"alpha\", 0.01, 10.0),\n        \"lambda\": trial.suggest_loguniform(\"lambda\", 1e-8, 10.0),\n        \"gamma\": trial.suggest_loguniform(\"gamma\", 1e-8, 10.0),\n        \"min_child_weight\": trial.suggest_loguniform(\"min_child_weight\", 10, 1000),\n        \"seed\": random_state,\n        \"n_jobs\": n_jobs,\n    }\n\n    model = XGBRegressor(**params)\n    pruning_callback = XGBoostPruningCallback(trial, \"validation_0-rmse\")\n    rkf = RepeatedKFold(\n        n_splits=n_splits, n_repeats=n_repeats, random_state=random_state\n    )\n    X_values = X.values\n    y_values = y.values\n    y_pred = np.zeros_like(y_values)\n    for train_index, test_index in rkf.split(X_values):\n        X_A, X_B = X_values[train_index, :], X_values[test_index, :]\n        y_A, y_B = y_values[train_index], y_values[test_index]\n        model.fit(\n            X_A,\n            y_A,\n            eval_set=[(X_B, y_B)],\n            eval_metric=\"rmse\",\n            verbose=0,\n            callbacks=[pruning_callback],\n            early_stopping_rounds=early_stopping_rounds,\n        )\n        y_pred[test_index] += model.predict(X_B)\n    y_pred /= n_repeats\n    return np.sqrt(mean_squared_error(y_train, y_pred))",
   "execution_count": null,
   "outputs": [
    {
     "name": "stderr",
     "text": "/shared-libs/python3.9/py/lib/python3.9/site-packages/tqdm/auto.py:22: TqdmWarning: IProgress not found. Please update jupyter and ipywidgets. See https://ipywidgets.readthedocs.io/en/stable/user_install.html\n  from .autonotebook import tqdm as notebook_tqdm\n",
     "output_type": "stream"
    }
   ]
  },
  {
   "cell_type": "code",
   "metadata": {
    "cell_id": "c0eaaa8e3d454eddbeae9a3baea56168",
    "tags": [],
    "deepnote_to_be_reexecuted": false,
    "source_hash": "f648ffd9",
    "execution_start": 1662592570153,
    "execution_millis": 470494,
    "deepnote_cell_type": "code",
    "deepnote_cell_height": 1078.125
   },
   "source": "sampler = TPESampler(seed=124, multivariate=True)\nstudy = create_study(direction=\"minimize\", sampler=sampler)\nstudy.optimize(\n    lambda trial: objective(\n        trial,\n        X_train,\n        y_train,\n        random_state=124,\n        n_splits=10,\n        n_repeats=1,\n        n_jobs=12,\n        early_stopping_rounds=100,\n    ),\n    n_trials=2,\n    n_jobs=1,\n)\n\n# display params\nhp = study.best_params\nfor key, value in hp.items():\n    print(f\"{key:>20s} : {value}\")\nprint(f\"{'best objective value':>20s} : {study.best_value}\")",
   "execution_count": null,
   "outputs": [
    {
     "name": "stderr",
     "text": "  warnings.warn(\n/root/venv/lib/python3.9/site-packages/optuna/trial/_trial.py:462: UserWarning: The reported value is ignored because this `step` 4836 is already reported.\n  warnings.warn(\n/root/venv/lib/python3.9/site-packages/optuna/trial/_trial.py:462: UserWarning: The reported value is ignored because this `step` 4837 is already reported.\n  warnings.warn(\n/root/venv/lib/python3.9/site-packages/optuna/trial/_trial.py:462: UserWarning: The reported value is ignored because this `step` 4838 is already reported.\n  warnings.warn(\n/root/venv/lib/python3.9/site-packages/optuna/trial/_trial.py:462: UserWarning: The reported value is ignored because this `step` 4839 is already reported.\n  warnings.warn(\n/root/venv/lib/python3.9/site-packages/optuna/trial/_trial.py:462: UserWarning: The reported value is ignored because this `step` 4840 is already reported.\n  warnings.warn(\n/root/venv/lib/python3.9/site-packages/optuna/trial/_trial.py:462: UserWarning: The reported value is ignored because this `step` 4841 is already reported.\n  warnings.warn(\n/root/venv/lib/python3.9/site-packages/optuna/trial/_trial.py:462: UserWarning: The reported value is ignored because this `step` 4842 is already reported.\n  warnings.warn(\n/root/venv/lib/python3.9/site-packages/optuna/trial/_trial.py:462: UserWarning: The reported value is ignored because this `step` 4843 is already reported.\n  warnings.warn(\n/root/venv/lib/python3.9/site-packages/optuna/trial/_trial.py:462: UserWarning: The reported value is ignored because this `step` 4844 is already reported.\n  warnings.warn(\n/root/venv/lib/python3.9/site-packages/optuna/trial/_trial.py:462: UserWarning: The reported value is ignored because this `step` 4845 is already reported.\n  warnings.warn(\n/root/venv/lib/python3.9/site-packages/optuna/trial/_trial.py:462: UserWarning: The reported value is ignored because this `step` 4846 is already reported.\n  warnings.warn(\n/root/venv/lib/python3.9/site-packages/optuna/trial/_trial.py:462: UserWarning: The reported value is ignored because this `step` 4847 is already reported.\n  warnings.warn(\n/root/venv/lib/python3.9/site-packages/optuna/trial/_trial.py:462: UserWarning: The reported value is ignored because this `step` 4848 is already reported.\n  warnings.warn(\n/root/venv/lib/python3.9/site-packages/optuna/trial/_trial.py:462: UserWarning: The reported value is ignored because this `step` 4849 is already reported.\n  warnings.warn(\n/root/venv/lib/python3.9/site-packages/optuna/trial/_trial.py:462: UserWarning: The reported value is ignored because this `step` 4850 is already reported.\n  warnings.warn(\n/root/venv/lib/python3.9/site-packages/optuna/trial/_trial.py:462: UserWarning: The reported value is ignored because this `step` 4851 is already reported.\n  warnings.warn(\n/root/venv/lib/python3.9/site-packages/optuna/trial/_trial.py:462: UserWarning: The reported value is ignored because this `step` 4852 is already reported.\n  warnings.warn(\n/root/venv/lib/python3.9/site-packages/optuna/trial/_trial.py:462: UserWarning: The reported value is ignored because this `step` 4853 is already reported.\n  warnings.warn(\n/root/venv/lib/python3.9/site-packages/optuna/trial/_trial.py:462: UserWarning: The reported value is ignored because this `step` 4854 is already reported.\n  warnings.warn(\n/root/venv/lib/python3.9/site-packages/optuna/trial/_trial.py:462: UserWarning: The reported value is ignored because this `step` 4855 is already reported.\n  warnings.warn(\n/root/venv/lib/python3.9/site-packages/optuna/trial/_trial.py:462: UserWarning: The reported value is ignored because this `step` 4856 is already reported.\n  warnings.warn(\n/root/venv/lib/python3.9/site-packages/optuna/trial/_trial.py:462: UserWarning: The reported value is ignored because this `step` 4857 is already reported.\n  warnings.warn(\n/root/venv/lib/python3.9/site-packages/optuna/trial/_trial.py:462: UserWarning: The reported value is ignored because this `step` 4858 is already reported.\n  warnings.warn(\n/root/venv/lib/python3.9/site-packages/optuna/trial/_trial.py:462: UserWarning: The reported value is ignored because this `step` 4859 is already reported.\n  warnings.warn(\n/root/venv/lib/python3.9/site-packages/optuna/trial/_trial.py:462: UserWarning: The reported value is ignored because this `step` 4860 is already reported.\n  warnings.warn(\n/root/venv/lib/python3.9/site-packages/optuna/trial/_trial.py:462: UserWarning: The reported value is ignored because this `step` 4861 is already reported.\n  warnings.warn(\n/root/venv/lib/python3.9/site-packages/optuna/trial/_trial.py:462: UserWarning: The reported value is ignored because this `step` 4862 is already reported.\n  warnings.warn(\n/root/venv/lib/python3.9/site-packages/optuna/trial/_trial.py:462: UserWarning: The reported value is ignored because this `step` 4863 is already reported.\n  warnings.warn(\n/root/venv/lib/python3.9/site-packages/optuna/trial/_trial.py:462: UserWarning: The reported value is ignored because this `step` 4864 is already reported.\n  warnings.warn(\n/root/venv/lib/python3.9/site-packages/optuna/trial/_trial.py:462: UserWarning: The reported value is ignored because this `step` 4865 is already reported.\n  warnings.warn(\n/root/venv/lib/python3.9/site-packages/optuna/trial/_trial.py:462: UserWarning: The reported value is ignored because this `step` 4866 is already reported.\n  warnings.warn(\n/root/venv/lib/python3.9/site-packages/optuna/trial/_trial.py:462: UserWarning: The reported value is ignored because this `step` 4867 is already reported.\n  warnings.warn(\n/root/venv/lib/python3.9/site-packages/optuna/trial/_trial.py:462: UserWarning: The reported value is ignored because this `step` 4868 is already reported.\n  warnings.warn(\n/root/venv/lib/python3.9/site-packages/optuna/trial/_trial.py:462: UserWarning: The reported value is ignored because this `step` 4869 is already reported.\n  warnings.warn(\n/root/venv/lib/python3.9/site-packages/optuna/trial/_trial.py:462: UserWarning: The reported value is ignored because this `step` 4870 is already reported.\n  warnings.warn(\n/root/venv/lib/python3.9/site-packages/optuna/trial/_trial.py:462: UserWarning: The reported value is ignored because this `step` 4871 is already reported.\n  warnings.warn(\n/root/venv/lib/python3.9/site-packages/optuna/trial/_trial.py:462: UserWarning: The reported value is ignored because this `step` 4872 is already reported.\n  warnings.warn(\n/root/venv/lib/python3.9/site-packages/optuna/trial/_trial.py:462: UserWarning: The reported value is ignored because this `step` 4873 is already reported.\n  warnings.warn(\n/root/venv/lib/python3.9/site-packages/optuna/trial/_trial.py:462: UserWarning: The reported value is ignored because this `step` 4874 is already reported.\n  warnings.warn(\n/root/venv/lib/python3.9/site-packages/optuna/trial/_trial.py:462: UserWarning: The reported value is ignored because this `step` 4875 is already reported.\n  warnings.warn(\n/root/venv/lib/python3.9/site-packages/optuna/trial/_trial.py:462: UserWarning: The reported value is ignored because this `step` 4876 is already reported.\n  warnings.warn(\n/root/venv/lib/python3.9/site-packages/optuna/trial/_trial.py:462: UserWarning: The reported value is ignored because this `step` 4877 is already reported.\n  warnings.warn(\n/root/venv/lib/python3.9/site-packages/optuna/trial/_trial.py:462: UserWarning: The reported value is ignored because this `step` 4878 is already reported.\n  warnings.warn(\n/root/venv/lib/python3.9/site-packages/optuna/trial/_trial.py:462: UserWarning: The reported value is ignored because this `step` 4879 is already reported.\n  warnings.warn(\n/root/venv/lib/python3.9/site-packages/optuna/trial/_trial.py:462: UserWarning: The reported value is ignored because this `step` 4880 is already reported.\n  warnings.warn(\n/root/venv/lib/python3.9/site-packages/optuna/trial/_trial.py:462: UserWarning: The reported value is ignored because this `step` 4881 is already reported.\n  warnings.warn(\n/root/venv/lib/python3.9/site-packages/optuna/trial/_trial.py:462: UserWarning: The reported value is ignored because this `step` 4882 is already reported.\n  warnings.warn(\n/root/venv/lib/python3.9/site-packages/optuna/trial/_trial.py:462: UserWarning: The reported value is ignored because this `step` 4883 is already reported.\n  warnings.warn(\n/root/venv/lib/python3.9/site-packages/optuna/trial/_trial.py:462: UserWarning: The reported value is ignored because this `step` 4884 is already reported.\n  warnings.warn(\n/root/venv/lib/python3.9/site-packages/optuna/trial/_trial.py:462: UserWarning: The reported value is ignored because this `step` 4885 is already reported.\n  warnings.warn(\n/root/venv/lib/python3.9/site-packages/optuna/trial/_trial.py:462: UserWarning: The reported value is ignored because this `step` 4886 is already reported.\n  warnings.warn(\n/root/venv/lib/python3.9/site-packages/optuna/trial/_trial.py:462: UserWarning: The reported value is ignored because this `step` 4887 is already reported.\n  warnings.warn(\n/root/venv/lib/python3.9/site-packages/optuna/trial/_trial.py:462: UserWarning: The reported value is ignored because this `step` 4888 is already reported.\n  warnings.warn(\n/root/venv/lib/python3.9/site-packages/optuna/trial/_trial.py:462: UserWarning: The reported value is ignored because this `step` 4889 is already reported.\n  warnings.warn(\n/root/venv/lib/python3.9/site-packages/optuna/trial/_trial.py:462: UserWarning: The reported value is ignored because this `step` 4890 is already reported.\n  warnings.warn(\n/root/venv/lib/python3.9/site-packages/optuna/trial/_trial.py:462: UserWarning: The reported value is ignored because this `step` 4891 is already reported.\n  warnings.warn(\n/root/venv/lib/python3.9/site-packages/optuna/trial/_trial.py:462: UserWarning: The reported value is ignored because this `step` 4892 is already reported.\n  warnings.warn(\n/root/venv/lib/python3.9/site-packages/optuna/trial/_trial.py:462: UserWarning: The reported value is ignored because this `step` 4893 is already reported.\n  warnings.warn(\n/root/venv/lib/python3.9/site-packages/optuna/trial/_trial.py:462: UserWarning: The reported value is ignored because this `step` 4894 is already reported.\n  warnings.warn(\n/root/venv/lib/python3.9/site-packages/optuna/trial/_trial.py:462: UserWarning: The reported value is ignored because this `step` 4895 is already reported.\n  warnings.warn(\n/root/venv/lib/python3.9/site-packages/optuna/trial/_trial.py:462: UserWarning: The reported value is ignored because this `step` 4896 is already reported.\n  warnings.warn(\n/root/venv/lib/python3.9/site-packages/optuna/trial/_trial.py:462: UserWarning: The reported value is ignored because this `step` 4897 is already reported.\n  warnings.warn(\n/root/venv/lib/python3.9/site-packages/optuna/trial/_trial.py:462: UserWarning: The reported value is ignored because this `step` 4898 is already reported.\n  warnings.warn(\n/root/venv/lib/python3.9/site-packages/optuna/trial/_trial.py:462: UserWarning: The reported value is ignored because this `step` 4899 is already reported.\n  warnings.warn(\n/root/venv/lib/python3.9/site-packages/optuna/trial/_trial.py:462: UserWarning: The reported value is ignored because this `step` 4900 is already reported.\n  warnings.warn(\n/root/venv/lib/python3.9/site-packages/optuna/trial/_trial.py:462: UserWarning: The reported value is ignored because this `step` 4901 is already reported.\n  warnings.warn(\n/root/venv/lib/python3.9/site-packages/optuna/trial/_trial.py:462: UserWarning: The reported value is ignored because this `step` 4902 is already reported.\n  warnings.warn(\n/root/venv/lib/python3.9/site-packages/optuna/trial/_trial.py:462: UserWarning: The reported value is ignored because this `step` 4903 is already reported.\n  warnings.warn(\n/root/venv/lib/python3.9/site-packages/optuna/trial/_trial.py:462: UserWarning: The reported value is ignored because this `step` 4904 is already reported.\n  warnings.warn(\n/root/venv/lib/python3.9/site-packages/optuna/trial/_trial.py:462: UserWarning: The reported value is ignored because this `step` 4905 is already reported.\n  warnings.warn(\n/root/venv/lib/python3.9/site-packages/optuna/trial/_trial.py:462: UserWarning: The reported value is ignored because this `step` 4906 is already reported.\n  warnings.warn(\n/root/venv/lib/python3.9/site-packages/optuna/trial/_trial.py:462: UserWarning: The reported value is ignored because this `step` 4907 is already reported.\n  warnings.warn(\n/root/venv/lib/python3.9/site-packages/optuna/trial/_trial.py:462: UserWarning: The reported value is ignored because this `step` 4908 is already reported.\n  warnings.warn(\n/root/venv/lib/python3.9/site-packages/optuna/trial/_trial.py:462: UserWarning: The reported value is ignored because this `step` 4909 is already reported.\n  warnings.warn(\n/root/venv/lib/python3.9/site-packages/optuna/trial/_trial.py:462: UserWarning: The reported value is ignored because this `step` 4910 is already reported.\n  warnings.warn(\n/root/venv/lib/python3.9/site-packages/optuna/trial/_trial.py:462: UserWarning: The reported value is ignored because this `step` 4911 is already reported.\n  warnings.warn(\n/root/venv/lib/python3.9/site-packages/optuna/trial/_trial.py:462: UserWarning: The reported value is ignored because this `step` 4912 is already reported.\n  warnings.warn(\n/root/venv/lib/python3.9/site-packages/optuna/trial/_trial.py:462: UserWarning: The reported value is ignored because this `step` 4913 is already reported.\n  warnings.warn(\n/root/venv/lib/python3.9/site-packages/optuna/trial/_trial.py:462: UserWarning: The reported value is ignored because this `step` 4914 is already reported.\n  warnings.warn(\n/root/venv/lib/python3.9/site-packages/optuna/trial/_trial.py:462: UserWarning: The reported value is ignored because this `step` 4915 is already reported.\n  warnings.warn(\n/root/venv/lib/python3.9/site-packages/optuna/trial/_trial.py:462: UserWarning: The reported value is ignored because this `step` 4916 is already reported.\n  warnings.warn(\n/root/venv/lib/python3.9/site-packages/optuna/trial/_trial.py:462: UserWarning: The reported value is ignored because this `step` 4917 is already reported.\n  warnings.warn(\n/root/venv/lib/python3.9/site-packages/optuna/trial/_trial.py:462: UserWarning: The reported value is ignored because this `step` 4918 is already reported.\n  warnings.warn(\n/root/venv/lib/python3.9/site-packages/optuna/trial/_trial.py:462: UserWarning: The reported value is ignored because this `step` 4919 is already reported.\n  warnings.warn(\n/root/venv/lib/python3.9/site-packages/optuna/trial/_trial.py:462: UserWarning: The reported value is ignored because this `step` 4920 is already reported.\n  warnings.warn(\n/root/venv/lib/python3.9/site-packages/optuna/trial/_trial.py:462: UserWarning: The reported value is ignored because this `step` 4921 is already reported.\n  warnings.warn(\n/root/venv/lib/python3.9/site-packages/optuna/trial/_trial.py:462: UserWarning: The reported value is ignored because this `step` 4922 is already reported.\n  warnings.warn(\n/root/venv/lib/python3.9/site-packages/optuna/trial/_trial.py:462: UserWarning: The reported value is ignored because this `step` 4923 is already reported.\n  warnings.warn(\n/root/venv/lib/python3.9/site-packages/optuna/trial/_trial.py:462: UserWarning: The reported value is ignored because this `step` 4924 is already reported.\n  warnings.warn(\n/root/venv/lib/python3.9/site-packages/optuna/trial/_trial.py:462: UserWarning: The reported value is ignored because this `step` 4925 is already reported.\n  warnings.warn(\n/root/venv/lib/python3.9/site-packages/optuna/trial/_trial.py:462: UserWarning: The reported value is ignored because this `step` 4926 is already reported.\n  warnings.warn(\n/root/venv/lib/python3.9/site-packages/optuna/trial/_trial.py:462: UserWarning: The reported value is ignored because this `step` 4927 is already reported.\n  warnings.warn(\n/root/venv/lib/python3.9/site-packages/optuna/trial/_trial.py:462: UserWarning: The reported value is ignored because this `step` 4928 is already reported.\n  warnings.warn(\n/root/venv/lib/python3.9/site-packages/optuna/trial/_trial.py:462: UserWarning: The reported value is ignored because this `step` 4929 is already reported.\n  warnings.warn(\n/root/venv/lib/python3.9/site-packages/optuna/trial/_trial.py:462: UserWarning: The reported value is ignored because this `step` 4930 is already reported.\n  warnings.warn(\n/root/venv/lib/python3.9/site-packages/optuna/trial/_trial.py:462: UserWarning: The reported value is ignored because this `step` 4931 is already reported.\n  warnings.warn(\n/root/venv/lib/python3.9/site-packages/optuna/trial/_trial.py:462: UserWarning: The reported value is ignored because this `step` 4932 is already reported.\n  warnings.warn(\n/root/venv/lib/python3.9/site-packages/optuna/trial/_trial.py:462: UserWarning: The reported value is ignored because this `step` 4933 is already reported.\n  warnings.warn(\n/root/venv/lib/python3.9/site-packages/optuna/trial/_trial.py:462: UserWarning: The reported value is ignored because this `step` 4934 is already reported.\n  warnings.warn(\n/root/venv/lib/python3.9/site-packages/optuna/trial/_trial.py:462: UserWarning: The reported value is ignored because this `step` 4935 is already reported.\n  warnings.warn(\n/root/venv/lib/python3.9/site-packages/optuna/trial/_trial.py:462: UserWarning: The reported value is ignored because this `step` 4936 is already reported.\n  warnings.warn(\n/root/venv/lib/python3.9/site-packages/optuna/trial/_trial.py:462: UserWarning: The reported value is ignored because this `step` 4937 is already reported.\n  warnings.warn(\n/root/venv/lib/python3.9/site-packages/optuna/trial/_trial.py:462: UserWarning: The reported value is ignored because this `step` 4938 is already reported.\n  warnings.warn(\n/root/venv/lib/python3.9/site-packages/optuna/trial/_trial.py:462: UserWarning: The reported value is ignored because this `step` 4939 is already reported.\n  warnings.warn(\n/root/venv/lib/python3.9/site-packages/optuna/trial/_trial.py:462: UserWarning: The reported value is ignored because this `step` 4940 is already reported.\n  warnings.warn(\n/root/venv/lib/python3.9/site-packages/optuna/trial/_trial.py:462: UserWarning: The reported value is ignored because this `step` 4941 is already reported.\n  warnings.warn(\n/root/venv/lib/python3.9/site-packages/optuna/trial/_trial.py:462: UserWarning: The reported value is ignored because this `step` 4942 is already reported.\n  warnings.warn(\n/root/venv/lib/python3.9/site-packages/optuna/trial/_trial.py:462: UserWarning: The reported value is ignored because this `step` 4943 is already reported.\n  warnings.warn(\n/root/venv/lib/python3.9/site-packages/optuna/trial/_trial.py:462: UserWarning: The reported value is ignored because this `step` 4944 is already reported.\n  warnings.warn(\n/root/venv/lib/python3.9/site-packages/optuna/trial/_trial.py:462: UserWarning: The reported value is ignored because this `step` 4945 is already reported.\n  warnings.warn(\n/root/venv/lib/python3.9/site-packages/optuna/trial/_trial.py:462: UserWarning: The reported value is ignored because this `step` 4946 is already reported.\n  warnings.warn(\n/root/venv/lib/python3.9/site-packages/optuna/trial/_trial.py:462: UserWarning: The reported value is ignored because this `step` 4947 is already reported.\n  warnings.warn(\n/root/venv/lib/python3.9/site-packages/optuna/trial/_trial.py:462: UserWarning: The reported value is ignored because this `step` 4948 is already reported.\n  warnings.warn(\n/root/venv/lib/python3.9/site-packages/optuna/trial/_trial.py:462: UserWarning: The reported value is ignored because this `step` 4949 is already reported.\n  warnings.warn(\n/root/venv/lib/python3.9/site-packages/optuna/trial/_trial.py:462: UserWarning: The reported value is ignored because this `step` 4950 is already reported.\n  warnings.warn(\n/root/venv/lib/python3.9/site-packages/optuna/trial/_trial.py:462: UserWarning: The reported value is ignored because this `step` 4951 is already reported.\n  warnings.warn(\n/root/venv/lib/python3.9/site-packages/optuna/trial/_trial.py:462: UserWarning: The reported value is ignored because this `step` 4952 is already reported.\n  warnings.warn(\n/root/venv/lib/python3.9/site-packages/optuna/trial/_trial.py:462: UserWarning: The reported value is ignored because this `step` 4953 is already reported.\n  warnings.warn(\n/root/venv/lib/python3.9/site-packages/optuna/trial/_trial.py:462: UserWarning: The reported value is ignored because this `step` 4954 is already reported.\n  warnings.warn(\n/root/venv/lib/python3.9/site-packages/optuna/trial/_trial.py:462: UserWarning: The reported value is ignored because this `step` 4955 is already reported.\n  warnings.warn(\n/root/venv/lib/python3.9/site-packages/optuna/trial/_trial.py:462: UserWarning: The reported value is ignored because this `step` 4956 is already reported.\n  warnings.warn(\n/root/venv/lib/python3.9/site-packages/optuna/trial/_trial.py:462: UserWarning: The reported value is ignored because this `step` 4957 is already reported.\n  warnings.warn(\n/root/venv/lib/python3.9/site-packages/optuna/trial/_trial.py:462: UserWarning: The reported value is ignored because this `step` 4958 is already reported.\n  warnings.warn(\n/root/venv/lib/python3.9/site-packages/optuna/trial/_trial.py:462: UserWarning: The reported value is ignored because this `step` 4959 is already reported.\n  warnings.warn(\n/root/venv/lib/python3.9/site-packages/optuna/trial/_trial.py:462: UserWarning: The reported value is ignored because this `step` 4960 is already reported.\n  warnings.warn(\n/root/venv/lib/python3.9/site-packages/optuna/trial/_trial.py:462: UserWarning: The reported value is ignored because this `step` 4961 is already reported.\n  warnings.warn(\n/root/venv/lib/python3.9/site-packages/optuna/trial/_trial.py:462: UserWarning: The reported value is ignored because this `step` 4962 is already reported.\n  warnings.warn(\n/root/venv/lib/python3.9/site-packages/optuna/trial/_trial.py:462: UserWarning: The reported value is ignored because this `step` 4963 is already reported.\n  warnings.warn(\n/root/venv/lib/python3.9/site-packages/optuna/trial/_trial.py:462: UserWarning: The reported value is ignored because this `step` 4964 is already reported.\n  warnings.warn(\n/root/venv/lib/python3.9/site-packages/optuna/trial/_trial.py:462: UserWarning: The reported value is ignored because this `step` 4965 is already reported.\n  warnings.warn(\n/root/venv/lib/python3.9/site-packages/optuna/trial/_trial.py:462: UserWarning: The reported value is ignored because this `step` 4966 is already reported.\n  warnings.warn(\n/root/venv/lib/python3.9/site-packages/optuna/trial/_trial.py:462: UserWarning: The reported value is ignored because this `step` 4967 is already reported.\n  warnings.warn(\n/root/venv/lib/python3.9/site-packages/optuna/trial/_trial.py:462: UserWarning: The reported value is ignored because this `step` 4968 is already reported.\n  warnings.warn(\n/root/venv/lib/python3.9/site-packages/optuna/trial/_trial.py:462: UserWarning: The reported value is ignored because this `step` 4969 is already reported.\n  warnings.warn(\n/root/venv/lib/python3.9/site-packages/optuna/trial/_trial.py:462: UserWarning: The reported value is ignored because this `step` 4970 is already reported.\n  warnings.warn(\n/root/venv/lib/python3.9/site-packages/optuna/trial/_trial.py:462: UserWarning: The reported value is ignored because this `step` 4971 is already reported.\n  warnings.warn(\n/root/venv/lib/python3.9/site-packages/optuna/trial/_trial.py:462: UserWarning: The reported value is ignored because this `step` 4972 is already reported.\n  warnings.warn(\n/root/venv/lib/python3.9/site-packages/optuna/trial/_trial.py:462: UserWarning: The reported value is ignored because this `step` 4973 is already reported.\n  warnings.warn(\n/root/venv/lib/python3.9/site-packages/optuna/trial/_trial.py:462: UserWarning: The reported value is ignored because this `step` 4974 is already reported.\n  warnings.warn(\n/root/venv/lib/python3.9/site-packages/optuna/trial/_trial.py:462: UserWarning: The reported value is ignored because this `step` 4975 is already reported.\n  warnings.warn(\n/root/venv/lib/python3.9/site-packages/optuna/trial/_trial.py:462: UserWarning: The reported value is ignored because this `step` 4976 is already reported.\n  warnings.warn(\n/root/venv/lib/python3.9/site-packages/optuna/trial/_trial.py:462: UserWarning: The reported value is ignored because this `step` 4977 is already reported.\n  warnings.warn(\n/root/venv/lib/python3.9/site-packages/optuna/trial/_trial.py:462: UserWarning: The reported value is ignored because this `step` 4978 is already reported.\n  warnings.warn(\n/root/venv/lib/python3.9/site-packages/optuna/trial/_trial.py:462: UserWarning: The reported value is ignored because this `step` 4979 is already reported.\n  warnings.warn(\n/root/venv/lib/python3.9/site-packages/optuna/trial/_trial.py:462: UserWarning: The reported value is ignored because this `step` 4980 is already reported.\n  warnings.warn(\n/root/venv/lib/python3.9/site-packages/optuna/trial/_trial.py:462: UserWarning: The reported value is ignored because this `step` 4981 is already reported.\n  warnings.warn(\n/root/venv/lib/python3.9/site-packages/optuna/trial/_trial.py:462: UserWarning: The reported value is ignored because this `step` 4982 is already reported.\n  warnings.warn(\n/root/venv/lib/python3.9/site-packages/optuna/trial/_trial.py:462: UserWarning: The reported value is ignored because this `step` 4983 is already reported.\n  warnings.warn(\n/root/venv/lib/python3.9/site-packages/optuna/trial/_trial.py:462: UserWarning: The reported value is ignored because this `step` 4984 is already reported.\n  warnings.warn(\n/root/venv/lib/python3.9/site-packages/optuna/trial/_trial.py:462: UserWarning: The reported value is ignored because this `step` 4985 is already reported.\n  warnings.warn(\n/root/venv/lib/python3.9/site-packages/optuna/trial/_trial.py:462: UserWarning: The reported value is ignored because this `step` 4986 is already reported.\n  warnings.warn(\n/root/venv/lib/python3.9/site-packages/optuna/trial/_trial.py:462: UserWarning: The reported value is ignored because this `step` 4987 is already reported.\n  warnings.warn(\n/root/venv/lib/python3.9/site-packages/optuna/trial/_trial.py:462: UserWarning: The reported value is ignored because this `step` 4988 is already reported.\n  warnings.warn(\n/root/venv/lib/python3.9/site-packages/optuna/trial/_trial.py:462: UserWarning: The reported value is ignored because this `step` 4989 is already reported.\n  warnings.warn(\n/root/venv/lib/python3.9/site-packages/optuna/trial/_trial.py:462: UserWarning: The reported value is ignored because this `step` 4990 is already reported.\n  warnings.warn(\n/root/venv/lib/python3.9/site-packages/optuna/trial/_trial.py:462: UserWarning: The reported value is ignored because this `step` 4991 is already reported.\n  warnings.warn(\n/root/venv/lib/python3.9/site-packages/optuna/trial/_trial.py:462: UserWarning: The reported value is ignored because this `step` 4992 is already reported.\n  warnings.warn(\n/root/venv/lib/python3.9/site-packages/optuna/trial/_trial.py:462: UserWarning: The reported value is ignored because this `step` 4993 is already reported.\n  warnings.warn(\n/root/venv/lib/python3.9/site-packages/optuna/trial/_trial.py:462: UserWarning: The reported value is ignored because this `step` 4994 is already reported.\n  warnings.warn(\n/root/venv/lib/python3.9/site-packages/optuna/trial/_trial.py:462: UserWarning: The reported value is ignored because this `step` 4995 is already reported.\n  warnings.warn(\n/root/venv/lib/python3.9/site-packages/optuna/trial/_trial.py:462: UserWarning: The reported value is ignored because this `step` 4996 is already reported.\n  warnings.warn(\n/root/venv/lib/python3.9/site-packages/optuna/trial/_trial.py:462: UserWarning: The reported value is ignored because this `step` 4997 is already reported.\n  warnings.warn(\n/root/venv/lib/python3.9/site-packages/optuna/trial/_trial.py:462: UserWarning: The reported value is ignored because this `step` 4998 is already reported.\n  warnings.warn(\n/root/venv/lib/python3.9/site-packages/optuna/trial/_trial.py:462: UserWarning: The reported value is ignored because this `step` 4999 is already reported.\n  warnings.warn(\n/root/venv/lib/python3.9/site-packages/optuna/trial/_trial.py:462: UserWarning: The reported value is ignored because this `step` 5000 is already reported.\n  warnings.warn(\n/root/venv/lib/python3.9/site-packages/optuna/trial/_trial.py:462: UserWarning: The reported value is ignored because this `step` 5001 is already reported.\n  warnings.warn(\n/root/venv/lib/python3.9/site-packages/optuna/trial/_trial.py:462: UserWarning: The reported value is ignored because this `step` 5002 is already reported.\n  warnings.warn(\n/root/venv/lib/python3.9/site-packages/optuna/trial/_trial.py:462: UserWarning: The reported value is ignored because this `step` 5003 is already reported.\n  warnings.warn(\n/root/venv/lib/python3.9/site-packages/optuna/trial/_trial.py:462: UserWarning: The reported value is ignored because this `step` 5004 is already reported.\n  warnings.warn(\n/root/venv/lib/python3.9/site-packages/optuna/trial/_trial.py:462: UserWarning: The reported value is ignored because this `step` 5005 is already reported.\n  warnings.warn(\n/root/venv/lib/python3.9/site-packages/optuna/trial/_trial.py:462: UserWarning: The reported value is ignored because this `step` 5006 is already reported.\n  warnings.warn(\n/root/venv/lib/python3.9/site-packages/optuna/trial/_trial.py:462: UserWarning: The reported value is ignored because this `step` 5007 is already reported.\n  warnings.warn(\n/root/venv/lib/python3.9/site-packages/optuna/trial/_trial.py:462: UserWarning: The reported value is ignored because this `step` 5008 is already reported.\n  warnings.warn(\n/root/venv/lib/python3.9/site-packages/optuna/trial/_trial.py:462: UserWarning: The reported value is ignored because this `step` 5009 is already reported.\n  warnings.warn(\n/root/venv/lib/python3.9/site-packages/optuna/trial/_trial.py:462: UserWarning: The reported value is ignored because this `step` 5010 is already reported.\n  warnings.warn(\n/root/venv/lib/python3.9/site-packages/optuna/trial/_trial.py:462: UserWarning: The reported value is ignored because this `step` 5011 is already reported.\n  warnings.warn(\n/root/venv/lib/python3.9/site-packages/optuna/trial/_trial.py:462: UserWarning: The reported value is ignored because this `step` 5012 is already reported.\n  warnings.warn(\n/root/venv/lib/python3.9/site-packages/optuna/trial/_trial.py:462: UserWarning: The reported value is ignored because this `step` 5013 is already reported.\n  warnings.warn(\n/root/venv/lib/python3.9/site-packages/optuna/trial/_trial.py:462: UserWarning: The reported value is ignored because this `step` 5014 is already reported.\n  warnings.warn(\n/root/venv/lib/python3.9/site-packages/optuna/trial/_trial.py:462: UserWarning: The reported value is ignored because this `step` 5015 is already reported.\n  warnings.warn(\n/root/venv/lib/python3.9/site-packages/optuna/trial/_trial.py:462: UserWarning: The reported value is ignored because this `step` 5016 is already reported.\n  warnings.warn(\n/root/venv/lib/python3.9/site-packages/optuna/trial/_trial.py:462: UserWarning: The reported value is ignored because this `step` 5017 is already reported.\n  warnings.warn(\n/root/venv/lib/python3.9/site-packages/optuna/trial/_trial.py:462: UserWarning: The reported value is ignored because this `step` 5018 is already reported.\n  warnings.warn(\n/root/venv/lib/python3.9/site-packages/optuna/trial/_trial.py:462: UserWarning: The reported value is ignored because this `step` 5019 is already reported.\n  warnings.warn(\n/root/venv/lib/python3.9/site-packages/optuna/trial/_trial.py:462: UserWarning: The reported value is ignored because this `step` 5020 is already reported.\n  warnings.warn(\n/root/venv/lib/python3.9/site-packages/optuna/trial/_trial.py:462: UserWarning: The reported value is ignored because this `step` 5021 is already reported.\n  warnings.warn(\n/root/venv/lib/python3.9/site-packages/optuna/trial/_trial.py:462: UserWarning: The reported value is ignored because this `step` 5022 is already reported.\n  warnings.warn(\n/root/venv/lib/python3.9/site-packages/optuna/trial/_trial.py:462: UserWarning: The reported value is ignored because this `step` 5023 is already reported.\n  warnings.warn(\n/root/venv/lib/python3.9/site-packages/optuna/trial/_trial.py:462: UserWarning: The reported value is ignored because this `step` 5024 is already reported.\n  warnings.warn(\n/root/venv/lib/python3.9/site-packages/optuna/trial/_trial.py:462: UserWarning: The reported value is ignored because this `step` 5025 is already reported.\n  warnings.warn(\n/root/venv/lib/python3.9/site-packages/optuna/trial/_trial.py:462: UserWarning: The reported value is ignored because this `step` 5026 is already reported.\n  warnings.warn(\n/root/venv/lib/python3.9/site-packages/optuna/trial/_trial.py:462: UserWarning: The reported value is ignored because this `step` 5027 is already reported.\n  warnings.warn(\n/root/venv/lib/python3.9/site-packages/optuna/trial/_trial.py:462: UserWarning: The reported value is ignored because this `step` 5028 is already reported.\n  warnings.warn(\n/root/venv/lib/python3.9/site-packages/optuna/trial/_trial.py:462: UserWarning: The reported value is ignored because this `step` 5029 is already reported.\n  warnings.warn(\n/root/venv/lib/python3.9/site-packages/optuna/trial/_trial.py:462: UserWarning: The reported value is ignored because this `step` 5030 is already reported.\n  warnings.warn(\n/root/venv/lib/python3.9/site-packages/optuna/trial/_trial.py:462: UserWarning: The reported value is ignored because this `step` 5031 is already reported.\n  warnings.warn(\n/root/venv/lib/python3.9/site-packages/optuna/trial/_trial.py:462: UserWarning: The reported value is ignored because this `step` 5032 is already reported.\n  warnings.warn(\n/root/venv/lib/python3.9/site-packages/optuna/trial/_trial.py:462: UserWarning: The reported value is ignored because this `step` 5033 is already reported.\n  warnings.warn(\n/root/venv/lib/python3.9/site-packages/optuna/trial/_trial.py:462: UserWarning: The reported value is ignored because this `step` 5034 is already reported.\n  warnings.warn(\n/root/venv/lib/python3.9/site-packages/optuna/trial/_trial.py:462: UserWarning: The reported value is ignored because this `step` 5035 is already reported.\n  warnings.warn(\n/root/venv/lib/python3.9/site-packages/optuna/trial/_trial.py:462: UserWarning: The reported value is ignored because this `step` 5036 is already reported.\n  warnings.warn(\n/root/venv/lib/python3.9/site-packages/optuna/trial/_trial.py:462: UserWarning: The reported value is ignored because this `step` 5037 is already reported.\n  warnings.warn(\n/root/venv/lib/python3.9/site-packages/optuna/trial/_trial.py:462: UserWarning: The reported value is ignored because this `step` 5038 is already reported.\n  warnings.warn(\n/root/venv/lib/python3.9/site-packages/optuna/trial/_trial.py:462: UserWarning: The reported value is ignored because this `step` 5039 is already reported.\n  warnings.warn(\n/root/venv/lib/python3.9/site-packages/optuna/trial/_trial.py:462: UserWarning: The reported value is ignored because this `step` 5040 is already reported.\n  warnings.warn(\n/root/venv/lib/python3.9/site-packages/optuna/trial/_trial.py:462: UserWarning: The reported value is ignored because this `step` 5041 is already reported.\n  warnings.warn(\n/root/venv/lib/python3.9/site-packages/optuna/trial/_trial.py:462: UserWarning: The reported value is ignored because this `step` 5042 is already reported.\n  warnings.warn(\n/root/venv/lib/python3.9/site-packages/optuna/trial/_trial.py:462: UserWarning: The reported value is ignored because this `step` 5043 is already reported.\n  warnings.warn(\n/root/venv/lib/python3.9/site-packages/optuna/trial/_trial.py:462: UserWarning: The reported value is ignored because this `step` 5044 is already reported.\n  warnings.warn(\n/root/venv/lib/python3.9/site-packages/optuna/trial/_trial.py:462: UserWarning: The reported value is ignored because this `step` 5045 is already reported.\n  warnings.warn(\n/root/venv/lib/python3.9/site-packages/optuna/trial/_trial.py:462: UserWarning: The reported value is ignored because this `step` 5046 is already reported.\n  warnings.warn(\n/root/venv/lib/python3.9/site-packages/optuna/trial/_trial.py:462: UserWarning: The reported value is ignored because this `step` 5047 is already reported.\n  warnings.warn(\n/root/venv/lib/python3.9/site-packages/optuna/trial/_trial.py:462: UserWarning: The reported value is ignored because this `step` 5048 is already reported.\n  warnings.warn(\n/root/venv/lib/python3.9/site-packages/optuna/trial/_trial.py:462: UserWarning: The reported value is ignored because this `step` 5049 is already reported.\n  warnings.warn(\n/root/venv/lib/python3.9/site-packages/optuna/trial/_trial.py:462: UserWarning: The reported value is ignored because this `step` 5050 is already reported.\n  warnings.warn(\n/root/venv/lib/python3.9/site-packages/optuna/trial/_trial.py:462: UserWarning: The reported value is ignored because this `step` 5051 is already reported.\n  warnings.warn(\n/root/venv/lib/python3.9/site-packages/optuna/trial/_trial.py:462: UserWarning: The reported value is ignored because this `step` 5052 is already reported.\n  warnings.warn(\n/root/venv/lib/python3.9/site-packages/optuna/trial/_trial.py:462: UserWarning: The reported value is ignored because this `step` 5053 is already reported.\n  warnings.warn(\n/root/venv/lib/python3.9/site-packages/optuna/trial/_trial.py:462: UserWarning: The reported value is ignored because this `step` 5054 is already reported.\n  warnings.warn(\n/root/venv/lib/python3.9/site-packages/optuna/trial/_trial.py:462: UserWarning: The reported value is ignored because this `step` 5055 is already reported.\n  warnings.warn(\n/root/venv/lib/python3.9/site-packages/optuna/trial/_trial.py:462: UserWarning: The reported value is ignored because this `step` 5056 is already reported.\n  warnings.warn(\n/root/venv/lib/python3.9/site-packages/optuna/trial/_trial.py:462: UserWarning: The reported value is ignored because this `step` 5057 is already reported.\n  warnings.warn(\n/root/venv/lib/python3.9/site-packages/optuna/trial/_trial.py:462: UserWarning: The reported value is ignored because this `step` 5058 is already reported.\n  warnings.warn(\n/root/venv/lib/python3.9/site-packages/optuna/trial/_trial.py:462: UserWarning: The reported value is ignored because this `step` 5059 is already reported.\n  warnings.warn(\n/root/venv/lib/python3.9/site-packages/optuna/trial/_trial.py:462: UserWarning: The reported value is ignored because this `step` 5060 is already reported.\n  warnings.warn(\n/root/venv/lib/python3.9/site-packages/optuna/trial/_trial.py:462: UserWarning: The reported value is ignored because this `step` 5061 is already reported.\n  warnings.warn(\n/root/venv/lib/python3.9/site-packages/optuna/trial/_trial.py:462: UserWarning: The reported value is ignored because this `step` 5062 is already reported.\n  warnings.warn(\n/root/venv/lib/python3.9/site-packages/optuna/trial/_trial.py:462: UserWarning: The reported value is ignored because this `step` 5063 is already reported.\n  warnings.warn(\n/root/venv/lib/python3.9/site-packages/optuna/trial/_trial.py:462: UserWarning: The reported value is ignored because this `step` 5064 is already reported.\n  warnings.warn(\n/root/venv/lib/python3.9/site-packages/optuna/trial/_trial.py:462: UserWarning: The reported value is ignored because this `step` 5065 is already reported.\n  warnings.warn(\n/root/venv/lib/python3.9/site-packages/optuna/trial/_trial.py:462: UserWarning: The reported value is ignored because this `step` 5066 is already reported.\n  warnings.warn(\n/root/venv/lib/python3.9/site-packages/optuna/trial/_trial.py:462: UserWarning: The reported value is ignored because this `step` 5067 is already reported.\n  warnings.warn(\n/root/venv/lib/python3.9/site-packages/optuna/trial/_trial.py:462: UserWarning: The reported value is ignored because this `step` 5068 is already reported.\n  warnings.warn(\n/root/venv/lib/python3.9/site-packages/optuna/trial/_trial.py:462: UserWarning: The reported value is ignored because this `step` 5069 is already reported.\n  warnings.warn(\n/root/venv/lib/python3.9/site-packages/optuna/trial/_trial.py:462: UserWarning: The reported value is ignored because this `step` 5070 is already reported.\n  warnings.warn(\n/root/venv/lib/python3.9/site-packages/optuna/trial/_trial.py:462: UserWarning: The reported value is ignored because this `step` 5071 is already reported.\n  warnings.warn(\n/root/venv/lib/python3.9/site-packages/optuna/trial/_trial.py:462: UserWarning: The reported value is ignored because this `step` 5072 is already reported.\n  warnings.warn(\n/root/venv/lib/python3.9/site-packages/optuna/trial/_trial.py:462: UserWarning: The reported value is ignored because this `step` 5073 is already reported.\n  warnings.warn(\n/root/venv/lib/python3.9/site-packages/optuna/trial/_trial.py:462: UserWarning: The reported value is ignored because this `step` 5074 is already reported.\n  warnings.warn(\n/root/venv/lib/python3.9/site-packages/optuna/trial/_trial.py:462: UserWarning: The reported value is ignored because this `step` 5075 is already reported.\n  warnings.warn(\n/root/venv/lib/python3.9/site-packages/optuna/trial/_trial.py:462: UserWarning: The reported value is ignored because this `step` 5076 is already reported.\n  warnings.warn(\n/root/venv/lib/python3.9/site-packages/optuna/trial/_trial.py:462: UserWarning: The reported value is ignored because this `step` 5077 is already reported.\n  warnings.warn(\n/root/venv/lib/python3.9/site-packages/optuna/trial/_trial.py:462: UserWarning: The reported value is ignored because this `step` 5078 is already reported.\n  warnings.warn(\n/root/venv/lib/python3.9/site-packages/optuna/trial/_trial.py:462: UserWarning: The reported value is ignored because this `step` 5079 is already reported.\n  warnings.warn(\n/root/venv/lib/python3.9/site-packages/optuna/trial/_trial.py:462: UserWarning: The reported value is ignored because this `step` 5080 is already reported.\n  warnings.warn(\n/root/venv/lib/python3.9/site-packages/optuna/trial/_trial.py:462: UserWarning: The reported value is ignored because this `step` 5081 is already reported.\n  warnings.warn(\n/root/venv/lib/python3.9/site-packages/optuna/trial/_trial.py:462: UserWarning: The reported value is ignored because this `step` 5082 is already reported.\n  warnings.warn(\n/root/venv/lib/python3.9/site-packages/optuna/trial/_trial.py:462: UserWarning: The reported value is ignored because this `step` 5083 is already reported.\n  warnings.warn(\n/root/venv/lib/python3.9/site-packages/optuna/trial/_trial.py:462: UserWarning: The reported value is ignored because this `step` 5084 is already reported.\n  warnings.warn(\n/root/venv/lib/python3.9/site-packages/optuna/trial/_trial.py:462: UserWarning: The reported value is ignored because this `step` 5085 is already reported.\n  warnings.warn(\n/root/venv/lib/python3.9/site-packages/optuna/trial/_trial.py:462: UserWarning: The reported value is ignored because this `step` 5086 is already reported.\n  warnings.warn(\n/root/venv/lib/python3.9/site-packages/optuna/trial/_trial.py:462: UserWarning: The reported value is ignored because this `step` 5087 is already reported.\n  warnings.warn(\n/root/venv/lib/python3.9/site-packages/optuna/trial/_trial.py:462: UserWarning: The reported value is ignored because this `step` 5088 is already reported.\n  warnings.warn(\n/root/venv/lib/python3.9/site-packages/optuna/trial/_trial.py:462: UserWarning: The reported value is ignored because this `step` 5089 is already reported.\n  warnings.warn(\n/root/venv/lib/python3.9/site-packages/optuna/trial/_trial.py:462: UserWarning: The reported value is ignored because this `step` 5090 is already reported.\n  warnings.warn(\n/root/venv/lib/python3.9/site-packages/optuna/trial/_trial.py:462: UserWarning: The reported value is ignored because this `step` 5091 is already reported.\n  warnings.warn(\n/root/venv/lib/python3.9/site-packages/optuna/trial/_trial.py:462: UserWarning: The reported value is ignored because this `step` 5092 is already reported.\n  warnings.warn(\n/root/venv/lib/python3.9/site-packages/optuna/trial/_trial.py:462: UserWarning: The reported value is ignored because this `step` 5093 is already reported.\n  warnings.warn(\n/root/venv/lib/python3.9/site-packages/optuna/trial/_trial.py:462: UserWarning: The reported value is ignored because this `step` 5094 is already reported.\n  warnings.warn(\n/root/venv/lib/python3.9/site-packages/optuna/trial/_trial.py:462: UserWarning: The reported value is ignored because this `step` 5095 is already reported.\n  warnings.warn(\n/root/venv/lib/python3.9/site-packages/optuna/trial/_trial.py:462: UserWarning: The reported value is ignored because this `step` 5096 is already reported.\n  warnings.warn(\n/root/venv/lib/python3.9/site-packages/optuna/trial/_trial.py:462: UserWarning: The reported value is ignored because this `step` 5097 is already reported.\n  warnings.warn(\n/root/venv/lib/python3.9/site-packages/optuna/trial/_trial.py:462: UserWarning: The reported value is ignored because this `step` 5098 is already reported.\n  warnings.warn(\n/root/venv/lib/python3.9/site-packages/optuna/trial/_trial.py:462: UserWarning: The reported value is ignored because this `step` 5099 is already reported.\n  warnings.warn(\n/root/venv/lib/python3.9/site-packages/optuna/trial/_trial.py:462: UserWarning: The reported value is ignored because this `step` 5100 is already reported.\n  warnings.warn(\n/root/venv/lib/python3.9/site-packages/optuna/trial/_trial.py:462: UserWarning: The reported value is ignored because this `step` 5101 is already reported.\n  warnings.warn(\n/root/venv/lib/python3.9/site-packages/optuna/trial/_trial.py:462: UserWarning: The reported value is ignored because this `step` 5102 is already reported.\n  warnings.warn(\n/root/venv/lib/python3.9/site-packages/optuna/trial/_trial.py:462: UserWarning: The reported value is ignored because this `step` 5103 is already reported.\n  warnings.warn(\n/root/venv/lib/python3.9/site-packages/optuna/trial/_trial.py:462: UserWarning: The reported value is ignored because this `step` 5104 is already reported.\n  warnings.warn(\n/root/venv/lib/python3.9/site-packages/optuna/trial/_trial.py:462: UserWarning: The reported value is ignored because this `step` 5105 is already reported.\n  warnings.warn(\n/root/venv/lib/python3.9/site-packages/optuna/trial/_trial.py:462: UserWarning: The reported value is ignored because this `step` 5106 is already reported.\n  warnings.warn(\n/root/venv/lib/python3.9/site-packages/optuna/trial/_trial.py:462: UserWarning: The reported value is ignored because this `step` 5107 is already reported.\n  warnings.warn(\n/root/venv/lib/python3.9/site-packages/optuna/trial/_trial.py:462: UserWarning: The reported value is ignored because this `step` 5108 is already reported.\n  warnings.warn(\n/root/venv/lib/python3.9/site-packages/optuna/trial/_trial.py:462: UserWarning: The reported value is ignored because this `step` 5109 is already reported.\n  warnings.warn(\n/root/venv/lib/python3.9/site-packages/optuna/trial/_trial.py:462: UserWarning: The reported value is ignored because this `step` 5110 is already reported.\n  warnings.warn(\n/root/venv/lib/python3.9/site-packages/optuna/trial/_trial.py:462: UserWarning: The reported value is ignored because this `step` 5111 is already reported.\n  warnings.warn(\n/root/venv/lib/python3.9/site-packages/optuna/trial/_trial.py:462: UserWarning: The reported value is ignored because this `step` 5112 is already reported.\n  warnings.warn(\n/root/venv/lib/python3.9/site-packages/optuna/trial/_trial.py:462: UserWarning: The reported value is ignored because this `step` 5113 is already reported.\n  warnings.warn(\n/root/venv/lib/python3.9/site-packages/optuna/trial/_trial.py:462: UserWarning: The reported value is ignored because this `step` 5114 is already reported.\n  warnings.warn(\n/root/venv/lib/python3.9/site-packages/optuna/trial/_trial.py:462: UserWarning: The reported value is ignored because this `step` 5115 is already reported.\n  warnings.warn(\n/root/venv/lib/python3.9/site-packages/optuna/trial/_trial.py:462: UserWarning: The reported value is ignored because this `step` 5116 is already reported.\n  warnings.warn(\n/root/venv/lib/python3.9/site-packages/optuna/trial/_trial.py:462: UserWarning: The reported value is ignored because this `step` 5117 is already reported.\n  warnings.warn(\n/root/venv/lib/python3.9/site-packages/optuna/trial/_trial.py:462: UserWarning: The reported value is ignored because this `step` 5118 is already reported.\n  warnings.warn(\n/root/venv/lib/python3.9/site-packages/optuna/trial/_trial.py:462: UserWarning: The reported value is ignored because this `step` 5119 is already reported.\n  warnings.warn(\n/root/venv/lib/python3.9/site-packages/optuna/trial/_trial.py:462: UserWarning: The reported value is ignored because this `step` 5120 is already reported.\n  warnings.warn(\n/root/venv/lib/python3.9/site-packages/optuna/trial/_trial.py:462: UserWarning: The reported value is ignored because this `step` 5121 is already reported.\n  warnings.warn(\n/root/venv/lib/python3.9/site-packages/optuna/trial/_trial.py:462: UserWarning: The reported value is ignored because this `step` 5122 is already reported.\n  warnings.warn(\n/root/venv/lib/python3.9/site-packages/optuna/trial/_trial.py:462: UserWarning: The reported value is ignored because this `step` 5123 is already reported.\n  warnings.warn(\n/root/venv/lib/python3.9/site-packages/optuna/trial/_trial.py:462: UserWarning: The reported value is ignored because this `step` 5124 is already reported.\n  warnings.warn(\n/root/venv/lib/python3.9/site-packages/optuna/trial/_trial.py:462: UserWarning: The reported value is ignored because this `step` 5125 is already reported.\n  warnings.warn(\n/root/venv/lib/python3.9/site-packages/optuna/trial/_trial.py:462: UserWarning: The reported value is ignored because this `step` 5126 is already reported.\n  warnings.warn(\n/root/venv/lib/python3.9/site-packages/optuna/trial/_trial.py:462: UserWarning: The reported value is ignored because this `step` 5127 is already reported.\n  warnings.warn(\n/root/venv/lib/python3.9/site-packages/optuna/trial/_trial.py:462: UserWarning: The reported value is ignored because this `step` 5128 is already reported.\n  warnings.warn(\n/root/venv/lib/python3.9/site-packages/optuna/trial/_trial.py:462: UserWarning: The reported value is ignored because this `step` 5129 is already reported.\n  warnings.warn(\n/root/venv/lib/python3.9/site-packages/optuna/trial/_trial.py:462: UserWarning: The reported value is ignored because this `step` 5130 is already reported.\n  warnings.warn(\n/root/venv/lib/python3.9/site-packages/optuna/trial/_trial.py:462: UserWarning: The reported value is ignored because this `step` 5131 is already reported.\n  warnings.warn(\n/root/venv/lib/python3.9/site-packages/optuna/trial/_trial.py:462: UserWarning: The reported value is ignored because this `step` 5132 is already reported.\n  warnings.warn(\n/root/venv/lib/python3.9/site-packages/optuna/trial/_trial.py:462: UserWarning: The reported value is ignored because this `step` 5133 is already reported.\n  warnings.warn(\n/root/venv/lib/python3.9/site-packages/optuna/trial/_trial.py:462: UserWarning: The reported value is ignored because this `step` 5134 is already reported.\n  warnings.warn(\n/root/venv/lib/python3.9/site-packages/optuna/trial/_trial.py:462: UserWarning: The reported value is ignored because this `step` 5135 is already reported.\n  warnings.warn(\n/root/venv/lib/python3.9/site-packages/optuna/trial/_trial.py:462: UserWarning: The reported value is ignored because this `step` 5136 is already reported.\n  warnings.warn(\n/root/venv/lib/python3.9/site-packages/optuna/trial/_trial.py:462: UserWarning: The reported value is ignored because this `step` 5137 is already reported.\n  warnings.warn(\n/root/venv/lib/python3.9/site-packages/optuna/trial/_trial.py:462: UserWarning: The reported value is ignored because this `step` 5138 is already reported.\n  warnings.warn(\n/root/venv/lib/python3.9/site-packages/optuna/trial/_trial.py:462: UserWarning: The reported value is ignored because this `step` 5139 is already reported.\n  warnings.warn(\n/root/venv/lib/python3.9/site-packages/optuna/trial/_trial.py:462: UserWarning: The reported value is ignored because this `step` 5140 is already reported.\n  warnings.warn(\n/root/venv/lib/python3.9/site-packages/optuna/trial/_trial.py:462: UserWarning: The reported value is ignored because this `step` 5141 is already reported.\n  warnings.warn(\n/root/venv/lib/python3.9/site-packages/optuna/trial/_trial.py:462: UserWarning: The reported value is ignored because this `step` 5142 is already reported.\n  warnings.warn(\n/root/venv/lib/python3.9/site-packages/optuna/trial/_trial.py:462: UserWarning: The reported value is ignored because this `step` 5143 is already reported.\n  warnings.warn(\n/root/venv/lib/python3.9/site-packages/optuna/trial/_trial.py:462: UserWarning: The reported value is ignored because this `step` 5144 is already reported.\n  warnings.warn(\n/root/venv/lib/python3.9/site-packages/optuna/trial/_trial.py:462: UserWarning: The reported value is ignored because this `step` 5145 is already reported.\n  warnings.warn(\n/root/venv/lib/python3.9/site-packages/optuna/trial/_trial.py:462: UserWarning: The reported value is ignored because this `step` 5146 is already reported.\n  warnings.warn(\n/root/venv/lib/python3.9/site-packages/optuna/trial/_trial.py:462: UserWarning: The reported value is ignored because this `step` 5147 is already reported.\n  warnings.warn(\n/root/venv/lib/python3.9/site-packages/optuna/trial/_trial.py:462: UserWarning: The reported value is ignored because this `step` 5148 is already reported.\n  warnings.warn(\n/root/venv/lib/python3.9/site-packages/optuna/trial/_trial.py:462: UserWarning: The reported value is ignored because this `step` 5149 is already reported.\n  warnings.warn(\n/root/venv/lib/python3.9/site-packages/optuna/trial/_trial.py:462: UserWarning: The reported value is ignored because this `step` 5150 is already reported.\n  warnings.warn(\n/root/venv/lib/python3.9/site-packages/optuna/trial/_trial.py:462: UserWarning: The reported value is ignored because this `step` 5151 is already reported.\n  warnings.warn(\n/root/venv/lib/python3.9/site-packages/optuna/trial/_trial.py:462: UserWarning: The reported value is ignored because this `step` 5152 is already reported.\n  warnings.warn(\n/root/venv/lib/python3.9/site-packages/optuna/trial/_trial.py:462: UserWarning: The reported value is ignored because this `step` 5153 is already reported.\n  warnings.warn(\n/root/venv/lib/python3.9/site-packages/optuna/trial/_trial.py:462: UserWarning: The reported value is ignored because this `step` 5154 is already reported.\n  warnings.warn(\n/root/venv/lib/python3.9/site-packages/optuna/trial/_trial.py:462: UserWarning: The reported value is ignored because this `step` 5155 is already reported.\n  warnings.warn(\n/root/venv/lib/python3.9/site-packages/optuna/trial/_trial.py:462: UserWarning: The reported value is ignored because this `step` 5156 is already reported.\n  warnings.warn(\n/root/venv/lib/python3.9/site-packages/optuna/trial/_trial.py:462: UserWarning: The reported value is ignored because this `step` 5157 is already reported.\n  warnings.warn(\n/root/venv/lib/python3.9/site-packages/optuna/trial/_trial.py:462: UserWarning: The reported value is ignored because this `step` 5158 is already reported.\n  warnings.warn(\n/root/venv/lib/python3.9/site-packages/optuna/trial/_trial.py:462: UserWarning: The reported value is ignored because this `step` 5159 is already reported.\n  warnings.warn(\n/root/venv/lib/python3.9/site-packages/optuna/trial/_trial.py:462: UserWarning: The reported value is ignored because this `step` 5160 is already reported.\n  warnings.warn(\n/root/venv/lib/python3.9/site-packages/optuna/trial/_trial.py:462: UserWarning: The reported value is ignored because this `step` 5161 is already reported.\n  warnings.warn(\n/root/venv/lib/python3.9/site-packages/optuna/trial/_trial.py:462: UserWarning: The reported value is ignored because this `step` 5162 is already reported.\n  warnings.warn(\n/root/venv/lib/python3.9/site-packages/optuna/trial/_trial.py:462: UserWarning: The reported value is ignored because this `step` 5163 is already reported.\n  warnings.warn(\n/root/venv/lib/python3.9/site-packages/optuna/trial/_trial.py:462: UserWarning: The reported value is ignored because this `step` 5164 is already reported.\n  warnings.warn(\n/root/venv/lib/python3.9/site-packages/optuna/trial/_trial.py:462: UserWarning: The reported value is ignored because this `step` 5165 is already reported.\n  warnings.warn(\n/root/venv/lib/python3.9/site-packages/optuna/trial/_trial.py:462: UserWarning: The reported value is ignored because this `step` 5166 is already reported.\n  warnings.warn(\n/root/venv/lib/python3.9/site-packages/optuna/trial/_trial.py:462: UserWarning: The reported value is ignored because this `step` 5167 is already reported.\n  warnings.warn(\n/root/venv/lib/python3.9/site-packages/optuna/trial/_trial.py:462: UserWarning: The reported value is ignored because this `step` 5168 is already reported.\n  warnings.warn(\n/root/venv/lib/python3.9/site-packages/optuna/trial/_trial.py:462: UserWarning: The reported value is ignored because this `step` 5169 is already reported.\n  warnings.warn(\n/root/venv/lib/python3.9/site-packages/optuna/trial/_trial.py:462: UserWarning: The reported value is ignored because this `step` 5170 is already reported.\n  warnings.warn(\n/root/venv/lib/python3.9/site-packages/optuna/trial/_trial.py:462: UserWarning: The reported value is ignored because this `step` 5171 is already reported.\n  warnings.warn(\n/root/venv/lib/python3.9/site-packages/optuna/trial/_trial.py:462: UserWarning: The reported value is ignored because this `step` 5172 is already reported.\n  warnings.warn(\n/root/venv/lib/python3.9/site-packages/optuna/trial/_trial.py:462: UserWarning: The reported value is ignored because this `step` 5173 is already reported.\n  warnings.warn(\n/root/venv/lib/python3.9/site-packages/optuna/trial/_trial.py:462: UserWarning: The reported value is ignored because this `step` 5174 is already reported.\n  warnings.warn(\n/root/venv/lib/python3.9/site-packages/optuna/trial/_trial.py:462: UserWarning: The reported value is ignored because this `step` 5175 is already reported.\n  warnings.warn(\n/root/venv/lib/python3.9/site-packages/optuna/trial/_trial.py:462: UserWarning: The reported value is ignored because this `step` 5176 is already reported.\n  warnings.warn(\n/root/venv/lib/python3.9/site-packages/optuna/trial/_trial.py:462: UserWarning: The reported value is ignored because this `step` 5177 is already reported.\n  warnings.warn(\n/root/venv/lib/python3.9/site-packages/optuna/trial/_trial.py:462: UserWarning: The reported value is ignored because this `step` 5178 is already reported.\n  warnings.warn(\n/root/venv/lib/python3.9/site-packages/optuna/trial/_trial.py:462: UserWarning: The reported value is ignored because this `step` 5179 is already reported.\n  warnings.warn(\n/root/venv/lib/python3.9/site-packages/optuna/trial/_trial.py:462: UserWarning: The reported value is ignored because this `step` 5180 is already reported.\n  warnings.warn(\n/root/venv/lib/python3.9/site-packages/optuna/trial/_trial.py:462: UserWarning: The reported value is ignored because this `step` 5181 is already reported.\n  warnings.warn(\n/root/venv/lib/python3.9/site-packages/optuna/trial/_trial.py:462: UserWarning: The reported value is ignored because this `step` 5182 is already reported.\n  warnings.warn(\n/root/venv/lib/python3.9/site-packages/optuna/trial/_trial.py:462: UserWarning: The reported value is ignored because this `step` 5183 is already reported.\n  warnings.warn(\n/root/venv/lib/python3.9/site-packages/optuna/trial/_trial.py:462: UserWarning: The reported value is ignored because this `step` 5184 is already reported.\n  warnings.warn(\n/root/venv/lib/python3.9/site-packages/optuna/trial/_trial.py:462: UserWarning: The reported value is ignored because this `step` 5185 is already reported.\n  warnings.warn(\n/root/venv/lib/python3.9/site-packages/optuna/trial/_trial.py:462: UserWarning: The reported value is ignored because this `step` 5186 is already reported.\n  warnings.warn(\n/root/venv/lib/python3.9/site-packages/optuna/trial/_trial.py:462: UserWarning: The reported value is ignored because this `step` 5187 is already reported.\n  warnings.warn(\n/root/venv/lib/python3.9/site-packages/optuna/trial/_trial.py:462: UserWarning: The reported value is ignored because this `step` 5188 is already reported.\n  warnings.warn(\n/root/venv/lib/python3.9/site-packages/optuna/trial/_trial.py:462: UserWarning: The reported value is ignored because this `step` 5189 is already reported.\n  warnings.warn(\n/root/venv/lib/python3.9/site-packages/optuna/trial/_trial.py:462: UserWarning: The reported value is ignored because this `step` 5190 is already reported.\n  warnings.warn(\n/root/venv/lib/python3.9/site-packages/optuna/trial/_trial.py:462: UserWarning: The reported value is ignored because this `step` 5191 is already reported.\n  warnings.warn(\n/root/venv/lib/python3.9/site-packages/optuna/trial/_trial.py:462: UserWarning: The reported value is ignored because this `step` 5192 is already reported.\n  warnings.warn(\n/root/venv/lib/python3.9/site-packages/optuna/trial/_trial.py:462: UserWarning: The reported value is ignored because this `step` 5193 is already reported.\n  warnings.warn(\n/root/venv/lib/python3.9/site-packages/optuna/trial/_trial.py:462: UserWarning: The reported value is ignored because this `step` 5194 is already reported.\n  warnings.warn(\n/root/venv/lib/python3.9/site-packages/optuna/trial/_trial.py:462: UserWarning: The reported value is ignored because this `step` 5195 is already reported.\n  warnings.warn(\n/root/venv/lib/python3.9/site-packages/optuna/trial/_trial.py:462: UserWarning: The reported value is ignored because this `step` 5196 is already reported.\n  warnings.warn(\n/root/venv/lib/python3.9/site-packages/optuna/trial/_trial.py:462: UserWarning: The reported value is ignored because this `step` 5197 is already reported.\n  warnings.warn(\n/root/venv/lib/python3.9/site-packages/optuna/trial/_trial.py:462: UserWarning: The reported value is ignored because this `step` 5198 is already reported.\n  warnings.warn(\n/root/venv/lib/python3.9/site-packages/optuna/trial/_trial.py:462: UserWarning: The reported value is ignored because this `step` 5199 is already reported.\n  warnings.warn(\n/root/venv/lib/python3.9/site-packages/optuna/trial/_trial.py:462: UserWarning: The reported value is ignored because this `step` 5200 is already reported.\n  warnings.warn(\n/root/venv/lib/python3.9/site-packages/optuna/trial/_trial.py:462: UserWarning: The reported value is ignored because this `step` 5201 is already reported.\n  warnings.warn(\n/root/venv/lib/python3.9/site-packages/optuna/trial/_trial.py:462: UserWarning: The reported value is ignored because this `step` 5202 is already reported.\n  warnings.warn(\n/root/venv/lib/python3.9/site-packages/optuna/trial/_trial.py:462: UserWarning: The reported value is ignored because this `step` 5203 is already reported.\n  warnings.warn(\n/root/venv/lib/python3.9/site-packages/optuna/trial/_trial.py:462: UserWarning: The reported value is ignored because this `step` 5204 is already reported.\n  warnings.warn(\n/root/venv/lib/python3.9/site-packages/optuna/trial/_trial.py:462: UserWarning: The reported value is ignored because this `step` 5205 is already reported.\n  warnings.warn(\n/root/venv/lib/python3.9/site-packages/optuna/trial/_trial.py:462: UserWarning: The reported value is ignored because this `step` 5206 is already reported.\n  warnings.warn(\n/root/venv/lib/python3.9/site-packages/optuna/trial/_trial.py:462: UserWarning: The reported value is ignored because this `step` 5207 is already reported.\n  warnings.warn(\n/root/venv/lib/python3.9/site-packages/optuna/trial/_trial.py:462: UserWarning: The reported value is ignored because this `step` 5208 is already reported.\n  warnings.warn(\n/root/venv/lib/python3.9/site-packages/optuna/trial/_trial.py:462: UserWarning: The reported value is ignored because this `step` 5209 is already reported.\n  warnings.warn(\n/root/venv/lib/python3.9/site-packages/optuna/trial/_trial.py:462: UserWarning: The reported value is ignored because this `step` 5210 is already reported.\n  warnings.warn(\n/root/venv/lib/python3.9/site-packages/optuna/trial/_trial.py:462: UserWarning: The reported value is ignored because this `step` 5211 is already reported.\n  warnings.warn(\n/root/venv/lib/python3.9/site-packages/optuna/trial/_trial.py:462: UserWarning: The reported value is ignored because this `step` 5212 is already reported.\n  warnings.warn(\n/root/venv/lib/python3.9/site-packages/optuna/trial/_trial.py:462: UserWarning: The reported value is ignored because this `step` 5213 is already reported.\n  warnings.warn(\n/root/venv/lib/python3.9/site-packages/optuna/trial/_trial.py:462: UserWarning: The reported value is ignored because this `step` 5214 is already reported.\n  warnings.warn(\n/root/venv/lib/python3.9/site-packages/optuna/trial/_trial.py:462: UserWarning: The reported value is ignored because this `step` 5215 is already reported.\n  warnings.warn(\n/root/venv/lib/python3.9/site-packages/optuna/trial/_trial.py:462: UserWarning: The reported value is ignored because this `step` 5216 is already reported.\n  warnings.warn(\n/root/venv/lib/python3.9/site-packages/optuna/trial/_trial.py:462: UserWarning: The reported value is ignored because this `step` 5217 is already reported.\n  warnings.warn(\n/root/venv/lib/python3.9/site-packages/optuna/trial/_trial.py:462: UserWarning: The reported value is ignored because this `step` 5218 is already reported.\n  warnings.warn(\n/root/venv/lib/python3.9/site-packages/optuna/trial/_trial.py:462: UserWarning: The reported value is ignored because this `step` 5219 is already reported.\n  warnings.warn(\n/root/venv/lib/python3.9/site-packages/optuna/trial/_trial.py:462: UserWarning: The reported value is ignored because this `step` 5220 is already reported.\n  warnings.warn(\n/root/venv/lib/python3.9/site-packages/optuna/trial/_trial.py:462: UserWarning: The reported value is ignored because this `step` 5221 is already reported.\n  warnings.warn(\n/root/venv/lib/python3.9/site-packages/optuna/trial/_trial.py:462: UserWarning: The reported value is ignored because this `step` 5222 is already reported.\n  warnings.warn(\n/root/venv/lib/python3.9/site-packages/optuna/trial/_trial.py:462: UserWarning: The reported value is ignored because this `step` 5223 is already reported.\n  warnings.warn(\n/root/venv/lib/python3.9/site-packages/optuna/trial/_trial.py:462: UserWarning: The reported value is ignored because this `step` 5224 is already reported.\n  warnings.warn(\n/root/venv/lib/python3.9/site-packages/optuna/trial/_trial.py:462: UserWarning: The reported value is ignored because this `step` 5225 is already reported.\n  warnings.warn(\n/root/venv/lib/python3.9/site-packages/optuna/trial/_trial.py:462: UserWarning: The reported value is ignored because this `step` 5226 is already reported.\n  warnings.warn(\n/root/venv/lib/python3.9/site-packages/optuna/trial/_trial.py:462: UserWarning: The reported value is ignored because this `step` 5227 is already reported.\n  warnings.warn(\n/root/venv/lib/python3.9/site-packages/optuna/trial/_trial.py:462: UserWarning: The reported value is ignored because this `step` 5228 is already reported.\n  warnings.warn(\n/root/venv/lib/python3.9/site-packages/optuna/trial/_trial.py:462: UserWarning: The reported value is ignored because this `step` 5229 is already reported.\n  warnings.warn(\n/root/venv/lib/python3.9/site-packages/optuna/trial/_trial.py:462: UserWarning: The reported value is ignored because this `step` 5230 is already reported.\n  warnings.warn(\n/root/venv/lib/python3.9/site-packages/optuna/trial/_trial.py:462: UserWarning: The reported value is ignored because this `step` 5231 is already reported.\n  warnings.warn(\n/root/venv/lib/python3.9/site-packages/optuna/trial/_trial.py:462: UserWarning: The reported value is ignored because this `step` 5232 is already reported.\n  warnings.warn(\n/root/venv/lib/python3.9/site-packages/optuna/trial/_trial.py:462: UserWarning: The reported value is ignored because this `step` 5233 is already reported.\n  warnings.warn(\n/root/venv/lib/python3.9/site-packages/optuna/trial/_trial.py:462: UserWarning: The reported value is ignored because this `step` 5234 is already reported.\n  warnings.warn(\n/root/venv/lib/python3.9/site-packages/optuna/trial/_trial.py:462: UserWarning: The reported value is ignored because this `step` 5235 is already reported.\n  warnings.warn(\n/root/venv/lib/python3.9/site-packages/optuna/trial/_trial.py:462: UserWarning: The reported value is ignored because this `step` 5236 is already reported.\n  warnings.warn(\n/root/venv/lib/python3.9/site-packages/optuna/trial/_trial.py:462: UserWarning: The reported value is ignored because this `step` 5237 is already reported.\n  warnings.warn(\n/root/venv/lib/python3.9/site-packages/optuna/trial/_trial.py:462: UserWarning: The reported value is ignored because this `step` 5238 is already reported.\n  warnings.warn(\n/root/venv/lib/python3.9/site-packages/optuna/trial/_trial.py:462: UserWarning: The reported value is ignored because this `step` 5239 is already reported.\n  warnings.warn(\n/root/venv/lib/python3.9/site-packages/optuna/trial/_trial.py:462: UserWarning: The reported value is ignored because this `step` 5240 is already reported.\n  warnings.warn(\n/root/venv/lib/python3.9/site-packages/optuna/trial/_trial.py:462: UserWarning: The reported value is ignored because this `step` 5241 is already reported.\n  warnings.warn(\n/root/venv/lib/python3.9/site-packages/optuna/trial/_trial.py:462: UserWarning: The reported value is ignored because this `step` 5242 is already reported.\n  warnings.warn(\n/root/venv/lib/python3.9/site-packages/optuna/trial/_trial.py:462: UserWarning: The reported value is ignored because this `step` 5243 is already reported.\n  warnings.warn(\n/root/venv/lib/python3.9/site-packages/optuna/trial/_trial.py:462: UserWarning: The reported value is ignored because this `step` 5244 is already reported.\n  warnings.warn(\n/root/venv/lib/python3.9/site-packages/optuna/trial/_trial.py:462: UserWarning: The reported value is ignored because this `step` 5245 is already reported.\n  warnings.warn(\n/root/venv/lib/python3.9/site-packages/optuna/trial/_trial.py:462: UserWarning: The reported value is ignored because this `step` 5246 is already reported.\n  warnings.warn(\n/root/venv/lib/python3.9/site-packages/optuna/trial/_trial.py:462: UserWarning: The reported value is ignored because this `step` 5247 is already reported.\n  warnings.warn(\n/root/venv/lib/python3.9/site-packages/optuna/trial/_trial.py:462: UserWarning: The reported value is ignored because this `step` 5248 is already reported.\n  warnings.warn(\n/root/venv/lib/python3.9/site-packages/optuna/trial/_trial.py:462: UserWarning: The reported value is ignored because this `step` 5249 is already reported.\n  warnings.warn(\n/root/venv/lib/python3.9/site-packages/optuna/trial/_trial.py:462: UserWarning: The reported value is ignored because this `step` 5250 is already reported.\n  warnings.warn(\n/root/venv/lib/python3.9/site-packages/optuna/trial/_trial.py:462: UserWarning: The reported value is ignored because this `step` 5251 is already reported.\n  warnings.warn(\n/root/venv/lib/python3.9/site-packages/optuna/trial/_trial.py:462: UserWarning: The reported value is ignored because this `step` 5252 is already reported.\n  warnings.warn(\n/root/venv/lib/python3.9/site-packages/optuna/trial/_trial.py:462: UserWarning: The reported value is ignored because this `step` 5253 is already reported.\n  warnings.warn(\n/root/venv/lib/python3.9/site-packages/optuna/trial/_trial.py:462: UserWarning: The reported value is ignored because this `step` 5254 is already reported.\n  warnings.warn(\n/root/venv/lib/python3.9/site-packages/optuna/trial/_trial.py:462: UserWarning: The reported value is ignored because this `step` 5255 is already reported.\n  warnings.warn(\n/root/venv/lib/python3.9/site-packages/optuna/trial/_trial.py:462: UserWarning: The reported value is ignored because this `step` 5256 is already reported.\n  warnings.warn(\n/root/venv/lib/python3.9/site-packages/optuna/trial/_trial.py:462: UserWarning: The reported value is ignored because this `step` 5257 is already reported.\n  warnings.warn(\n/root/venv/lib/python3.9/site-packages/optuna/trial/_trial.py:462: UserWarning: The reported value is ignored because this `step` 5258 is already reported.\n  warnings.warn(\n/root/venv/lib/python3.9/site-packages/optuna/trial/_trial.py:462: UserWarning: The reported value is ignored because this `step` 5259 is already reported.\n  warnings.warn(\n/root/venv/lib/python3.9/site-packages/optuna/trial/_trial.py:462: UserWarning: The reported value is ignored because this `step` 5260 is already reported.\n  warnings.warn(\n/root/venv/lib/python3.9/site-packages/optuna/trial/_trial.py:462: UserWarning: The reported value is ignored because this `step` 5261 is already reported.\n  warnings.warn(\n/root/venv/lib/python3.9/site-packages/optuna/trial/_trial.py:462: UserWarning: The reported value is ignored because this `step` 5262 is already reported.\n  warnings.warn(\n/root/venv/lib/python3.9/site-packages/optuna/trial/_trial.py:462: UserWarning: The reported value is ignored because this `step` 5263 is already reported.\n  warnings.warn(\n/root/venv/lib/python3.9/site-packages/optuna/trial/_trial.py:462: UserWarning: The reported value is ignored because this `step` 5264 is already reported.\n  warnings.warn(\n/root/venv/lib/python3.9/site-packages/optuna/trial/_trial.py:462: UserWarning: The reported value is ignored because this `step` 5265 is already reported.\n  warnings.warn(\n/root/venv/lib/python3.9/site-packages/optuna/trial/_trial.py:462: UserWarning: The reported value is ignored because this `step` 5266 is already reported.\n  warnings.warn(\n/root/venv/lib/python3.9/site-packages/optuna/trial/_trial.py:462: UserWarning: The reported value is ignored because this `step` 5267 is already reported.\n  warnings.warn(\n/root/venv/lib/python3.9/site-packages/optuna/trial/_trial.py:462: UserWarning: The reported value is ignored because this `step` 5268 is already reported.\n  warnings.warn(\n/root/venv/lib/python3.9/site-packages/optuna/trial/_trial.py:462: UserWarning: The reported value is ignored because this `step` 5269 is already reported.\n  warnings.warn(\n/root/venv/lib/python3.9/site-packages/optuna/trial/_trial.py:462: UserWarning: The reported value is ignored because this `step` 5270 is already reported.\n  warnings.warn(\n/root/venv/lib/python3.9/site-packages/optuna/trial/_trial.py:462: UserWarning: The reported value is ignored because this `step` 5271 is already reported.\n  warnings.warn(\n/root/venv/lib/python3.9/site-packages/optuna/trial/_trial.py:462: UserWarning: The reported value is ignored because this `step` 5272 is already reported.\n  warnings.warn(\n/root/venv/lib/python3.9/site-packages/optuna/trial/_trial.py:462: UserWarning: The reported value is ignored because this `step` 5273 is already reported.\n  warnings.warn(\n/root/venv/lib/python3.9/site-packages/optuna/trial/_trial.py:462: UserWarning: The reported value is ignored because this `step` 5274 is already reported.\n  warnings.warn(\n/root/venv/lib/python3.9/site-packages/optuna/trial/_trial.py:462: UserWarning: The reported value is ignored because this `step` 5275 is already reported.\n  warnings.warn(\n/root/venv/lib/python3.9/site-packages/optuna/trial/_trial.py:462: UserWarning: The reported value is ignored because this `step` 5276 is already reported.\n  warnings.warn(\n/root/venv/lib/python3.9/site-packages/optuna/trial/_trial.py:462: UserWarning: The reported value is ignored because this `step` 5277 is already reported.\n  warnings.warn(\n/root/venv/lib/python3.9/site-packages/optuna/trial/_trial.py:462: UserWarning: The reported value is ignored because this `step` 5278 is already reported.\n  warnings.warn(\n/root/venv/lib/python3.9/site-packages/optuna/trial/_trial.py:462: UserWarning: The reported value is ignored because this `step` 5279 is already reported.\n  warnings.warn(\n/root/venv/lib/python3.9/site-packages/optuna/trial/_trial.py:462: UserWarning: The reported value is ignored because this `step` 5280 is already reported.\n  warnings.warn(\n/root/venv/lib/python3.9/site-packages/optuna/trial/_trial.py:462: UserWarning: The reported value is ignored because this `step` 5281 is already reported.\n  warnings.warn(\n/root/venv/lib/python3.9/site-packages/optuna/trial/_trial.py:462: UserWarning: The reported value is ignored because this `step` 5282 is already reported.\n  warnings.warn(\n/root/venv/lib/python3.9/site-packages/optuna/trial/_trial.py:462: UserWarning: The reported value is ignored because this `step` 5283 is already reported.\n  warnings.warn(\n/root/venv/lib/python3.9/site-packages/optuna/trial/_trial.py:462: UserWarning: The reported value is ignored because this `step` 5284 is already reported.\n  warnings.warn(\n/root/venv/lib/python3.9/site-packages/optuna/trial/_trial.py:462: UserWarning: The reported value is ignored because this `step` 5285 is already reported.\n  warnings.warn(\n/root/venv/lib/python3.9/site-packages/optuna/trial/_trial.py:462: UserWarning: The reported value is ignored because this `step` 5286 is already reported.\n  warnings.warn(\n/root/venv/lib/python3.9/site-packages/optuna/trial/_trial.py:462: UserWarning: The reported value is ignored because this `step` 5287 is already reported.\n  warnings.warn(\n/root/venv/lib/python3.9/site-packages/optuna/trial/_trial.py:462: UserWarning: The reported value is ignored because this `step` 5288 is already reported.\n  warnings.warn(\n/root/venv/lib/python3.9/site-packages/optuna/trial/_trial.py:462: UserWarning: The reported value is ignored because this `step` 5289 is already reported.\n  warnings.warn(\n/root/venv/lib/python3.9/site-packages/optuna/trial/_trial.py:462: UserWarning: The reported value is ignored because this `step` 5290 is already reported.\n  warnings.warn(\n/root/venv/lib/python3.9/site-packages/optuna/trial/_trial.py:462: UserWarning: The reported value is ignored because this `step` 5291 is already reported.\n  warnings.warn(\n/root/venv/lib/python3.9/site-packages/optuna/trial/_trial.py:462: UserWarning: The reported value is ignored because this `step` 5292 is already reported.\n  warnings.warn(\n/root/venv/lib/python3.9/site-packages/optuna/trial/_trial.py:462: UserWarning: The reported value is ignored because this `step` 5293 is already reported.\n  warnings.warn(\n/root/venv/lib/python3.9/site-packages/optuna/trial/_trial.py:462: UserWarning: The reported value is ignored because this `step` 5294 is already reported.\n  warnings.warn(\n/root/venv/lib/python3.9/site-packages/optuna/trial/_trial.py:462: UserWarning: The reported value is ignored because this `step` 5295 is already reported.\n  warnings.warn(\n/root/venv/lib/python3.9/site-packages/optuna/trial/_trial.py:462: UserWarning: The reported value is ignored because this `step` 5296 is already reported.\n  warnings.warn(\n/root/venv/lib/python3.9/site-packages/optuna/trial/_trial.py:462: UserWarning: The reported value is ignored because this `step` 5297 is already reported.\n  warnings.warn(\n/root/venv/lib/python3.9/site-packages/optuna/trial/_trial.py:462: UserWarning: The reported value is ignored because this `step` 5298 is already reported.\n  warnings.warn(\n/root/venv/lib/python3.9/site-packages/optuna/trial/_trial.py:462: UserWarning: The reported value is ignored because this `step` 5299 is already reported.\n  warnings.warn(\n/root/venv/lib/python3.9/site-packages/optuna/trial/_trial.py:462: UserWarning: The reported value is ignored because this `step` 5300 is already reported.\n  warnings.warn(\n/root/venv/lib/python3.9/site-packages/optuna/trial/_trial.py:462: UserWarning: The reported value is ignored because this `step` 5301 is already reported.\n  warnings.warn(\n/root/venv/lib/python3.9/site-packages/optuna/trial/_trial.py:462: UserWarning: The reported value is ignored because this `step` 5302 is already reported.\n  warnings.warn(\n/root/venv/lib/python3.9/site-packages/optuna/trial/_trial.py:462: UserWarning: The reported value is ignored because this `step` 5303 is already reported.\n  warnings.warn(\n/root/venv/lib/python3.9/site-packages/optuna/trial/_trial.py:462: UserWarning: The reported value is ignored because this `step` 5304 is already reported.\n  warnings.warn(\n/root/venv/lib/python3.9/site-packages/optuna/trial/_trial.py:462: UserWarning: The reported value is ignored because this `step` 5305 is already reported.\n  warnings.warn(\n/root/venv/lib/python3.9/site-packages/optuna/trial/_trial.py:462: UserWarning: The reported value is ignored because this `step` 5306 is already reported.\n  warnings.warn(\n/root/venv/lib/python3.9/site-packages/optuna/trial/_trial.py:462: UserWarning: The reported value is ignored because this `step` 5307 is already reported.\n  warnings.warn(\n/root/venv/lib/python3.9/site-packages/optuna/trial/_trial.py:462: UserWarning: The reported value is ignored because this `step` 5308 is already reported.\n  warnings.warn(\n/root/venv/lib/python3.9/site-packages/optuna/trial/_trial.py:462: UserWarning: The reported value is ignored because this `step` 5309 is already reported.\n  warnings.warn(\n/root/venv/lib/python3.9/site-packages/optuna/trial/_trial.py:462: UserWarning: The reported value is ignored because this `step` 5310 is already reported.\n  warnings.warn(\n/root/venv/lib/python3.9/site-packages/optuna/trial/_trial.py:462: UserWarning: The reported value is ignored because this `step` 5311 is already reported.\n  warnings.warn(\n/root/venv/lib/python3.9/site-packages/optuna/trial/_trial.py:462: UserWarning: The reported value is ignored because this `step` 5312 is already reported.\n  warnings.warn(\n/root/venv/lib/python3.9/site-packages/optuna/trial/_trial.py:462: UserWarning: The reported value is ignored because this `step` 5313 is already reported.\n  warnings.warn(\n/root/venv/lib/python3.9/site-packages/optuna/trial/_trial.py:462: UserWarning: The reported value is ignored because this `step` 5314 is already reported.\n  warnings.warn(\n/root/venv/lib/python3.9/site-packages/optuna/trial/_trial.py:462: UserWarning: The reported value is ignored because this `step` 5315 is already reported.\n  warnings.warn(\n/root/venv/lib/python3.9/site-packages/optuna/trial/_trial.py:462: UserWarning: The reported value is ignored because this `step` 5316 is already reported.\n  warnings.warn(\n/root/venv/lib/python3.9/site-packages/optuna/trial/_trial.py:462: UserWarning: The reported value is ignored because this `step` 5317 is already reported.\n  warnings.warn(\n/root/venv/lib/python3.9/site-packages/optuna/trial/_trial.py:462: UserWarning: The reported value is ignored because this `step` 5318 is already reported.\n  warnings.warn(\n/root/venv/lib/python3.9/site-packages/optuna/trial/_trial.py:462: UserWarning: The reported value is ignored because this `step` 5319 is already reported.\n  warnings.warn(\n/root/venv/lib/python3.9/site-packages/optuna/trial/_trial.py:462: UserWarning: The reported value is ignored because this `step` 5320 is already reported.\n  warnings.warn(\n/root/venv/lib/python3.9/site-packages/optuna/trial/_trial.py:462: UserWarning: The reported value is ignored because this `step` 5321 is already reported.\n  warnings.warn(\n/root/venv/lib/python3.9/site-packages/optuna/trial/_trial.py:462: UserWarning: The reported value is ignored because this `step` 5322 is already reported.\n  warnings.warn(\n/root/venv/lib/python3.9/site-packages/optuna/trial/_trial.py:462: UserWarning: The reported value is ignored because this `step` 5323 is already reported.\n  warnings.warn(\n/root/venv/lib/python3.9/site-packages/optuna/trial/_trial.py:462: UserWarning: The reported value is ignored because this `step` 5324 is already reported.\n  warnings.warn(\n/root/venv/lib/python3.9/site-packages/optuna/trial/_trial.py:462: UserWarning: The reported value is ignored because this `step` 5325 is already reported.\n  warnings.warn(\n/root/venv/lib/python3.9/site-packages/optuna/trial/_trial.py:462: UserWarning: The reported value is ignored because this `step` 5326 is already reported.\n  warnings.warn(\n/root/venv/lib/python3.9/site-packages/optuna/trial/_trial.py:462: UserWarning: The reported value is ignored because this `step` 5327 is already reported.\n  warnings.warn(\n/root/venv/lib/python3.9/site-packages/optuna/trial/_trial.py:462: UserWarning: The reported value is ignored because this `step` 5328 is already reported.\n  warnings.warn(\n/root/venv/lib/python3.9/site-packages/optuna/trial/_trial.py:462: UserWarning: The reported value is ignored because this `step` 5329 is already reported.\n  warnings.warn(\n\u001b[32m[I 2022-09-07 23:24:00,630]\u001b[0m Trial 1 finished with value: 11.651026599649276 and parameters: {'max_depth': 6, 'learning_rate': 0.002186548505763493, 'colsample_bytree': 0.38625183421563675, 'subsample': 0.4355826100654535, 'alpha': 0.1474762542832591, 'lambda': 5.955184543677973, 'gamma': 0.00016158093114227923, 'min_child_weight': 19.06965408897461}. Best is trial 1 with value: 11.651026599649276.\u001b[0m\n           max_depth : 6\n       learning_rate : 0.002186548505763493\n    colsample_bytree : 0.38625183421563675\n           subsample : 0.4355826100654535\n               alpha : 0.1474762542832591\n              lambda : 5.955184543677973\n               gamma : 0.00016158093114227923\n    min_child_weight : 19.06965408897461\nbest objective value : 11.651026599649276\n",
     "output_type": "stream"
    }
   ]
  },
  {
   "cell_type": "code",
   "metadata": {
    "cell_id": "7cfaa42f4e804b2bb4b5e9bda3853990",
    "tags": [],
    "deepnote_to_be_reexecuted": false,
    "source_hash": "ef1de8ce",
    "execution_start": 1662593040648,
    "execution_millis": 201491,
    "deepnote_cell_type": "code",
    "deepnote_cell_height": 568.71875
   },
   "source": "hp[\"verbosity\"] = 0\nhp[\"objective\"] = \"reg:squarederror\"\nhp[\"n_estimators\"] = 10000\nhp[\"seed\"] = 124\nhp[\"n_jobs\"] = 12\nmodel = XGBRegressor(**hp)\nrkf = RepeatedKFold(n_splits=10, n_repeats=1, random_state=124)\nX_values = X_train.values\ny_values = y_train.values\ny_pred = np.zeros_like(y_test.values)\nfor train_index, test_index in rkf.split(X_values):\n    X_A, X_B = X_values[train_index, :], X_values[test_index, :]\n    y_A, y_B = y_values[train_index], y_values[test_index]\n    model.fit(\n        X_A,\n        y_A,\n        eval_set=[(X_B, y_B)],\n        eval_metric=\"rmse\",\n        early_stopping_rounds=100,\n        verbose=0,\n    )\n    y_pred += model.predict(X_test.values)\ny_pred /= 1 * 10",
   "execution_count": null,
   "outputs": [
    {
     "name": "stderr",
     "text": "/root/venv/lib/python3.9/site-packages/xgboost/sklearn.py:793: UserWarning: `eval_metric` in `fit` method is deprecated for better compatibility with scikit-learn, use `eval_metric` in constructor or`set_params` instead.\n  warnings.warn(\n/root/venv/lib/python3.9/site-packages/xgboost/sklearn.py:793: UserWarning: `early_stopping_rounds` in `fit` method is deprecated for better compatibility with scikit-learn, use `early_stopping_rounds` in constructor or`set_params` instead.\n  warnings.warn(\n",
     "output_type": "stream"
    }
   ]
  },
  {
   "cell_type": "code",
   "metadata": {
    "cell_id": "a95a92bb2d904c7ea3941bf51bf99d70",
    "tags": [],
    "deepnote_to_be_reexecuted": false,
    "source_hash": "b7e9fdde",
    "execution_start": 1662593242183,
    "execution_millis": 736,
    "deepnote_cell_type": "code",
    "deepnote_cell_height": 134.28125,
    "deepnote_output_heights": [
     20.171875
    ]
   },
   "source": "rmse = mean_squared_error(y_pred, y_test, squared=False)\nrmse",
   "execution_count": null,
   "outputs": [
    {
     "output_type": "execute_result",
     "execution_count": 8,
     "data": {
      "text/plain": "12.160120784023457"
     },
     "metadata": {}
    }
   ]
  },
  {
   "cell_type": "code",
   "metadata": {
    "cell_id": "cc678f050e1c4510bddc9bcdb90b795b",
    "tags": [],
    "deepnote_to_be_reexecuted": false,
    "source_hash": "b7e3121c",
    "execution_start": 1662593242184,
    "execution_millis": 143,
    "deepnote_cell_type": "code",
    "deepnote_cell_height": 114.734375
   },
   "source": "import pickle\nwith open('./age_model', 'wb') as files:\n    pickle.dump(model, files)",
   "execution_count": null,
   "outputs": []
  },
  {
   "cell_type": "markdown",
   "source": "<a style='text-decoration:none;line-height:16px;display:flex;color:#5B5B62;padding:10px;justify-content:end;' href='https://deepnote.com?utm_source=created-in-deepnote-cell&projectId=34b6ad67-9899-4609-8c36-e96f39426d07' target=\"_blank\">\n<img alt='Created in deepnote.com' style='display:inline;max-height:16px;margin:0px;margin-right:7.5px;' src='data:image/svg+xml;base64,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' > </img>\nCreated in <span style='font-weight:600;margin-left:4px;'>Deepnote</span></a>",
   "metadata": {
    "tags": [],
    "created_in_deepnote_cell": true,
    "deepnote_cell_type": "markdown"
   }
  }
 ],
 "nbformat": 4,
 "nbformat_minor": 2,
 "metadata": {
  "orig_nbformat": 2,
  "deepnote": {},
  "deepnote_notebook_id": "ed4de7c7-7410-48f4-80f0-a56240d118be",
  "deepnote_execution_queue": [],
  "deepnote_persisted_session": {
   "createdAt": "2022-09-08T01:30:30.674Z"
  }
 }
}